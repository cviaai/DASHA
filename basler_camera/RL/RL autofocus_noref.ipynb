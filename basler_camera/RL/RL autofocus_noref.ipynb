{
 "cells": [
  {
   "cell_type": "code",
   "execution_count": 1,
   "metadata": {},
   "outputs": [],
   "source": [
    "import gym\n",
    "from gym import error\n",
    "from gym.utils import closer\n",
    "from PIL import Image\n",
    "import torch\n",
    "from pypylon import pylon\n",
    "import numpy as np\n",
    "import cv2\n",
    "from ctypes import *\n",
    "import glob\n",
    "import matplotlib.pylab as pl\n",
    "import matplotlib.pyplot as plt\n",
    "import gym\n",
    "from gym import error\n",
    "from gym.utils import closer\n",
    "from gym import spaces\n",
    "from pypylon import pylon\n",
    "import time\n",
    "from matplotlib import cm\n",
    "import random\n",
    "import torch\n",
    "import torch.nn as nn\n",
    "import torchvision.models as models\n",
    "from torch.autograd import Variable\n",
    "from torchvision import models, transforms\n",
    "from torch import nn\n",
    "import imquality.brisque as brisque\n",
    "import time\n",
    "%matplotlib inline\n",
    "\n",
    "env_closer = closer.Closer()\n",
    "\n",
    "import warnings\n",
    "warnings.filterwarnings(\"ignore\", category=FutureWarning)"
   ]
  },
  {
   "cell_type": "code",
   "execution_count": 2,
   "metadata": {},
   "outputs": [],
   "source": [
    "import tensorflow as tf\n",
    "tf.compat.v1.disable_eager_execution()"
   ]
  },
  {
   "cell_type": "code",
   "execution_count": 3,
   "metadata": {},
   "outputs": [
    {
     "data": {
      "text/plain": [
       "'2.4.1'"
      ]
     },
     "execution_count": 3,
     "metadata": {},
     "output_type": "execute_result"
    }
   ],
   "source": [
    "tf.__version__"
   ]
  },
  {
   "cell_type": "code",
   "execution_count": 4,
   "metadata": {},
   "outputs": [],
   "source": [
    "class CorningEnv(gym.Env):\n",
    "    \"\"\"The main OpenAI Gym class. It encapsulates an environment with\n",
    "    arbitrary behind-the-scenes dynamics. An environment can be\n",
    "    partially or fully observed.\n",
    "    The main API methods that users of this class need to know are:\n",
    "        step\n",
    "        reset\n",
    "        render\n",
    "        close\n",
    "        seed\n",
    "    And set the following attributes:\n",
    "        action_space: The Space object corresponding to valid actions\n",
    "        observation_space: The Space object corresponding to valid observations\n",
    "        reward_range: A tuple corresponding to the min and max possible rewards\n",
    "    Note: a default reward range set to [-inf,+inf] already exists. Set it if you want a narrower range.\n",
    "    The methods are accessed publicly as \"step\", \"reset\", etc...\n",
    "    \n",
    "    \"\"\"\n",
    "    metadata = {'render.modes': ['rgb_array']}\n",
    "    \n",
    "    def __init__(self, file_path = r'D:\\RL_autofocus'):\n",
    "        \n",
    "        \n",
    "        # Create an instant camera object with the camera device found first.\n",
    "        self.camera = pylon.InstantCamera(pylon.TlFactory.GetInstance().CreateFirstDevice())\n",
    "        self.camera.Open()\n",
    "        self.camera.AcquisitionFrameRateAbs.Value = 10\n",
    "        self.camera.GainRaw.Value = 36\n",
    "        self.camera.ExposureTimeRaw.Value = 26000\n",
    "        self.camera.AcquisitionMode.SetValue('Continuous')\n",
    "        self.camera.Width.Value = 417\n",
    "        self.camera.Height.Value = 404\n",
    "        print(self.camera.Width.GetValue(), self.camera.Height.GetValue())\n",
    "        # code from https://github.com/basler/pypylon/blob/master/samples/opencv.py\n",
    "        img = pylon.PylonImage()\n",
    "        self.converter = pylon.ImageFormatConverter()\n",
    "        # converting to opencv bgr format\n",
    "        self.converter.OutputPixelFormat = pylon.PixelType_BGR8packed\n",
    "        self.converter.OutputBitAlignment = pylon.OutputBitAlignment_MsbAligned\n",
    "        \n",
    "        \n",
    "        # corning lib\n",
    "        self.lib = cdll.LoadLibrary(r\"C:\\Users\\CIG\\Documents\\MATLAB\\ComCasp64.dll\")\n",
    "        #Check if Maxim driver dll is loaded\n",
    "        eCOMCaspErr = getattr(self.lib,'Casp_OpenCOM')\n",
    "        print('eCOMCaspErr:', eCOMCaspErr(), self.lib.Casp_OpenCOM())\n",
    "        \n",
    "        \n",
    "        # yolo\n",
    "        self.model_yolo = torch.hub.load('ultralytics/yolov5', 'yolov5s', \n",
    "                                         force_reload=True, \n",
    "                                         pretrained=True)\n",
    "        \n",
    "        self.resnet152 = models.resnet152(pretrained=True)\n",
    "        modules=list(self.resnet152.children())[:-1]\n",
    "        self.resnet152=nn.Sequential(*modules)\n",
    "        for p in self.resnet152.parameters():\n",
    "            p.requires_grad = False\n",
    "        \n",
    "        self.action_space = spaces.MultiDiscrete([69, 99])\n",
    "        self.observation_space = spaces.Box(0, 2, (2048, ))\n",
    "\n",
    "        self.file_path = file_path\n",
    "        self.step_rem_at_level = 10\n",
    "        \n",
    "    def grab_image(self):\n",
    "        # https://github.com/basler/pypylon/blob/master/samples/opencv.py\n",
    "        self.camera.StartGrabbing()\n",
    "        while 1:\n",
    "            grabResult = self.camera.RetrieveResult(5000, pylon.TimeoutHandling_ThrowException)\n",
    "            if grabResult.GrabSucceeded():\n",
    "                # Access the image data\n",
    "                image = self.converter.Convert(grabResult)\n",
    "                image = image.GetArray()\n",
    "                #print(img[0])\n",
    "                #print('shape:', img.shape)\n",
    "                #plt.imshow(img)\n",
    "                break\n",
    "        self.camera.StopGrabbing()\n",
    "        return image\n",
    "        \n",
    "    def lens_movement(self, action):\n",
    "        x = c_double(action)\n",
    "        self.lib.Casp_SetFocusVoltage(x)\n",
    "        time.sleep(3)\n",
    "    \n",
    "    def find_class(self, results, obj = 'car'):\n",
    "        len_of_class = len(results.pred)\n",
    "        pred_class = [int(results.pred[0][i].numpy()[5]) for i in range(len(results.pred[0]))]\n",
    "        #list_of_yolo_classes = list(zip(results.names, range(0, len(results.names))))\n",
    "        pred_names = [results.names[i] for i in pred_class]\n",
    "        if obj in pred_names:\n",
    "            index = pred_names.index(obj)\n",
    "            return results.pred[0][index].numpy()\n",
    "        else:\n",
    "            return np.array([])\n",
    "        \n",
    "    def take_features(self, img):\n",
    "        preprocess = transforms.Compose([\n",
    "                            transforms.Resize(256),\n",
    "                            transforms.CenterCrop(224),\n",
    "                            transforms.ToTensor(),\n",
    "                            transforms.Normalize(mean=[0.485, 0.456, 0.406], std=[0.229, 0.224, 0.225]),])\n",
    "        \n",
    "        image = Image.fromarray(np.uint8(img)).convert('RGB')\n",
    "        input_tensor = preprocess(image)\n",
    "        input_batch = input_tensor.unsqueeze(0) # create a mini-batch as expected by the model\n",
    "        \n",
    "        # Run through the convolutional layers and resize the output.\n",
    "        features_output = self.resnet152(input_batch)\n",
    "        classifier_input = features_output.view(1, -1)\n",
    "        \n",
    "        return classifier_input.cpu().detach().numpy()[0]\n",
    "    \n",
    "    def reset(self):\n",
    "        \"\"\"Resets the environment to an initial state and returns an initial\n",
    "        observation.\n",
    "        Note that this function should not reset the environment's random\n",
    "        number generator(s); random variables in the environment's state should\n",
    "        be sampled independently between multiple calls to `reset()`. In other\n",
    "        words, each call of `reset()` should yield an environment suitable for\n",
    "        a new episode, independent of previous episodes.\n",
    "        Returns:\n",
    "            observation (object): the initial observation.\n",
    "        \"\"\"\n",
    "        self.lens_movement(24.0)\n",
    "        observation = self.grab_image()\n",
    "        observation_feat = self.take_features(observation)\n",
    "        self.step_rem_at_level = 10\n",
    "        \n",
    "        #print(observation_feat)\n",
    "        #print(type(observation_feat), min(observation_feat), max(observation_feat), len(observation_feat))\n",
    "        \n",
    "        return observation_feat\n",
    "           \n",
    "    def step(self, action):\n",
    "        \"\"\"Run one timestep of the environment's dynamics. When end of\n",
    "        episode is reached, you are responsible for calling `reset()`\n",
    "        to reset this environment's state.\n",
    "        Accepts an action and returns a tuple (observation, reward, done, info).\n",
    "        Args:\n",
    "            action (object): an action provided by the agent\n",
    "        Returns:\n",
    "            observation (object): agent's observation of the current environment\n",
    "            reward (float) : amount of reward returned after previous action\n",
    "            done (bool): whether the episode has ended, in which case further step() calls will return undefined results\n",
    "            info (dict): contains auxiliary diagnostic information (helpful for debugging, and sometimes learning)\n",
    "        \"\"\"\n",
    "        self.step_rem_at_level-=1\n",
    "        \n",
    "        if self.step_rem_at_level == 0:\n",
    "            done = True\n",
    "        else:\n",
    "            done = False\n",
    "        \n",
    "        action_lens_coarse = 0\n",
    "        action_lens_fine = action[1]\n",
    "        if action[0] < 24:\n",
    "            action_lens_coarse = 24\n",
    "        else:\n",
    "            action_lens_coarse = action[0]\n",
    "        action_lens = float(\"%s.%s\"% (str(action_lens_coarse), str(action_lens_fine)))\n",
    "        print(action_lens)\n",
    "        \n",
    "        self.lens_movement(action_lens)\n",
    "        observation = self.grab_image()\n",
    "        observation_feat = self.take_features(observation)\n",
    "        \n",
    "        prediction_yolo = self.model_yolo(observation)\n",
    "        final_result_yolo = self.find_class(prediction_yolo)\n",
    "\n",
    "        brisque_score = -10\n",
    "        reward = brisque_score\n",
    "        \n",
    "        if final_result_yolo.size != 0:\n",
    "            image = Image.fromarray(observation)\n",
    "            image = image.crop((final_result_yolo[0], \n",
    "                             final_result_yolo[1], \n",
    "                             final_result_yolo[2], \n",
    "                             final_result_yolo[3]))\n",
    "            brisque_score = round(brisque.score(image), 2)\n",
    "            reward = - 0.001*brisque_score\n",
    "            done = True\n",
    "\n",
    "        im = Image.fromarray(observation)\n",
    "        file_path = r'D:\\RL_autofocus'\n",
    "        filename = file_path + \"\\img_%s_%s.png\" % (str(action_lens), str(brisque_score))\n",
    "        im.save(filename)\n",
    "\n",
    "        print('reward:', reward)\n",
    "        return observation_feat, reward, done, {}"
   ]
  },
  {
   "cell_type": "code",
   "execution_count": 5,
   "metadata": {},
   "outputs": [],
   "source": [
    "import ray\n",
    "from ray.tune.registry import register_env\n",
    "\n",
    "def env_creator(env_config):\n",
    "    return  CorningEnv(env_config)\n",
    "\n",
    "register_env(\"CorningEnv\", env_creator)"
   ]
  },
  {
   "cell_type": "code",
   "execution_count": 6,
   "metadata": {},
   "outputs": [],
   "source": [
    "from ray import tune\n",
    "from ray.rllib.agents.ppo import PPOTrainer\n",
    "import ray.rllib.agents.ppo as ppo\n",
    "from ray.tune.logger import pretty_print"
   ]
  },
  {
   "cell_type": "code",
   "execution_count": 7,
   "metadata": {
    "scrolled": false
   },
   "outputs": [
    {
     "name": "stderr",
     "output_type": "stream",
     "text": [
      "2021-03-31 15:53:39,216\tINFO services.py:1174 -- View the Ray dashboard at \u001b[1m\u001b[32mhttp://127.0.0.1:8265\u001b[39m\u001b[22m\n",
      "2021-03-31 15:53:41,193\tINFO trainer.py:616 -- Tip: set framework=tfe or the --eager flag to enable TensorFlow eager execution\n",
      "2021-03-31 15:53:41,193\tINFO trainer.py:643 -- Current log_level is WARN. For more information, set 'log_level': 'INFO' / 'DEBUG' or use the -v and -vv flags.\n",
      "\u001b[2m\u001b[36m(pid=15052)\u001b[0m WARNING:tensorflow:From c:\\users\\cig\\anaconda3\\envs\\autofocus\\lib\\site-packages\\tensorflow\\python\\compat\\v2_compat.py:96: disable_resource_variables (from tensorflow.python.ops.variable_scope) is deprecated and will be removed in a future version.\n",
      "\u001b[2m\u001b[36m(pid=15052)\u001b[0m Instructions for updating:\n",
      "\u001b[2m\u001b[36m(pid=15052)\u001b[0m non-resource variables are not supported in the long term\n"
     ]
    },
    {
     "name": "stdout",
     "output_type": "stream",
     "text": [
      "\u001b[2m\u001b[36m(pid=15052)\u001b[0m 417 404\r\n",
      "\u001b[2m\u001b[36m(pid=15052)\u001b[0m eCOMCaspErr: 0 0\r\n"
     ]
    },
    {
     "name": "stderr",
     "output_type": "stream",
     "text": [
      "\u001b[2m\u001b[36m(pid=15052)\u001b[0m Downloading: \"https://github.com/ultralytics/yolov5/archive/master.zip\" to C:\\Users\\CIG/.cache\\torch\\hub\\master.zip\n",
      "\u001b[2m\u001b[36m(pid=15052)\u001b[0m \n",
      "\u001b[2m\u001b[36m(pid=15052)\u001b[0m                  from  n    params  module                                  arguments                     \n",
      "\u001b[2m\u001b[36m(pid=15052)\u001b[0m   0                -1  1      3520  models.common.Focus                     [3, 32, 3]                    \n",
      "\u001b[2m\u001b[36m(pid=15052)\u001b[0m   1                -1  1     18560  models.common.Conv                      [32, 64, 3, 2]                \n",
      "\u001b[2m\u001b[36m(pid=15052)\u001b[0m   2                -1  1     18816  models.common.C3                        [64, 64, 1]                   \n",
      "\u001b[2m\u001b[36m(pid=15052)\u001b[0m   3                -1  1     73984  models.common.Conv                      [64, 128, 3, 2]               \n",
      "\u001b[2m\u001b[36m(pid=15052)\u001b[0m   4                -1  1    156928  models.common.C3                        [128, 128, 3]                 \n",
      "\u001b[2m\u001b[36m(pid=15052)\u001b[0m   5                -1  1    295424  models.common.Conv                      [128, 256, 3, 2]              \n",
      "\u001b[2m\u001b[36m(pid=15052)\u001b[0m   6                -1  1    625152  models.common.C3                        [256, 256, 3]                 \n",
      "\u001b[2m\u001b[36m(pid=15052)\u001b[0m   7                -1  1   1180672  models.common.Conv                      [256, 512, 3, 2]              \n",
      "\u001b[2m\u001b[36m(pid=15052)\u001b[0m   8                -1  1    656896  models.common.SPP                       [512, 512, [5, 9, 13]]        \n",
      "\u001b[2m\u001b[36m(pid=15052)\u001b[0m   9                -1  1   1182720  models.common.C3                        [512, 512, 1, False]          \n",
      "\u001b[2m\u001b[36m(pid=15052)\u001b[0m  10                -1  1    131584  models.common.Conv                      [512, 256, 1, 1]              \n",
      "\u001b[2m\u001b[36m(pid=15052)\u001b[0m  11                -1  1         0  torch.nn.modules.upsampling.Upsample    [None, 2, 'nearest']          \n",
      "\u001b[2m\u001b[36m(pid=15052)\u001b[0m  12           [-1, 6]  1         0  models.common.Concat                    [1]                           \n",
      "\u001b[2m\u001b[36m(pid=15052)\u001b[0m  13                -1  1    361984  models.common.C3                        [512, 256, 1, False]          \n",
      "\u001b[2m\u001b[36m(pid=15052)\u001b[0m  14                -1  1     33024  models.common.Conv                      [256, 128, 1, 1]              \n",
      "\u001b[2m\u001b[36m(pid=15052)\u001b[0m  15                -1  1         0  torch.nn.modules.upsampling.Upsample    [None, 2, 'nearest']          \n",
      "\u001b[2m\u001b[36m(pid=15052)\u001b[0m  16           [-1, 4]  1         0  models.common.Concat                    [1]                           \n",
      "\u001b[2m\u001b[36m(pid=15052)\u001b[0m  17                -1  1     90880  models.common.C3                        [256, 128, 1, False]          \n",
      "\u001b[2m\u001b[36m(pid=15052)\u001b[0m  18                -1  1    147712  models.common.Conv                      [128, 128, 3, 2]              \n",
      "\u001b[2m\u001b[36m(pid=15052)\u001b[0m  19          [-1, 14]  1         0  models.common.Concat                    [1]                           \n",
      "\u001b[2m\u001b[36m(pid=15052)\u001b[0m  20                -1  1    296448  models.common.C3                        [256, 256, 1, False]          \n",
      "\u001b[2m\u001b[36m(pid=15052)\u001b[0m  21                -1  1    590336  models.common.Conv                      [256, 256, 3, 2]              \n",
      "\u001b[2m\u001b[36m(pid=15052)\u001b[0m  22          [-1, 10]  1         0  models.common.Concat                    [1]                           \n",
      "\u001b[2m\u001b[36m(pid=15052)\u001b[0m  23                -1  1   1182720  models.common.C3                        [512, 512, 1, False]          \n",
      "\u001b[2m\u001b[36m(pid=15052)\u001b[0m  24      [17, 20, 23]  1    229245  models.yolo.Detect                      [80, [[10, 13, 16, 30, 33, 23], [30, 61, 62, 45, 59, 119], [116, 90, 156, 198, 373, 326]], [128, 256, 512]]\n",
      "\u001b[2m\u001b[36m(pid=15052)\u001b[0m Model Summary: 283 layers, 7276605 parameters, 7276605 gradients, 17.1 GFLOPS\n",
      "\u001b[2m\u001b[36m(pid=15052)\u001b[0m \n",
      "\u001b[2m\u001b[36m(pid=15052)\u001b[0m YOLOv5  2021-3-31 torch 1.8.0+cpu CPU\n",
      "\u001b[2m\u001b[36m(pid=15052)\u001b[0m \n"
     ]
    },
    {
     "name": "stdout",
     "output_type": "stream",
     "text": [
      "\u001b[2m\u001b[36m(pid=15052)\u001b[0m Adding autoShape... \r\n"
     ]
    },
    {
     "name": "stderr",
     "output_type": "stream",
     "text": [
      "\u001b[2m\u001b[36m(pid=15052)\u001b[0m 2021-03-31 15:53:50,031\tWARNING deprecation.py:34 -- DeprecationWarning: `framestack` has been deprecated. Use `num_framestacks (int)` instead. This will raise an error in the future!\n",
      "2021-03-31 15:53:51,259\tWARNING deprecation.py:34 -- DeprecationWarning: `framestack` has been deprecated. Use `num_framestacks (int)` instead. This will raise an error in the future!\n",
      "2021-03-31 15:53:54,361\tINFO trainable.py:103 -- Trainable.setup took 13.170 seconds. If your trainable is slow to initialize, consider setting reuse_actors=True to reduce actor creation overheads.\n",
      "2021-03-31 15:53:54,361\tWARNING util.py:47 -- Install gputil for GPU system monitoring.\n"
     ]
    }
   ],
   "source": [
    "ray.init()\n",
    "config={\n",
    "        \"env\": CorningEnv,\n",
    "        \"num_workers\": 1,\n",
    "        \"entropy_coeff\": 0.01,\n",
    "        \"rollout_fragment_length\": 128,\n",
    "        \"train_batch_size\": 128,\n",
    "        \"sgd_minibatch_size\": 128,\n",
    "        \"lr\": 0.00025,#tune.grid_search([0.01, 0.001, 0.0001]),\n",
    "        # Smooth metrics over this many episodes.\n",
    "        \"metrics_smoothing_episodes\": 10000,\n",
    "    }\n",
    "\n",
    "trainer = ppo.PPOTrainer(env= \"CorningEnv\", config=config)\n"
   ]
  },
  {
   "cell_type": "code",
   "execution_count": null,
   "metadata": {
    "scrolled": true
   },
   "outputs": [
    {
     "name": "stderr",
     "output_type": "stream",
     "text": [
      "\u001b[2m\u001b[36m(pid=15052)\u001b[0m 2021-03-31 15:53:58,049\tWARNING deprecation.py:34 -- DeprecationWarning: `env_index` has been deprecated. Use `episode.env_id` instead. This will raise an error in the future!\r\n"
     ]
    },
    {
     "name": "stdout",
     "output_type": "stream",
     "text": [
      "\u001b[2m\u001b[36m(pid=15052)\u001b[0m 58.11\n",
      "\u001b[2m\u001b[36m(pid=15052)\u001b[0m reward: -10\n",
      "\u001b[2m\u001b[36m(pid=15052)\u001b[0m 50.74\n",
      "\u001b[2m\u001b[36m(pid=15052)\u001b[0m reward: -10\n",
      "\u001b[2m\u001b[36m(pid=15052)\u001b[0m 38.31\n",
      "\u001b[2m\u001b[36m(pid=15052)\u001b[0m reward: -10\n",
      "\u001b[2m\u001b[36m(pid=15052)\u001b[0m 24.67\n",
      "\u001b[2m\u001b[36m(pid=15052)\u001b[0m reward: -10\n",
      "\u001b[2m\u001b[36m(pid=15052)\u001b[0m 24.68\n",
      "\u001b[2m\u001b[36m(pid=15052)\u001b[0m reward: -10\n",
      "\u001b[2m\u001b[36m(pid=15052)\u001b[0m 24.85\n",
      "\u001b[2m\u001b[36m(pid=15052)\u001b[0m reward: -10\n",
      "\u001b[2m\u001b[36m(pid=15052)\u001b[0m 63.95\n",
      "\u001b[2m\u001b[36m(pid=15052)\u001b[0m reward: -10\n",
      "\u001b[2m\u001b[36m(pid=15052)\u001b[0m 36.97\n",
      "\u001b[2m\u001b[36m(pid=15052)\u001b[0m reward: -10\n",
      "\u001b[2m\u001b[36m(pid=15052)\u001b[0m 24.9\n",
      "\u001b[2m\u001b[36m(pid=15052)\u001b[0m reward: -10\n",
      "\u001b[2m\u001b[36m(pid=15052)\u001b[0m 24.29\n",
      "\u001b[2m\u001b[36m(pid=15052)\u001b[0m reward: -10\n",
      "\u001b[2m\u001b[36m(pid=15052)\u001b[0m 35.8\n",
      "\u001b[2m\u001b[36m(pid=15052)\u001b[0m reward: -10\n",
      "\u001b[2m\u001b[36m(pid=15052)\u001b[0m 24.51\n",
      "\u001b[2m\u001b[36m(pid=15052)\u001b[0m reward: -10\n",
      "\u001b[2m\u001b[36m(pid=15052)\u001b[0m 26.62\n",
      "\u001b[2m\u001b[36m(pid=15052)\u001b[0m reward: -10\n",
      "\u001b[2m\u001b[36m(pid=15052)\u001b[0m 41.58\n",
      "\u001b[2m\u001b[36m(pid=15052)\u001b[0m reward: -10\n",
      "\u001b[2m\u001b[36m(pid=15052)\u001b[0m 24.6\n",
      "\u001b[2m\u001b[36m(pid=15052)\u001b[0m reward: -10\n",
      "\u001b[2m\u001b[36m(pid=15052)\u001b[0m 59.27\n",
      "\u001b[2m\u001b[36m(pid=15052)\u001b[0m reward: -10\n",
      "\u001b[2m\u001b[36m(pid=15052)\u001b[0m 52.59\n",
      "\u001b[2m\u001b[36m(pid=15052)\u001b[0m reward: -10\n",
      "\u001b[2m\u001b[36m(pid=15052)\u001b[0m 51.51\n",
      "\u001b[2m\u001b[36m(pid=15052)\u001b[0m reward: -10\n",
      "\u001b[2m\u001b[36m(pid=15052)\u001b[0m 24.14\n",
      "\u001b[2m\u001b[36m(pid=15052)\u001b[0m reward: -10\n",
      "\u001b[2m\u001b[36m(pid=15052)\u001b[0m 24.7\n",
      "\u001b[2m\u001b[36m(pid=15052)\u001b[0m reward: -10\n",
      "\u001b[2m\u001b[36m(pid=15052)\u001b[0m 37.22\n",
      "\u001b[2m\u001b[36m(pid=15052)\u001b[0m reward: -10\n",
      "\u001b[2m\u001b[36m(pid=15052)\u001b[0m 42.56\n",
      "\u001b[2m\u001b[36m(pid=15052)\u001b[0m reward: -10\n",
      "\u001b[2m\u001b[36m(pid=15052)\u001b[0m 59.57\n",
      "\u001b[2m\u001b[36m(pid=15052)\u001b[0m reward: -10\n",
      "\u001b[2m\u001b[36m(pid=15052)\u001b[0m 37.63\n",
      "\u001b[2m\u001b[36m(pid=15052)\u001b[0m reward: -10\n",
      "\u001b[2m\u001b[36m(pid=15052)\u001b[0m 24.67\n",
      "\u001b[2m\u001b[36m(pid=15052)\u001b[0m reward: -10\n",
      "\u001b[2m\u001b[36m(pid=15052)\u001b[0m 53.0\n",
      "\u001b[2m\u001b[36m(pid=15052)\u001b[0m reward: -10\n",
      "\u001b[2m\u001b[36m(pid=15052)\u001b[0m 24.79\n",
      "\u001b[2m\u001b[36m(pid=15052)\u001b[0m reward: -10\n",
      "\u001b[2m\u001b[36m(pid=15052)\u001b[0m 61.78\n",
      "\u001b[2m\u001b[36m(pid=15052)\u001b[0m reward: -10\n",
      "\u001b[2m\u001b[36m(pid=15052)\u001b[0m 54.22\n",
      "\u001b[2m\u001b[36m(pid=15052)\u001b[0m reward: -10\n",
      "\u001b[2m\u001b[36m(pid=15052)\u001b[0m 24.47\n",
      "\u001b[2m\u001b[36m(pid=15052)\u001b[0m reward: -10\n",
      "\u001b[2m\u001b[36m(pid=15052)\u001b[0m 32.78\n",
      "\u001b[2m\u001b[36m(pid=15052)\u001b[0m reward: -10\n",
      "\u001b[2m\u001b[36m(pid=15052)\u001b[0m 41.8\n",
      "\u001b[2m\u001b[36m(pid=15052)\u001b[0m reward: -10\n",
      "\u001b[2m\u001b[36m(pid=15052)\u001b[0m 24.61\n",
      "\u001b[2m\u001b[36m(pid=15052)\u001b[0m reward: -10\n",
      "\u001b[2m\u001b[36m(pid=15052)\u001b[0m 40.6\n",
      "\u001b[2m\u001b[36m(pid=15052)\u001b[0m reward: -10\n",
      "\u001b[2m\u001b[36m(pid=15052)\u001b[0m 60.4\n",
      "\u001b[2m\u001b[36m(pid=15052)\u001b[0m reward: -10\n",
      "\u001b[2m\u001b[36m(pid=15052)\u001b[0m 24.67\n",
      "\u001b[2m\u001b[36m(pid=15052)\u001b[0m reward: -10\n",
      "\u001b[2m\u001b[36m(pid=15052)\u001b[0m 24.3\n",
      "\u001b[2m\u001b[36m(pid=15052)\u001b[0m reward: -10\n",
      "\u001b[2m\u001b[36m(pid=15052)\u001b[0m 49.38\n"
     ]
    },
    {
     "name": "stderr",
     "output_type": "stream",
     "text": [
      "\u001b[2m\u001b[36m(pid=15052)\u001b[0m c:\\users\\cig\\anaconda3\\envs\\autofocus\\lib\\site-packages\\imquality\\brisque.py:45: FutureWarning: The behavior of rgb2gray will change in scikit-image 0.19. Currently, rgb2gray allows 2D grayscale image to be passed as inputs and leaves them unmodified as outputs. Starting from version 0.19, 2D arrays will be treated as 1D images with 3 channels.\r\n",
      "\u001b[2m\u001b[36m(pid=15052)\u001b[0m   self.image = skimage.color.rgb2gray(self.image)\r\n"
     ]
    },
    {
     "name": "stdout",
     "output_type": "stream",
     "text": [
      "\u001b[2m\u001b[36m(pid=15052)\u001b[0m reward: -0.04965\n",
      "\u001b[2m\u001b[36m(pid=15052)\u001b[0m 45.4\n",
      "\u001b[2m\u001b[36m(pid=15052)\u001b[0m reward: -10\n",
      "\u001b[2m\u001b[36m(pid=15052)\u001b[0m 49.47\n"
     ]
    },
    {
     "name": "stderr",
     "output_type": "stream",
     "text": [
      "\u001b[2m\u001b[36m(pid=15052)\u001b[0m c:\\users\\cig\\anaconda3\\envs\\autofocus\\lib\\site-packages\\imquality\\brisque.py:45: FutureWarning: The behavior of rgb2gray will change in scikit-image 0.19. Currently, rgb2gray allows 2D grayscale image to be passed as inputs and leaves them unmodified as outputs. Starting from version 0.19, 2D arrays will be treated as 1D images with 3 channels.\r\n",
      "\u001b[2m\u001b[36m(pid=15052)\u001b[0m   self.image = skimage.color.rgb2gray(self.image)\r\n"
     ]
    },
    {
     "name": "stdout",
     "output_type": "stream",
     "text": [
      "\u001b[2m\u001b[36m(pid=15052)\u001b[0m reward: -0.04462\n",
      "\u001b[2m\u001b[36m(pid=15052)\u001b[0m 55.52\n",
      "\u001b[2m\u001b[36m(pid=15052)\u001b[0m reward: -10\n",
      "\u001b[2m\u001b[36m(pid=15052)\u001b[0m 63.9\n",
      "\u001b[2m\u001b[36m(pid=15052)\u001b[0m reward: -10\n",
      "\u001b[2m\u001b[36m(pid=15052)\u001b[0m 35.25\n",
      "\u001b[2m\u001b[36m(pid=15052)\u001b[0m reward: -10\n",
      "\u001b[2m\u001b[36m(pid=15052)\u001b[0m 24.77\n",
      "\u001b[2m\u001b[36m(pid=15052)\u001b[0m reward: -10\n",
      "\u001b[2m\u001b[36m(pid=15052)\u001b[0m 25.9\n",
      "\u001b[2m\u001b[36m(pid=15052)\u001b[0m reward: -10\n",
      "\u001b[2m\u001b[36m(pid=15052)\u001b[0m 24.24\n",
      "\u001b[2m\u001b[36m(pid=15052)\u001b[0m reward: -10\n",
      "\u001b[2m\u001b[36m(pid=15052)\u001b[0m 39.62\n",
      "\u001b[2m\u001b[36m(pid=15052)\u001b[0m reward: -10\n",
      "\u001b[2m\u001b[36m(pid=15052)\u001b[0m 24.61\n",
      "\u001b[2m\u001b[36m(pid=15052)\u001b[0m reward: -10\n",
      "\u001b[2m\u001b[36m(pid=15052)\u001b[0m 32.48\n",
      "\u001b[2m\u001b[36m(pid=15052)\u001b[0m reward: -10\n",
      "\u001b[2m\u001b[36m(pid=15052)\u001b[0m 24.61\n",
      "\u001b[2m\u001b[36m(pid=15052)\u001b[0m reward: -10\n",
      "\u001b[2m\u001b[36m(pid=15052)\u001b[0m 24.62\n",
      "\u001b[2m\u001b[36m(pid=15052)\u001b[0m reward: -10\n",
      "\u001b[2m\u001b[36m(pid=15052)\u001b[0m 24.7\n",
      "\u001b[2m\u001b[36m(pid=15052)\u001b[0m reward: -10\n",
      "\u001b[2m\u001b[36m(pid=15052)\u001b[0m 24.34\n",
      "\u001b[2m\u001b[36m(pid=15052)\u001b[0m reward: -10\n",
      "\u001b[2m\u001b[36m(pid=15052)\u001b[0m 58.52\n",
      "\u001b[2m\u001b[36m(pid=15052)\u001b[0m reward: -10\n",
      "\u001b[2m\u001b[36m(pid=15052)\u001b[0m 24.24\n",
      "\u001b[2m\u001b[36m(pid=15052)\u001b[0m reward: -10\n",
      "\u001b[2m\u001b[36m(pid=15052)\u001b[0m 24.61\n",
      "\u001b[2m\u001b[36m(pid=15052)\u001b[0m reward: -10\n",
      "\u001b[2m\u001b[36m(pid=15052)\u001b[0m 24.96\n",
      "\u001b[2m\u001b[36m(pid=15052)\u001b[0m reward: -10\n",
      "\u001b[2m\u001b[36m(pid=15052)\u001b[0m 45.84\n",
      "\u001b[2m\u001b[36m(pid=15052)\u001b[0m reward: -10\n",
      "\u001b[2m\u001b[36m(pid=15052)\u001b[0m 24.0\n",
      "\u001b[2m\u001b[36m(pid=15052)\u001b[0m reward: -10\n",
      "\u001b[2m\u001b[36m(pid=15052)\u001b[0m 68.44\n",
      "\u001b[2m\u001b[36m(pid=15052)\u001b[0m reward: -10\n",
      "\u001b[2m\u001b[36m(pid=15052)\u001b[0m 26.67\n",
      "\u001b[2m\u001b[36m(pid=15052)\u001b[0m reward: -10\n",
      "\u001b[2m\u001b[36m(pid=15052)\u001b[0m 24.6\n",
      "\u001b[2m\u001b[36m(pid=15052)\u001b[0m reward: -10\n",
      "\u001b[2m\u001b[36m(pid=15052)\u001b[0m 68.48\n",
      "\u001b[2m\u001b[36m(pid=15052)\u001b[0m reward: -10\n",
      "\u001b[2m\u001b[36m(pid=15052)\u001b[0m 50.94\n",
      "\u001b[2m\u001b[36m(pid=15052)\u001b[0m reward: -10\n",
      "\u001b[2m\u001b[36m(pid=15052)\u001b[0m 66.83\n",
      "\u001b[2m\u001b[36m(pid=15052)\u001b[0m reward: -10\n",
      "\u001b[2m\u001b[36m(pid=15052)\u001b[0m 45.29\n",
      "\u001b[2m\u001b[36m(pid=15052)\u001b[0m reward: -10\n",
      "\u001b[2m\u001b[36m(pid=15052)\u001b[0m 24.85\n",
      "\u001b[2m\u001b[36m(pid=15052)\u001b[0m reward: -10\n",
      "\u001b[2m\u001b[36m(pid=15052)\u001b[0m 24.91\n",
      "\u001b[2m\u001b[36m(pid=15052)\u001b[0m reward: -10\n",
      "\u001b[2m\u001b[36m(pid=15052)\u001b[0m 64.94\n",
      "\u001b[2m\u001b[36m(pid=15052)\u001b[0m reward: -10\n",
      "\u001b[2m\u001b[36m(pid=15052)\u001b[0m 24.65\n",
      "\u001b[2m\u001b[36m(pid=15052)\u001b[0m reward: -10\n",
      "\u001b[2m\u001b[36m(pid=15052)\u001b[0m 28.47\n",
      "\u001b[2m\u001b[36m(pid=15052)\u001b[0m reward: -10\n",
      "\u001b[2m\u001b[36m(pid=15052)\u001b[0m 67.62\n",
      "\u001b[2m\u001b[36m(pid=15052)\u001b[0m reward: -10\n",
      "\u001b[2m\u001b[36m(pid=15052)\u001b[0m 33.8\n",
      "\u001b[2m\u001b[36m(pid=15052)\u001b[0m reward: -10\n",
      "\u001b[2m\u001b[36m(pid=15052)\u001b[0m 50.85\n",
      "\u001b[2m\u001b[36m(pid=15052)\u001b[0m reward: -10\n",
      "\u001b[2m\u001b[36m(pid=15052)\u001b[0m 58.66\n",
      "\u001b[2m\u001b[36m(pid=15052)\u001b[0m reward: -10\n",
      "\u001b[2m\u001b[36m(pid=15052)\u001b[0m 24.0\n",
      "\u001b[2m\u001b[36m(pid=15052)\u001b[0m reward: -10\n",
      "\u001b[2m\u001b[36m(pid=15052)\u001b[0m 49.35\n"
     ]
    },
    {
     "name": "stderr",
     "output_type": "stream",
     "text": [
      "\u001b[2m\u001b[36m(pid=15052)\u001b[0m c:\\users\\cig\\anaconda3\\envs\\autofocus\\lib\\site-packages\\imquality\\brisque.py:45: FutureWarning: The behavior of rgb2gray will change in scikit-image 0.19. Currently, rgb2gray allows 2D grayscale image to be passed as inputs and leaves them unmodified as outputs. Starting from version 0.19, 2D arrays will be treated as 1D images with 3 channels.\r\n",
      "\u001b[2m\u001b[36m(pid=15052)\u001b[0m   self.image = skimage.color.rgb2gray(self.image)\r\n"
     ]
    },
    {
     "name": "stdout",
     "output_type": "stream",
     "text": [
      "\u001b[2m\u001b[36m(pid=15052)\u001b[0m reward: -0.04379\n",
      "\u001b[2m\u001b[36m(pid=15052)\u001b[0m 24.63\n",
      "\u001b[2m\u001b[36m(pid=15052)\u001b[0m reward: -10\n",
      "\u001b[2m\u001b[36m(pid=15052)\u001b[0m 67.52\n",
      "\u001b[2m\u001b[36m(pid=15052)\u001b[0m reward: -10\n",
      "\u001b[2m\u001b[36m(pid=15052)\u001b[0m 24.62\n",
      "\u001b[2m\u001b[36m(pid=15052)\u001b[0m reward: -10\n",
      "\u001b[2m\u001b[36m(pid=15052)\u001b[0m 38.24\n",
      "\u001b[2m\u001b[36m(pid=15052)\u001b[0m reward: -10\n",
      "\u001b[2m\u001b[36m(pid=15052)\u001b[0m 44.36\n",
      "\u001b[2m\u001b[36m(pid=15052)\u001b[0m reward: -10\n",
      "\u001b[2m\u001b[36m(pid=15052)\u001b[0m 42.94\n",
      "\u001b[2m\u001b[36m(pid=15052)\u001b[0m reward: -10\n",
      "\u001b[2m\u001b[36m(pid=15052)\u001b[0m 29.34\n",
      "\u001b[2m\u001b[36m(pid=15052)\u001b[0m reward: -10\n",
      "\u001b[2m\u001b[36m(pid=15052)\u001b[0m 24.42\n",
      "\u001b[2m\u001b[36m(pid=15052)\u001b[0m reward: -10\n",
      "\u001b[2m\u001b[36m(pid=15052)\u001b[0m 24.21\n",
      "\u001b[2m\u001b[36m(pid=15052)\u001b[0m reward: -10\n",
      "\u001b[2m\u001b[36m(pid=15052)\u001b[0m 61.37\n",
      "\u001b[2m\u001b[36m(pid=15052)\u001b[0m reward: -10\n",
      "\u001b[2m\u001b[36m(pid=15052)\u001b[0m 24.73\n",
      "\u001b[2m\u001b[36m(pid=15052)\u001b[0m reward: -10\n",
      "\u001b[2m\u001b[36m(pid=15052)\u001b[0m 38.48\n",
      "\u001b[2m\u001b[36m(pid=15052)\u001b[0m reward: -10\n",
      "\u001b[2m\u001b[36m(pid=15052)\u001b[0m 44.45\n",
      "\u001b[2m\u001b[36m(pid=15052)\u001b[0m reward: -10\n",
      "\u001b[2m\u001b[36m(pid=15052)\u001b[0m 24.78\n",
      "\u001b[2m\u001b[36m(pid=15052)\u001b[0m reward: -10\n",
      "\u001b[2m\u001b[36m(pid=15052)\u001b[0m 24.6\n",
      "\u001b[2m\u001b[36m(pid=15052)\u001b[0m reward: -10\n",
      "\u001b[2m\u001b[36m(pid=15052)\u001b[0m 29.41\n",
      "\u001b[2m\u001b[36m(pid=15052)\u001b[0m reward: -10\n",
      "\u001b[2m\u001b[36m(pid=15052)\u001b[0m 45.31\n",
      "\u001b[2m\u001b[36m(pid=15052)\u001b[0m reward: -10\n",
      "\u001b[2m\u001b[36m(pid=15052)\u001b[0m 24.71\n",
      "\u001b[2m\u001b[36m(pid=15052)\u001b[0m reward: -10\n",
      "\u001b[2m\u001b[36m(pid=15052)\u001b[0m 24.9\n",
      "\u001b[2m\u001b[36m(pid=15052)\u001b[0m reward: -10\n",
      "\u001b[2m\u001b[36m(pid=15052)\u001b[0m 49.89\n",
      "\u001b[2m\u001b[36m(pid=15052)\u001b[0m reward: -10\n",
      "\u001b[2m\u001b[36m(pid=15052)\u001b[0m 24.87\n",
      "\u001b[2m\u001b[36m(pid=15052)\u001b[0m reward: -10\n",
      "\u001b[2m\u001b[36m(pid=15052)\u001b[0m 35.75\n",
      "\u001b[2m\u001b[36m(pid=15052)\u001b[0m reward: -10\n",
      "\u001b[2m\u001b[36m(pid=15052)\u001b[0m 49.44\n"
     ]
    },
    {
     "name": "stderr",
     "output_type": "stream",
     "text": [
      "\u001b[2m\u001b[36m(pid=15052)\u001b[0m c:\\users\\cig\\anaconda3\\envs\\autofocus\\lib\\site-packages\\imquality\\brisque.py:45: FutureWarning: The behavior of rgb2gray will change in scikit-image 0.19. Currently, rgb2gray allows 2D grayscale image to be passed as inputs and leaves them unmodified as outputs. Starting from version 0.19, 2D arrays will be treated as 1D images with 3 channels.\r\n",
      "\u001b[2m\u001b[36m(pid=15052)\u001b[0m   self.image = skimage.color.rgb2gray(self.image)\r\n"
     ]
    },
    {
     "name": "stdout",
     "output_type": "stream",
     "text": [
      "\u001b[2m\u001b[36m(pid=15052)\u001b[0m reward: -0.04968\n",
      "\u001b[2m\u001b[36m(pid=15052)\u001b[0m 49.49\n"
     ]
    },
    {
     "name": "stderr",
     "output_type": "stream",
     "text": [
      "\u001b[2m\u001b[36m(pid=15052)\u001b[0m c:\\users\\cig\\anaconda3\\envs\\autofocus\\lib\\site-packages\\imquality\\brisque.py:45: FutureWarning: The behavior of rgb2gray will change in scikit-image 0.19. Currently, rgb2gray allows 2D grayscale image to be passed as inputs and leaves them unmodified as outputs. Starting from version 0.19, 2D arrays will be treated as 1D images with 3 channels.\r\n",
      "\u001b[2m\u001b[36m(pid=15052)\u001b[0m   self.image = skimage.color.rgb2gray(self.image)\r\n"
     ]
    },
    {
     "name": "stdout",
     "output_type": "stream",
     "text": [
      "\u001b[2m\u001b[36m(pid=15052)\u001b[0m reward: -0.048530000000000004\n",
      "\u001b[2m\u001b[36m(pid=15052)\u001b[0m 24.79\n",
      "\u001b[2m\u001b[36m(pid=15052)\u001b[0m reward: -10\n",
      "\u001b[2m\u001b[36m(pid=15052)\u001b[0m 64.53\n",
      "\u001b[2m\u001b[36m(pid=15052)\u001b[0m reward: -10\n",
      "\u001b[2m\u001b[36m(pid=15052)\u001b[0m 48.58\n"
     ]
    },
    {
     "name": "stderr",
     "output_type": "stream",
     "text": [
      "\u001b[2m\u001b[36m(pid=15052)\u001b[0m c:\\users\\cig\\anaconda3\\envs\\autofocus\\lib\\site-packages\\imquality\\brisque.py:45: FutureWarning: The behavior of rgb2gray will change in scikit-image 0.19. Currently, rgb2gray allows 2D grayscale image to be passed as inputs and leaves them unmodified as outputs. Starting from version 0.19, 2D arrays will be treated as 1D images with 3 channels.\r\n",
      "\u001b[2m\u001b[36m(pid=15052)\u001b[0m   self.image = skimage.color.rgb2gray(self.image)\r\n"
     ]
    },
    {
     "name": "stdout",
     "output_type": "stream",
     "text": [
      "\u001b[2m\u001b[36m(pid=15052)\u001b[0m reward: -0.05894\n",
      "\u001b[2m\u001b[36m(pid=15052)\u001b[0m 46.21\n"
     ]
    },
    {
     "name": "stderr",
     "output_type": "stream",
     "text": [
      "\u001b[2m\u001b[36m(pid=15052)\u001b[0m c:\\users\\cig\\anaconda3\\envs\\autofocus\\lib\\site-packages\\imquality\\brisque.py:45: FutureWarning: The behavior of rgb2gray will change in scikit-image 0.19. Currently, rgb2gray allows 2D grayscale image to be passed as inputs and leaves them unmodified as outputs. Starting from version 0.19, 2D arrays will be treated as 1D images with 3 channels.\r\n",
      "\u001b[2m\u001b[36m(pid=15052)\u001b[0m   self.image = skimage.color.rgb2gray(self.image)\r\n"
     ]
    },
    {
     "name": "stdout",
     "output_type": "stream",
     "text": [
      "\u001b[2m\u001b[36m(pid=15052)\u001b[0m reward: -0.044770000000000004\n",
      "\u001b[2m\u001b[36m(pid=15052)\u001b[0m 62.46\n",
      "\u001b[2m\u001b[36m(pid=15052)\u001b[0m reward: -10\n",
      "\u001b[2m\u001b[36m(pid=15052)\u001b[0m 29.84\n",
      "\u001b[2m\u001b[36m(pid=15052)\u001b[0m reward: -10\n",
      "\u001b[2m\u001b[36m(pid=15052)\u001b[0m 40.45\n",
      "\u001b[2m\u001b[36m(pid=15052)\u001b[0m reward: -10\n",
      "\u001b[2m\u001b[36m(pid=15052)\u001b[0m 43.28\n",
      "\u001b[2m\u001b[36m(pid=15052)\u001b[0m reward: -10\n",
      "\u001b[2m\u001b[36m(pid=15052)\u001b[0m 68.6\n",
      "\u001b[2m\u001b[36m(pid=15052)\u001b[0m reward: -10\n",
      "\u001b[2m\u001b[36m(pid=15052)\u001b[0m 24.82\n",
      "\u001b[2m\u001b[36m(pid=15052)\u001b[0m reward: -10\n",
      "\u001b[2m\u001b[36m(pid=15052)\u001b[0m 65.55\n",
      "\u001b[2m\u001b[36m(pid=15052)\u001b[0m reward: -10\n",
      "\u001b[2m\u001b[36m(pid=15052)\u001b[0m 62.63\n",
      "\u001b[2m\u001b[36m(pid=15052)\u001b[0m reward: -10\n",
      "\u001b[2m\u001b[36m(pid=15052)\u001b[0m 56.62\n",
      "\u001b[2m\u001b[36m(pid=15052)\u001b[0m reward: -10\n",
      "\u001b[2m\u001b[36m(pid=15052)\u001b[0m 24.81\n",
      "\u001b[2m\u001b[36m(pid=15052)\u001b[0m reward: -10\n",
      "\u001b[2m\u001b[36m(pid=15052)\u001b[0m 46.4\n"
     ]
    },
    {
     "name": "stderr",
     "output_type": "stream",
     "text": [
      "\u001b[2m\u001b[36m(pid=15052)\u001b[0m c:\\users\\cig\\anaconda3\\envs\\autofocus\\lib\\site-packages\\imquality\\brisque.py:45: FutureWarning: The behavior of rgb2gray will change in scikit-image 0.19. Currently, rgb2gray allows 2D grayscale image to be passed as inputs and leaves them unmodified as outputs. Starting from version 0.19, 2D arrays will be treated as 1D images with 3 channels.\r\n",
      "\u001b[2m\u001b[36m(pid=15052)\u001b[0m   self.image = skimage.color.rgb2gray(self.image)\r\n"
     ]
    },
    {
     "name": "stdout",
     "output_type": "stream",
     "text": [
      "\u001b[2m\u001b[36m(pid=15052)\u001b[0m reward: -0.0378\n",
      "\u001b[2m\u001b[36m(pid=15052)\u001b[0m 66.25\n",
      "\u001b[2m\u001b[36m(pid=15052)\u001b[0m reward: -10\n",
      "\u001b[2m\u001b[36m(pid=15052)\u001b[0m 24.8\n",
      "\u001b[2m\u001b[36m(pid=15052)\u001b[0m reward: -10\n",
      "\u001b[2m\u001b[36m(pid=15052)\u001b[0m 24.1\n",
      "\u001b[2m\u001b[36m(pid=15052)\u001b[0m reward: -10\n",
      "\u001b[2m\u001b[36m(pid=15052)\u001b[0m 24.55\n",
      "\u001b[2m\u001b[36m(pid=15052)\u001b[0m reward: -10\n",
      "\u001b[2m\u001b[36m(pid=15052)\u001b[0m 48.97\n"
     ]
    },
    {
     "name": "stderr",
     "output_type": "stream",
     "text": [
      "\u001b[2m\u001b[36m(pid=15052)\u001b[0m c:\\users\\cig\\anaconda3\\envs\\autofocus\\lib\\site-packages\\imquality\\brisque.py:45: FutureWarning: The behavior of rgb2gray will change in scikit-image 0.19. Currently, rgb2gray allows 2D grayscale image to be passed as inputs and leaves them unmodified as outputs. Starting from version 0.19, 2D arrays will be treated as 1D images with 3 channels.\r\n",
      "\u001b[2m\u001b[36m(pid=15052)\u001b[0m   self.image = skimage.color.rgb2gray(self.image)\r\n"
     ]
    },
    {
     "name": "stdout",
     "output_type": "stream",
     "text": [
      "\u001b[2m\u001b[36m(pid=15052)\u001b[0m reward: -0.05358\n",
      "\u001b[2m\u001b[36m(pid=15052)\u001b[0m 40.18\n",
      "\u001b[2m\u001b[36m(pid=15052)\u001b[0m reward: -10\n",
      "\u001b[2m\u001b[36m(pid=15052)\u001b[0m 49.81\n"
     ]
    },
    {
     "name": "stderr",
     "output_type": "stream",
     "text": [
      "\u001b[2m\u001b[36m(pid=15052)\u001b[0m c:\\users\\cig\\anaconda3\\envs\\autofocus\\lib\\site-packages\\imquality\\brisque.py:45: FutureWarning: The behavior of rgb2gray will change in scikit-image 0.19. Currently, rgb2gray allows 2D grayscale image to be passed as inputs and leaves them unmodified as outputs. Starting from version 0.19, 2D arrays will be treated as 1D images with 3 channels.\r\n",
      "\u001b[2m\u001b[36m(pid=15052)\u001b[0m   self.image = skimage.color.rgb2gray(self.image)\r\n"
     ]
    },
    {
     "name": "stdout",
     "output_type": "stream",
     "text": [
      "\u001b[2m\u001b[36m(pid=15052)\u001b[0m reward: -0.0514\n",
      "\u001b[2m\u001b[36m(pid=15052)\u001b[0m 24.58\n",
      "\u001b[2m\u001b[36m(pid=15052)\u001b[0m reward: -10\n",
      "\u001b[2m\u001b[36m(pid=15052)\u001b[0m 24.43\n",
      "\u001b[2m\u001b[36m(pid=15052)\u001b[0m reward: -10\n",
      "\u001b[2m\u001b[36m(pid=15052)\u001b[0m 67.85\n",
      "\u001b[2m\u001b[36m(pid=15052)\u001b[0m reward: -10\n",
      "\u001b[2m\u001b[36m(pid=15052)\u001b[0m 24.86\n",
      "\u001b[2m\u001b[36m(pid=15052)\u001b[0m reward: -10\n",
      "\u001b[2m\u001b[36m(pid=15052)\u001b[0m 24.73\n",
      "\u001b[2m\u001b[36m(pid=15052)\u001b[0m reward: -10\n",
      "WARNING:tensorflow:From c:\\users\\cig\\anaconda3\\envs\\autofocus\\lib\\site-packages\\ray\\rllib\\policy\\tf_policy.py:928: Variable.load (from tensorflow.python.ops.variables) is deprecated and will be removed in a future version.\n",
      "Instructions for updating:\n",
      "Prefer Variable.assign which has equivalent behavior in 2.X.\n"
     ]
    },
    {
     "name": "stderr",
     "output_type": "stream",
     "text": [
      "\u001b[2m\u001b[36m(pid=15052)\u001b[0m WARNING:tensorflow:From c:\\users\\cig\\anaconda3\\envs\\autofocus\\lib\\site-packages\\ray\\rllib\\policy\\tf_policy.py:928: Variable.load (from tensorflow.python.ops.variables) is deprecated and will be removed in a future version.\r\n",
      "\u001b[2m\u001b[36m(pid=15052)\u001b[0m Instructions for updating:\r\n",
      "\u001b[2m\u001b[36m(pid=15052)\u001b[0m Prefer Variable.assign which has equivalent behavior in 2.X.\r\n",
      "\u001b[2m\u001b[36m(pid=15052)\u001b[0m From c:\\users\\cig\\anaconda3\\envs\\autofocus\\lib\\site-packages\\ray\\rllib\\policy\\tf_policy.py:928: Variable.load (from tensorflow.python.ops.variables) is deprecated and will be removed in a future version.\r\n",
      "\u001b[2m\u001b[36m(pid=15052)\u001b[0m Instructions for updating:\r\n",
      "\u001b[2m\u001b[36m(pid=15052)\u001b[0m Prefer Variable.assign which has equivalent behavior in 2.X.\r\n"
     ]
    },
    {
     "name": "stdout",
     "output_type": "stream",
     "text": [
      "custom_metrics: {}\n",
      "date: 2021-03-31_16-03-58\n",
      "done: false\n",
      "episode_len_mean: 6.473684210526316\n",
      "episode_reward_max: -0.0378\n",
      "episode_reward_mean: -59.499092631578954\n",
      "episode_reward_min: -100.0\n",
      "episodes_this_iter: 19\n",
      "episodes_total: 19\n",
      "experiment_id: f29f35cc3ac947278fbe79a0a7e35ac4\n",
      "hostname: DESKTOP-K2L4N78\n",
      "info:\n",
      "  learner:\n",
      "    default_policy:\n",
      "      cur_kl_coeff: 0.20000000298023224\n",
      "      cur_lr: 0.0002500000118743628\n",
      "      entropy: 8.7591552734375\n",
      "      entropy_coeff: 0.009999999776482582\n",
      "      kl: 0.06747543066740036\n",
      "      model: {}\n",
      "      policy_loss: -0.24216964840888977\n",
      "      total_loss: 2615.715087890625\n",
      "      vf_explained_var: -1.1920928955078125e-07\n",
      "      vf_loss: 2616.031494140625\n",
      "  num_steps_sampled: 128\n",
      "  num_steps_trained: 128\n",
      "iterations_since_restore: 1\n",
      "node_ip: 10.16.102.19\n",
      "num_healthy_workers: 1\n",
      "off_policy_estimator: {}\n",
      "perf:\n",
      "  cpu_util_percent: 7.1444315545243615\n",
      "  ram_util_percent: 44.22703016241299\n",
      "pid: 14556\n",
      "policy_reward_max: {}\n",
      "policy_reward_mean: {}\n",
      "policy_reward_min: {}\n",
      "sampler_perf:\n",
      "  mean_action_processing_ms: 0.06202394648115763\n",
      "  mean_env_wait_ms: 4139.443892841192\n",
      "  mean_inference_ms: 1.030886820120405\n",
      "  mean_raw_obs_processing_ms: 541.4662472037381\n",
      "time_since_restore: 604.5119345188141\n",
      "time_this_iter_s: 604.5119345188141\n",
      "time_total_s: 604.5119345188141\n",
      "timers:\n",
      "  learn_throughput: 375.173\n",
      "  learn_time_ms: 341.176\n",
      "  load_throughput: 4566.704\n",
      "  load_time_ms: 28.029\n",
      "  sample_throughput: 0.212\n",
      "  sample_time_ms: 603986.748\n",
      "  update_time_ms: 5.995\n",
      "timestamp: 1617195838\n",
      "timesteps_since_restore: 0\n",
      "timesteps_total: 128\n",
      "training_iteration: 1\n",
      "\n",
      "------- 0 -------\n",
      "checkpoint saved at C:\\Users\\CIG/ray_results\\PPO_CorningEnv_2021-03-31_15-53-415iqknxt1\\checkpoint_1\\checkpoint-1\n",
      "\u001b[2m\u001b[36m(pid=15052)\u001b[0m 33.14\n",
      "\u001b[2m\u001b[36m(pid=15052)\u001b[0m reward: -10\n",
      "\u001b[2m\u001b[36m(pid=15052)\u001b[0m 60.72\n",
      "\u001b[2m\u001b[36m(pid=15052)\u001b[0m reward: -10\n",
      "\u001b[2m\u001b[36m(pid=15052)\u001b[0m 24.27\n",
      "\u001b[2m\u001b[36m(pid=15052)\u001b[0m reward: -10\n",
      "\u001b[2m\u001b[36m(pid=15052)\u001b[0m 24.61\n",
      "\u001b[2m\u001b[36m(pid=15052)\u001b[0m reward: -10\n",
      "\u001b[2m\u001b[36m(pid=15052)\u001b[0m 56.23\n",
      "\u001b[2m\u001b[36m(pid=15052)\u001b[0m reward: -10\n",
      "\u001b[2m\u001b[36m(pid=15052)\u001b[0m 41.14\n",
      "\u001b[2m\u001b[36m(pid=15052)\u001b[0m reward: -10\n",
      "\u001b[2m\u001b[36m(pid=15052)\u001b[0m 64.87\n",
      "\u001b[2m\u001b[36m(pid=15052)\u001b[0m reward: -10\n",
      "\u001b[2m\u001b[36m(pid=15052)\u001b[0m 24.53\n",
      "\u001b[2m\u001b[36m(pid=15052)\u001b[0m reward: -10\n",
      "\u001b[2m\u001b[36m(pid=15052)\u001b[0m 39.8\n",
      "\u001b[2m\u001b[36m(pid=15052)\u001b[0m reward: -10\n",
      "\u001b[2m\u001b[36m(pid=15052)\u001b[0m 24.54\n",
      "\u001b[2m\u001b[36m(pid=15052)\u001b[0m reward: -10\n",
      "\u001b[2m\u001b[36m(pid=15052)\u001b[0m 24.74\n",
      "\u001b[2m\u001b[36m(pid=15052)\u001b[0m reward: -10\n",
      "\u001b[2m\u001b[36m(pid=15052)\u001b[0m 67.61\n",
      "\u001b[2m\u001b[36m(pid=15052)\u001b[0m reward: -10\n",
      "\u001b[2m\u001b[36m(pid=15052)\u001b[0m 38.25\n",
      "\u001b[2m\u001b[36m(pid=15052)\u001b[0m reward: -10\n",
      "\u001b[2m\u001b[36m(pid=15052)\u001b[0m 24.72\n",
      "\u001b[2m\u001b[36m(pid=15052)\u001b[0m reward: -10\n",
      "\u001b[2m\u001b[36m(pid=15052)\u001b[0m 24.55\n",
      "\u001b[2m\u001b[36m(pid=15052)\u001b[0m reward: -10\n",
      "\u001b[2m\u001b[36m(pid=15052)\u001b[0m 24.8\n",
      "\u001b[2m\u001b[36m(pid=15052)\u001b[0m reward: -10\n",
      "\u001b[2m\u001b[36m(pid=15052)\u001b[0m 24.0\n",
      "\u001b[2m\u001b[36m(pid=15052)\u001b[0m reward: -10\n",
      "\u001b[2m\u001b[36m(pid=15052)\u001b[0m 24.6\n",
      "\u001b[2m\u001b[36m(pid=15052)\u001b[0m reward: -10\n",
      "\u001b[2m\u001b[36m(pid=15052)\u001b[0m 29.93\n",
      "\u001b[2m\u001b[36m(pid=15052)\u001b[0m reward: -10\n",
      "\u001b[2m\u001b[36m(pid=15052)\u001b[0m 45.55\n",
      "\u001b[2m\u001b[36m(pid=15052)\u001b[0m reward: -10\n",
      "\u001b[2m\u001b[36m(pid=15052)\u001b[0m 46.52\n"
     ]
    },
    {
     "name": "stderr",
     "output_type": "stream",
     "text": [
      "\u001b[2m\u001b[36m(pid=15052)\u001b[0m c:\\users\\cig\\anaconda3\\envs\\autofocus\\lib\\site-packages\\imquality\\brisque.py:45: FutureWarning: The behavior of rgb2gray will change in scikit-image 0.19. Currently, rgb2gray allows 2D grayscale image to be passed as inputs and leaves them unmodified as outputs. Starting from version 0.19, 2D arrays will be treated as 1D images with 3 channels.\r\n",
      "\u001b[2m\u001b[36m(pid=15052)\u001b[0m   self.image = skimage.color.rgb2gray(self.image)\r\n"
     ]
    },
    {
     "name": "stdout",
     "output_type": "stream",
     "text": [
      "\u001b[2m\u001b[36m(pid=15052)\u001b[0m reward: -0.04138\n",
      "\u001b[2m\u001b[36m(pid=15052)\u001b[0m 51.15\n",
      "\u001b[2m\u001b[36m(pid=15052)\u001b[0m reward: -10\n",
      "\u001b[2m\u001b[36m(pid=15052)\u001b[0m 61.92\n",
      "\u001b[2m\u001b[36m(pid=15052)\u001b[0m reward: -10\n",
      "\u001b[2m\u001b[36m(pid=15052)\u001b[0m 36.37\n",
      "\u001b[2m\u001b[36m(pid=15052)\u001b[0m reward: -10\n",
      "\u001b[2m\u001b[36m(pid=15052)\u001b[0m 24.98\n",
      "\u001b[2m\u001b[36m(pid=15052)\u001b[0m reward: -10\n",
      "\u001b[2m\u001b[36m(pid=15052)\u001b[0m 57.44\n",
      "\u001b[2m\u001b[36m(pid=15052)\u001b[0m reward: -10\n",
      "\u001b[2m\u001b[36m(pid=15052)\u001b[0m 32.14\n",
      "\u001b[2m\u001b[36m(pid=15052)\u001b[0m reward: -10\n",
      "\u001b[2m\u001b[36m(pid=15052)\u001b[0m 54.13\n",
      "\u001b[2m\u001b[36m(pid=15052)\u001b[0m reward: -10\n",
      "\u001b[2m\u001b[36m(pid=15052)\u001b[0m 60.42\n",
      "\u001b[2m\u001b[36m(pid=15052)\u001b[0m reward: -10\n",
      "\u001b[2m\u001b[36m(pid=15052)\u001b[0m 64.28\n",
      "\u001b[2m\u001b[36m(pid=15052)\u001b[0m reward: -10\n",
      "\u001b[2m\u001b[36m(pid=15052)\u001b[0m 24.86\n",
      "\u001b[2m\u001b[36m(pid=15052)\u001b[0m reward: -10\n",
      "\u001b[2m\u001b[36m(pid=15052)\u001b[0m 67.88\n",
      "\u001b[2m\u001b[36m(pid=15052)\u001b[0m reward: -10\n",
      "\u001b[2m\u001b[36m(pid=15052)\u001b[0m 62.5\n",
      "\u001b[2m\u001b[36m(pid=15052)\u001b[0m reward: -10\n",
      "\u001b[2m\u001b[36m(pid=15052)\u001b[0m 24.54\n",
      "\u001b[2m\u001b[36m(pid=15052)\u001b[0m reward: -10\n",
      "\u001b[2m\u001b[36m(pid=15052)\u001b[0m 24.94\n",
      "\u001b[2m\u001b[36m(pid=15052)\u001b[0m reward: -10\n",
      "\u001b[2m\u001b[36m(pid=15052)\u001b[0m 24.77\n",
      "\u001b[2m\u001b[36m(pid=15052)\u001b[0m reward: -10\n",
      "\u001b[2m\u001b[36m(pid=15052)\u001b[0m 31.63\n",
      "\u001b[2m\u001b[36m(pid=15052)\u001b[0m reward: -10\n",
      "\u001b[2m\u001b[36m(pid=15052)\u001b[0m 63.24\n",
      "\u001b[2m\u001b[36m(pid=15052)\u001b[0m reward: -10\n",
      "\u001b[2m\u001b[36m(pid=15052)\u001b[0m 24.84\n",
      "\u001b[2m\u001b[36m(pid=15052)\u001b[0m reward: -10\n",
      "\u001b[2m\u001b[36m(pid=15052)\u001b[0m 49.37\n"
     ]
    },
    {
     "name": "stderr",
     "output_type": "stream",
     "text": [
      "\u001b[2m\u001b[36m(pid=15052)\u001b[0m c:\\users\\cig\\anaconda3\\envs\\autofocus\\lib\\site-packages\\imquality\\brisque.py:45: FutureWarning: The behavior of rgb2gray will change in scikit-image 0.19. Currently, rgb2gray allows 2D grayscale image to be passed as inputs and leaves them unmodified as outputs. Starting from version 0.19, 2D arrays will be treated as 1D images with 3 channels.\r\n",
      "\u001b[2m\u001b[36m(pid=15052)\u001b[0m   self.image = skimage.color.rgb2gray(self.image)\r\n"
     ]
    },
    {
     "name": "stdout",
     "output_type": "stream",
     "text": [
      "\u001b[2m\u001b[36m(pid=15052)\u001b[0m reward: -0.04462\n",
      "\u001b[2m\u001b[36m(pid=15052)\u001b[0m 54.64\n",
      "\u001b[2m\u001b[36m(pid=15052)\u001b[0m reward: -10\n",
      "\u001b[2m\u001b[36m(pid=15052)\u001b[0m 24.49\n",
      "\u001b[2m\u001b[36m(pid=15052)\u001b[0m reward: -10\n",
      "\u001b[2m\u001b[36m(pid=15052)\u001b[0m 24.33\n",
      "\u001b[2m\u001b[36m(pid=15052)\u001b[0m reward: -10\n",
      "\u001b[2m\u001b[36m(pid=15052)\u001b[0m 24.86\n",
      "\u001b[2m\u001b[36m(pid=15052)\u001b[0m reward: -10\n",
      "\u001b[2m\u001b[36m(pid=15052)\u001b[0m 42.7\n",
      "\u001b[2m\u001b[36m(pid=15052)\u001b[0m reward: -10\n",
      "\u001b[2m\u001b[36m(pid=15052)\u001b[0m 24.42\n",
      "\u001b[2m\u001b[36m(pid=15052)\u001b[0m reward: -10\n",
      "\u001b[2m\u001b[36m(pid=15052)\u001b[0m 24.68\n",
      "\u001b[2m\u001b[36m(pid=15052)\u001b[0m reward: -10\n",
      "\u001b[2m\u001b[36m(pid=15052)\u001b[0m 55.69\n",
      "\u001b[2m\u001b[36m(pid=15052)\u001b[0m reward: -10\n",
      "\u001b[2m\u001b[36m(pid=15052)\u001b[0m 66.11\n",
      "\u001b[2m\u001b[36m(pid=15052)\u001b[0m reward: -10\n",
      "\u001b[2m\u001b[36m(pid=15052)\u001b[0m 27.64\n",
      "\u001b[2m\u001b[36m(pid=15052)\u001b[0m reward: -10\n",
      "\u001b[2m\u001b[36m(pid=15052)\u001b[0m 24.18\n",
      "\u001b[2m\u001b[36m(pid=15052)\u001b[0m reward: -10\n",
      "\u001b[2m\u001b[36m(pid=15052)\u001b[0m 58.7\n",
      "\u001b[2m\u001b[36m(pid=15052)\u001b[0m reward: -10\n",
      "\u001b[2m\u001b[36m(pid=15052)\u001b[0m 24.21\n",
      "\u001b[2m\u001b[36m(pid=15052)\u001b[0m reward: -10\n",
      "\u001b[2m\u001b[36m(pid=15052)\u001b[0m 24.12\n",
      "\u001b[2m\u001b[36m(pid=15052)\u001b[0m reward: -10\n",
      "\u001b[2m\u001b[36m(pid=15052)\u001b[0m 48.26\n"
     ]
    },
    {
     "name": "stderr",
     "output_type": "stream",
     "text": [
      "\u001b[2m\u001b[36m(pid=15052)\u001b[0m c:\\users\\cig\\anaconda3\\envs\\autofocus\\lib\\site-packages\\imquality\\brisque.py:45: FutureWarning: The behavior of rgb2gray will change in scikit-image 0.19. Currently, rgb2gray allows 2D grayscale image to be passed as inputs and leaves them unmodified as outputs. Starting from version 0.19, 2D arrays will be treated as 1D images with 3 channels.\r\n",
      "\u001b[2m\u001b[36m(pid=15052)\u001b[0m   self.image = skimage.color.rgb2gray(self.image)\r\n"
     ]
    },
    {
     "name": "stdout",
     "output_type": "stream",
     "text": [
      "\u001b[2m\u001b[36m(pid=15052)\u001b[0m reward: -0.03843\n",
      "\u001b[2m\u001b[36m(pid=15052)\u001b[0m 24.65\n",
      "\u001b[2m\u001b[36m(pid=15052)\u001b[0m reward: -10\n",
      "\u001b[2m\u001b[36m(pid=15052)\u001b[0m 50.55\n",
      "\u001b[2m\u001b[36m(pid=15052)\u001b[0m reward: -10\n",
      "\u001b[2m\u001b[36m(pid=15052)\u001b[0m 35.42\n",
      "\u001b[2m\u001b[36m(pid=15052)\u001b[0m reward: -10\n",
      "\u001b[2m\u001b[36m(pid=15052)\u001b[0m 52.16\n",
      "\u001b[2m\u001b[36m(pid=15052)\u001b[0m reward: -10\n",
      "\u001b[2m\u001b[36m(pid=15052)\u001b[0m 64.64\n",
      "\u001b[2m\u001b[36m(pid=15052)\u001b[0m reward: -10\n",
      "\u001b[2m\u001b[36m(pid=15052)\u001b[0m 31.18\n",
      "\u001b[2m\u001b[36m(pid=15052)\u001b[0m reward: -10\n",
      "\u001b[2m\u001b[36m(pid=15052)\u001b[0m 49.6\n"
     ]
    },
    {
     "name": "stderr",
     "output_type": "stream",
     "text": [
      "\u001b[2m\u001b[36m(pid=15052)\u001b[0m c:\\users\\cig\\anaconda3\\envs\\autofocus\\lib\\site-packages\\imquality\\brisque.py:45: FutureWarning: The behavior of rgb2gray will change in scikit-image 0.19. Currently, rgb2gray allows 2D grayscale image to be passed as inputs and leaves them unmodified as outputs. Starting from version 0.19, 2D arrays will be treated as 1D images with 3 channels.\r\n",
      "\u001b[2m\u001b[36m(pid=15052)\u001b[0m   self.image = skimage.color.rgb2gray(self.image)\r\n"
     ]
    },
    {
     "name": "stdout",
     "output_type": "stream",
     "text": [
      "\u001b[2m\u001b[36m(pid=15052)\u001b[0m reward: -0.046990000000000004\n",
      "\u001b[2m\u001b[36m(pid=15052)\u001b[0m 63.73\n",
      "\u001b[2m\u001b[36m(pid=15052)\u001b[0m reward: -10\n",
      "\u001b[2m\u001b[36m(pid=15052)\u001b[0m 26.4\n",
      "\u001b[2m\u001b[36m(pid=15052)\u001b[0m reward: -10\n",
      "\u001b[2m\u001b[36m(pid=15052)\u001b[0m 27.9\n",
      "\u001b[2m\u001b[36m(pid=15052)\u001b[0m reward: -10\n",
      "\u001b[2m\u001b[36m(pid=15052)\u001b[0m 44.31\n",
      "\u001b[2m\u001b[36m(pid=15052)\u001b[0m reward: -10\n",
      "\u001b[2m\u001b[36m(pid=15052)\u001b[0m 31.58\n",
      "\u001b[2m\u001b[36m(pid=15052)\u001b[0m reward: -10\n",
      "\u001b[2m\u001b[36m(pid=15052)\u001b[0m 24.92\n",
      "\u001b[2m\u001b[36m(pid=15052)\u001b[0m reward: -10\n",
      "\u001b[2m\u001b[36m(pid=15052)\u001b[0m 40.97\n",
      "\u001b[2m\u001b[36m(pid=15052)\u001b[0m reward: -10\n",
      "\u001b[2m\u001b[36m(pid=15052)\u001b[0m 24.75\n",
      "\u001b[2m\u001b[36m(pid=15052)\u001b[0m reward: -10\n",
      "\u001b[2m\u001b[36m(pid=15052)\u001b[0m 68.22\n",
      "\u001b[2m\u001b[36m(pid=15052)\u001b[0m reward: -10\n",
      "\u001b[2m\u001b[36m(pid=15052)\u001b[0m 42.71\n",
      "\u001b[2m\u001b[36m(pid=15052)\u001b[0m reward: -10\n",
      "\u001b[2m\u001b[36m(pid=15052)\u001b[0m 50.59\n",
      "\u001b[2m\u001b[36m(pid=15052)\u001b[0m reward: -10\n",
      "\u001b[2m\u001b[36m(pid=15052)\u001b[0m 24.48\n",
      "\u001b[2m\u001b[36m(pid=15052)\u001b[0m reward: -10\n",
      "\u001b[2m\u001b[36m(pid=15052)\u001b[0m 34.59\n",
      "\u001b[2m\u001b[36m(pid=15052)\u001b[0m reward: -10\n",
      "\u001b[2m\u001b[36m(pid=15052)\u001b[0m 27.15\n",
      "\u001b[2m\u001b[36m(pid=15052)\u001b[0m reward: -10\n",
      "\u001b[2m\u001b[36m(pid=15052)\u001b[0m 27.58\n",
      "\u001b[2m\u001b[36m(pid=15052)\u001b[0m reward: -10\n",
      "\u001b[2m\u001b[36m(pid=15052)\u001b[0m 24.48\n",
      "\u001b[2m\u001b[36m(pid=15052)\u001b[0m reward: -10\n",
      "\u001b[2m\u001b[36m(pid=15052)\u001b[0m 61.19\n",
      "\u001b[2m\u001b[36m(pid=15052)\u001b[0m reward: -10\n",
      "\u001b[2m\u001b[36m(pid=15052)\u001b[0m 60.92\n",
      "\u001b[2m\u001b[36m(pid=15052)\u001b[0m reward: -10\n",
      "\u001b[2m\u001b[36m(pid=15052)\u001b[0m 24.66\n",
      "\u001b[2m\u001b[36m(pid=15052)\u001b[0m reward: -10\n",
      "\u001b[2m\u001b[36m(pid=15052)\u001b[0m 60.12\n",
      "\u001b[2m\u001b[36m(pid=15052)\u001b[0m reward: -10\n",
      "\u001b[2m\u001b[36m(pid=15052)\u001b[0m 59.29\n",
      "\u001b[2m\u001b[36m(pid=15052)\u001b[0m reward: -10\n",
      "\u001b[2m\u001b[36m(pid=15052)\u001b[0m 24.12\n",
      "\u001b[2m\u001b[36m(pid=15052)\u001b[0m reward: -10\n",
      "\u001b[2m\u001b[36m(pid=15052)\u001b[0m 59.3\n",
      "\u001b[2m\u001b[36m(pid=15052)\u001b[0m reward: -10\n",
      "\u001b[2m\u001b[36m(pid=15052)\u001b[0m 32.16\n",
      "\u001b[2m\u001b[36m(pid=15052)\u001b[0m reward: -10\n",
      "\u001b[2m\u001b[36m(pid=15052)\u001b[0m 62.71\n",
      "\u001b[2m\u001b[36m(pid=15052)\u001b[0m reward: -10\n",
      "\u001b[2m\u001b[36m(pid=15052)\u001b[0m 40.2\n",
      "\u001b[2m\u001b[36m(pid=15052)\u001b[0m reward: -10\n",
      "\u001b[2m\u001b[36m(pid=15052)\u001b[0m 47.35\n"
     ]
    },
    {
     "name": "stderr",
     "output_type": "stream",
     "text": [
      "\u001b[2m\u001b[36m(pid=15052)\u001b[0m c:\\users\\cig\\anaconda3\\envs\\autofocus\\lib\\site-packages\\imquality\\brisque.py:45: FutureWarning: The behavior of rgb2gray will change in scikit-image 0.19. Currently, rgb2gray allows 2D grayscale image to be passed as inputs and leaves them unmodified as outputs. Starting from version 0.19, 2D arrays will be treated as 1D images with 3 channels.\r\n",
      "\u001b[2m\u001b[36m(pid=15052)\u001b[0m   self.image = skimage.color.rgb2gray(self.image)\r\n"
     ]
    },
    {
     "name": "stdout",
     "output_type": "stream",
     "text": [
      "\u001b[2m\u001b[36m(pid=15052)\u001b[0m reward: -0.0565\n",
      "\u001b[2m\u001b[36m(pid=15052)\u001b[0m 51.4\n",
      "\u001b[2m\u001b[36m(pid=15052)\u001b[0m reward: -10\n",
      "\u001b[2m\u001b[36m(pid=15052)\u001b[0m 31.49\n",
      "\u001b[2m\u001b[36m(pid=15052)\u001b[0m reward: -10\n",
      "\u001b[2m\u001b[36m(pid=15052)\u001b[0m 25.3\n",
      "\u001b[2m\u001b[36m(pid=15052)\u001b[0m reward: -10\n",
      "\u001b[2m\u001b[36m(pid=15052)\u001b[0m 40.85\n",
      "\u001b[2m\u001b[36m(pid=15052)\u001b[0m reward: -10\n",
      "\u001b[2m\u001b[36m(pid=15052)\u001b[0m 65.62\n",
      "\u001b[2m\u001b[36m(pid=15052)\u001b[0m reward: -10\n",
      "\u001b[2m\u001b[36m(pid=15052)\u001b[0m 26.65\n",
      "\u001b[2m\u001b[36m(pid=15052)\u001b[0m reward: -10\n",
      "\u001b[2m\u001b[36m(pid=15052)\u001b[0m 24.29\n",
      "\u001b[2m\u001b[36m(pid=15052)\u001b[0m reward: -10\n",
      "\u001b[2m\u001b[36m(pid=15052)\u001b[0m 24.85\n",
      "\u001b[2m\u001b[36m(pid=15052)\u001b[0m reward: -10\n",
      "\u001b[2m\u001b[36m(pid=15052)\u001b[0m 28.91\n",
      "\u001b[2m\u001b[36m(pid=15052)\u001b[0m reward: -10\n",
      "\u001b[2m\u001b[36m(pid=15052)\u001b[0m 24.8\n",
      "\u001b[2m\u001b[36m(pid=15052)\u001b[0m reward: -10\n",
      "\u001b[2m\u001b[36m(pid=15052)\u001b[0m 58.35\n",
      "\u001b[2m\u001b[36m(pid=15052)\u001b[0m reward: -10\n",
      "\u001b[2m\u001b[36m(pid=15052)\u001b[0m 24.59\n",
      "\u001b[2m\u001b[36m(pid=15052)\u001b[0m reward: -10\n",
      "\u001b[2m\u001b[36m(pid=15052)\u001b[0m 24.75\n",
      "\u001b[2m\u001b[36m(pid=15052)\u001b[0m reward: -10\n",
      "\u001b[2m\u001b[36m(pid=15052)\u001b[0m 24.14\n",
      "\u001b[2m\u001b[36m(pid=15052)\u001b[0m reward: -10\n",
      "\u001b[2m\u001b[36m(pid=15052)\u001b[0m 27.61\n",
      "\u001b[2m\u001b[36m(pid=15052)\u001b[0m reward: -10\n",
      "\u001b[2m\u001b[36m(pid=15052)\u001b[0m 24.65\n",
      "\u001b[2m\u001b[36m(pid=15052)\u001b[0m reward: -10\n",
      "\u001b[2m\u001b[36m(pid=15052)\u001b[0m 41.49\n",
      "\u001b[2m\u001b[36m(pid=15052)\u001b[0m reward: -10\n",
      "\u001b[2m\u001b[36m(pid=15052)\u001b[0m 24.48\n",
      "\u001b[2m\u001b[36m(pid=15052)\u001b[0m reward: -10\n",
      "\u001b[2m\u001b[36m(pid=15052)\u001b[0m 65.4\n",
      "\u001b[2m\u001b[36m(pid=15052)\u001b[0m reward: -10\n",
      "\u001b[2m\u001b[36m(pid=15052)\u001b[0m 24.91\n",
      "\u001b[2m\u001b[36m(pid=15052)\u001b[0m reward: -10\n",
      "\u001b[2m\u001b[36m(pid=15052)\u001b[0m 66.29\n",
      "\u001b[2m\u001b[36m(pid=15052)\u001b[0m reward: -10\n",
      "\u001b[2m\u001b[36m(pid=15052)\u001b[0m 38.79\n",
      "\u001b[2m\u001b[36m(pid=15052)\u001b[0m reward: -10\n",
      "\u001b[2m\u001b[36m(pid=15052)\u001b[0m 32.9\n",
      "\u001b[2m\u001b[36m(pid=15052)\u001b[0m reward: -10\n",
      "\u001b[2m\u001b[36m(pid=15052)\u001b[0m 24.28\n",
      "\u001b[2m\u001b[36m(pid=15052)\u001b[0m reward: -10\n",
      "\u001b[2m\u001b[36m(pid=15052)\u001b[0m 24.78\n",
      "\u001b[2m\u001b[36m(pid=15052)\u001b[0m reward: -10\n",
      "\u001b[2m\u001b[36m(pid=15052)\u001b[0m 24.5\n",
      "\u001b[2m\u001b[36m(pid=15052)\u001b[0m reward: -10\n",
      "\u001b[2m\u001b[36m(pid=15052)\u001b[0m 24.42\n",
      "\u001b[2m\u001b[36m(pid=15052)\u001b[0m reward: -10\n",
      "\u001b[2m\u001b[36m(pid=15052)\u001b[0m 51.56\n",
      "\u001b[2m\u001b[36m(pid=15052)\u001b[0m reward: -10\n",
      "\u001b[2m\u001b[36m(pid=15052)\u001b[0m 24.47\n",
      "\u001b[2m\u001b[36m(pid=15052)\u001b[0m reward: -10\n",
      "\u001b[2m\u001b[36m(pid=15052)\u001b[0m 32.68\n",
      "\u001b[2m\u001b[36m(pid=15052)\u001b[0m reward: -10\n",
      "\u001b[2m\u001b[36m(pid=15052)\u001b[0m 64.16\n",
      "\u001b[2m\u001b[36m(pid=15052)\u001b[0m reward: -10\n",
      "\u001b[2m\u001b[36m(pid=15052)\u001b[0m 47.35\n"
     ]
    },
    {
     "name": "stderr",
     "output_type": "stream",
     "text": [
      "\u001b[2m\u001b[36m(pid=15052)\u001b[0m c:\\users\\cig\\anaconda3\\envs\\autofocus\\lib\\site-packages\\imquality\\brisque.py:45: FutureWarning: The behavior of rgb2gray will change in scikit-image 0.19. Currently, rgb2gray allows 2D grayscale image to be passed as inputs and leaves them unmodified as outputs. Starting from version 0.19, 2D arrays will be treated as 1D images with 3 channels.\r\n",
      "\u001b[2m\u001b[36m(pid=15052)\u001b[0m   self.image = skimage.color.rgb2gray(self.image)\r\n"
     ]
    },
    {
     "name": "stdout",
     "output_type": "stream",
     "text": [
      "\u001b[2m\u001b[36m(pid=15052)\u001b[0m reward: -0.046560000000000004\n",
      "\u001b[2m\u001b[36m(pid=15052)\u001b[0m 55.75\n",
      "\u001b[2m\u001b[36m(pid=15052)\u001b[0m reward: -10\n",
      "\u001b[2m\u001b[36m(pid=15052)\u001b[0m 24.41\n",
      "\u001b[2m\u001b[36m(pid=15052)\u001b[0m reward: -10\n",
      "\u001b[2m\u001b[36m(pid=15052)\u001b[0m 52.61\n",
      "\u001b[2m\u001b[36m(pid=15052)\u001b[0m reward: -10\n",
      "\u001b[2m\u001b[36m(pid=15052)\u001b[0m 24.81\n",
      "\u001b[2m\u001b[36m(pid=15052)\u001b[0m reward: -10\n",
      "\u001b[2m\u001b[36m(pid=15052)\u001b[0m 63.78\n",
      "\u001b[2m\u001b[36m(pid=15052)\u001b[0m reward: -10\n",
      "\u001b[2m\u001b[36m(pid=15052)\u001b[0m 68.2\n",
      "\u001b[2m\u001b[36m(pid=15052)\u001b[0m reward: -10\n",
      "\u001b[2m\u001b[36m(pid=15052)\u001b[0m 68.14\n",
      "\u001b[2m\u001b[36m(pid=15052)\u001b[0m reward: -10\n",
      "custom_metrics: {}\n",
      "date: 2021-03-31_16-13-44\n",
      "done: false\n",
      "episode_len_mean: 7.323529411764706\n",
      "episode_reward_max: -0.0378\n",
      "episode_reward_mean: -68.55168352941175\n",
      "episode_reward_min: -100.0\n",
      "episodes_this_iter: 15\n",
      "episodes_total: 34\n",
      "experiment_id: f29f35cc3ac947278fbe79a0a7e35ac4\n",
      "hostname: DESKTOP-K2L4N78\n",
      "info:\n",
      "  learner:\n",
      "    default_policy:\n",
      "      cur_kl_coeff: 0.30000001192092896\n",
      "      cur_lr: 0.0002500000118743628\n",
      "      entropy: 8.716626167297363\n",
      "      entropy_coeff: 0.009999999776482582\n",
      "      kl: 0.06630091369152069\n",
      "      model: {}\n",
      "      policy_loss: -0.2315956950187683\n",
      "      total_loss: 2414.760009765625\n",
      "      vf_explained_var: -1.1920928955078125e-07\n",
      "      vf_loss: 2415.05908203125\n",
      "  num_steps_sampled: 256\n",
      "  num_steps_trained: 256\n",
      "iterations_since_restore: 2\n",
      "node_ip: 10.16.102.19\n",
      "num_healthy_workers: 1\n",
      "off_policy_estimator: {}\n",
      "perf:\n",
      "  cpu_util_percent: 6.641007194244604\n",
      "  ram_util_percent: 43.349280575539574\n",
      "pid: 14556\n",
      "policy_reward_max: {}\n",
      "policy_reward_mean: {}\n",
      "policy_reward_min: {}\n",
      "sampler_perf:\n",
      "  mean_action_processing_ms: 0.055214834353786484\n",
      "  mean_env_wait_ms: 4138.702516549433\n",
      "  mean_inference_ms: 0.9845662154780729\n",
      "  mean_raw_obs_processing_ms: 517.4881478832712\n",
      "time_since_restore: 1189.6414580345154\n",
      "time_this_iter_s: 585.1295235157013\n",
      "time_total_s: 1189.6414580345154\n",
      "timers:\n",
      "  learn_throughput: 516.98\n",
      "  learn_time_ms: 247.592\n",
      "  load_throughput: 8525.211\n",
      "  load_time_ms: 15.014\n",
      "  sample_throughput: 0.215\n",
      "  sample_time_ms: 594427.574\n",
      "  update_time_ms: 5.994\n",
      "timestamp: 1617196424\n",
      "timesteps_since_restore: 0\n",
      "timesteps_total: 256\n",
      "training_iteration: 2\n",
      "\n",
      "------- 1 -------\n",
      "\u001b[2m\u001b[36m(pid=15052)\u001b[0m 42.23\n",
      "\u001b[2m\u001b[36m(pid=15052)\u001b[0m reward: -10\n",
      "\u001b[2m\u001b[36m(pid=15052)\u001b[0m 24.38\n",
      "\u001b[2m\u001b[36m(pid=15052)\u001b[0m reward: -10\n",
      "\u001b[2m\u001b[36m(pid=15052)\u001b[0m 44.56\n",
      "\u001b[2m\u001b[36m(pid=15052)\u001b[0m reward: -10\n",
      "\u001b[2m\u001b[36m(pid=15052)\u001b[0m 65.61\n",
      "\u001b[2m\u001b[36m(pid=15052)\u001b[0m reward: -10\n",
      "\u001b[2m\u001b[36m(pid=15052)\u001b[0m 24.11\n",
      "\u001b[2m\u001b[36m(pid=15052)\u001b[0m reward: -10\n",
      "\u001b[2m\u001b[36m(pid=15052)\u001b[0m 66.81\n",
      "\u001b[2m\u001b[36m(pid=15052)\u001b[0m reward: -10\n",
      "\u001b[2m\u001b[36m(pid=15052)\u001b[0m 24.81\n",
      "\u001b[2m\u001b[36m(pid=15052)\u001b[0m reward: -10\n",
      "\u001b[2m\u001b[36m(pid=15052)\u001b[0m 27.56\n",
      "\u001b[2m\u001b[36m(pid=15052)\u001b[0m reward: -10\n",
      "\u001b[2m\u001b[36m(pid=15052)\u001b[0m 56.25\n",
      "\u001b[2m\u001b[36m(pid=15052)\u001b[0m reward: -10\n",
      "\u001b[2m\u001b[36m(pid=15052)\u001b[0m 58.8\n",
      "\u001b[2m\u001b[36m(pid=15052)\u001b[0m reward: -10\n",
      "\u001b[2m\u001b[36m(pid=15052)\u001b[0m 61.7\n",
      "\u001b[2m\u001b[36m(pid=15052)\u001b[0m reward: -10\n",
      "\u001b[2m\u001b[36m(pid=15052)\u001b[0m 48.47\n"
     ]
    },
    {
     "name": "stderr",
     "output_type": "stream",
     "text": [
      "\u001b[2m\u001b[36m(pid=15052)\u001b[0m c:\\users\\cig\\anaconda3\\envs\\autofocus\\lib\\site-packages\\imquality\\brisque.py:45: FutureWarning: The behavior of rgb2gray will change in scikit-image 0.19. Currently, rgb2gray allows 2D grayscale image to be passed as inputs and leaves them unmodified as outputs. Starting from version 0.19, 2D arrays will be treated as 1D images with 3 channels.\r\n",
      "\u001b[2m\u001b[36m(pid=15052)\u001b[0m   self.image = skimage.color.rgb2gray(self.image)\r\n"
     ]
    },
    {
     "name": "stdout",
     "output_type": "stream",
     "text": [
      "\u001b[2m\u001b[36m(pid=15052)\u001b[0m reward: -0.054450000000000005\n",
      "\u001b[2m\u001b[36m(pid=15052)\u001b[0m 24.69\n",
      "\u001b[2m\u001b[36m(pid=15052)\u001b[0m reward: -10\n",
      "\u001b[2m\u001b[36m(pid=15052)\u001b[0m 60.5\n",
      "\u001b[2m\u001b[36m(pid=15052)\u001b[0m reward: -10\n",
      "\u001b[2m\u001b[36m(pid=15052)\u001b[0m 64.5\n",
      "\u001b[2m\u001b[36m(pid=15052)\u001b[0m reward: -10\n",
      "\u001b[2m\u001b[36m(pid=15052)\u001b[0m 48.27\n"
     ]
    },
    {
     "name": "stderr",
     "output_type": "stream",
     "text": [
      "\u001b[2m\u001b[36m(pid=15052)\u001b[0m c:\\users\\cig\\anaconda3\\envs\\autofocus\\lib\\site-packages\\imquality\\brisque.py:45: FutureWarning: The behavior of rgb2gray will change in scikit-image 0.19. Currently, rgb2gray allows 2D grayscale image to be passed as inputs and leaves them unmodified as outputs. Starting from version 0.19, 2D arrays will be treated as 1D images with 3 channels.\r\n",
      "\u001b[2m\u001b[36m(pid=15052)\u001b[0m   self.image = skimage.color.rgb2gray(self.image)\r\n"
     ]
    },
    {
     "name": "stdout",
     "output_type": "stream",
     "text": [
      "\u001b[2m\u001b[36m(pid=15052)\u001b[0m reward: -0.04044\n",
      "\u001b[2m\u001b[36m(pid=15052)\u001b[0m 53.85\n",
      "\u001b[2m\u001b[36m(pid=15052)\u001b[0m reward: -10\n",
      "\u001b[2m\u001b[36m(pid=15052)\u001b[0m 24.1\n",
      "\u001b[2m\u001b[36m(pid=15052)\u001b[0m reward: -10\n",
      "\u001b[2m\u001b[36m(pid=15052)\u001b[0m 62.27\n",
      "\u001b[2m\u001b[36m(pid=15052)\u001b[0m reward: -10\n",
      "\u001b[2m\u001b[36m(pid=15052)\u001b[0m 46.18\n"
     ]
    },
    {
     "name": "stderr",
     "output_type": "stream",
     "text": [
      "\u001b[2m\u001b[36m(pid=15052)\u001b[0m c:\\users\\cig\\anaconda3\\envs\\autofocus\\lib\\site-packages\\imquality\\brisque.py:45: FutureWarning: The behavior of rgb2gray will change in scikit-image 0.19. Currently, rgb2gray allows 2D grayscale image to be passed as inputs and leaves them unmodified as outputs. Starting from version 0.19, 2D arrays will be treated as 1D images with 3 channels.\r\n",
      "\u001b[2m\u001b[36m(pid=15052)\u001b[0m   self.image = skimage.color.rgb2gray(self.image)\r\n"
     ]
    },
    {
     "name": "stdout",
     "output_type": "stream",
     "text": [
      "\u001b[2m\u001b[36m(pid=15052)\u001b[0m reward: -0.041479999999999996\n",
      "\u001b[2m\u001b[36m(pid=15052)\u001b[0m 61.66\n",
      "\u001b[2m\u001b[36m(pid=15052)\u001b[0m reward: -10\n",
      "\u001b[2m\u001b[36m(pid=15052)\u001b[0m 45.44\n",
      "\u001b[2m\u001b[36m(pid=15052)\u001b[0m reward: -10\n",
      "\u001b[2m\u001b[36m(pid=15052)\u001b[0m 56.93\n",
      "\u001b[2m\u001b[36m(pid=15052)\u001b[0m reward: -10\n",
      "\u001b[2m\u001b[36m(pid=15052)\u001b[0m 31.3\n",
      "\u001b[2m\u001b[36m(pid=15052)\u001b[0m reward: -10\n",
      "\u001b[2m\u001b[36m(pid=15052)\u001b[0m 24.88\n",
      "\u001b[2m\u001b[36m(pid=15052)\u001b[0m reward: -10\n",
      "\u001b[2m\u001b[36m(pid=15052)\u001b[0m 51.67\n",
      "\u001b[2m\u001b[36m(pid=15052)\u001b[0m reward: -10\n",
      "\u001b[2m\u001b[36m(pid=15052)\u001b[0m 24.3\n",
      "\u001b[2m\u001b[36m(pid=15052)\u001b[0m reward: -10\n",
      "\u001b[2m\u001b[36m(pid=15052)\u001b[0m 24.67\n",
      "\u001b[2m\u001b[36m(pid=15052)\u001b[0m reward: -10\n",
      "\u001b[2m\u001b[36m(pid=15052)\u001b[0m 46.82\n"
     ]
    },
    {
     "name": "stderr",
     "output_type": "stream",
     "text": [
      "\u001b[2m\u001b[36m(pid=15052)\u001b[0m c:\\users\\cig\\anaconda3\\envs\\autofocus\\lib\\site-packages\\imquality\\brisque.py:45: FutureWarning: The behavior of rgb2gray will change in scikit-image 0.19. Currently, rgb2gray allows 2D grayscale image to be passed as inputs and leaves them unmodified as outputs. Starting from version 0.19, 2D arrays will be treated as 1D images with 3 channels.\r\n",
      "\u001b[2m\u001b[36m(pid=15052)\u001b[0m   self.image = skimage.color.rgb2gray(self.image)\r\n"
     ]
    },
    {
     "name": "stdout",
     "output_type": "stream",
     "text": [
      "\u001b[2m\u001b[36m(pid=15052)\u001b[0m reward: -0.05183\n",
      "\u001b[2m\u001b[36m(pid=15052)\u001b[0m 24.8\n",
      "\u001b[2m\u001b[36m(pid=15052)\u001b[0m reward: -10\n",
      "\u001b[2m\u001b[36m(pid=15052)\u001b[0m 24.75\n",
      "\u001b[2m\u001b[36m(pid=15052)\u001b[0m reward: -10\n",
      "\u001b[2m\u001b[36m(pid=15052)\u001b[0m 24.13\n",
      "\u001b[2m\u001b[36m(pid=15052)\u001b[0m reward: -10\n",
      "\u001b[2m\u001b[36m(pid=15052)\u001b[0m 24.5\n",
      "\u001b[2m\u001b[36m(pid=15052)\u001b[0m reward: -10\n",
      "\u001b[2m\u001b[36m(pid=15052)\u001b[0m 54.1\n",
      "\u001b[2m\u001b[36m(pid=15052)\u001b[0m reward: -10\n",
      "\u001b[2m\u001b[36m(pid=15052)\u001b[0m 62.57\n",
      "\u001b[2m\u001b[36m(pid=15052)\u001b[0m reward: -10\n",
      "\u001b[2m\u001b[36m(pid=15052)\u001b[0m 33.12\n",
      "\u001b[2m\u001b[36m(pid=15052)\u001b[0m reward: -10\n",
      "\u001b[2m\u001b[36m(pid=15052)\u001b[0m 24.43\n",
      "\u001b[2m\u001b[36m(pid=15052)\u001b[0m reward: -10\n",
      "\u001b[2m\u001b[36m(pid=15052)\u001b[0m 24.4\n",
      "\u001b[2m\u001b[36m(pid=15052)\u001b[0m reward: -10\n",
      "\u001b[2m\u001b[36m(pid=15052)\u001b[0m 24.12\n",
      "\u001b[2m\u001b[36m(pid=15052)\u001b[0m reward: -10\n",
      "\u001b[2m\u001b[36m(pid=15052)\u001b[0m 66.68\n",
      "\u001b[2m\u001b[36m(pid=15052)\u001b[0m reward: -10\n",
      "\u001b[2m\u001b[36m(pid=15052)\u001b[0m 24.16\n",
      "\u001b[2m\u001b[36m(pid=15052)\u001b[0m reward: -10\n",
      "\u001b[2m\u001b[36m(pid=15052)\u001b[0m 62.48\n",
      "\u001b[2m\u001b[36m(pid=15052)\u001b[0m reward: -10\n",
      "\u001b[2m\u001b[36m(pid=15052)\u001b[0m 24.0\n",
      "\u001b[2m\u001b[36m(pid=15052)\u001b[0m reward: -10\n",
      "\u001b[2m\u001b[36m(pid=15052)\u001b[0m 26.43\n",
      "\u001b[2m\u001b[36m(pid=15052)\u001b[0m reward: -10\n",
      "\u001b[2m\u001b[36m(pid=15052)\u001b[0m 68.86\n",
      "\u001b[2m\u001b[36m(pid=15052)\u001b[0m reward: -10\n",
      "\u001b[2m\u001b[36m(pid=15052)\u001b[0m 24.82\n",
      "\u001b[2m\u001b[36m(pid=15052)\u001b[0m reward: -10\n",
      "\u001b[2m\u001b[36m(pid=15052)\u001b[0m 65.18\n",
      "\u001b[2m\u001b[36m(pid=15052)\u001b[0m reward: -10\n",
      "\u001b[2m\u001b[36m(pid=15052)\u001b[0m 39.49\n",
      "\u001b[2m\u001b[36m(pid=15052)\u001b[0m reward: -10\n",
      "\u001b[2m\u001b[36m(pid=15052)\u001b[0m 31.1\n",
      "\u001b[2m\u001b[36m(pid=15052)\u001b[0m reward: -10\n",
      "\u001b[2m\u001b[36m(pid=15052)\u001b[0m 68.16\n",
      "\u001b[2m\u001b[36m(pid=15052)\u001b[0m reward: -10\n",
      "\u001b[2m\u001b[36m(pid=15052)\u001b[0m 24.57\n",
      "\u001b[2m\u001b[36m(pid=15052)\u001b[0m reward: -10\n",
      "\u001b[2m\u001b[36m(pid=15052)\u001b[0m 43.38\n",
      "\u001b[2m\u001b[36m(pid=15052)\u001b[0m reward: -10\n",
      "\u001b[2m\u001b[36m(pid=15052)\u001b[0m 24.26\n",
      "\u001b[2m\u001b[36m(pid=15052)\u001b[0m reward: -10\n",
      "\u001b[2m\u001b[36m(pid=15052)\u001b[0m 24.42\n",
      "\u001b[2m\u001b[36m(pid=15052)\u001b[0m reward: -10\n",
      "\u001b[2m\u001b[36m(pid=15052)\u001b[0m 34.57\n",
      "\u001b[2m\u001b[36m(pid=15052)\u001b[0m reward: -10\n",
      "\u001b[2m\u001b[36m(pid=15052)\u001b[0m 52.95\n",
      "\u001b[2m\u001b[36m(pid=15052)\u001b[0m reward: -10\n",
      "\u001b[2m\u001b[36m(pid=15052)\u001b[0m 24.94\n",
      "\u001b[2m\u001b[36m(pid=15052)\u001b[0m reward: -10\n",
      "\u001b[2m\u001b[36m(pid=15052)\u001b[0m 24.75\n",
      "\u001b[2m\u001b[36m(pid=15052)\u001b[0m reward: -10\n",
      "\u001b[2m\u001b[36m(pid=15052)\u001b[0m 43.74\n",
      "\u001b[2m\u001b[36m(pid=15052)\u001b[0m reward: -10\n",
      "\u001b[2m\u001b[36m(pid=15052)\u001b[0m 24.47\n",
      "\u001b[2m\u001b[36m(pid=15052)\u001b[0m reward: -10\n",
      "\u001b[2m\u001b[36m(pid=15052)\u001b[0m 61.6\n",
      "\u001b[2m\u001b[36m(pid=15052)\u001b[0m reward: -10\n",
      "\u001b[2m\u001b[36m(pid=15052)\u001b[0m 24.27\n",
      "\u001b[2m\u001b[36m(pid=15052)\u001b[0m reward: -10\n",
      "\u001b[2m\u001b[36m(pid=15052)\u001b[0m 28.3\n",
      "\u001b[2m\u001b[36m(pid=15052)\u001b[0m reward: -10\n",
      "\u001b[2m\u001b[36m(pid=15052)\u001b[0m 57.63\n",
      "\u001b[2m\u001b[36m(pid=15052)\u001b[0m reward: -10\n",
      "\u001b[2m\u001b[36m(pid=15052)\u001b[0m 24.75\n",
      "\u001b[2m\u001b[36m(pid=15052)\u001b[0m reward: -10\n",
      "\u001b[2m\u001b[36m(pid=15052)\u001b[0m 53.19\n",
      "\u001b[2m\u001b[36m(pid=15052)\u001b[0m reward: -10\n",
      "\u001b[2m\u001b[36m(pid=15052)\u001b[0m 24.61\n",
      "\u001b[2m\u001b[36m(pid=15052)\u001b[0m reward: -10\n",
      "\u001b[2m\u001b[36m(pid=15052)\u001b[0m 54.1\n",
      "\u001b[2m\u001b[36m(pid=15052)\u001b[0m reward: -10\n",
      "\u001b[2m\u001b[36m(pid=15052)\u001b[0m 59.51\n",
      "\u001b[2m\u001b[36m(pid=15052)\u001b[0m reward: -10\n",
      "\u001b[2m\u001b[36m(pid=15052)\u001b[0m 30.22\n",
      "\u001b[2m\u001b[36m(pid=15052)\u001b[0m reward: -10\n",
      "\u001b[2m\u001b[36m(pid=15052)\u001b[0m 33.23\n",
      "\u001b[2m\u001b[36m(pid=15052)\u001b[0m reward: -10\n",
      "\u001b[2m\u001b[36m(pid=15052)\u001b[0m 49.34\n"
     ]
    },
    {
     "name": "stderr",
     "output_type": "stream",
     "text": [
      "\u001b[2m\u001b[36m(pid=15052)\u001b[0m c:\\users\\cig\\anaconda3\\envs\\autofocus\\lib\\site-packages\\imquality\\brisque.py:45: FutureWarning: The behavior of rgb2gray will change in scikit-image 0.19. Currently, rgb2gray allows 2D grayscale image to be passed as inputs and leaves them unmodified as outputs. Starting from version 0.19, 2D arrays will be treated as 1D images with 3 channels.\r\n",
      "\u001b[2m\u001b[36m(pid=15052)\u001b[0m   self.image = skimage.color.rgb2gray(self.image)\r\n"
     ]
    },
    {
     "name": "stdout",
     "output_type": "stream",
     "text": [
      "\u001b[2m\u001b[36m(pid=15052)\u001b[0m reward: -0.05079\n",
      "\u001b[2m\u001b[36m(pid=15052)\u001b[0m 68.41\n",
      "\u001b[2m\u001b[36m(pid=15052)\u001b[0m reward: -10\n",
      "\u001b[2m\u001b[36m(pid=15052)\u001b[0m 24.3\n",
      "\u001b[2m\u001b[36m(pid=15052)\u001b[0m reward: -10\n",
      "\u001b[2m\u001b[36m(pid=15052)\u001b[0m 24.0\n",
      "\u001b[2m\u001b[36m(pid=15052)\u001b[0m reward: -10\n",
      "\u001b[2m\u001b[36m(pid=15052)\u001b[0m 24.56\n",
      "\u001b[2m\u001b[36m(pid=15052)\u001b[0m reward: -10\n",
      "\u001b[2m\u001b[36m(pid=15052)\u001b[0m 51.72\n",
      "\u001b[2m\u001b[36m(pid=15052)\u001b[0m reward: -10\n",
      "\u001b[2m\u001b[36m(pid=15052)\u001b[0m 56.2\n",
      "\u001b[2m\u001b[36m(pid=15052)\u001b[0m reward: -10\n",
      "\u001b[2m\u001b[36m(pid=15052)\u001b[0m 24.6\n",
      "\u001b[2m\u001b[36m(pid=15052)\u001b[0m reward: -10\n",
      "\u001b[2m\u001b[36m(pid=15052)\u001b[0m 68.15\n",
      "\u001b[2m\u001b[36m(pid=15052)\u001b[0m reward: -10\n",
      "\u001b[2m\u001b[36m(pid=15052)\u001b[0m 56.59\n",
      "\u001b[2m\u001b[36m(pid=15052)\u001b[0m reward: -10\n",
      "\u001b[2m\u001b[36m(pid=15052)\u001b[0m 24.55\n",
      "\u001b[2m\u001b[36m(pid=15052)\u001b[0m reward: -10\n",
      "\u001b[2m\u001b[36m(pid=15052)\u001b[0m 68.64\n",
      "\u001b[2m\u001b[36m(pid=15052)\u001b[0m reward: -10\n",
      "\u001b[2m\u001b[36m(pid=15052)\u001b[0m 65.42\n",
      "\u001b[2m\u001b[36m(pid=15052)\u001b[0m reward: -10\n",
      "\u001b[2m\u001b[36m(pid=15052)\u001b[0m 34.3\n",
      "\u001b[2m\u001b[36m(pid=15052)\u001b[0m reward: -10\n",
      "\u001b[2m\u001b[36m(pid=15052)\u001b[0m 24.92\n",
      "\u001b[2m\u001b[36m(pid=15052)\u001b[0m reward: -10\n",
      "\u001b[2m\u001b[36m(pid=15052)\u001b[0m 26.24\n",
      "\u001b[2m\u001b[36m(pid=15052)\u001b[0m reward: -10\n",
      "\u001b[2m\u001b[36m(pid=15052)\u001b[0m 31.13\n",
      "\u001b[2m\u001b[36m(pid=15052)\u001b[0m reward: -10\n",
      "\u001b[2m\u001b[36m(pid=15052)\u001b[0m 24.3\n",
      "\u001b[2m\u001b[36m(pid=15052)\u001b[0m reward: -10\n",
      "\u001b[2m\u001b[36m(pid=15052)\u001b[0m 24.42\n",
      "\u001b[2m\u001b[36m(pid=15052)\u001b[0m reward: -10\n",
      "\u001b[2m\u001b[36m(pid=15052)\u001b[0m 64.96\n",
      "\u001b[2m\u001b[36m(pid=15052)\u001b[0m reward: -10\n",
      "\u001b[2m\u001b[36m(pid=15052)\u001b[0m 24.69\n",
      "\u001b[2m\u001b[36m(pid=15052)\u001b[0m reward: -10\n",
      "\u001b[2m\u001b[36m(pid=15052)\u001b[0m 63.39\n",
      "\u001b[2m\u001b[36m(pid=15052)\u001b[0m reward: -10\n",
      "\u001b[2m\u001b[36m(pid=15052)\u001b[0m 47.91\n"
     ]
    },
    {
     "name": "stderr",
     "output_type": "stream",
     "text": [
      "\u001b[2m\u001b[36m(pid=15052)\u001b[0m c:\\users\\cig\\anaconda3\\envs\\autofocus\\lib\\site-packages\\imquality\\brisque.py:45: FutureWarning: The behavior of rgb2gray will change in scikit-image 0.19. Currently, rgb2gray allows 2D grayscale image to be passed as inputs and leaves them unmodified as outputs. Starting from version 0.19, 2D arrays will be treated as 1D images with 3 channels.\r\n",
      "\u001b[2m\u001b[36m(pid=15052)\u001b[0m   self.image = skimage.color.rgb2gray(self.image)\r\n"
     ]
    },
    {
     "name": "stdout",
     "output_type": "stream",
     "text": [
      "\u001b[2m\u001b[36m(pid=15052)\u001b[0m reward: -0.01752\n",
      "\u001b[2m\u001b[36m(pid=15052)\u001b[0m 29.72\n",
      "\u001b[2m\u001b[36m(pid=15052)\u001b[0m reward: -10\n",
      "\u001b[2m\u001b[36m(pid=15052)\u001b[0m 24.17\n",
      "\u001b[2m\u001b[36m(pid=15052)\u001b[0m reward: -10\n",
      "\u001b[2m\u001b[36m(pid=15052)\u001b[0m 61.3\n",
      "\u001b[2m\u001b[36m(pid=15052)\u001b[0m reward: -10\n",
      "\u001b[2m\u001b[36m(pid=15052)\u001b[0m 27.28\n",
      "\u001b[2m\u001b[36m(pid=15052)\u001b[0m reward: -10\n",
      "\u001b[2m\u001b[36m(pid=15052)\u001b[0m 54.85\n",
      "\u001b[2m\u001b[36m(pid=15052)\u001b[0m reward: -10\n",
      "\u001b[2m\u001b[36m(pid=15052)\u001b[0m 60.46\n",
      "\u001b[2m\u001b[36m(pid=15052)\u001b[0m reward: -10\n",
      "\u001b[2m\u001b[36m(pid=15052)\u001b[0m 61.17\n",
      "\u001b[2m\u001b[36m(pid=15052)\u001b[0m reward: -10\n",
      "\u001b[2m\u001b[36m(pid=15052)\u001b[0m 60.6\n",
      "\u001b[2m\u001b[36m(pid=15052)\u001b[0m reward: -10\n",
      "\u001b[2m\u001b[36m(pid=15052)\u001b[0m 34.16\n",
      "\u001b[2m\u001b[36m(pid=15052)\u001b[0m reward: -10\n",
      "\u001b[2m\u001b[36m(pid=15052)\u001b[0m 46.11\n"
     ]
    },
    {
     "name": "stderr",
     "output_type": "stream",
     "text": [
      "\u001b[2m\u001b[36m(pid=15052)\u001b[0m c:\\users\\cig\\anaconda3\\envs\\autofocus\\lib\\site-packages\\imquality\\brisque.py:45: FutureWarning: The behavior of rgb2gray will change in scikit-image 0.19. Currently, rgb2gray allows 2D grayscale image to be passed as inputs and leaves them unmodified as outputs. Starting from version 0.19, 2D arrays will be treated as 1D images with 3 channels.\r\n",
      "\u001b[2m\u001b[36m(pid=15052)\u001b[0m   self.image = skimage.color.rgb2gray(self.image)\r\n"
     ]
    },
    {
     "name": "stdout",
     "output_type": "stream",
     "text": [
      "\u001b[2m\u001b[36m(pid=15052)\u001b[0m reward: -0.03904\n",
      "\u001b[2m\u001b[36m(pid=15052)\u001b[0m 29.33\n",
      "\u001b[2m\u001b[36m(pid=15052)\u001b[0m reward: -10\n",
      "\u001b[2m\u001b[36m(pid=15052)\u001b[0m 64.91\n",
      "\u001b[2m\u001b[36m(pid=15052)\u001b[0m reward: -10\n",
      "\u001b[2m\u001b[36m(pid=15052)\u001b[0m 24.58\n",
      "\u001b[2m\u001b[36m(pid=15052)\u001b[0m reward: -10\n",
      "\u001b[2m\u001b[36m(pid=15052)\u001b[0m 24.32\n",
      "\u001b[2m\u001b[36m(pid=15052)\u001b[0m reward: -10\n",
      "\u001b[2m\u001b[36m(pid=15052)\u001b[0m 45.84\n",
      "\u001b[2m\u001b[36m(pid=15052)\u001b[0m reward: -10\n",
      "\u001b[2m\u001b[36m(pid=15052)\u001b[0m 24.4\n",
      "\u001b[2m\u001b[36m(pid=15052)\u001b[0m reward: -10\n",
      "\u001b[2m\u001b[36m(pid=15052)\u001b[0m 32.64\n",
      "\u001b[2m\u001b[36m(pid=15052)\u001b[0m reward: -10\n",
      "\u001b[2m\u001b[36m(pid=15052)\u001b[0m 24.87\n",
      "\u001b[2m\u001b[36m(pid=15052)\u001b[0m reward: -10\n",
      "\u001b[2m\u001b[36m(pid=15052)\u001b[0m 29.63\n",
      "\u001b[2m\u001b[36m(pid=15052)\u001b[0m reward: -10\n",
      "\u001b[2m\u001b[36m(pid=15052)\u001b[0m 62.72\n",
      "\u001b[2m\u001b[36m(pid=15052)\u001b[0m reward: -10\n",
      "\u001b[2m\u001b[36m(pid=15052)\u001b[0m 24.62\n",
      "\u001b[2m\u001b[36m(pid=15052)\u001b[0m reward: -10\n",
      "\u001b[2m\u001b[36m(pid=15052)\u001b[0m 53.86\n",
      "\u001b[2m\u001b[36m(pid=15052)\u001b[0m reward: -10\n",
      "\u001b[2m\u001b[36m(pid=15052)\u001b[0m 30.78\n",
      "\u001b[2m\u001b[36m(pid=15052)\u001b[0m reward: -10\n",
      "\u001b[2m\u001b[36m(pid=15052)\u001b[0m 24.27\n",
      "\u001b[2m\u001b[36m(pid=15052)\u001b[0m reward: -10\n",
      "\u001b[2m\u001b[36m(pid=15052)\u001b[0m 53.11\n",
      "\u001b[2m\u001b[36m(pid=15052)\u001b[0m reward: -10\n",
      "\u001b[2m\u001b[36m(pid=15052)\u001b[0m 68.35\n",
      "\u001b[2m\u001b[36m(pid=15052)\u001b[0m reward: -10\n",
      "\u001b[2m\u001b[36m(pid=15052)\u001b[0m 37.79\n",
      "\u001b[2m\u001b[36m(pid=15052)\u001b[0m reward: -10\n",
      "\u001b[2m\u001b[36m(pid=15052)\u001b[0m 57.42\n",
      "\u001b[2m\u001b[36m(pid=15052)\u001b[0m reward: -10\n",
      "\u001b[2m\u001b[36m(pid=15052)\u001b[0m 24.71\n",
      "\u001b[2m\u001b[36m(pid=15052)\u001b[0m reward: -10\n",
      "\u001b[2m\u001b[36m(pid=15052)\u001b[0m 24.16\n",
      "\u001b[2m\u001b[36m(pid=15052)\u001b[0m reward: -10\n",
      "\u001b[2m\u001b[36m(pid=15052)\u001b[0m 35.64\n",
      "\u001b[2m\u001b[36m(pid=15052)\u001b[0m reward: -10\n",
      "\u001b[2m\u001b[36m(pid=15052)\u001b[0m 24.14\n",
      "\u001b[2m\u001b[36m(pid=15052)\u001b[0m reward: -10\n",
      "\u001b[2m\u001b[36m(pid=15052)\u001b[0m 64.1\n",
      "\u001b[2m\u001b[36m(pid=15052)\u001b[0m reward: -10\n",
      "\u001b[2m\u001b[36m(pid=15052)\u001b[0m 24.38\n",
      "\u001b[2m\u001b[36m(pid=15052)\u001b[0m reward: -10\n",
      "custom_metrics: {}\n",
      "date: 2021-03-31_16-23-33\n",
      "done: false\n",
      "episode_len_mean: 7.6\n",
      "episode_reward_max: -0.0378\n",
      "episode_reward_mean: -71.42105579999999\n",
      "episode_reward_min: -100.0\n",
      "episodes_this_iter: 16\n",
      "episodes_total: 50\n",
      "experiment_id: f29f35cc3ac947278fbe79a0a7e35ac4\n",
      "hostname: DESKTOP-K2L4N78\n",
      "info:\n",
      "  learner:\n",
      "    default_policy:\n",
      "      cur_kl_coeff: 0.44999998807907104\n",
      "      cur_lr: 0.0002500000118743628\n",
      "      entropy: 8.65693473815918\n",
      "      entropy_coeff: 0.009999999776482582\n",
      "      kl: 0.06647071987390518\n",
      "      model: {}\n",
      "      policy_loss: -0.22625476121902466\n",
      "      total_loss: 2325.24658203125\n",
      "      vf_explained_var: 1.7881393432617188e-07\n",
      "      vf_loss: 2325.529541015625\n",
      "  num_steps_sampled: 384\n",
      "  num_steps_trained: 384\n",
      "iterations_since_restore: 3\n",
      "node_ip: 10.16.102.19\n",
      "num_healthy_workers: 1\n",
      "off_policy_estimator: {}\n",
      "perf:\n",
      "  cpu_util_percent: 6.664880952380952\n",
      "  ram_util_percent: 43.26428571428571\n",
      "pid: 14556\n",
      "policy_reward_max: {}\n",
      "policy_reward_mean: {}\n",
      "policy_reward_min: {}\n",
      "sampler_perf:\n",
      "  mean_action_processing_ms: 0.05414883885712514\n",
      "  mean_env_wait_ms: 4138.576486444487\n",
      "  mean_inference_ms: 0.9520805595126097\n",
      "  mean_raw_obs_processing_ms: 504.9415486673614\n",
      "time_since_restore: 1778.8167598247528\n",
      "time_this_iter_s: 589.1753017902374\n",
      "time_total_s: 1778.8167598247528\n",
      "timers:\n",
      "  learn_throughput: 586.537\n",
      "  learn_time_ms: 218.23\n",
      "  load_throughput: 11989.078\n",
      "  load_time_ms: 10.676\n",
      "  sample_throughput: 0.216\n",
      "  sample_time_ms: 592587.54\n",
      "  update_time_ms: 5.329\n",
      "timestamp: 1617197013\n",
      "timesteps_since_restore: 0\n",
      "timesteps_total: 384\n",
      "training_iteration: 3\n",
      "\n",
      "------- 2 -------\n",
      "\u001b[2m\u001b[36m(pid=15052)\u001b[0m 46.61\n"
     ]
    },
    {
     "name": "stderr",
     "output_type": "stream",
     "text": [
      "\u001b[2m\u001b[36m(pid=15052)\u001b[0m c:\\users\\cig\\anaconda3\\envs\\autofocus\\lib\\site-packages\\imquality\\brisque.py:45: FutureWarning: The behavior of rgb2gray will change in scikit-image 0.19. Currently, rgb2gray allows 2D grayscale image to be passed as inputs and leaves them unmodified as outputs. Starting from version 0.19, 2D arrays will be treated as 1D images with 3 channels.\r\n",
      "\u001b[2m\u001b[36m(pid=15052)\u001b[0m   self.image = skimage.color.rgb2gray(self.image)\r\n"
     ]
    },
    {
     "name": "stdout",
     "output_type": "stream",
     "text": [
      "\u001b[2m\u001b[36m(pid=15052)\u001b[0m reward: -0.03782\n",
      "\u001b[2m\u001b[36m(pid=15052)\u001b[0m 63.2\n",
      "\u001b[2m\u001b[36m(pid=15052)\u001b[0m reward: -10\n",
      "\u001b[2m\u001b[36m(pid=15052)\u001b[0m 45.24\n",
      "\u001b[2m\u001b[36m(pid=15052)\u001b[0m reward: -10\n",
      "\u001b[2m\u001b[36m(pid=15052)\u001b[0m 56.45\n",
      "\u001b[2m\u001b[36m(pid=15052)\u001b[0m reward: -10\n",
      "\u001b[2m\u001b[36m(pid=15052)\u001b[0m 46.84\n"
     ]
    },
    {
     "name": "stderr",
     "output_type": "stream",
     "text": [
      "\u001b[2m\u001b[36m(pid=15052)\u001b[0m c:\\users\\cig\\anaconda3\\envs\\autofocus\\lib\\site-packages\\imquality\\brisque.py:45: FutureWarning: The behavior of rgb2gray will change in scikit-image 0.19. Currently, rgb2gray allows 2D grayscale image to be passed as inputs and leaves them unmodified as outputs. Starting from version 0.19, 2D arrays will be treated as 1D images with 3 channels.\r\n",
      "\u001b[2m\u001b[36m(pid=15052)\u001b[0m   self.image = skimage.color.rgb2gray(self.image)\r\n"
     ]
    },
    {
     "name": "stdout",
     "output_type": "stream",
     "text": [
      "\u001b[2m\u001b[36m(pid=15052)\u001b[0m reward: -0.05118\n",
      "\u001b[2m\u001b[36m(pid=15052)\u001b[0m 24.32\n",
      "\u001b[2m\u001b[36m(pid=15052)\u001b[0m reward: -10\n",
      "\u001b[2m\u001b[36m(pid=15052)\u001b[0m 47.55\n"
     ]
    },
    {
     "name": "stderr",
     "output_type": "stream",
     "text": [
      "\u001b[2m\u001b[36m(pid=15052)\u001b[0m c:\\users\\cig\\anaconda3\\envs\\autofocus\\lib\\site-packages\\imquality\\brisque.py:45: FutureWarning: The behavior of rgb2gray will change in scikit-image 0.19. Currently, rgb2gray allows 2D grayscale image to be passed as inputs and leaves them unmodified as outputs. Starting from version 0.19, 2D arrays will be treated as 1D images with 3 channels.\r\n",
      "\u001b[2m\u001b[36m(pid=15052)\u001b[0m   self.image = skimage.color.rgb2gray(self.image)\r\n"
     ]
    },
    {
     "name": "stdout",
     "output_type": "stream",
     "text": [
      "\u001b[2m\u001b[36m(pid=15052)\u001b[0m reward: -0.02888\n",
      "\u001b[2m\u001b[36m(pid=15052)\u001b[0m 51.24\n",
      "\u001b[2m\u001b[36m(pid=15052)\u001b[0m reward: -10\n",
      "\u001b[2m\u001b[36m(pid=15052)\u001b[0m 32.37\n",
      "\u001b[2m\u001b[36m(pid=15052)\u001b[0m reward: -10\n",
      "\u001b[2m\u001b[36m(pid=15052)\u001b[0m 48.6\n"
     ]
    },
    {
     "name": "stderr",
     "output_type": "stream",
     "text": [
      "\u001b[2m\u001b[36m(pid=15052)\u001b[0m c:\\users\\cig\\anaconda3\\envs\\autofocus\\lib\\site-packages\\imquality\\brisque.py:45: FutureWarning: The behavior of rgb2gray will change in scikit-image 0.19. Currently, rgb2gray allows 2D grayscale image to be passed as inputs and leaves them unmodified as outputs. Starting from version 0.19, 2D arrays will be treated as 1D images with 3 channels.\r\n",
      "\u001b[2m\u001b[36m(pid=15052)\u001b[0m   self.image = skimage.color.rgb2gray(self.image)\r\n"
     ]
    },
    {
     "name": "stdout",
     "output_type": "stream",
     "text": [
      "\u001b[2m\u001b[36m(pid=15052)\u001b[0m reward: -0.05607\n",
      "\u001b[2m\u001b[36m(pid=15052)\u001b[0m 61.0\n",
      "\u001b[2m\u001b[36m(pid=15052)\u001b[0m reward: -10\n",
      "\u001b[2m\u001b[36m(pid=15052)\u001b[0m 62.65\n",
      "\u001b[2m\u001b[36m(pid=15052)\u001b[0m reward: -10\n",
      "\u001b[2m\u001b[36m(pid=15052)\u001b[0m 33.94\n",
      "\u001b[2m\u001b[36m(pid=15052)\u001b[0m reward: -10\n",
      "\u001b[2m\u001b[36m(pid=15052)\u001b[0m 24.87\n",
      "\u001b[2m\u001b[36m(pid=15052)\u001b[0m reward: -10\n",
      "\u001b[2m\u001b[36m(pid=15052)\u001b[0m 24.41\n",
      "\u001b[2m\u001b[36m(pid=15052)\u001b[0m reward: -10\n",
      "\u001b[2m\u001b[36m(pid=15052)\u001b[0m 65.5\n",
      "\u001b[2m\u001b[36m(pid=15052)\u001b[0m reward: -10\n",
      "\u001b[2m\u001b[36m(pid=15052)\u001b[0m 43.89\n",
      "\u001b[2m\u001b[36m(pid=15052)\u001b[0m reward: -10\n",
      "\u001b[2m\u001b[36m(pid=15052)\u001b[0m 42.75\n",
      "\u001b[2m\u001b[36m(pid=15052)\u001b[0m reward: -10\n",
      "\u001b[2m\u001b[36m(pid=15052)\u001b[0m 24.65\n",
      "\u001b[2m\u001b[36m(pid=15052)\u001b[0m reward: -10\n",
      "\u001b[2m\u001b[36m(pid=15052)\u001b[0m 24.68\n",
      "\u001b[2m\u001b[36m(pid=15052)\u001b[0m reward: -10\n",
      "\u001b[2m\u001b[36m(pid=15052)\u001b[0m 42.19\n",
      "\u001b[2m\u001b[36m(pid=15052)\u001b[0m reward: -10\n",
      "\u001b[2m\u001b[36m(pid=15052)\u001b[0m 30.85\n",
      "\u001b[2m\u001b[36m(pid=15052)\u001b[0m reward: -10\n",
      "\u001b[2m\u001b[36m(pid=15052)\u001b[0m 24.8\n",
      "\u001b[2m\u001b[36m(pid=15052)\u001b[0m reward: -10\n",
      "\u001b[2m\u001b[36m(pid=15052)\u001b[0m 56.69\n",
      "\u001b[2m\u001b[36m(pid=15052)\u001b[0m reward: -10\n",
      "\u001b[2m\u001b[36m(pid=15052)\u001b[0m 68.79\n",
      "\u001b[2m\u001b[36m(pid=15052)\u001b[0m reward: -10\n",
      "\u001b[2m\u001b[36m(pid=15052)\u001b[0m 56.71\n",
      "\u001b[2m\u001b[36m(pid=15052)\u001b[0m reward: -10\n",
      "\u001b[2m\u001b[36m(pid=15052)\u001b[0m 46.61\n"
     ]
    },
    {
     "name": "stderr",
     "output_type": "stream",
     "text": [
      "\u001b[2m\u001b[36m(pid=15052)\u001b[0m c:\\users\\cig\\anaconda3\\envs\\autofocus\\lib\\site-packages\\imquality\\brisque.py:45: FutureWarning: The behavior of rgb2gray will change in scikit-image 0.19. Currently, rgb2gray allows 2D grayscale image to be passed as inputs and leaves them unmodified as outputs. Starting from version 0.19, 2D arrays will be treated as 1D images with 3 channels.\r\n",
      "\u001b[2m\u001b[36m(pid=15052)\u001b[0m   self.image = skimage.color.rgb2gray(self.image)\r\n"
     ]
    },
    {
     "name": "stdout",
     "output_type": "stream",
     "text": [
      "\u001b[2m\u001b[36m(pid=15052)\u001b[0m reward: -0.040799999999999996\n",
      "\u001b[2m\u001b[36m(pid=15052)\u001b[0m 63.0\n",
      "\u001b[2m\u001b[36m(pid=15052)\u001b[0m reward: -10\n",
      "\u001b[2m\u001b[36m(pid=15052)\u001b[0m 34.92\n",
      "\u001b[2m\u001b[36m(pid=15052)\u001b[0m reward: -10\n",
      "\u001b[2m\u001b[36m(pid=15052)\u001b[0m 24.49\n",
      "\u001b[2m\u001b[36m(pid=15052)\u001b[0m reward: -10\n",
      "\u001b[2m\u001b[36m(pid=15052)\u001b[0m 61.35\n",
      "\u001b[2m\u001b[36m(pid=15052)\u001b[0m reward: -10\n",
      "\u001b[2m\u001b[36m(pid=15052)\u001b[0m 26.54\n",
      "\u001b[2m\u001b[36m(pid=15052)\u001b[0m reward: -10\n",
      "\u001b[2m\u001b[36m(pid=15052)\u001b[0m 50.71\n",
      "\u001b[2m\u001b[36m(pid=15052)\u001b[0m reward: -10\n",
      "\u001b[2m\u001b[36m(pid=15052)\u001b[0m 24.15\n",
      "\u001b[2m\u001b[36m(pid=15052)\u001b[0m reward: -10\n",
      "\u001b[2m\u001b[36m(pid=15052)\u001b[0m 24.21\n",
      "\u001b[2m\u001b[36m(pid=15052)\u001b[0m reward: -10\n",
      "\u001b[2m\u001b[36m(pid=15052)\u001b[0m 53.29\n",
      "\u001b[2m\u001b[36m(pid=15052)\u001b[0m reward: -10\n",
      "\u001b[2m\u001b[36m(pid=15052)\u001b[0m 24.21\n",
      "\u001b[2m\u001b[36m(pid=15052)\u001b[0m reward: -10\n",
      "\u001b[2m\u001b[36m(pid=15052)\u001b[0m 27.35\n",
      "\u001b[2m\u001b[36m(pid=15052)\u001b[0m reward: -10\n",
      "\u001b[2m\u001b[36m(pid=15052)\u001b[0m 59.77\n",
      "\u001b[2m\u001b[36m(pid=15052)\u001b[0m reward: -10\n",
      "\u001b[2m\u001b[36m(pid=15052)\u001b[0m 47.81\n"
     ]
    },
    {
     "name": "stderr",
     "output_type": "stream",
     "text": [
      "\u001b[2m\u001b[36m(pid=15052)\u001b[0m c:\\users\\cig\\anaconda3\\envs\\autofocus\\lib\\site-packages\\imquality\\brisque.py:45: FutureWarning: The behavior of rgb2gray will change in scikit-image 0.19. Currently, rgb2gray allows 2D grayscale image to be passed as inputs and leaves them unmodified as outputs. Starting from version 0.19, 2D arrays will be treated as 1D images with 3 channels.\r\n",
      "\u001b[2m\u001b[36m(pid=15052)\u001b[0m   self.image = skimage.color.rgb2gray(self.image)\r\n"
     ]
    },
    {
     "name": "stdout",
     "output_type": "stream",
     "text": [
      "\u001b[2m\u001b[36m(pid=15052)\u001b[0m reward: -0.02041\n",
      "\u001b[2m\u001b[36m(pid=15052)\u001b[0m 24.8\n",
      "\u001b[2m\u001b[36m(pid=15052)\u001b[0m reward: -10\n",
      "\u001b[2m\u001b[36m(pid=15052)\u001b[0m 61.85\n",
      "\u001b[2m\u001b[36m(pid=15052)\u001b[0m reward: -10\n",
      "\u001b[2m\u001b[36m(pid=15052)\u001b[0m 29.32\n",
      "\u001b[2m\u001b[36m(pid=15052)\u001b[0m reward: -10\n",
      "\u001b[2m\u001b[36m(pid=15052)\u001b[0m 46.16\n"
     ]
    },
    {
     "name": "stderr",
     "output_type": "stream",
     "text": [
      "\u001b[2m\u001b[36m(pid=15052)\u001b[0m c:\\users\\cig\\anaconda3\\envs\\autofocus\\lib\\site-packages\\imquality\\brisque.py:45: FutureWarning: The behavior of rgb2gray will change in scikit-image 0.19. Currently, rgb2gray allows 2D grayscale image to be passed as inputs and leaves them unmodified as outputs. Starting from version 0.19, 2D arrays will be treated as 1D images with 3 channels.\r\n",
      "\u001b[2m\u001b[36m(pid=15052)\u001b[0m   self.image = skimage.color.rgb2gray(self.image)\r\n"
     ]
    },
    {
     "name": "stdout",
     "output_type": "stream",
     "text": [
      "\u001b[2m\u001b[36m(pid=15052)\u001b[0m reward: -0.04447\n",
      "\u001b[2m\u001b[36m(pid=15052)\u001b[0m 31.75\n",
      "\u001b[2m\u001b[36m(pid=15052)\u001b[0m reward: -10\n",
      "\u001b[2m\u001b[36m(pid=15052)\u001b[0m 24.1\n",
      "\u001b[2m\u001b[36m(pid=15052)\u001b[0m reward: -10\n",
      "\u001b[2m\u001b[36m(pid=15052)\u001b[0m 47.12\n"
     ]
    },
    {
     "name": "stderr",
     "output_type": "stream",
     "text": [
      "\u001b[2m\u001b[36m(pid=15052)\u001b[0m c:\\users\\cig\\anaconda3\\envs\\autofocus\\lib\\site-packages\\imquality\\brisque.py:45: FutureWarning: The behavior of rgb2gray will change in scikit-image 0.19. Currently, rgb2gray allows 2D grayscale image to be passed as inputs and leaves them unmodified as outputs. Starting from version 0.19, 2D arrays will be treated as 1D images with 3 channels.\r\n",
      "\u001b[2m\u001b[36m(pid=15052)\u001b[0m   self.image = skimage.color.rgb2gray(self.image)\r\n"
     ]
    },
    {
     "name": "stdout",
     "output_type": "stream",
     "text": [
      "\u001b[2m\u001b[36m(pid=15052)\u001b[0m reward: -0.05303\n",
      "\u001b[2m\u001b[36m(pid=15052)\u001b[0m 24.47\n",
      "\u001b[2m\u001b[36m(pid=15052)\u001b[0m reward: -10\n",
      "\u001b[2m\u001b[36m(pid=15052)\u001b[0m 41.18\n",
      "\u001b[2m\u001b[36m(pid=15052)\u001b[0m reward: -10\n",
      "\u001b[2m\u001b[36m(pid=15052)\u001b[0m 59.93\n",
      "\u001b[2m\u001b[36m(pid=15052)\u001b[0m reward: -10\n",
      "\u001b[2m\u001b[36m(pid=15052)\u001b[0m 24.44\n",
      "\u001b[2m\u001b[36m(pid=15052)\u001b[0m reward: -10\n",
      "\u001b[2m\u001b[36m(pid=15052)\u001b[0m 24.49\n",
      "\u001b[2m\u001b[36m(pid=15052)\u001b[0m reward: -10\n",
      "\u001b[2m\u001b[36m(pid=15052)\u001b[0m 67.79\n",
      "\u001b[2m\u001b[36m(pid=15052)\u001b[0m reward: -10\n",
      "\u001b[2m\u001b[36m(pid=15052)\u001b[0m 51.79\n",
      "\u001b[2m\u001b[36m(pid=15052)\u001b[0m reward: -10\n",
      "\u001b[2m\u001b[36m(pid=15052)\u001b[0m 45.3\n",
      "\u001b[2m\u001b[36m(pid=15052)\u001b[0m reward: -10\n",
      "\u001b[2m\u001b[36m(pid=15052)\u001b[0m 67.15\n",
      "\u001b[2m\u001b[36m(pid=15052)\u001b[0m reward: -10\n",
      "\u001b[2m\u001b[36m(pid=15052)\u001b[0m 24.5\n",
      "\u001b[2m\u001b[36m(pid=15052)\u001b[0m reward: -10\n",
      "\u001b[2m\u001b[36m(pid=15052)\u001b[0m 24.8\n",
      "\u001b[2m\u001b[36m(pid=15052)\u001b[0m reward: -10\n",
      "\u001b[2m\u001b[36m(pid=15052)\u001b[0m 57.86\n",
      "\u001b[2m\u001b[36m(pid=15052)\u001b[0m reward: -10\n",
      "\u001b[2m\u001b[36m(pid=15052)\u001b[0m 61.9\n",
      "\u001b[2m\u001b[36m(pid=15052)\u001b[0m reward: -10\n",
      "\u001b[2m\u001b[36m(pid=15052)\u001b[0m 46.87\n"
     ]
    },
    {
     "name": "stderr",
     "output_type": "stream",
     "text": [
      "\u001b[2m\u001b[36m(pid=15052)\u001b[0m c:\\users\\cig\\anaconda3\\envs\\autofocus\\lib\\site-packages\\imquality\\brisque.py:45: FutureWarning: The behavior of rgb2gray will change in scikit-image 0.19. Currently, rgb2gray allows 2D grayscale image to be passed as inputs and leaves them unmodified as outputs. Starting from version 0.19, 2D arrays will be treated as 1D images with 3 channels.\r\n",
      "\u001b[2m\u001b[36m(pid=15052)\u001b[0m   self.image = skimage.color.rgb2gray(self.image)\r\n"
     ]
    },
    {
     "name": "stdout",
     "output_type": "stream",
     "text": [
      "\u001b[2m\u001b[36m(pid=15052)\u001b[0m reward: -0.0429\n",
      "\u001b[2m\u001b[36m(pid=15052)\u001b[0m 24.38\n",
      "\u001b[2m\u001b[36m(pid=15052)\u001b[0m reward: -10\n",
      "\u001b[2m\u001b[36m(pid=15052)\u001b[0m 24.36\n",
      "\u001b[2m\u001b[36m(pid=15052)\u001b[0m reward: -10\n",
      "\u001b[2m\u001b[36m(pid=15052)\u001b[0m 24.67\n",
      "\u001b[2m\u001b[36m(pid=15052)\u001b[0m reward: -10\n",
      "\u001b[2m\u001b[36m(pid=15052)\u001b[0m 43.27\n",
      "\u001b[2m\u001b[36m(pid=15052)\u001b[0m reward: -10\n",
      "\u001b[2m\u001b[36m(pid=15052)\u001b[0m 52.71\n",
      "\u001b[2m\u001b[36m(pid=15052)\u001b[0m reward: -10\n",
      "\u001b[2m\u001b[36m(pid=15052)\u001b[0m 31.63\n",
      "\u001b[2m\u001b[36m(pid=15052)\u001b[0m reward: -10\n",
      "\u001b[2m\u001b[36m(pid=15052)\u001b[0m 53.66\n",
      "\u001b[2m\u001b[36m(pid=15052)\u001b[0m reward: -10\n",
      "\u001b[2m\u001b[36m(pid=15052)\u001b[0m 61.32\n",
      "\u001b[2m\u001b[36m(pid=15052)\u001b[0m reward: -10\n",
      "\u001b[2m\u001b[36m(pid=15052)\u001b[0m 60.7\n",
      "\u001b[2m\u001b[36m(pid=15052)\u001b[0m reward: -10\n",
      "\u001b[2m\u001b[36m(pid=15052)\u001b[0m 55.1\n",
      "\u001b[2m\u001b[36m(pid=15052)\u001b[0m reward: -10\n",
      "\u001b[2m\u001b[36m(pid=15052)\u001b[0m 66.61\n",
      "\u001b[2m\u001b[36m(pid=15052)\u001b[0m reward: -10\n",
      "\u001b[2m\u001b[36m(pid=15052)\u001b[0m 24.95\n",
      "\u001b[2m\u001b[36m(pid=15052)\u001b[0m reward: -10\n",
      "\u001b[2m\u001b[36m(pid=15052)\u001b[0m 24.66\n",
      "\u001b[2m\u001b[36m(pid=15052)\u001b[0m reward: -10\n",
      "\u001b[2m\u001b[36m(pid=15052)\u001b[0m 24.25\n",
      "\u001b[2m\u001b[36m(pid=15052)\u001b[0m reward: -10\n",
      "\u001b[2m\u001b[36m(pid=15052)\u001b[0m 24.45\n",
      "\u001b[2m\u001b[36m(pid=15052)\u001b[0m reward: -10\n",
      "\u001b[2m\u001b[36m(pid=15052)\u001b[0m 35.9\n",
      "\u001b[2m\u001b[36m(pid=15052)\u001b[0m reward: -10\n",
      "\u001b[2m\u001b[36m(pid=15052)\u001b[0m 46.1\n"
     ]
    },
    {
     "name": "stderr",
     "output_type": "stream",
     "text": [
      "\u001b[2m\u001b[36m(pid=15052)\u001b[0m c:\\users\\cig\\anaconda3\\envs\\autofocus\\lib\\site-packages\\imquality\\brisque.py:45: FutureWarning: The behavior of rgb2gray will change in scikit-image 0.19. Currently, rgb2gray allows 2D grayscale image to be passed as inputs and leaves them unmodified as outputs. Starting from version 0.19, 2D arrays will be treated as 1D images with 3 channels.\r\n",
      "\u001b[2m\u001b[36m(pid=15052)\u001b[0m   self.image = skimage.color.rgb2gray(self.image)\r\n"
     ]
    },
    {
     "name": "stdout",
     "output_type": "stream",
     "text": [
      "\u001b[2m\u001b[36m(pid=15052)\u001b[0m reward: -0.03646\n",
      "\u001b[2m\u001b[36m(pid=15052)\u001b[0m 24.3\n",
      "\u001b[2m\u001b[36m(pid=15052)\u001b[0m reward: -10\n",
      "\u001b[2m\u001b[36m(pid=15052)\u001b[0m 24.18\n",
      "\u001b[2m\u001b[36m(pid=15052)\u001b[0m reward: -10\n",
      "\u001b[2m\u001b[36m(pid=15052)\u001b[0m 47.45\n"
     ]
    },
    {
     "name": "stderr",
     "output_type": "stream",
     "text": [
      "\u001b[2m\u001b[36m(pid=15052)\u001b[0m c:\\users\\cig\\anaconda3\\envs\\autofocus\\lib\\site-packages\\imquality\\brisque.py:45: FutureWarning: The behavior of rgb2gray will change in scikit-image 0.19. Currently, rgb2gray allows 2D grayscale image to be passed as inputs and leaves them unmodified as outputs. Starting from version 0.19, 2D arrays will be treated as 1D images with 3 channels.\r\n",
      "\u001b[2m\u001b[36m(pid=15052)\u001b[0m   self.image = skimage.color.rgb2gray(self.image)\r\n"
     ]
    },
    {
     "name": "stdout",
     "output_type": "stream",
     "text": [
      "\u001b[2m\u001b[36m(pid=15052)\u001b[0m reward: -0.04297\n",
      "\u001b[2m\u001b[36m(pid=15052)\u001b[0m 65.26\n",
      "\u001b[2m\u001b[36m(pid=15052)\u001b[0m reward: -10\n",
      "\u001b[2m\u001b[36m(pid=15052)\u001b[0m 56.21\n",
      "\u001b[2m\u001b[36m(pid=15052)\u001b[0m reward: -10\n",
      "\u001b[2m\u001b[36m(pid=15052)\u001b[0m 41.0\n",
      "\u001b[2m\u001b[36m(pid=15052)\u001b[0m reward: -10\n",
      "\u001b[2m\u001b[36m(pid=15052)\u001b[0m 51.56\n",
      "\u001b[2m\u001b[36m(pid=15052)\u001b[0m reward: -10\n",
      "\u001b[2m\u001b[36m(pid=15052)\u001b[0m 24.0\n",
      "\u001b[2m\u001b[36m(pid=15052)\u001b[0m reward: -10\n",
      "\u001b[2m\u001b[36m(pid=15052)\u001b[0m 24.1\n",
      "\u001b[2m\u001b[36m(pid=15052)\u001b[0m reward: -10\n",
      "\u001b[2m\u001b[36m(pid=15052)\u001b[0m 49.73\n"
     ]
    },
    {
     "name": "stderr",
     "output_type": "stream",
     "text": [
      "\u001b[2m\u001b[36m(pid=15052)\u001b[0m c:\\users\\cig\\anaconda3\\envs\\autofocus\\lib\\site-packages\\imquality\\brisque.py:45: FutureWarning: The behavior of rgb2gray will change in scikit-image 0.19. Currently, rgb2gray allows 2D grayscale image to be passed as inputs and leaves them unmodified as outputs. Starting from version 0.19, 2D arrays will be treated as 1D images with 3 channels.\r\n",
      "\u001b[2m\u001b[36m(pid=15052)\u001b[0m   self.image = skimage.color.rgb2gray(self.image)\r\n"
     ]
    },
    {
     "name": "stdout",
     "output_type": "stream",
     "text": [
      "\u001b[2m\u001b[36m(pid=15052)\u001b[0m reward: -0.046700000000000005\n",
      "\u001b[2m\u001b[36m(pid=15052)\u001b[0m 24.2\n",
      "\u001b[2m\u001b[36m(pid=15052)\u001b[0m reward: -10\n",
      "\u001b[2m\u001b[36m(pid=15052)\u001b[0m 64.97\n",
      "\u001b[2m\u001b[36m(pid=15052)\u001b[0m reward: -10\n",
      "\u001b[2m\u001b[36m(pid=15052)\u001b[0m 65.27\n",
      "\u001b[2m\u001b[36m(pid=15052)\u001b[0m reward: -10\n",
      "\u001b[2m\u001b[36m(pid=15052)\u001b[0m 51.32\n",
      "\u001b[2m\u001b[36m(pid=15052)\u001b[0m reward: -10\n",
      "\u001b[2m\u001b[36m(pid=15052)\u001b[0m 68.55\n",
      "\u001b[2m\u001b[36m(pid=15052)\u001b[0m reward: -10\n",
      "\u001b[2m\u001b[36m(pid=15052)\u001b[0m 41.52\n",
      "\u001b[2m\u001b[36m(pid=15052)\u001b[0m reward: -10\n",
      "\u001b[2m\u001b[36m(pid=15052)\u001b[0m 44.71\n",
      "\u001b[2m\u001b[36m(pid=15052)\u001b[0m reward: -10\n",
      "\u001b[2m\u001b[36m(pid=15052)\u001b[0m 56.55\n",
      "\u001b[2m\u001b[36m(pid=15052)\u001b[0m reward: -10\n",
      "\u001b[2m\u001b[36m(pid=15052)\u001b[0m 24.57\n",
      "\u001b[2m\u001b[36m(pid=15052)\u001b[0m reward: -10\n",
      "\u001b[2m\u001b[36m(pid=15052)\u001b[0m 51.25\n",
      "\u001b[2m\u001b[36m(pid=15052)\u001b[0m reward: -10\n",
      "\u001b[2m\u001b[36m(pid=15052)\u001b[0m 24.13\n",
      "\u001b[2m\u001b[36m(pid=15052)\u001b[0m reward: -10\n",
      "\u001b[2m\u001b[36m(pid=15052)\u001b[0m 52.29\n",
      "\u001b[2m\u001b[36m(pid=15052)\u001b[0m reward: -10\n",
      "\u001b[2m\u001b[36m(pid=15052)\u001b[0m 62.4\n",
      "\u001b[2m\u001b[36m(pid=15052)\u001b[0m reward: -10\n",
      "\u001b[2m\u001b[36m(pid=15052)\u001b[0m 31.3\n",
      "\u001b[2m\u001b[36m(pid=15052)\u001b[0m reward: -10\n",
      "\u001b[2m\u001b[36m(pid=15052)\u001b[0m 45.47\n",
      "\u001b[2m\u001b[36m(pid=15052)\u001b[0m reward: -10\n",
      "\u001b[2m\u001b[36m(pid=15052)\u001b[0m 24.55\n",
      "\u001b[2m\u001b[36m(pid=15052)\u001b[0m reward: -10\n",
      "\u001b[2m\u001b[36m(pid=15052)\u001b[0m 24.86\n",
      "\u001b[2m\u001b[36m(pid=15052)\u001b[0m reward: -10\n",
      "\u001b[2m\u001b[36m(pid=15052)\u001b[0m 24.69\n",
      "\u001b[2m\u001b[36m(pid=15052)\u001b[0m reward: -10\n",
      "\u001b[2m\u001b[36m(pid=15052)\u001b[0m 52.56\n",
      "\u001b[2m\u001b[36m(pid=15052)\u001b[0m reward: -10\n",
      "\u001b[2m\u001b[36m(pid=15052)\u001b[0m 62.17\n",
      "\u001b[2m\u001b[36m(pid=15052)\u001b[0m reward: -10\n",
      "\u001b[2m\u001b[36m(pid=15052)\u001b[0m 60.83\n",
      "\u001b[2m\u001b[36m(pid=15052)\u001b[0m reward: -10\n",
      "\u001b[2m\u001b[36m(pid=15052)\u001b[0m 52.11\n",
      "\u001b[2m\u001b[36m(pid=15052)\u001b[0m reward: -10\n",
      "\u001b[2m\u001b[36m(pid=15052)\u001b[0m 29.75\n",
      "\u001b[2m\u001b[36m(pid=15052)\u001b[0m reward: -10\n",
      "\u001b[2m\u001b[36m(pid=15052)\u001b[0m 32.85\n",
      "\u001b[2m\u001b[36m(pid=15052)\u001b[0m reward: -10\n",
      "\u001b[2m\u001b[36m(pid=15052)\u001b[0m 25.27\n",
      "\u001b[2m\u001b[36m(pid=15052)\u001b[0m reward: -10\n",
      "\u001b[2m\u001b[36m(pid=15052)\u001b[0m 49.23\n"
     ]
    },
    {
     "name": "stderr",
     "output_type": "stream",
     "text": [
      "\u001b[2m\u001b[36m(pid=15052)\u001b[0m c:\\users\\cig\\anaconda3\\envs\\autofocus\\lib\\site-packages\\imquality\\brisque.py:45: FutureWarning: The behavior of rgb2gray will change in scikit-image 0.19. Currently, rgb2gray allows 2D grayscale image to be passed as inputs and leaves them unmodified as outputs. Starting from version 0.19, 2D arrays will be treated as 1D images with 3 channels.\r\n",
      "\u001b[2m\u001b[36m(pid=15052)\u001b[0m   self.image = skimage.color.rgb2gray(self.image)\r\n"
     ]
    },
    {
     "name": "stdout",
     "output_type": "stream",
     "text": [
      "\u001b[2m\u001b[36m(pid=15052)\u001b[0m reward: -0.04623\n",
      "\u001b[2m\u001b[36m(pid=15052)\u001b[0m 24.12\n",
      "\u001b[2m\u001b[36m(pid=15052)\u001b[0m reward: -10\n",
      "\u001b[2m\u001b[36m(pid=15052)\u001b[0m 24.89\n",
      "\u001b[2m\u001b[36m(pid=15052)\u001b[0m reward: -10\n",
      "\u001b[2m\u001b[36m(pid=15052)\u001b[0m 48.6\n"
     ]
    },
    {
     "name": "stderr",
     "output_type": "stream",
     "text": [
      "\u001b[2m\u001b[36m(pid=15052)\u001b[0m c:\\users\\cig\\anaconda3\\envs\\autofocus\\lib\\site-packages\\imquality\\brisque.py:45: FutureWarning: The behavior of rgb2gray will change in scikit-image 0.19. Currently, rgb2gray allows 2D grayscale image to be passed as inputs and leaves them unmodified as outputs. Starting from version 0.19, 2D arrays will be treated as 1D images with 3 channels.\r\n",
      "\u001b[2m\u001b[36m(pid=15052)\u001b[0m   self.image = skimage.color.rgb2gray(self.image)\r\n"
     ]
    },
    {
     "name": "stdout",
     "output_type": "stream",
     "text": [
      "\u001b[2m\u001b[36m(pid=15052)\u001b[0m reward: -0.061090000000000005\n",
      "\u001b[2m\u001b[36m(pid=15052)\u001b[0m 24.26\n",
      "\u001b[2m\u001b[36m(pid=15052)\u001b[0m reward: -10\n",
      "\u001b[2m\u001b[36m(pid=15052)\u001b[0m 28.93\n",
      "\u001b[2m\u001b[36m(pid=15052)\u001b[0m reward: -10\n",
      "\u001b[2m\u001b[36m(pid=15052)\u001b[0m 24.39\n",
      "\u001b[2m\u001b[36m(pid=15052)\u001b[0m reward: -10\n",
      "\u001b[2m\u001b[36m(pid=15052)\u001b[0m 64.5\n",
      "\u001b[2m\u001b[36m(pid=15052)\u001b[0m reward: -10\n",
      "\u001b[2m\u001b[36m(pid=15052)\u001b[0m 39.52\n",
      "\u001b[2m\u001b[36m(pid=15052)\u001b[0m reward: -10\n",
      "\u001b[2m\u001b[36m(pid=15052)\u001b[0m 27.77\n",
      "\u001b[2m\u001b[36m(pid=15052)\u001b[0m reward: -10\n",
      "\u001b[2m\u001b[36m(pid=15052)\u001b[0m 24.43\n",
      "\u001b[2m\u001b[36m(pid=15052)\u001b[0m reward: -10\n",
      "\u001b[2m\u001b[36m(pid=15052)\u001b[0m 24.1\n",
      "\u001b[2m\u001b[36m(pid=15052)\u001b[0m reward: -10\n",
      "\u001b[2m\u001b[36m(pid=15052)\u001b[0m 24.28\n",
      "\u001b[2m\u001b[36m(pid=15052)\u001b[0m reward: -10\n",
      "\u001b[2m\u001b[36m(pid=15052)\u001b[0m 44.47\n",
      "\u001b[2m\u001b[36m(pid=15052)\u001b[0m reward: -10\n",
      "\u001b[2m\u001b[36m(pid=15052)\u001b[0m 24.3\n",
      "\u001b[2m\u001b[36m(pid=15052)\u001b[0m reward: -10\n",
      "custom_metrics: {}\n",
      "date: 2021-03-31_16-33-41\n",
      "done: false\n",
      "episode_len_mean: 7.197183098591549\n",
      "episode_reward_max: -0.0378\n",
      "episode_reward_mean: -66.7839690140845\n",
      "episode_reward_min: -100.0\n",
      "episodes_this_iter: 21\n",
      "episodes_total: 71\n",
      "experiment_id: f29f35cc3ac947278fbe79a0a7e35ac4\n",
      "hostname: DESKTOP-K2L4N78\n",
      "info:\n",
      "  learner:\n",
      "    default_policy:\n",
      "      cur_kl_coeff: 0.675000011920929\n",
      "      cur_lr: 0.0002500000118743628\n",
      "      entropy: 8.605475425720215\n",
      "      entropy_coeff: 0.009999999776482582\n",
      "      kl: 0.036692116409540176\n",
      "      model: {}\n",
      "      policy_loss: -0.21643197536468506\n",
      "      total_loss: 1743.671142578125\n",
      "      vf_explained_var: 5.960464477539063e-08\n",
      "      vf_loss: 1743.94873046875\n",
      "  num_steps_sampled: 512\n",
      "  num_steps_trained: 512\n",
      "iterations_since_restore: 4\n",
      "node_ip: 10.16.102.19\n",
      "num_healthy_workers: 1\n",
      "off_policy_estimator: {}\n",
      "perf:\n",
      "  cpu_util_percent: 7.227912341407151\n",
      "  ram_util_percent: 44.05294117647058\n",
      "pid: 14556\n",
      "policy_reward_max: {}\n",
      "policy_reward_mean: {}\n",
      "policy_reward_min: {}\n",
      "sampler_perf:\n",
      "  mean_action_processing_ms: 0.05312971207463323\n",
      "  mean_env_wait_ms: 4138.761771420821\n",
      "  mean_inference_ms: 0.9334257198117475\n",
      "  mean_raw_obs_processing_ms: 506.3679104644593\n",
      "time_since_restore: 2386.7423033714294\n",
      "time_this_iter_s: 607.9255435466766\n",
      "time_total_s: 2386.7423033714294\n",
      "timers:\n",
      "  learn_throughput: 628.455\n",
      "  learn_time_ms: 203.674\n",
      "  load_throughput: 15985.437\n",
      "  load_time_ms: 8.007\n",
      "  sample_throughput: 0.215\n",
      "  sample_time_ms: 596354.795\n",
      "  update_time_ms: 5.496\n",
      "timestamp: 1617197621\n",
      "timesteps_since_restore: 0\n",
      "timesteps_total: 512\n",
      "training_iteration: 4\n",
      "\n",
      "------- 3 -------\n",
      "\u001b[2m\u001b[36m(pid=15052)\u001b[0m 28.87\n",
      "\u001b[2m\u001b[36m(pid=15052)\u001b[0m reward: -10\n",
      "\u001b[2m\u001b[36m(pid=15052)\u001b[0m 24.77\n",
      "\u001b[2m\u001b[36m(pid=15052)\u001b[0m reward: -10\n",
      "\u001b[2m\u001b[36m(pid=15052)\u001b[0m 45.19\n",
      "\u001b[2m\u001b[36m(pid=15052)\u001b[0m reward: -10\n",
      "\u001b[2m\u001b[36m(pid=15052)\u001b[0m 24.64\n",
      "\u001b[2m\u001b[36m(pid=15052)\u001b[0m reward: -10\n",
      "\u001b[2m\u001b[36m(pid=15052)\u001b[0m 47.51\n"
     ]
    },
    {
     "name": "stderr",
     "output_type": "stream",
     "text": [
      "\u001b[2m\u001b[36m(pid=15052)\u001b[0m c:\\users\\cig\\anaconda3\\envs\\autofocus\\lib\\site-packages\\imquality\\brisque.py:45: FutureWarning: The behavior of rgb2gray will change in scikit-image 0.19. Currently, rgb2gray allows 2D grayscale image to be passed as inputs and leaves them unmodified as outputs. Starting from version 0.19, 2D arrays will be treated as 1D images with 3 channels.\r\n",
      "\u001b[2m\u001b[36m(pid=15052)\u001b[0m   self.image = skimage.color.rgb2gray(self.image)\r\n"
     ]
    },
    {
     "name": "stdout",
     "output_type": "stream",
     "text": [
      "\u001b[2m\u001b[36m(pid=15052)\u001b[0m reward: -0.03463\n",
      "\u001b[2m\u001b[36m(pid=15052)\u001b[0m 45.21\n",
      "\u001b[2m\u001b[36m(pid=15052)\u001b[0m reward: -10\n",
      "\u001b[2m\u001b[36m(pid=15052)\u001b[0m 46.98\n"
     ]
    },
    {
     "name": "stderr",
     "output_type": "stream",
     "text": [
      "\u001b[2m\u001b[36m(pid=15052)\u001b[0m c:\\users\\cig\\anaconda3\\envs\\autofocus\\lib\\site-packages\\imquality\\brisque.py:45: FutureWarning: The behavior of rgb2gray will change in scikit-image 0.19. Currently, rgb2gray allows 2D grayscale image to be passed as inputs and leaves them unmodified as outputs. Starting from version 0.19, 2D arrays will be treated as 1D images with 3 channels.\r\n",
      "\u001b[2m\u001b[36m(pid=15052)\u001b[0m   self.image = skimage.color.rgb2gray(self.image)\r\n"
     ]
    },
    {
     "name": "stdout",
     "output_type": "stream",
     "text": [
      "\u001b[2m\u001b[36m(pid=15052)\u001b[0m reward: -0.05376\n",
      "\u001b[2m\u001b[36m(pid=15052)\u001b[0m 41.87\n",
      "\u001b[2m\u001b[36m(pid=15052)\u001b[0m reward: -10\n",
      "\u001b[2m\u001b[36m(pid=15052)\u001b[0m 61.39\n",
      "\u001b[2m\u001b[36m(pid=15052)\u001b[0m reward: -10\n",
      "\u001b[2m\u001b[36m(pid=15052)\u001b[0m 25.95\n",
      "\u001b[2m\u001b[36m(pid=15052)\u001b[0m reward: -10\n",
      "\u001b[2m\u001b[36m(pid=15052)\u001b[0m 27.55\n",
      "\u001b[2m\u001b[36m(pid=15052)\u001b[0m reward: -10\n",
      "\u001b[2m\u001b[36m(pid=15052)\u001b[0m 24.75\n",
      "\u001b[2m\u001b[36m(pid=15052)\u001b[0m reward: -10\n",
      "\u001b[2m\u001b[36m(pid=15052)\u001b[0m 48.96\n"
     ]
    },
    {
     "name": "stderr",
     "output_type": "stream",
     "text": [
      "\u001b[2m\u001b[36m(pid=15052)\u001b[0m c:\\users\\cig\\anaconda3\\envs\\autofocus\\lib\\site-packages\\imquality\\brisque.py:45: FutureWarning: The behavior of rgb2gray will change in scikit-image 0.19. Currently, rgb2gray allows 2D grayscale image to be passed as inputs and leaves them unmodified as outputs. Starting from version 0.19, 2D arrays will be treated as 1D images with 3 channels.\r\n",
      "\u001b[2m\u001b[36m(pid=15052)\u001b[0m   self.image = skimage.color.rgb2gray(self.image)\r\n"
     ]
    },
    {
     "name": "stdout",
     "output_type": "stream",
     "text": [
      "\u001b[2m\u001b[36m(pid=15052)\u001b[0m reward: -0.05199\n",
      "\u001b[2m\u001b[36m(pid=15052)\u001b[0m 24.67\n",
      "\u001b[2m\u001b[36m(pid=15052)\u001b[0m reward: -10\n",
      "\u001b[2m\u001b[36m(pid=15052)\u001b[0m 24.68\n",
      "\u001b[2m\u001b[36m(pid=15052)\u001b[0m reward: -10\n",
      "\u001b[2m\u001b[36m(pid=15052)\u001b[0m 25.27\n",
      "\u001b[2m\u001b[36m(pid=15052)\u001b[0m reward: -10\n",
      "\u001b[2m\u001b[36m(pid=15052)\u001b[0m 34.57\n",
      "\u001b[2m\u001b[36m(pid=15052)\u001b[0m reward: -10\n",
      "\u001b[2m\u001b[36m(pid=15052)\u001b[0m 24.69\n",
      "\u001b[2m\u001b[36m(pid=15052)\u001b[0m reward: -10\n",
      "\u001b[2m\u001b[36m(pid=15052)\u001b[0m 24.18\n",
      "\u001b[2m\u001b[36m(pid=15052)\u001b[0m reward: -10\n",
      "\u001b[2m\u001b[36m(pid=15052)\u001b[0m 60.18\n",
      "\u001b[2m\u001b[36m(pid=15052)\u001b[0m reward: -10\n",
      "\u001b[2m\u001b[36m(pid=15052)\u001b[0m 47.18\n"
     ]
    },
    {
     "name": "stderr",
     "output_type": "stream",
     "text": [
      "\u001b[2m\u001b[36m(pid=15052)\u001b[0m c:\\users\\cig\\anaconda3\\envs\\autofocus\\lib\\site-packages\\imquality\\brisque.py:45: FutureWarning: The behavior of rgb2gray will change in scikit-image 0.19. Currently, rgb2gray allows 2D grayscale image to be passed as inputs and leaves them unmodified as outputs. Starting from version 0.19, 2D arrays will be treated as 1D images with 3 channels.\r\n",
      "\u001b[2m\u001b[36m(pid=15052)\u001b[0m   self.image = skimage.color.rgb2gray(self.image)\r\n"
     ]
    },
    {
     "name": "stdout",
     "output_type": "stream",
     "text": [
      "\u001b[2m\u001b[36m(pid=15052)\u001b[0m reward: -0.056670000000000005\n",
      "\u001b[2m\u001b[36m(pid=15052)\u001b[0m 24.1\n",
      "\u001b[2m\u001b[36m(pid=15052)\u001b[0m reward: -10\n",
      "\u001b[2m\u001b[36m(pid=15052)\u001b[0m 57.74\n",
      "\u001b[2m\u001b[36m(pid=15052)\u001b[0m reward: -10\n",
      "\u001b[2m\u001b[36m(pid=15052)\u001b[0m 24.91\n",
      "\u001b[2m\u001b[36m(pid=15052)\u001b[0m reward: -10\n",
      "\u001b[2m\u001b[36m(pid=15052)\u001b[0m 63.85\n",
      "\u001b[2m\u001b[36m(pid=15052)\u001b[0m reward: -10\n",
      "\u001b[2m\u001b[36m(pid=15052)\u001b[0m 35.83\n",
      "\u001b[2m\u001b[36m(pid=15052)\u001b[0m reward: -10\n",
      "\u001b[2m\u001b[36m(pid=15052)\u001b[0m 45.67\n",
      "\u001b[2m\u001b[36m(pid=15052)\u001b[0m reward: -10\n",
      "\u001b[2m\u001b[36m(pid=15052)\u001b[0m 48.58\n"
     ]
    },
    {
     "name": "stderr",
     "output_type": "stream",
     "text": [
      "\u001b[2m\u001b[36m(pid=15052)\u001b[0m c:\\users\\cig\\anaconda3\\envs\\autofocus\\lib\\site-packages\\imquality\\brisque.py:45: FutureWarning: The behavior of rgb2gray will change in scikit-image 0.19. Currently, rgb2gray allows 2D grayscale image to be passed as inputs and leaves them unmodified as outputs. Starting from version 0.19, 2D arrays will be treated as 1D images with 3 channels.\r\n",
      "\u001b[2m\u001b[36m(pid=15052)\u001b[0m   self.image = skimage.color.rgb2gray(self.image)\r\n"
     ]
    },
    {
     "name": "stdout",
     "output_type": "stream",
     "text": [
      "\u001b[2m\u001b[36m(pid=15052)\u001b[0m reward: -0.05564\n",
      "\u001b[2m\u001b[36m(pid=15052)\u001b[0m 58.39\n",
      "\u001b[2m\u001b[36m(pid=15052)\u001b[0m reward: -10\n",
      "\u001b[2m\u001b[36m(pid=15052)\u001b[0m 46.75\n"
     ]
    },
    {
     "name": "stderr",
     "output_type": "stream",
     "text": [
      "\u001b[2m\u001b[36m(pid=15052)\u001b[0m c:\\users\\cig\\anaconda3\\envs\\autofocus\\lib\\site-packages\\imquality\\brisque.py:45: FutureWarning: The behavior of rgb2gray will change in scikit-image 0.19. Currently, rgb2gray allows 2D grayscale image to be passed as inputs and leaves them unmodified as outputs. Starting from version 0.19, 2D arrays will be treated as 1D images with 3 channels.\r\n",
      "\u001b[2m\u001b[36m(pid=15052)\u001b[0m   self.image = skimage.color.rgb2gray(self.image)\r\n"
     ]
    },
    {
     "name": "stdout",
     "output_type": "stream",
     "text": [
      "\u001b[2m\u001b[36m(pid=15052)\u001b[0m reward: -0.04822\n",
      "\u001b[2m\u001b[36m(pid=15052)\u001b[0m 24.71\n",
      "\u001b[2m\u001b[36m(pid=15052)\u001b[0m reward: -10\n",
      "\u001b[2m\u001b[36m(pid=15052)\u001b[0m 24.2\n",
      "\u001b[2m\u001b[36m(pid=15052)\u001b[0m reward: -10\n",
      "\u001b[2m\u001b[36m(pid=15052)\u001b[0m 35.67\n",
      "\u001b[2m\u001b[36m(pid=15052)\u001b[0m reward: -10\n",
      "\u001b[2m\u001b[36m(pid=15052)\u001b[0m 24.19\n",
      "\u001b[2m\u001b[36m(pid=15052)\u001b[0m reward: -10\n",
      "\u001b[2m\u001b[36m(pid=15052)\u001b[0m 47.45\n"
     ]
    },
    {
     "name": "stderr",
     "output_type": "stream",
     "text": [
      "\u001b[2m\u001b[36m(pid=15052)\u001b[0m c:\\users\\cig\\anaconda3\\envs\\autofocus\\lib\\site-packages\\imquality\\brisque.py:45: FutureWarning: The behavior of rgb2gray will change in scikit-image 0.19. Currently, rgb2gray allows 2D grayscale image to be passed as inputs and leaves them unmodified as outputs. Starting from version 0.19, 2D arrays will be treated as 1D images with 3 channels.\r\n",
      "\u001b[2m\u001b[36m(pid=15052)\u001b[0m   self.image = skimage.color.rgb2gray(self.image)\r\n"
     ]
    },
    {
     "name": "stdout",
     "output_type": "stream",
     "text": [
      "\u001b[2m\u001b[36m(pid=15052)\u001b[0m reward: -0.03824\n",
      "\u001b[2m\u001b[36m(pid=15052)\u001b[0m 24.54\n",
      "\u001b[2m\u001b[36m(pid=15052)\u001b[0m reward: -10\n",
      "\u001b[2m\u001b[36m(pid=15052)\u001b[0m 63.39\n",
      "\u001b[2m\u001b[36m(pid=15052)\u001b[0m reward: -10\n",
      "\u001b[2m\u001b[36m(pid=15052)\u001b[0m 66.68\n",
      "\u001b[2m\u001b[36m(pid=15052)\u001b[0m reward: -10\n",
      "\u001b[2m\u001b[36m(pid=15052)\u001b[0m 49.1\n"
     ]
    },
    {
     "name": "stderr",
     "output_type": "stream",
     "text": [
      "\u001b[2m\u001b[36m(pid=15052)\u001b[0m c:\\users\\cig\\anaconda3\\envs\\autofocus\\lib\\site-packages\\imquality\\brisque.py:45: FutureWarning: The behavior of rgb2gray will change in scikit-image 0.19. Currently, rgb2gray allows 2D grayscale image to be passed as inputs and leaves them unmodified as outputs. Starting from version 0.19, 2D arrays will be treated as 1D images with 3 channels.\r\n",
      "\u001b[2m\u001b[36m(pid=15052)\u001b[0m   self.image = skimage.color.rgb2gray(self.image)\r\n"
     ]
    },
    {
     "name": "stdout",
     "output_type": "stream",
     "text": [
      "\u001b[2m\u001b[36m(pid=15052)\u001b[0m reward: -0.050570000000000004\n",
      "\u001b[2m\u001b[36m(pid=15052)\u001b[0m 48.0\n"
     ]
    },
    {
     "name": "stderr",
     "output_type": "stream",
     "text": [
      "\u001b[2m\u001b[36m(pid=15052)\u001b[0m c:\\users\\cig\\anaconda3\\envs\\autofocus\\lib\\site-packages\\imquality\\brisque.py:45: FutureWarning: The behavior of rgb2gray will change in scikit-image 0.19. Currently, rgb2gray allows 2D grayscale image to be passed as inputs and leaves them unmodified as outputs. Starting from version 0.19, 2D arrays will be treated as 1D images with 3 channels.\r\n",
      "\u001b[2m\u001b[36m(pid=15052)\u001b[0m   self.image = skimage.color.rgb2gray(self.image)\r\n"
     ]
    },
    {
     "name": "stdout",
     "output_type": "stream",
     "text": [
      "\u001b[2m\u001b[36m(pid=15052)\u001b[0m reward: -0.01918\n",
      "\u001b[2m\u001b[36m(pid=15052)\u001b[0m 24.28\n",
      "\u001b[2m\u001b[36m(pid=15052)\u001b[0m reward: -10\n",
      "\u001b[2m\u001b[36m(pid=15052)\u001b[0m 47.8\n"
     ]
    },
    {
     "name": "stderr",
     "output_type": "stream",
     "text": [
      "\u001b[2m\u001b[36m(pid=15052)\u001b[0m c:\\users\\cig\\anaconda3\\envs\\autofocus\\lib\\site-packages\\imquality\\brisque.py:45: FutureWarning: The behavior of rgb2gray will change in scikit-image 0.19. Currently, rgb2gray allows 2D grayscale image to be passed as inputs and leaves them unmodified as outputs. Starting from version 0.19, 2D arrays will be treated as 1D images with 3 channels.\r\n",
      "\u001b[2m\u001b[36m(pid=15052)\u001b[0m   self.image = skimage.color.rgb2gray(self.image)\r\n"
     ]
    },
    {
     "name": "stdout",
     "output_type": "stream",
     "text": [
      "\u001b[2m\u001b[36m(pid=15052)\u001b[0m reward: -0.02822\n",
      "\u001b[2m\u001b[36m(pid=15052)\u001b[0m 68.17\n",
      "\u001b[2m\u001b[36m(pid=15052)\u001b[0m reward: -10\n",
      "\u001b[2m\u001b[36m(pid=15052)\u001b[0m 31.79\n",
      "\u001b[2m\u001b[36m(pid=15052)\u001b[0m reward: -10\n",
      "\u001b[2m\u001b[36m(pid=15052)\u001b[0m 56.47\n",
      "\u001b[2m\u001b[36m(pid=15052)\u001b[0m reward: -10\n",
      "\u001b[2m\u001b[36m(pid=15052)\u001b[0m 66.18\n",
      "\u001b[2m\u001b[36m(pid=15052)\u001b[0m reward: -10\n",
      "\u001b[2m\u001b[36m(pid=15052)\u001b[0m 56.87\n",
      "\u001b[2m\u001b[36m(pid=15052)\u001b[0m reward: -10\n",
      "\u001b[2m\u001b[36m(pid=15052)\u001b[0m 45.1\n",
      "\u001b[2m\u001b[36m(pid=15052)\u001b[0m reward: -10\n",
      "\u001b[2m\u001b[36m(pid=15052)\u001b[0m 66.87\n",
      "\u001b[2m\u001b[36m(pid=15052)\u001b[0m reward: -10\n",
      "\u001b[2m\u001b[36m(pid=15052)\u001b[0m 24.73\n",
      "\u001b[2m\u001b[36m(pid=15052)\u001b[0m reward: -10\n",
      "\u001b[2m\u001b[36m(pid=15052)\u001b[0m 30.8\n",
      "\u001b[2m\u001b[36m(pid=15052)\u001b[0m reward: -10\n",
      "\u001b[2m\u001b[36m(pid=15052)\u001b[0m 24.96\n",
      "\u001b[2m\u001b[36m(pid=15052)\u001b[0m reward: -10\n",
      "\u001b[2m\u001b[36m(pid=15052)\u001b[0m 60.72\n",
      "\u001b[2m\u001b[36m(pid=15052)\u001b[0m reward: -10\n",
      "\u001b[2m\u001b[36m(pid=15052)\u001b[0m 54.82\n",
      "\u001b[2m\u001b[36m(pid=15052)\u001b[0m reward: -10\n",
      "\u001b[2m\u001b[36m(pid=15052)\u001b[0m 68.69\n",
      "\u001b[2m\u001b[36m(pid=15052)\u001b[0m reward: -10\n",
      "\u001b[2m\u001b[36m(pid=15052)\u001b[0m 24.55\n",
      "\u001b[2m\u001b[36m(pid=15052)\u001b[0m reward: -10\n",
      "\u001b[2m\u001b[36m(pid=15052)\u001b[0m 24.95\n",
      "\u001b[2m\u001b[36m(pid=15052)\u001b[0m reward: -10\n",
      "\u001b[2m\u001b[36m(pid=15052)\u001b[0m 24.62\n",
      "\u001b[2m\u001b[36m(pid=15052)\u001b[0m reward: -10\n",
      "\u001b[2m\u001b[36m(pid=15052)\u001b[0m 32.95\n",
      "\u001b[2m\u001b[36m(pid=15052)\u001b[0m reward: -10\n",
      "\u001b[2m\u001b[36m(pid=15052)\u001b[0m 24.42\n",
      "\u001b[2m\u001b[36m(pid=15052)\u001b[0m reward: -10\n",
      "\u001b[2m\u001b[36m(pid=15052)\u001b[0m 36.81\n",
      "\u001b[2m\u001b[36m(pid=15052)\u001b[0m reward: -10\n",
      "\u001b[2m\u001b[36m(pid=15052)\u001b[0m 37.76\n",
      "\u001b[2m\u001b[36m(pid=15052)\u001b[0m reward: -10\n",
      "\u001b[2m\u001b[36m(pid=15052)\u001b[0m 56.34\n",
      "\u001b[2m\u001b[36m(pid=15052)\u001b[0m reward: -10\n",
      "\u001b[2m\u001b[36m(pid=15052)\u001b[0m 56.1\n",
      "\u001b[2m\u001b[36m(pid=15052)\u001b[0m reward: -10\n",
      "\u001b[2m\u001b[36m(pid=15052)\u001b[0m 24.95\n",
      "\u001b[2m\u001b[36m(pid=15052)\u001b[0m reward: -10\n",
      "\u001b[2m\u001b[36m(pid=15052)\u001b[0m 44.91\n",
      "\u001b[2m\u001b[36m(pid=15052)\u001b[0m reward: -10\n",
      "\u001b[2m\u001b[36m(pid=15052)\u001b[0m 51.32\n",
      "\u001b[2m\u001b[36m(pid=15052)\u001b[0m reward: -10\n",
      "\u001b[2m\u001b[36m(pid=15052)\u001b[0m 24.18\n",
      "\u001b[2m\u001b[36m(pid=15052)\u001b[0m reward: -10\n",
      "\u001b[2m\u001b[36m(pid=15052)\u001b[0m 24.3\n",
      "\u001b[2m\u001b[36m(pid=15052)\u001b[0m reward: -10\n",
      "\u001b[2m\u001b[36m(pid=15052)\u001b[0m 24.41\n",
      "\u001b[2m\u001b[36m(pid=15052)\u001b[0m reward: -10\n",
      "\u001b[2m\u001b[36m(pid=15052)\u001b[0m 47.48\n"
     ]
    },
    {
     "name": "stderr",
     "output_type": "stream",
     "text": [
      "\u001b[2m\u001b[36m(pid=15052)\u001b[0m c:\\users\\cig\\anaconda3\\envs\\autofocus\\lib\\site-packages\\imquality\\brisque.py:45: FutureWarning: The behavior of rgb2gray will change in scikit-image 0.19. Currently, rgb2gray allows 2D grayscale image to be passed as inputs and leaves them unmodified as outputs. Starting from version 0.19, 2D arrays will be treated as 1D images with 3 channels.\r\n",
      "\u001b[2m\u001b[36m(pid=15052)\u001b[0m   self.image = skimage.color.rgb2gray(self.image)\r\n"
     ]
    },
    {
     "name": "stdout",
     "output_type": "stream",
     "text": [
      "\u001b[2m\u001b[36m(pid=15052)\u001b[0m reward: -0.03501\n",
      "\u001b[2m\u001b[36m(pid=15052)\u001b[0m 65.63\n",
      "\u001b[2m\u001b[36m(pid=15052)\u001b[0m reward: -10\n",
      "\u001b[2m\u001b[36m(pid=15052)\u001b[0m 24.21\n",
      "\u001b[2m\u001b[36m(pid=15052)\u001b[0m reward: -10\n",
      "\u001b[2m\u001b[36m(pid=15052)\u001b[0m 48.42\n"
     ]
    },
    {
     "name": "stderr",
     "output_type": "stream",
     "text": [
      "\u001b[2m\u001b[36m(pid=15052)\u001b[0m c:\\users\\cig\\anaconda3\\envs\\autofocus\\lib\\site-packages\\imquality\\brisque.py:45: FutureWarning: The behavior of rgb2gray will change in scikit-image 0.19. Currently, rgb2gray allows 2D grayscale image to be passed as inputs and leaves them unmodified as outputs. Starting from version 0.19, 2D arrays will be treated as 1D images with 3 channels.\r\n",
      "\u001b[2m\u001b[36m(pid=15052)\u001b[0m   self.image = skimage.color.rgb2gray(self.image)\r\n"
     ]
    },
    {
     "name": "stdout",
     "output_type": "stream",
     "text": [
      "\u001b[2m\u001b[36m(pid=15052)\u001b[0m reward: -0.05425\n",
      "\u001b[2m\u001b[36m(pid=15052)\u001b[0m 29.7\n",
      "\u001b[2m\u001b[36m(pid=15052)\u001b[0m reward: -10\n",
      "\u001b[2m\u001b[36m(pid=15052)\u001b[0m 32.8\n",
      "\u001b[2m\u001b[36m(pid=15052)\u001b[0m reward: -10\n",
      "\u001b[2m\u001b[36m(pid=15052)\u001b[0m 32.73\n",
      "\u001b[2m\u001b[36m(pid=15052)\u001b[0m reward: -10\n",
      "\u001b[2m\u001b[36m(pid=15052)\u001b[0m 62.55\n",
      "\u001b[2m\u001b[36m(pid=15052)\u001b[0m reward: -10\n",
      "\u001b[2m\u001b[36m(pid=15052)\u001b[0m 33.8\n",
      "\u001b[2m\u001b[36m(pid=15052)\u001b[0m reward: -10\n",
      "\u001b[2m\u001b[36m(pid=15052)\u001b[0m 63.2\n",
      "\u001b[2m\u001b[36m(pid=15052)\u001b[0m reward: -10\n",
      "\u001b[2m\u001b[36m(pid=15052)\u001b[0m 28.25\n",
      "\u001b[2m\u001b[36m(pid=15052)\u001b[0m reward: -10\n",
      "\u001b[2m\u001b[36m(pid=15052)\u001b[0m 60.59\n",
      "\u001b[2m\u001b[36m(pid=15052)\u001b[0m reward: -10\n",
      "\u001b[2m\u001b[36m(pid=15052)\u001b[0m 64.63\n",
      "\u001b[2m\u001b[36m(pid=15052)\u001b[0m reward: -10\n",
      "\u001b[2m\u001b[36m(pid=15052)\u001b[0m 42.98\n",
      "\u001b[2m\u001b[36m(pid=15052)\u001b[0m reward: -10\n",
      "\u001b[2m\u001b[36m(pid=15052)\u001b[0m 24.4\n",
      "\u001b[2m\u001b[36m(pid=15052)\u001b[0m reward: -10\n",
      "\u001b[2m\u001b[36m(pid=15052)\u001b[0m 24.55\n",
      "\u001b[2m\u001b[36m(pid=15052)\u001b[0m reward: -10\n",
      "\u001b[2m\u001b[36m(pid=15052)\u001b[0m 25.17\n",
      "\u001b[2m\u001b[36m(pid=15052)\u001b[0m reward: -10\n",
      "\u001b[2m\u001b[36m(pid=15052)\u001b[0m 24.17\n",
      "\u001b[2m\u001b[36m(pid=15052)\u001b[0m reward: -10\n",
      "\u001b[2m\u001b[36m(pid=15052)\u001b[0m 35.19\n",
      "\u001b[2m\u001b[36m(pid=15052)\u001b[0m reward: -10\n",
      "\u001b[2m\u001b[36m(pid=15052)\u001b[0m 59.96\n",
      "\u001b[2m\u001b[36m(pid=15052)\u001b[0m reward: -10\n",
      "\u001b[2m\u001b[36m(pid=15052)\u001b[0m 42.4\n",
      "\u001b[2m\u001b[36m(pid=15052)\u001b[0m reward: -10\n",
      "\u001b[2m\u001b[36m(pid=15052)\u001b[0m 24.71\n",
      "\u001b[2m\u001b[36m(pid=15052)\u001b[0m reward: -10\n",
      "\u001b[2m\u001b[36m(pid=15052)\u001b[0m 49.3\n"
     ]
    },
    {
     "name": "stderr",
     "output_type": "stream",
     "text": [
      "\u001b[2m\u001b[36m(pid=15052)\u001b[0m c:\\users\\cig\\anaconda3\\envs\\autofocus\\lib\\site-packages\\imquality\\brisque.py:45: FutureWarning: The behavior of rgb2gray will change in scikit-image 0.19. Currently, rgb2gray allows 2D grayscale image to be passed as inputs and leaves them unmodified as outputs. Starting from version 0.19, 2D arrays will be treated as 1D images with 3 channels.\r\n",
      "\u001b[2m\u001b[36m(pid=15052)\u001b[0m   self.image = skimage.color.rgb2gray(self.image)\r\n"
     ]
    },
    {
     "name": "stdout",
     "output_type": "stream",
     "text": [
      "\u001b[2m\u001b[36m(pid=15052)\u001b[0m reward: -0.047189999999999996\n",
      "\u001b[2m\u001b[36m(pid=15052)\u001b[0m 48.4\n"
     ]
    },
    {
     "name": "stderr",
     "output_type": "stream",
     "text": [
      "\u001b[2m\u001b[36m(pid=15052)\u001b[0m c:\\users\\cig\\anaconda3\\envs\\autofocus\\lib\\site-packages\\imquality\\brisque.py:45: FutureWarning: The behavior of rgb2gray will change in scikit-image 0.19. Currently, rgb2gray allows 2D grayscale image to be passed as inputs and leaves them unmodified as outputs. Starting from version 0.19, 2D arrays will be treated as 1D images with 3 channels.\r\n",
      "\u001b[2m\u001b[36m(pid=15052)\u001b[0m   self.image = skimage.color.rgb2gray(self.image)\r\n"
     ]
    },
    {
     "name": "stdout",
     "output_type": "stream",
     "text": [
      "\u001b[2m\u001b[36m(pid=15052)\u001b[0m reward: -0.05358\n",
      "\u001b[2m\u001b[36m(pid=15052)\u001b[0m 24.23\n",
      "\u001b[2m\u001b[36m(pid=15052)\u001b[0m reward: -10\n",
      "\u001b[2m\u001b[36m(pid=15052)\u001b[0m 32.7\n",
      "\u001b[2m\u001b[36m(pid=15052)\u001b[0m reward: -10\n",
      "\u001b[2m\u001b[36m(pid=15052)\u001b[0m 24.47\n",
      "\u001b[2m\u001b[36m(pid=15052)\u001b[0m reward: -10\n",
      "\u001b[2m\u001b[36m(pid=15052)\u001b[0m 64.2\n",
      "\u001b[2m\u001b[36m(pid=15052)\u001b[0m reward: -10\n",
      "\u001b[2m\u001b[36m(pid=15052)\u001b[0m 24.14\n",
      "\u001b[2m\u001b[36m(pid=15052)\u001b[0m reward: -10\n",
      "\u001b[2m\u001b[36m(pid=15052)\u001b[0m 24.34\n",
      "\u001b[2m\u001b[36m(pid=15052)\u001b[0m reward: -10\n",
      "\u001b[2m\u001b[36m(pid=15052)\u001b[0m 24.75\n",
      "\u001b[2m\u001b[36m(pid=15052)\u001b[0m reward: -10\n",
      "\u001b[2m\u001b[36m(pid=15052)\u001b[0m 24.68\n",
      "\u001b[2m\u001b[36m(pid=15052)\u001b[0m reward: -10\n",
      "\u001b[2m\u001b[36m(pid=15052)\u001b[0m 24.81\n",
      "\u001b[2m\u001b[36m(pid=15052)\u001b[0m reward: -10\n",
      "\u001b[2m\u001b[36m(pid=15052)\u001b[0m 44.27\n",
      "\u001b[2m\u001b[36m(pid=15052)\u001b[0m reward: -10\n",
      "\u001b[2m\u001b[36m(pid=15052)\u001b[0m 24.25\n",
      "\u001b[2m\u001b[36m(pid=15052)\u001b[0m reward: -10\n",
      "\u001b[2m\u001b[36m(pid=15052)\u001b[0m 59.4\n",
      "\u001b[2m\u001b[36m(pid=15052)\u001b[0m reward: -10\n",
      "\u001b[2m\u001b[36m(pid=15052)\u001b[0m 46.97\n"
     ]
    },
    {
     "name": "stderr",
     "output_type": "stream",
     "text": [
      "\u001b[2m\u001b[36m(pid=15052)\u001b[0m c:\\users\\cig\\anaconda3\\envs\\autofocus\\lib\\site-packages\\imquality\\brisque.py:45: FutureWarning: The behavior of rgb2gray will change in scikit-image 0.19. Currently, rgb2gray allows 2D grayscale image to be passed as inputs and leaves them unmodified as outputs. Starting from version 0.19, 2D arrays will be treated as 1D images with 3 channels.\r\n",
      "\u001b[2m\u001b[36m(pid=15052)\u001b[0m   self.image = skimage.color.rgb2gray(self.image)\r\n"
     ]
    },
    {
     "name": "stdout",
     "output_type": "stream",
     "text": [
      "\u001b[2m\u001b[36m(pid=15052)\u001b[0m reward: -0.05571\n",
      "\u001b[2m\u001b[36m(pid=15052)\u001b[0m 53.82\n",
      "\u001b[2m\u001b[36m(pid=15052)\u001b[0m reward: -10\n",
      "\u001b[2m\u001b[36m(pid=15052)\u001b[0m 24.85\n",
      "\u001b[2m\u001b[36m(pid=15052)\u001b[0m reward: -10\n",
      "\u001b[2m\u001b[36m(pid=15052)\u001b[0m 39.73\n",
      "\u001b[2m\u001b[36m(pid=15052)\u001b[0m reward: -10\n",
      "\u001b[2m\u001b[36m(pid=15052)\u001b[0m 39.21\n",
      "\u001b[2m\u001b[36m(pid=15052)\u001b[0m reward: -10\n",
      "\u001b[2m\u001b[36m(pid=15052)\u001b[0m 62.86\n",
      "\u001b[2m\u001b[36m(pid=15052)\u001b[0m reward: -10\n",
      "\u001b[2m\u001b[36m(pid=15052)\u001b[0m 24.46\n",
      "\u001b[2m\u001b[36m(pid=15052)\u001b[0m reward: -10\n",
      "\u001b[2m\u001b[36m(pid=15052)\u001b[0m 55.34\n",
      "\u001b[2m\u001b[36m(pid=15052)\u001b[0m reward: -10\n",
      "\u001b[2m\u001b[36m(pid=15052)\u001b[0m 52.85\n",
      "\u001b[2m\u001b[36m(pid=15052)\u001b[0m reward: -10\n",
      "\u001b[2m\u001b[36m(pid=15052)\u001b[0m 34.32\n",
      "\u001b[2m\u001b[36m(pid=15052)\u001b[0m reward: -10\n",
      "\u001b[2m\u001b[36m(pid=15052)\u001b[0m 67.0\n",
      "\u001b[2m\u001b[36m(pid=15052)\u001b[0m reward: -10\n",
      "\u001b[2m\u001b[36m(pid=15052)\u001b[0m 52.24\n",
      "\u001b[2m\u001b[36m(pid=15052)\u001b[0m reward: -10\n",
      "\u001b[2m\u001b[36m(pid=15052)\u001b[0m 37.96\n",
      "\u001b[2m\u001b[36m(pid=15052)\u001b[0m reward: -10\n",
      "\u001b[2m\u001b[36m(pid=15052)\u001b[0m 66.15\n",
      "\u001b[2m\u001b[36m(pid=15052)\u001b[0m reward: -10\n",
      "\u001b[2m\u001b[36m(pid=15052)\u001b[0m 24.59\n",
      "\u001b[2m\u001b[36m(pid=15052)\u001b[0m reward: -10\n",
      "\u001b[2m\u001b[36m(pid=15052)\u001b[0m 30.24\n",
      "\u001b[2m\u001b[36m(pid=15052)\u001b[0m reward: -10\n",
      "\u001b[2m\u001b[36m(pid=15052)\u001b[0m 24.4\n",
      "\u001b[2m\u001b[36m(pid=15052)\u001b[0m reward: -10\n",
      "\u001b[2m\u001b[36m(pid=15052)\u001b[0m 56.55\n",
      "\u001b[2m\u001b[36m(pid=15052)\u001b[0m reward: -10\n",
      "\u001b[2m\u001b[36m(pid=15052)\u001b[0m 24.88\n",
      "\u001b[2m\u001b[36m(pid=15052)\u001b[0m reward: -10\n",
      "\u001b[2m\u001b[36m(pid=15052)\u001b[0m 56.25\n",
      "\u001b[2m\u001b[36m(pid=15052)\u001b[0m reward: -10\n",
      "\u001b[2m\u001b[36m(pid=15052)\u001b[0m 44.0\n",
      "\u001b[2m\u001b[36m(pid=15052)\u001b[0m reward: -10\n",
      "\u001b[2m\u001b[36m(pid=15052)\u001b[0m 24.68\n",
      "\u001b[2m\u001b[36m(pid=15052)\u001b[0m reward: -10\n",
      "custom_metrics: {}\n",
      "date: 2021-03-31_16-43-48\n",
      "done: false\n",
      "episode_len_mean: 6.945652173913044\n",
      "episode_reward_max: -0.01918\n",
      "episode_reward_mean: -63.82983326086956\n",
      "episode_reward_min: -100.0\n",
      "episodes_this_iter: 21\n",
      "episodes_total: 92\n",
      "experiment_id: f29f35cc3ac947278fbe79a0a7e35ac4\n",
      "hostname: DESKTOP-K2L4N78\n",
      "info:\n",
      "  learner:\n",
      "    default_policy:\n",
      "      cur_kl_coeff: 1.0125000476837158\n",
      "      cur_lr: 0.0002500000118743628\n",
      "      entropy: 8.566625595092773\n",
      "      entropy_coeff: 0.009999999776482582\n",
      "      kl: 0.032257892191410065\n",
      "      model: {}\n",
      "      policy_loss: -0.22490517795085907\n",
      "      total_loss: 1647.10205078125\n",
      "      vf_explained_var: 0.0\n",
      "      vf_loss: 1647.3798828125\n",
      "  num_steps_sampled: 640\n",
      "  num_steps_trained: 640\n",
      "iterations_since_restore: 5\n",
      "node_ip: 10.16.102.19\n",
      "num_healthy_workers: 1\n",
      "off_policy_estimator: {}\n",
      "perf:\n",
      "  cpu_util_percent: 6.045612009237876\n",
      "  ram_util_percent: 44.036143187066976\n",
      "pid: 14556\n",
      "policy_reward_max: {}\n",
      "policy_reward_mean: {}\n",
      "policy_reward_min: {}\n",
      "sampler_perf:\n",
      "  mean_action_processing_ms: 0.05167859643544537\n",
      "  mean_env_wait_ms: 4139.013693832559\n",
      "  mean_inference_ms: 0.9219883763166962\n",
      "  mean_raw_obs_processing_ms: 511.371055951553\n",
      "time_since_restore: 2994.498870611191\n",
      "time_this_iter_s: 607.7565672397614\n",
      "time_total_s: 2994.498870611191\n",
      "timers:\n",
      "  learn_throughput: 657.221\n",
      "  learn_time_ms: 194.759\n",
      "  load_throughput: 18807.22\n",
      "  load_time_ms: 6.806\n",
      "  sample_throughput: 0.214\n",
      "  sample_time_ms: 598580.208\n",
      "  update_time_ms: 5.597\n",
      "timestamp: 1617198228\n",
      "timesteps_since_restore: 0\n",
      "timesteps_total: 640\n",
      "training_iteration: 5\n",
      "\n",
      "------- 4 -------\n",
      "\u001b[2m\u001b[36m(pid=15052)\u001b[0m 24.22\n",
      "\u001b[2m\u001b[36m(pid=15052)\u001b[0m reward: -10\n",
      "\u001b[2m\u001b[36m(pid=15052)\u001b[0m 67.93\n",
      "\u001b[2m\u001b[36m(pid=15052)\u001b[0m reward: -10\n",
      "\u001b[2m\u001b[36m(pid=15052)\u001b[0m 24.7\n",
      "\u001b[2m\u001b[36m(pid=15052)\u001b[0m reward: -10\n",
      "\u001b[2m\u001b[36m(pid=15052)\u001b[0m 24.8\n",
      "\u001b[2m\u001b[36m(pid=15052)\u001b[0m reward: -10\n",
      "\u001b[2m\u001b[36m(pid=15052)\u001b[0m 27.23\n",
      "\u001b[2m\u001b[36m(pid=15052)\u001b[0m reward: -10\n",
      "\u001b[2m\u001b[36m(pid=15052)\u001b[0m 60.86\n",
      "\u001b[2m\u001b[36m(pid=15052)\u001b[0m reward: -10\n",
      "\u001b[2m\u001b[36m(pid=15052)\u001b[0m 24.44\n",
      "\u001b[2m\u001b[36m(pid=15052)\u001b[0m reward: -10\n",
      "\u001b[2m\u001b[36m(pid=15052)\u001b[0m 24.35\n",
      "\u001b[2m\u001b[36m(pid=15052)\u001b[0m reward: -10\n",
      "\u001b[2m\u001b[36m(pid=15052)\u001b[0m 64.5\n",
      "\u001b[2m\u001b[36m(pid=15052)\u001b[0m reward: -10\n",
      "\u001b[2m\u001b[36m(pid=15052)\u001b[0m 48.51\n"
     ]
    },
    {
     "name": "stderr",
     "output_type": "stream",
     "text": [
      "\u001b[2m\u001b[36m(pid=15052)\u001b[0m c:\\users\\cig\\anaconda3\\envs\\autofocus\\lib\\site-packages\\imquality\\brisque.py:45: FutureWarning: The behavior of rgb2gray will change in scikit-image 0.19. Currently, rgb2gray allows 2D grayscale image to be passed as inputs and leaves them unmodified as outputs. Starting from version 0.19, 2D arrays will be treated as 1D images with 3 channels.\r\n",
      "\u001b[2m\u001b[36m(pid=15052)\u001b[0m   self.image = skimage.color.rgb2gray(self.image)\r\n"
     ]
    },
    {
     "name": "stdout",
     "output_type": "stream",
     "text": [
      "\u001b[2m\u001b[36m(pid=15052)\u001b[0m reward: -0.05818\n",
      "\u001b[2m\u001b[36m(pid=15052)\u001b[0m 56.12\n",
      "\u001b[2m\u001b[36m(pid=15052)\u001b[0m reward: -10\n",
      "\u001b[2m\u001b[36m(pid=15052)\u001b[0m 46.73\n"
     ]
    },
    {
     "name": "stderr",
     "output_type": "stream",
     "text": [
      "\u001b[2m\u001b[36m(pid=15052)\u001b[0m c:\\users\\cig\\anaconda3\\envs\\autofocus\\lib\\site-packages\\imquality\\brisque.py:45: FutureWarning: The behavior of rgb2gray will change in scikit-image 0.19. Currently, rgb2gray allows 2D grayscale image to be passed as inputs and leaves them unmodified as outputs. Starting from version 0.19, 2D arrays will be treated as 1D images with 3 channels.\r\n",
      "\u001b[2m\u001b[36m(pid=15052)\u001b[0m   self.image = skimage.color.rgb2gray(self.image)\r\n"
     ]
    },
    {
     "name": "stdout",
     "output_type": "stream",
     "text": [
      "\u001b[2m\u001b[36m(pid=15052)\u001b[0m reward: -0.05242\n",
      "\u001b[2m\u001b[36m(pid=15052)\u001b[0m 24.75\n",
      "\u001b[2m\u001b[36m(pid=15052)\u001b[0m reward: -10\n",
      "\u001b[2m\u001b[36m(pid=15052)\u001b[0m 63.67\n",
      "\u001b[2m\u001b[36m(pid=15052)\u001b[0m reward: -10\n",
      "\u001b[2m\u001b[36m(pid=15052)\u001b[0m 65.18\n",
      "\u001b[2m\u001b[36m(pid=15052)\u001b[0m reward: -10\n",
      "\u001b[2m\u001b[36m(pid=15052)\u001b[0m 33.72\n",
      "\u001b[2m\u001b[36m(pid=15052)\u001b[0m reward: -10\n",
      "\u001b[2m\u001b[36m(pid=15052)\u001b[0m 45.22\n",
      "\u001b[2m\u001b[36m(pid=15052)\u001b[0m reward: -10\n",
      "\u001b[2m\u001b[36m(pid=15052)\u001b[0m 35.43\n",
      "\u001b[2m\u001b[36m(pid=15052)\u001b[0m reward: -10\n",
      "\u001b[2m\u001b[36m(pid=15052)\u001b[0m 24.86\n",
      "\u001b[2m\u001b[36m(pid=15052)\u001b[0m reward: -10\n",
      "\u001b[2m\u001b[36m(pid=15052)\u001b[0m 67.95\n",
      "\u001b[2m\u001b[36m(pid=15052)\u001b[0m reward: -10\n",
      "\u001b[2m\u001b[36m(pid=15052)\u001b[0m 24.11\n",
      "\u001b[2m\u001b[36m(pid=15052)\u001b[0m reward: -10\n",
      "\u001b[2m\u001b[36m(pid=15052)\u001b[0m 47.71\n"
     ]
    },
    {
     "name": "stderr",
     "output_type": "stream",
     "text": [
      "\u001b[2m\u001b[36m(pid=15052)\u001b[0m c:\\users\\cig\\anaconda3\\envs\\autofocus\\lib\\site-packages\\imquality\\brisque.py:45: FutureWarning: The behavior of rgb2gray will change in scikit-image 0.19. Currently, rgb2gray allows 2D grayscale image to be passed as inputs and leaves them unmodified as outputs. Starting from version 0.19, 2D arrays will be treated as 1D images with 3 channels.\r\n",
      "\u001b[2m\u001b[36m(pid=15052)\u001b[0m   self.image = skimage.color.rgb2gray(self.image)\r\n"
     ]
    },
    {
     "name": "stdout",
     "output_type": "stream",
     "text": [
      "\u001b[2m\u001b[36m(pid=15052)\u001b[0m reward: -0.02688\n",
      "\u001b[2m\u001b[36m(pid=15052)\u001b[0m 64.75\n",
      "\u001b[2m\u001b[36m(pid=15052)\u001b[0m reward: -10\n",
      "\u001b[2m\u001b[36m(pid=15052)\u001b[0m 33.71\n",
      "\u001b[2m\u001b[36m(pid=15052)\u001b[0m reward: -10\n",
      "\u001b[2m\u001b[36m(pid=15052)\u001b[0m 60.77\n",
      "\u001b[2m\u001b[36m(pid=15052)\u001b[0m reward: -10\n",
      "\u001b[2m\u001b[36m(pid=15052)\u001b[0m 67.79\n",
      "\u001b[2m\u001b[36m(pid=15052)\u001b[0m reward: -10\n",
      "\u001b[2m\u001b[36m(pid=15052)\u001b[0m 56.0\n",
      "\u001b[2m\u001b[36m(pid=15052)\u001b[0m reward: -10\n",
      "\u001b[2m\u001b[36m(pid=15052)\u001b[0m 36.56\n",
      "\u001b[2m\u001b[36m(pid=15052)\u001b[0m reward: -10\n",
      "\u001b[2m\u001b[36m(pid=15052)\u001b[0m 62.48\n",
      "\u001b[2m\u001b[36m(pid=15052)\u001b[0m reward: -10\n",
      "\u001b[2m\u001b[36m(pid=15052)\u001b[0m 46.45\n"
     ]
    },
    {
     "name": "stderr",
     "output_type": "stream",
     "text": [
      "\u001b[2m\u001b[36m(pid=15052)\u001b[0m c:\\users\\cig\\anaconda3\\envs\\autofocus\\lib\\site-packages\\imquality\\brisque.py:45: FutureWarning: The behavior of rgb2gray will change in scikit-image 0.19. Currently, rgb2gray allows 2D grayscale image to be passed as inputs and leaves them unmodified as outputs. Starting from version 0.19, 2D arrays will be treated as 1D images with 3 channels.\r\n",
      "\u001b[2m\u001b[36m(pid=15052)\u001b[0m   self.image = skimage.color.rgb2gray(self.image)\r\n"
     ]
    },
    {
     "name": "stdout",
     "output_type": "stream",
     "text": [
      "\u001b[2m\u001b[36m(pid=15052)\u001b[0m reward: -0.038829999999999996\n",
      "\u001b[2m\u001b[36m(pid=15052)\u001b[0m 24.19\n",
      "\u001b[2m\u001b[36m(pid=15052)\u001b[0m reward: -10\n",
      "\u001b[2m\u001b[36m(pid=15052)\u001b[0m 64.96\n",
      "\u001b[2m\u001b[36m(pid=15052)\u001b[0m reward: -10\n",
      "\u001b[2m\u001b[36m(pid=15052)\u001b[0m 24.1\n",
      "\u001b[2m\u001b[36m(pid=15052)\u001b[0m reward: -10\n",
      "\u001b[2m\u001b[36m(pid=15052)\u001b[0m 24.69\n",
      "\u001b[2m\u001b[36m(pid=15052)\u001b[0m reward: -10\n",
      "\u001b[2m\u001b[36m(pid=15052)\u001b[0m 49.38\n"
     ]
    },
    {
     "name": "stderr",
     "output_type": "stream",
     "text": [
      "\u001b[2m\u001b[36m(pid=15052)\u001b[0m c:\\users\\cig\\anaconda3\\envs\\autofocus\\lib\\site-packages\\imquality\\brisque.py:45: FutureWarning: The behavior of rgb2gray will change in scikit-image 0.19. Currently, rgb2gray allows 2D grayscale image to be passed as inputs and leaves them unmodified as outputs. Starting from version 0.19, 2D arrays will be treated as 1D images with 3 channels.\r\n",
      "\u001b[2m\u001b[36m(pid=15052)\u001b[0m   self.image = skimage.color.rgb2gray(self.image)\r\n"
     ]
    },
    {
     "name": "stdout",
     "output_type": "stream",
     "text": [
      "\u001b[2m\u001b[36m(pid=15052)\u001b[0m reward: -0.046450000000000005\n",
      "\u001b[2m\u001b[36m(pid=15052)\u001b[0m 33.55\n",
      "\u001b[2m\u001b[36m(pid=15052)\u001b[0m reward: -10\n",
      "\u001b[2m\u001b[36m(pid=15052)\u001b[0m 24.34\n",
      "\u001b[2m\u001b[36m(pid=15052)\u001b[0m reward: -10\n",
      "\u001b[2m\u001b[36m(pid=15052)\u001b[0m 67.9\n",
      "\u001b[2m\u001b[36m(pid=15052)\u001b[0m reward: -10\n",
      "\u001b[2m\u001b[36m(pid=15052)\u001b[0m 24.75\n",
      "\u001b[2m\u001b[36m(pid=15052)\u001b[0m reward: -10\n",
      "\u001b[2m\u001b[36m(pid=15052)\u001b[0m 36.45\n",
      "\u001b[2m\u001b[36m(pid=15052)\u001b[0m reward: -10\n",
      "\u001b[2m\u001b[36m(pid=15052)\u001b[0m 24.32\n",
      "\u001b[2m\u001b[36m(pid=15052)\u001b[0m reward: -10\n",
      "\u001b[2m\u001b[36m(pid=15052)\u001b[0m 46.63\n"
     ]
    },
    {
     "name": "stderr",
     "output_type": "stream",
     "text": [
      "\u001b[2m\u001b[36m(pid=15052)\u001b[0m c:\\users\\cig\\anaconda3\\envs\\autofocus\\lib\\site-packages\\imquality\\brisque.py:45: FutureWarning: The behavior of rgb2gray will change in scikit-image 0.19. Currently, rgb2gray allows 2D grayscale image to be passed as inputs and leaves them unmodified as outputs. Starting from version 0.19, 2D arrays will be treated as 1D images with 3 channels.\r\n",
      "\u001b[2m\u001b[36m(pid=15052)\u001b[0m   self.image = skimage.color.rgb2gray(self.image)\r\n"
     ]
    },
    {
     "name": "stdout",
     "output_type": "stream",
     "text": [
      "\u001b[2m\u001b[36m(pid=15052)\u001b[0m reward: -0.039700000000000006\n",
      "\u001b[2m\u001b[36m(pid=15052)\u001b[0m 35.45\n",
      "\u001b[2m\u001b[36m(pid=15052)\u001b[0m reward: -10\n",
      "\u001b[2m\u001b[36m(pid=15052)\u001b[0m 33.32\n",
      "\u001b[2m\u001b[36m(pid=15052)\u001b[0m reward: -10\n",
      "\u001b[2m\u001b[36m(pid=15052)\u001b[0m 61.43\n",
      "\u001b[2m\u001b[36m(pid=15052)\u001b[0m reward: -10\n",
      "\u001b[2m\u001b[36m(pid=15052)\u001b[0m 56.97\n",
      "\u001b[2m\u001b[36m(pid=15052)\u001b[0m reward: -10\n",
      "\u001b[2m\u001b[36m(pid=15052)\u001b[0m 24.61\n",
      "\u001b[2m\u001b[36m(pid=15052)\u001b[0m reward: -10\n",
      "\u001b[2m\u001b[36m(pid=15052)\u001b[0m 48.8\n"
     ]
    },
    {
     "name": "stderr",
     "output_type": "stream",
     "text": [
      "\u001b[2m\u001b[36m(pid=15052)\u001b[0m c:\\users\\cig\\anaconda3\\envs\\autofocus\\lib\\site-packages\\imquality\\brisque.py:45: FutureWarning: The behavior of rgb2gray will change in scikit-image 0.19. Currently, rgb2gray allows 2D grayscale image to be passed as inputs and leaves them unmodified as outputs. Starting from version 0.19, 2D arrays will be treated as 1D images with 3 channels.\r\n",
      "\u001b[2m\u001b[36m(pid=15052)\u001b[0m   self.image = skimage.color.rgb2gray(self.image)\r\n"
     ]
    },
    {
     "name": "stdout",
     "output_type": "stream",
     "text": [
      "\u001b[2m\u001b[36m(pid=15052)\u001b[0m reward: -0.05205\n",
      "\u001b[2m\u001b[36m(pid=15052)\u001b[0m 24.28\n",
      "\u001b[2m\u001b[36m(pid=15052)\u001b[0m reward: -10\n",
      "\u001b[2m\u001b[36m(pid=15052)\u001b[0m 59.9\n",
      "\u001b[2m\u001b[36m(pid=15052)\u001b[0m reward: -10\n",
      "\u001b[2m\u001b[36m(pid=15052)\u001b[0m 24.85\n",
      "\u001b[2m\u001b[36m(pid=15052)\u001b[0m reward: -10\n",
      "\u001b[2m\u001b[36m(pid=15052)\u001b[0m 25.84\n",
      "\u001b[2m\u001b[36m(pid=15052)\u001b[0m reward: -10\n",
      "\u001b[2m\u001b[36m(pid=15052)\u001b[0m 52.49\n",
      "\u001b[2m\u001b[36m(pid=15052)\u001b[0m reward: -10\n",
      "\u001b[2m\u001b[36m(pid=15052)\u001b[0m 46.93\n"
     ]
    },
    {
     "name": "stderr",
     "output_type": "stream",
     "text": [
      "\u001b[2m\u001b[36m(pid=15052)\u001b[0m c:\\users\\cig\\anaconda3\\envs\\autofocus\\lib\\site-packages\\imquality\\brisque.py:45: FutureWarning: The behavior of rgb2gray will change in scikit-image 0.19. Currently, rgb2gray allows 2D grayscale image to be passed as inputs and leaves them unmodified as outputs. Starting from version 0.19, 2D arrays will be treated as 1D images with 3 channels.\r\n",
      "\u001b[2m\u001b[36m(pid=15052)\u001b[0m   self.image = skimage.color.rgb2gray(self.image)\r\n"
     ]
    },
    {
     "name": "stdout",
     "output_type": "stream",
     "text": [
      "\u001b[2m\u001b[36m(pid=15052)\u001b[0m reward: -0.053380000000000004\n",
      "\u001b[2m\u001b[36m(pid=15052)\u001b[0m 32.67\n",
      "\u001b[2m\u001b[36m(pid=15052)\u001b[0m reward: -10\n",
      "\u001b[2m\u001b[36m(pid=15052)\u001b[0m 30.5\n",
      "\u001b[2m\u001b[36m(pid=15052)\u001b[0m reward: -10\n",
      "\u001b[2m\u001b[36m(pid=15052)\u001b[0m 27.67\n",
      "\u001b[2m\u001b[36m(pid=15052)\u001b[0m reward: -10\n",
      "\u001b[2m\u001b[36m(pid=15052)\u001b[0m 28.7\n",
      "\u001b[2m\u001b[36m(pid=15052)\u001b[0m reward: -10\n",
      "\u001b[2m\u001b[36m(pid=15052)\u001b[0m 58.71\n",
      "\u001b[2m\u001b[36m(pid=15052)\u001b[0m reward: -10\n",
      "\u001b[2m\u001b[36m(pid=15052)\u001b[0m 44.21\n",
      "\u001b[2m\u001b[36m(pid=15052)\u001b[0m reward: -10\n",
      "\u001b[2m\u001b[36m(pid=15052)\u001b[0m 24.69\n",
      "\u001b[2m\u001b[36m(pid=15052)\u001b[0m reward: -10\n",
      "\u001b[2m\u001b[36m(pid=15052)\u001b[0m 47.65\n"
     ]
    },
    {
     "name": "stderr",
     "output_type": "stream",
     "text": [
      "\u001b[2m\u001b[36m(pid=15052)\u001b[0m c:\\users\\cig\\anaconda3\\envs\\autofocus\\lib\\site-packages\\imquality\\brisque.py:45: FutureWarning: The behavior of rgb2gray will change in scikit-image 0.19. Currently, rgb2gray allows 2D grayscale image to be passed as inputs and leaves them unmodified as outputs. Starting from version 0.19, 2D arrays will be treated as 1D images with 3 channels.\r\n",
      "\u001b[2m\u001b[36m(pid=15052)\u001b[0m   self.image = skimage.color.rgb2gray(self.image)\r\n"
     ]
    },
    {
     "name": "stdout",
     "output_type": "stream",
     "text": [
      "\u001b[2m\u001b[36m(pid=15052)\u001b[0m reward: -0.02569\n",
      "\u001b[2m\u001b[36m(pid=15052)\u001b[0m 48.1\n"
     ]
    },
    {
     "name": "stderr",
     "output_type": "stream",
     "text": [
      "\u001b[2m\u001b[36m(pid=15052)\u001b[0m c:\\users\\cig\\anaconda3\\envs\\autofocus\\lib\\site-packages\\imquality\\brisque.py:45: FutureWarning: The behavior of rgb2gray will change in scikit-image 0.19. Currently, rgb2gray allows 2D grayscale image to be passed as inputs and leaves them unmodified as outputs. Starting from version 0.19, 2D arrays will be treated as 1D images with 3 channels.\r\n",
      "\u001b[2m\u001b[36m(pid=15052)\u001b[0m   self.image = skimage.color.rgb2gray(self.image)\r\n"
     ]
    },
    {
     "name": "stdout",
     "output_type": "stream",
     "text": [
      "\u001b[2m\u001b[36m(pid=15052)\u001b[0m reward: -0.018600000000000002\n",
      "\u001b[2m\u001b[36m(pid=15052)\u001b[0m 54.75\n",
      "\u001b[2m\u001b[36m(pid=15052)\u001b[0m reward: -10\n",
      "\u001b[2m\u001b[36m(pid=15052)\u001b[0m 46.18\n"
     ]
    },
    {
     "name": "stderr",
     "output_type": "stream",
     "text": [
      "\u001b[2m\u001b[36m(pid=15052)\u001b[0m c:\\users\\cig\\anaconda3\\envs\\autofocus\\lib\\site-packages\\imquality\\brisque.py:45: FutureWarning: The behavior of rgb2gray will change in scikit-image 0.19. Currently, rgb2gray allows 2D grayscale image to be passed as inputs and leaves them unmodified as outputs. Starting from version 0.19, 2D arrays will be treated as 1D images with 3 channels.\r\n",
      "\u001b[2m\u001b[36m(pid=15052)\u001b[0m   self.image = skimage.color.rgb2gray(self.image)\r\n"
     ]
    },
    {
     "name": "stdout",
     "output_type": "stream",
     "text": [
      "\u001b[2m\u001b[36m(pid=15052)\u001b[0m reward: -0.03329\n",
      "\u001b[2m\u001b[36m(pid=15052)\u001b[0m 24.72\n",
      "\u001b[2m\u001b[36m(pid=15052)\u001b[0m reward: -10\n",
      "\u001b[2m\u001b[36m(pid=15052)\u001b[0m 59.86\n",
      "\u001b[2m\u001b[36m(pid=15052)\u001b[0m reward: -10\n",
      "\u001b[2m\u001b[36m(pid=15052)\u001b[0m 24.37\n",
      "\u001b[2m\u001b[36m(pid=15052)\u001b[0m reward: -10\n",
      "\u001b[2m\u001b[36m(pid=15052)\u001b[0m 31.23\n",
      "\u001b[2m\u001b[36m(pid=15052)\u001b[0m reward: -10\n",
      "\u001b[2m\u001b[36m(pid=15052)\u001b[0m 49.94\n"
     ]
    },
    {
     "name": "stderr",
     "output_type": "stream",
     "text": [
      "\u001b[2m\u001b[36m(pid=15052)\u001b[0m c:\\users\\cig\\anaconda3\\envs\\autofocus\\lib\\site-packages\\imquality\\brisque.py:45: FutureWarning: The behavior of rgb2gray will change in scikit-image 0.19. Currently, rgb2gray allows 2D grayscale image to be passed as inputs and leaves them unmodified as outputs. Starting from version 0.19, 2D arrays will be treated as 1D images with 3 channels.\r\n",
      "\u001b[2m\u001b[36m(pid=15052)\u001b[0m   self.image = skimage.color.rgb2gray(self.image)\r\n"
     ]
    },
    {
     "name": "stdout",
     "output_type": "stream",
     "text": [
      "\u001b[2m\u001b[36m(pid=15052)\u001b[0m reward: -0.042280000000000005\n",
      "\u001b[2m\u001b[36m(pid=15052)\u001b[0m 24.8\n",
      "\u001b[2m\u001b[36m(pid=15052)\u001b[0m reward: -10\n",
      "\u001b[2m\u001b[36m(pid=15052)\u001b[0m 32.75\n",
      "\u001b[2m\u001b[36m(pid=15052)\u001b[0m reward: -10\n",
      "\u001b[2m\u001b[36m(pid=15052)\u001b[0m 53.55\n",
      "\u001b[2m\u001b[36m(pid=15052)\u001b[0m reward: -10\n",
      "\u001b[2m\u001b[36m(pid=15052)\u001b[0m 30.88\n",
      "\u001b[2m\u001b[36m(pid=15052)\u001b[0m reward: -10\n",
      "\u001b[2m\u001b[36m(pid=15052)\u001b[0m 24.78\n",
      "\u001b[2m\u001b[36m(pid=15052)\u001b[0m reward: -10\n",
      "\u001b[2m\u001b[36m(pid=15052)\u001b[0m 58.56\n",
      "\u001b[2m\u001b[36m(pid=15052)\u001b[0m reward: -10\n",
      "\u001b[2m\u001b[36m(pid=15052)\u001b[0m 63.96\n",
      "\u001b[2m\u001b[36m(pid=15052)\u001b[0m reward: -10\n",
      "\u001b[2m\u001b[36m(pid=15052)\u001b[0m 61.66\n",
      "\u001b[2m\u001b[36m(pid=15052)\u001b[0m reward: -10\n",
      "\u001b[2m\u001b[36m(pid=15052)\u001b[0m 24.8\n",
      "\u001b[2m\u001b[36m(pid=15052)\u001b[0m reward: -10\n",
      "\u001b[2m\u001b[36m(pid=15052)\u001b[0m 24.85\n",
      "\u001b[2m\u001b[36m(pid=15052)\u001b[0m reward: -10\n",
      "\u001b[2m\u001b[36m(pid=15052)\u001b[0m 63.5\n",
      "\u001b[2m\u001b[36m(pid=15052)\u001b[0m reward: -10\n",
      "\u001b[2m\u001b[36m(pid=15052)\u001b[0m 24.22\n",
      "\u001b[2m\u001b[36m(pid=15052)\u001b[0m reward: -10\n",
      "\u001b[2m\u001b[36m(pid=15052)\u001b[0m 24.72\n",
      "\u001b[2m\u001b[36m(pid=15052)\u001b[0m reward: -10\n",
      "\u001b[2m\u001b[36m(pid=15052)\u001b[0m 24.21\n",
      "\u001b[2m\u001b[36m(pid=15052)\u001b[0m reward: -10\n",
      "\u001b[2m\u001b[36m(pid=15052)\u001b[0m 24.3\n",
      "\u001b[2m\u001b[36m(pid=15052)\u001b[0m reward: -10\n",
      "\u001b[2m\u001b[36m(pid=15052)\u001b[0m 24.23\n",
      "\u001b[2m\u001b[36m(pid=15052)\u001b[0m reward: -10\n",
      "\u001b[2m\u001b[36m(pid=15052)\u001b[0m 24.1\n",
      "\u001b[2m\u001b[36m(pid=15052)\u001b[0m reward: -10\n",
      "\u001b[2m\u001b[36m(pid=15052)\u001b[0m 24.2\n",
      "\u001b[2m\u001b[36m(pid=15052)\u001b[0m reward: -10\n",
      "\u001b[2m\u001b[36m(pid=15052)\u001b[0m 43.9\n",
      "\u001b[2m\u001b[36m(pid=15052)\u001b[0m reward: -10\n",
      "\u001b[2m\u001b[36m(pid=15052)\u001b[0m 24.1\n",
      "\u001b[2m\u001b[36m(pid=15052)\u001b[0m reward: -10\n",
      "\u001b[2m\u001b[36m(pid=15052)\u001b[0m 64.55\n",
      "\u001b[2m\u001b[36m(pid=15052)\u001b[0m reward: -10\n",
      "\u001b[2m\u001b[36m(pid=15052)\u001b[0m 62.4\n",
      "\u001b[2m\u001b[36m(pid=15052)\u001b[0m reward: -10\n",
      "\u001b[2m\u001b[36m(pid=15052)\u001b[0m 62.16\n",
      "\u001b[2m\u001b[36m(pid=15052)\u001b[0m reward: -10\n",
      "\u001b[2m\u001b[36m(pid=15052)\u001b[0m 24.84\n",
      "\u001b[2m\u001b[36m(pid=15052)\u001b[0m reward: -10\n",
      "\u001b[2m\u001b[36m(pid=15052)\u001b[0m 63.5\n",
      "\u001b[2m\u001b[36m(pid=15052)\u001b[0m reward: -10\n",
      "\u001b[2m\u001b[36m(pid=15052)\u001b[0m 51.87\n",
      "\u001b[2m\u001b[36m(pid=15052)\u001b[0m reward: -10\n",
      "\u001b[2m\u001b[36m(pid=15052)\u001b[0m 24.39\n",
      "\u001b[2m\u001b[36m(pid=15052)\u001b[0m reward: -10\n",
      "\u001b[2m\u001b[36m(pid=15052)\u001b[0m 24.71\n",
      "\u001b[2m\u001b[36m(pid=15052)\u001b[0m reward: -10\n",
      "\u001b[2m\u001b[36m(pid=15052)\u001b[0m 24.24\n",
      "\u001b[2m\u001b[36m(pid=15052)\u001b[0m reward: -10\n",
      "\u001b[2m\u001b[36m(pid=15052)\u001b[0m 46.51\n"
     ]
    },
    {
     "name": "stderr",
     "output_type": "stream",
     "text": [
      "\u001b[2m\u001b[36m(pid=15052)\u001b[0m c:\\users\\cig\\anaconda3\\envs\\autofocus\\lib\\site-packages\\imquality\\brisque.py:45: FutureWarning: The behavior of rgb2gray will change in scikit-image 0.19. Currently, rgb2gray allows 2D grayscale image to be passed as inputs and leaves them unmodified as outputs. Starting from version 0.19, 2D arrays will be treated as 1D images with 3 channels.\r\n",
      "\u001b[2m\u001b[36m(pid=15052)\u001b[0m   self.image = skimage.color.rgb2gray(self.image)\r\n"
     ]
    },
    {
     "name": "stdout",
     "output_type": "stream",
     "text": [
      "\u001b[2m\u001b[36m(pid=15052)\u001b[0m reward: -0.03607\n",
      "\u001b[2m\u001b[36m(pid=15052)\u001b[0m 51.3\n",
      "\u001b[2m\u001b[36m(pid=15052)\u001b[0m reward: -10\n",
      "\u001b[2m\u001b[36m(pid=15052)\u001b[0m 41.72\n",
      "\u001b[2m\u001b[36m(pid=15052)\u001b[0m reward: -10\n",
      "\u001b[2m\u001b[36m(pid=15052)\u001b[0m 42.63\n",
      "\u001b[2m\u001b[36m(pid=15052)\u001b[0m reward: -10\n",
      "\u001b[2m\u001b[36m(pid=15052)\u001b[0m 37.37\n",
      "\u001b[2m\u001b[36m(pid=15052)\u001b[0m reward: -10\n",
      "\u001b[2m\u001b[36m(pid=15052)\u001b[0m 28.19\n",
      "\u001b[2m\u001b[36m(pid=15052)\u001b[0m reward: -10\n",
      "\u001b[2m\u001b[36m(pid=15052)\u001b[0m 24.66\n",
      "\u001b[2m\u001b[36m(pid=15052)\u001b[0m reward: -10\n",
      "\u001b[2m\u001b[36m(pid=15052)\u001b[0m 24.21\n",
      "\u001b[2m\u001b[36m(pid=15052)\u001b[0m reward: -10\n",
      "\u001b[2m\u001b[36m(pid=15052)\u001b[0m 24.18\n",
      "\u001b[2m\u001b[36m(pid=15052)\u001b[0m reward: -10\n",
      "\u001b[2m\u001b[36m(pid=15052)\u001b[0m 45.35\n",
      "\u001b[2m\u001b[36m(pid=15052)\u001b[0m reward: -10\n",
      "\u001b[2m\u001b[36m(pid=15052)\u001b[0m 24.7\n",
      "\u001b[2m\u001b[36m(pid=15052)\u001b[0m reward: -10\n",
      "\u001b[2m\u001b[36m(pid=15052)\u001b[0m 24.82\n",
      "\u001b[2m\u001b[36m(pid=15052)\u001b[0m reward: -10\n",
      "\u001b[2m\u001b[36m(pid=15052)\u001b[0m 24.76\n",
      "\u001b[2m\u001b[36m(pid=15052)\u001b[0m reward: -10\n",
      "\u001b[2m\u001b[36m(pid=15052)\u001b[0m 24.63\n",
      "\u001b[2m\u001b[36m(pid=15052)\u001b[0m reward: -10\n",
      "\u001b[2m\u001b[36m(pid=15052)\u001b[0m 47.0\n"
     ]
    },
    {
     "name": "stderr",
     "output_type": "stream",
     "text": [
      "\u001b[2m\u001b[36m(pid=15052)\u001b[0m c:\\users\\cig\\anaconda3\\envs\\autofocus\\lib\\site-packages\\imquality\\brisque.py:45: FutureWarning: The behavior of rgb2gray will change in scikit-image 0.19. Currently, rgb2gray allows 2D grayscale image to be passed as inputs and leaves them unmodified as outputs. Starting from version 0.19, 2D arrays will be treated as 1D images with 3 channels.\r\n",
      "\u001b[2m\u001b[36m(pid=15052)\u001b[0m   self.image = skimage.color.rgb2gray(self.image)\r\n"
     ]
    },
    {
     "name": "stdout",
     "output_type": "stream",
     "text": [
      "\u001b[2m\u001b[36m(pid=15052)\u001b[0m reward: -0.056130000000000006\n",
      "\u001b[2m\u001b[36m(pid=15052)\u001b[0m 27.67\n",
      "\u001b[2m\u001b[36m(pid=15052)\u001b[0m reward: -10\n",
      "\u001b[2m\u001b[36m(pid=15052)\u001b[0m 61.94\n",
      "\u001b[2m\u001b[36m(pid=15052)\u001b[0m reward: -10\n",
      "\u001b[2m\u001b[36m(pid=15052)\u001b[0m 24.71\n",
      "\u001b[2m\u001b[36m(pid=15052)\u001b[0m reward: -10\n",
      "\u001b[2m\u001b[36m(pid=15052)\u001b[0m 63.18\n",
      "\u001b[2m\u001b[36m(pid=15052)\u001b[0m reward: -10\n",
      "\u001b[2m\u001b[36m(pid=15052)\u001b[0m 24.63\n",
      "\u001b[2m\u001b[36m(pid=15052)\u001b[0m reward: -10\n",
      "\u001b[2m\u001b[36m(pid=15052)\u001b[0m 55.43\n",
      "\u001b[2m\u001b[36m(pid=15052)\u001b[0m reward: -10\n",
      "\u001b[2m\u001b[36m(pid=15052)\u001b[0m 32.28\n",
      "\u001b[2m\u001b[36m(pid=15052)\u001b[0m reward: -10\n",
      "\u001b[2m\u001b[36m(pid=15052)\u001b[0m 63.79\n",
      "\u001b[2m\u001b[36m(pid=15052)\u001b[0m reward: -10\n",
      "\u001b[2m\u001b[36m(pid=15052)\u001b[0m 57.11\n",
      "\u001b[2m\u001b[36m(pid=15052)\u001b[0m reward: -10\n",
      "\u001b[2m\u001b[36m(pid=15052)\u001b[0m 24.45\n",
      "\u001b[2m\u001b[36m(pid=15052)\u001b[0m reward: -10\n",
      "\u001b[2m\u001b[36m(pid=15052)\u001b[0m 50.18\n",
      "\u001b[2m\u001b[36m(pid=15052)\u001b[0m reward: -10\n",
      "\u001b[2m\u001b[36m(pid=15052)\u001b[0m 41.8\n",
      "\u001b[2m\u001b[36m(pid=15052)\u001b[0m reward: -10\n",
      "\u001b[2m\u001b[36m(pid=15052)\u001b[0m 24.18\n",
      "\u001b[2m\u001b[36m(pid=15052)\u001b[0m reward: -10\n",
      "\u001b[2m\u001b[36m(pid=15052)\u001b[0m 33.59\n",
      "\u001b[2m\u001b[36m(pid=15052)\u001b[0m reward: -10\n",
      "custom_metrics: {}\n",
      "date: 2021-03-31_16-53-49\n",
      "done: false\n",
      "episode_len_mean: 6.882882882882883\n",
      "episode_reward_max: -0.018600000000000002\n",
      "episode_reward_mean: -62.90923072072072\n",
      "episode_reward_min: -100.0\n",
      "episodes_this_iter: 19\n",
      "episodes_total: 111\n",
      "experiment_id: f29f35cc3ac947278fbe79a0a7e35ac4\n",
      "hostname: DESKTOP-K2L4N78\n",
      "info:\n",
      "  learner:\n",
      "    default_policy:\n",
      "      cur_kl_coeff: 1.5187499523162842\n",
      "      cur_lr: 0.0002500000118743628\n",
      "      entropy: 8.499746322631836\n",
      "      entropy_coeff: 0.009999999776482582\n",
      "      kl: 0.030066020786762238\n",
      "      model: {}\n",
      "      policy_loss: -0.21556077897548676\n",
      "      total_loss: 1494.9033203125\n",
      "      vf_explained_var: 0.0\n",
      "      vf_loss: 1495.158203125\n",
      "  num_steps_sampled: 768\n",
      "  num_steps_trained: 768\n",
      "iterations_since_restore: 6\n",
      "node_ip: 10.16.102.19\n",
      "num_healthy_workers: 1\n",
      "off_policy_estimator: {}\n",
      "perf:\n",
      "  cpu_util_percent: 5.908995327102804\n",
      "  ram_util_percent: 43.903154205607464\n",
      "pid: 14556\n",
      "policy_reward_max: {}\n",
      "policy_reward_mean: {}\n",
      "policy_reward_min: {}\n",
      "sampler_perf:\n",
      "  mean_action_processing_ms: 0.04995170850399948\n",
      "  mean_env_wait_ms: 4139.305524974016\n",
      "  mean_inference_ms: 0.9198672157152596\n",
      "  mean_raw_obs_processing_ms: 514.748088299219\n",
      "time_since_restore: 3595.250392436981\n",
      "time_this_iter_s: 600.7515218257904\n",
      "time_total_s: 3595.250392436981\n",
      "timers:\n",
      "  learn_throughput: 676.173\n",
      "  learn_time_ms: 189.301\n",
      "  load_throughput: 22568.664\n",
      "  load_time_ms: 5.672\n",
      "  sample_throughput: 0.214\n",
      "  sample_time_ms: 598896.78\n",
      "  update_time_ms: 5.668\n",
      "timestamp: 1617198829\n",
      "timesteps_since_restore: 0\n",
      "timesteps_total: 768\n",
      "training_iteration: 6\n",
      "\n",
      "------- 5 -------\n",
      "\u001b[2m\u001b[36m(pid=15052)\u001b[0m 53.85\n",
      "\u001b[2m\u001b[36m(pid=15052)\u001b[0m reward: -10\n",
      "\u001b[2m\u001b[36m(pid=15052)\u001b[0m 24.94\n",
      "\u001b[2m\u001b[36m(pid=15052)\u001b[0m reward: -10\n",
      "\u001b[2m\u001b[36m(pid=15052)\u001b[0m 24.56\n",
      "\u001b[2m\u001b[36m(pid=15052)\u001b[0m reward: -10\n",
      "\u001b[2m\u001b[36m(pid=15052)\u001b[0m 68.94\n",
      "\u001b[2m\u001b[36m(pid=15052)\u001b[0m reward: -10\n",
      "\u001b[2m\u001b[36m(pid=15052)\u001b[0m 45.56\n",
      "\u001b[2m\u001b[36m(pid=15052)\u001b[0m reward: -10\n",
      "\u001b[2m\u001b[36m(pid=15052)\u001b[0m 24.43\n",
      "\u001b[2m\u001b[36m(pid=15052)\u001b[0m reward: -10\n",
      "\u001b[2m\u001b[36m(pid=15052)\u001b[0m 24.25\n",
      "\u001b[2m\u001b[36m(pid=15052)\u001b[0m reward: -10\n",
      "\u001b[2m\u001b[36m(pid=15052)\u001b[0m 61.58\n",
      "\u001b[2m\u001b[36m(pid=15052)\u001b[0m reward: -10\n",
      "\u001b[2m\u001b[36m(pid=15052)\u001b[0m 47.81\n"
     ]
    },
    {
     "name": "stderr",
     "output_type": "stream",
     "text": [
      "\u001b[2m\u001b[36m(pid=15052)\u001b[0m c:\\users\\cig\\anaconda3\\envs\\autofocus\\lib\\site-packages\\imquality\\brisque.py:45: FutureWarning: The behavior of rgb2gray will change in scikit-image 0.19. Currently, rgb2gray allows 2D grayscale image to be passed as inputs and leaves them unmodified as outputs. Starting from version 0.19, 2D arrays will be treated as 1D images with 3 channels.\r\n",
      "\u001b[2m\u001b[36m(pid=15052)\u001b[0m   self.image = skimage.color.rgb2gray(self.image)\r\n"
     ]
    },
    {
     "name": "stdout",
     "output_type": "stream",
     "text": [
      "\u001b[2m\u001b[36m(pid=15052)\u001b[0m reward: -0.01804\n",
      "\u001b[2m\u001b[36m(pid=15052)\u001b[0m 24.63\n",
      "\u001b[2m\u001b[36m(pid=15052)\u001b[0m reward: -10\n",
      "\u001b[2m\u001b[36m(pid=15052)\u001b[0m 47.21\n"
     ]
    },
    {
     "name": "stderr",
     "output_type": "stream",
     "text": [
      "\u001b[2m\u001b[36m(pid=15052)\u001b[0m c:\\users\\cig\\anaconda3\\envs\\autofocus\\lib\\site-packages\\imquality\\brisque.py:45: FutureWarning: The behavior of rgb2gray will change in scikit-image 0.19. Currently, rgb2gray allows 2D grayscale image to be passed as inputs and leaves them unmodified as outputs. Starting from version 0.19, 2D arrays will be treated as 1D images with 3 channels.\r\n",
      "\u001b[2m\u001b[36m(pid=15052)\u001b[0m   self.image = skimage.color.rgb2gray(self.image)\r\n"
     ]
    },
    {
     "name": "stdout",
     "output_type": "stream",
     "text": [
      "\u001b[2m\u001b[36m(pid=15052)\u001b[0m reward: -0.05192\n",
      "\u001b[2m\u001b[36m(pid=15052)\u001b[0m 49.25\n"
     ]
    },
    {
     "name": "stderr",
     "output_type": "stream",
     "text": [
      "\u001b[2m\u001b[36m(pid=15052)\u001b[0m c:\\users\\cig\\anaconda3\\envs\\autofocus\\lib\\site-packages\\imquality\\brisque.py:45: FutureWarning: The behavior of rgb2gray will change in scikit-image 0.19. Currently, rgb2gray allows 2D grayscale image to be passed as inputs and leaves them unmodified as outputs. Starting from version 0.19, 2D arrays will be treated as 1D images with 3 channels.\r\n",
      "\u001b[2m\u001b[36m(pid=15052)\u001b[0m   self.image = skimage.color.rgb2gray(self.image)\r\n"
     ]
    },
    {
     "name": "stdout",
     "output_type": "stream",
     "text": [
      "\u001b[2m\u001b[36m(pid=15052)\u001b[0m reward: -0.05128\n",
      "\u001b[2m\u001b[36m(pid=15052)\u001b[0m 48.75\n"
     ]
    },
    {
     "name": "stderr",
     "output_type": "stream",
     "text": [
      "\u001b[2m\u001b[36m(pid=15052)\u001b[0m c:\\users\\cig\\anaconda3\\envs\\autofocus\\lib\\site-packages\\imquality\\brisque.py:45: FutureWarning: The behavior of rgb2gray will change in scikit-image 0.19. Currently, rgb2gray allows 2D grayscale image to be passed as inputs and leaves them unmodified as outputs. Starting from version 0.19, 2D arrays will be treated as 1D images with 3 channels.\r\n",
      "\u001b[2m\u001b[36m(pid=15052)\u001b[0m   self.image = skimage.color.rgb2gray(self.image)\r\n"
     ]
    },
    {
     "name": "stdout",
     "output_type": "stream",
     "text": [
      "\u001b[2m\u001b[36m(pid=15052)\u001b[0m reward: -0.05901\n",
      "\u001b[2m\u001b[36m(pid=15052)\u001b[0m 49.84\n",
      "\u001b[2m\u001b[36m(pid=15052)\u001b[0m reward: -10\n",
      "\u001b[2m\u001b[36m(pid=15052)\u001b[0m 60.42\n",
      "\u001b[2m\u001b[36m(pid=15052)\u001b[0m reward: -10\n",
      "\u001b[2m\u001b[36m(pid=15052)\u001b[0m 33.9\n",
      "\u001b[2m\u001b[36m(pid=15052)\u001b[0m reward: -10\n",
      "\u001b[2m\u001b[36m(pid=15052)\u001b[0m 27.51\n",
      "\u001b[2m\u001b[36m(pid=15052)\u001b[0m reward: -10\n",
      "\u001b[2m\u001b[36m(pid=15052)\u001b[0m 55.33\n",
      "\u001b[2m\u001b[36m(pid=15052)\u001b[0m reward: -10\n",
      "\u001b[2m\u001b[36m(pid=15052)\u001b[0m 48.77\n"
     ]
    },
    {
     "name": "stderr",
     "output_type": "stream",
     "text": [
      "\u001b[2m\u001b[36m(pid=15052)\u001b[0m c:\\users\\cig\\anaconda3\\envs\\autofocus\\lib\\site-packages\\imquality\\brisque.py:45: FutureWarning: The behavior of rgb2gray will change in scikit-image 0.19. Currently, rgb2gray allows 2D grayscale image to be passed as inputs and leaves them unmodified as outputs. Starting from version 0.19, 2D arrays will be treated as 1D images with 3 channels.\r\n",
      "\u001b[2m\u001b[36m(pid=15052)\u001b[0m   self.image = skimage.color.rgb2gray(self.image)\r\n"
     ]
    },
    {
     "name": "stdout",
     "output_type": "stream",
     "text": [
      "\u001b[2m\u001b[36m(pid=15052)\u001b[0m reward: -0.0592\n",
      "\u001b[2m\u001b[36m(pid=15052)\u001b[0m 52.32\n",
      "\u001b[2m\u001b[36m(pid=15052)\u001b[0m reward: -10\n",
      "\u001b[2m\u001b[36m(pid=15052)\u001b[0m 60.96\n",
      "\u001b[2m\u001b[36m(pid=15052)\u001b[0m reward: -10\n",
      "\u001b[2m\u001b[36m(pid=15052)\u001b[0m 25.18\n",
      "\u001b[2m\u001b[36m(pid=15052)\u001b[0m reward: -10\n",
      "\u001b[2m\u001b[36m(pid=15052)\u001b[0m 63.55\n",
      "\u001b[2m\u001b[36m(pid=15052)\u001b[0m reward: -10\n",
      "\u001b[2m\u001b[36m(pid=15052)\u001b[0m 47.7\n"
     ]
    },
    {
     "name": "stderr",
     "output_type": "stream",
     "text": [
      "\u001b[2m\u001b[36m(pid=15052)\u001b[0m c:\\users\\cig\\anaconda3\\envs\\autofocus\\lib\\site-packages\\imquality\\brisque.py:45: FutureWarning: The behavior of rgb2gray will change in scikit-image 0.19. Currently, rgb2gray allows 2D grayscale image to be passed as inputs and leaves them unmodified as outputs. Starting from version 0.19, 2D arrays will be treated as 1D images with 3 channels.\r\n",
      "\u001b[2m\u001b[36m(pid=15052)\u001b[0m   self.image = skimage.color.rgb2gray(self.image)\r\n"
     ]
    },
    {
     "name": "stdout",
     "output_type": "stream",
     "text": [
      "\u001b[2m\u001b[36m(pid=15052)\u001b[0m reward: -0.0258\n",
      "\u001b[2m\u001b[36m(pid=15052)\u001b[0m 44.18\n",
      "\u001b[2m\u001b[36m(pid=15052)\u001b[0m reward: -10\n",
      "\u001b[2m\u001b[36m(pid=15052)\u001b[0m 24.6\n",
      "\u001b[2m\u001b[36m(pid=15052)\u001b[0m reward: -10\n",
      "\u001b[2m\u001b[36m(pid=15052)\u001b[0m 52.68\n",
      "\u001b[2m\u001b[36m(pid=15052)\u001b[0m reward: -10\n",
      "\u001b[2m\u001b[36m(pid=15052)\u001b[0m 53.86\n",
      "\u001b[2m\u001b[36m(pid=15052)\u001b[0m reward: -10\n",
      "\u001b[2m\u001b[36m(pid=15052)\u001b[0m 66.6\n",
      "\u001b[2m\u001b[36m(pid=15052)\u001b[0m reward: -10\n",
      "\u001b[2m\u001b[36m(pid=15052)\u001b[0m 24.8\n",
      "\u001b[2m\u001b[36m(pid=15052)\u001b[0m reward: -10\n",
      "\u001b[2m\u001b[36m(pid=15052)\u001b[0m 32.85\n",
      "\u001b[2m\u001b[36m(pid=15052)\u001b[0m reward: -10\n",
      "\u001b[2m\u001b[36m(pid=15052)\u001b[0m 24.5\n",
      "\u001b[2m\u001b[36m(pid=15052)\u001b[0m reward: -10\n",
      "\u001b[2m\u001b[36m(pid=15052)\u001b[0m 24.18\n",
      "\u001b[2m\u001b[36m(pid=15052)\u001b[0m reward: -10\n",
      "\u001b[2m\u001b[36m(pid=15052)\u001b[0m 24.71\n",
      "\u001b[2m\u001b[36m(pid=15052)\u001b[0m reward: -10\n",
      "\u001b[2m\u001b[36m(pid=15052)\u001b[0m 59.5\n",
      "\u001b[2m\u001b[36m(pid=15052)\u001b[0m reward: -10\n",
      "\u001b[2m\u001b[36m(pid=15052)\u001b[0m 43.42\n",
      "\u001b[2m\u001b[36m(pid=15052)\u001b[0m reward: -10\n",
      "\u001b[2m\u001b[36m(pid=15052)\u001b[0m 46.98\n"
     ]
    },
    {
     "name": "stderr",
     "output_type": "stream",
     "text": [
      "\u001b[2m\u001b[36m(pid=15052)\u001b[0m c:\\users\\cig\\anaconda3\\envs\\autofocus\\lib\\site-packages\\imquality\\brisque.py:45: FutureWarning: The behavior of rgb2gray will change in scikit-image 0.19. Currently, rgb2gray allows 2D grayscale image to be passed as inputs and leaves them unmodified as outputs. Starting from version 0.19, 2D arrays will be treated as 1D images with 3 channels.\r\n",
      "\u001b[2m\u001b[36m(pid=15052)\u001b[0m   self.image = skimage.color.rgb2gray(self.image)\r\n"
     ]
    },
    {
     "name": "stdout",
     "output_type": "stream",
     "text": [
      "\u001b[2m\u001b[36m(pid=15052)\u001b[0m reward: -0.053090000000000005\n",
      "\u001b[2m\u001b[36m(pid=15052)\u001b[0m 64.26\n",
      "\u001b[2m\u001b[36m(pid=15052)\u001b[0m reward: -10\n",
      "\u001b[2m\u001b[36m(pid=15052)\u001b[0m 24.43\n",
      "\u001b[2m\u001b[36m(pid=15052)\u001b[0m reward: -10\n",
      "\u001b[2m\u001b[36m(pid=15052)\u001b[0m 62.26\n",
      "\u001b[2m\u001b[36m(pid=15052)\u001b[0m reward: -10\n",
      "\u001b[2m\u001b[36m(pid=15052)\u001b[0m 24.27\n",
      "\u001b[2m\u001b[36m(pid=15052)\u001b[0m reward: -10\n",
      "\u001b[2m\u001b[36m(pid=15052)\u001b[0m 62.6\n",
      "\u001b[2m\u001b[36m(pid=15052)\u001b[0m reward: -10\n",
      "\u001b[2m\u001b[36m(pid=15052)\u001b[0m 24.84\n",
      "\u001b[2m\u001b[36m(pid=15052)\u001b[0m reward: -10\n",
      "\u001b[2m\u001b[36m(pid=15052)\u001b[0m 51.19\n",
      "\u001b[2m\u001b[36m(pid=15052)\u001b[0m reward: -10\n",
      "\u001b[2m\u001b[36m(pid=15052)\u001b[0m 56.38\n",
      "\u001b[2m\u001b[36m(pid=15052)\u001b[0m reward: -10\n",
      "\u001b[2m\u001b[36m(pid=15052)\u001b[0m 48.54\n"
     ]
    },
    {
     "name": "stderr",
     "output_type": "stream",
     "text": [
      "\u001b[2m\u001b[36m(pid=15052)\u001b[0m c:\\users\\cig\\anaconda3\\envs\\autofocus\\lib\\site-packages\\imquality\\brisque.py:45: FutureWarning: The behavior of rgb2gray will change in scikit-image 0.19. Currently, rgb2gray allows 2D grayscale image to be passed as inputs and leaves them unmodified as outputs. Starting from version 0.19, 2D arrays will be treated as 1D images with 3 channels.\r\n",
      "\u001b[2m\u001b[36m(pid=15052)\u001b[0m   self.image = skimage.color.rgb2gray(self.image)\r\n"
     ]
    },
    {
     "name": "stdout",
     "output_type": "stream",
     "text": [
      "\u001b[2m\u001b[36m(pid=15052)\u001b[0m reward: -0.05979\n",
      "\u001b[2m\u001b[36m(pid=15052)\u001b[0m 46.45\n"
     ]
    },
    {
     "name": "stderr",
     "output_type": "stream",
     "text": [
      "\u001b[2m\u001b[36m(pid=15052)\u001b[0m c:\\users\\cig\\anaconda3\\envs\\autofocus\\lib\\site-packages\\imquality\\brisque.py:45: FutureWarning: The behavior of rgb2gray will change in scikit-image 0.19. Currently, rgb2gray allows 2D grayscale image to be passed as inputs and leaves them unmodified as outputs. Starting from version 0.19, 2D arrays will be treated as 1D images with 3 channels.\r\n",
      "\u001b[2m\u001b[36m(pid=15052)\u001b[0m   self.image = skimage.color.rgb2gray(self.image)\r\n"
     ]
    },
    {
     "name": "stdout",
     "output_type": "stream",
     "text": [
      "\u001b[2m\u001b[36m(pid=15052)\u001b[0m reward: -0.04859\n",
      "\u001b[2m\u001b[36m(pid=15052)\u001b[0m 45.35\n",
      "\u001b[2m\u001b[36m(pid=15052)\u001b[0m reward: -10\n",
      "\u001b[2m\u001b[36m(pid=15052)\u001b[0m 46.69\n"
     ]
    },
    {
     "name": "stderr",
     "output_type": "stream",
     "text": [
      "\u001b[2m\u001b[36m(pid=15052)\u001b[0m c:\\users\\cig\\anaconda3\\envs\\autofocus\\lib\\site-packages\\imquality\\brisque.py:45: FutureWarning: The behavior of rgb2gray will change in scikit-image 0.19. Currently, rgb2gray allows 2D grayscale image to be passed as inputs and leaves them unmodified as outputs. Starting from version 0.19, 2D arrays will be treated as 1D images with 3 channels.\r\n",
      "\u001b[2m\u001b[36m(pid=15052)\u001b[0m   self.image = skimage.color.rgb2gray(self.image)\r\n"
     ]
    },
    {
     "name": "stdout",
     "output_type": "stream",
     "text": [
      "\u001b[2m\u001b[36m(pid=15052)\u001b[0m reward: -0.04535\n",
      "\u001b[2m\u001b[36m(pid=15052)\u001b[0m 49.29\n"
     ]
    },
    {
     "name": "stderr",
     "output_type": "stream",
     "text": [
      "\u001b[2m\u001b[36m(pid=15052)\u001b[0m c:\\users\\cig\\anaconda3\\envs\\autofocus\\lib\\site-packages\\imquality\\brisque.py:45: FutureWarning: The behavior of rgb2gray will change in scikit-image 0.19. Currently, rgb2gray allows 2D grayscale image to be passed as inputs and leaves them unmodified as outputs. Starting from version 0.19, 2D arrays will be treated as 1D images with 3 channels.\r\n",
      "\u001b[2m\u001b[36m(pid=15052)\u001b[0m   self.image = skimage.color.rgb2gray(self.image)\r\n"
     ]
    },
    {
     "name": "stdout",
     "output_type": "stream",
     "text": [
      "\u001b[2m\u001b[36m(pid=15052)\u001b[0m reward: -0.047799999999999995\n",
      "\u001b[2m\u001b[36m(pid=15052)\u001b[0m 48.71\n"
     ]
    },
    {
     "name": "stderr",
     "output_type": "stream",
     "text": [
      "\u001b[2m\u001b[36m(pid=15052)\u001b[0m c:\\users\\cig\\anaconda3\\envs\\autofocus\\lib\\site-packages\\imquality\\brisque.py:45: FutureWarning: The behavior of rgb2gray will change in scikit-image 0.19. Currently, rgb2gray allows 2D grayscale image to be passed as inputs and leaves them unmodified as outputs. Starting from version 0.19, 2D arrays will be treated as 1D images with 3 channels.\r\n",
      "\u001b[2m\u001b[36m(pid=15052)\u001b[0m   self.image = skimage.color.rgb2gray(self.image)\r\n"
     ]
    },
    {
     "name": "stdout",
     "output_type": "stream",
     "text": [
      "\u001b[2m\u001b[36m(pid=15052)\u001b[0m reward: -0.057240000000000006\n",
      "\u001b[2m\u001b[36m(pid=15052)\u001b[0m 24.49\n",
      "\u001b[2m\u001b[36m(pid=15052)\u001b[0m reward: -10\n",
      "\u001b[2m\u001b[36m(pid=15052)\u001b[0m 64.38\n",
      "\u001b[2m\u001b[36m(pid=15052)\u001b[0m reward: -10\n",
      "\u001b[2m\u001b[36m(pid=15052)\u001b[0m 51.39\n",
      "\u001b[2m\u001b[36m(pid=15052)\u001b[0m reward: -10\n",
      "\u001b[2m\u001b[36m(pid=15052)\u001b[0m 60.47\n",
      "\u001b[2m\u001b[36m(pid=15052)\u001b[0m reward: -10\n",
      "\u001b[2m\u001b[36m(pid=15052)\u001b[0m 56.39\n",
      "\u001b[2m\u001b[36m(pid=15052)\u001b[0m reward: -10\n",
      "\u001b[2m\u001b[36m(pid=15052)\u001b[0m 66.42\n",
      "\u001b[2m\u001b[36m(pid=15052)\u001b[0m reward: -10\n",
      "\u001b[2m\u001b[36m(pid=15052)\u001b[0m 51.67\n",
      "\u001b[2m\u001b[36m(pid=15052)\u001b[0m reward: -10\n",
      "\u001b[2m\u001b[36m(pid=15052)\u001b[0m 24.87\n",
      "\u001b[2m\u001b[36m(pid=15052)\u001b[0m reward: -10\n",
      "\u001b[2m\u001b[36m(pid=15052)\u001b[0m 44.1\n",
      "\u001b[2m\u001b[36m(pid=15052)\u001b[0m reward: -10\n",
      "\u001b[2m\u001b[36m(pid=15052)\u001b[0m 24.37\n",
      "\u001b[2m\u001b[36m(pid=15052)\u001b[0m reward: -10\n",
      "\u001b[2m\u001b[36m(pid=15052)\u001b[0m 30.86\n",
      "\u001b[2m\u001b[36m(pid=15052)\u001b[0m reward: -10\n",
      "\u001b[2m\u001b[36m(pid=15052)\u001b[0m 24.85\n",
      "\u001b[2m\u001b[36m(pid=15052)\u001b[0m reward: -10\n",
      "\u001b[2m\u001b[36m(pid=15052)\u001b[0m 56.69\n",
      "\u001b[2m\u001b[36m(pid=15052)\u001b[0m reward: -10\n",
      "\u001b[2m\u001b[36m(pid=15052)\u001b[0m 58.29\n",
      "\u001b[2m\u001b[36m(pid=15052)\u001b[0m reward: -10\n",
      "\u001b[2m\u001b[36m(pid=15052)\u001b[0m 24.95\n",
      "\u001b[2m\u001b[36m(pid=15052)\u001b[0m reward: -10\n",
      "\u001b[2m\u001b[36m(pid=15052)\u001b[0m 24.25\n",
      "\u001b[2m\u001b[36m(pid=15052)\u001b[0m reward: -10\n",
      "\u001b[2m\u001b[36m(pid=15052)\u001b[0m 51.0\n",
      "\u001b[2m\u001b[36m(pid=15052)\u001b[0m reward: -10\n",
      "\u001b[2m\u001b[36m(pid=15052)\u001b[0m 45.21\n",
      "\u001b[2m\u001b[36m(pid=15052)\u001b[0m reward: -10\n",
      "\u001b[2m\u001b[36m(pid=15052)\u001b[0m 24.18\n",
      "\u001b[2m\u001b[36m(pid=15052)\u001b[0m reward: -10\n",
      "\u001b[2m\u001b[36m(pid=15052)\u001b[0m 44.89\n",
      "\u001b[2m\u001b[36m(pid=15052)\u001b[0m reward: -10\n",
      "\u001b[2m\u001b[36m(pid=15052)\u001b[0m 60.77\n",
      "\u001b[2m\u001b[36m(pid=15052)\u001b[0m reward: -10\n",
      "\u001b[2m\u001b[36m(pid=15052)\u001b[0m 61.44\n",
      "\u001b[2m\u001b[36m(pid=15052)\u001b[0m reward: -10\n",
      "\u001b[2m\u001b[36m(pid=15052)\u001b[0m 54.1\n",
      "\u001b[2m\u001b[36m(pid=15052)\u001b[0m reward: -10\n",
      "\u001b[2m\u001b[36m(pid=15052)\u001b[0m 24.72\n",
      "\u001b[2m\u001b[36m(pid=15052)\u001b[0m reward: -10\n",
      "\u001b[2m\u001b[36m(pid=15052)\u001b[0m 29.87\n",
      "\u001b[2m\u001b[36m(pid=15052)\u001b[0m reward: -10\n",
      "\u001b[2m\u001b[36m(pid=15052)\u001b[0m 65.4\n",
      "\u001b[2m\u001b[36m(pid=15052)\u001b[0m reward: -10\n",
      "\u001b[2m\u001b[36m(pid=15052)\u001b[0m 39.71\n",
      "\u001b[2m\u001b[36m(pid=15052)\u001b[0m reward: -10\n",
      "\u001b[2m\u001b[36m(pid=15052)\u001b[0m 55.29\n",
      "\u001b[2m\u001b[36m(pid=15052)\u001b[0m reward: -10\n",
      "\u001b[2m\u001b[36m(pid=15052)\u001b[0m 24.97\n",
      "\u001b[2m\u001b[36m(pid=15052)\u001b[0m reward: -10\n",
      "\u001b[2m\u001b[36m(pid=15052)\u001b[0m 24.71\n",
      "\u001b[2m\u001b[36m(pid=15052)\u001b[0m reward: -10\n",
      "\u001b[2m\u001b[36m(pid=15052)\u001b[0m 44.75\n",
      "\u001b[2m\u001b[36m(pid=15052)\u001b[0m reward: -10\n",
      "\u001b[2m\u001b[36m(pid=15052)\u001b[0m 48.22\n"
     ]
    },
    {
     "name": "stderr",
     "output_type": "stream",
     "text": [
      "\u001b[2m\u001b[36m(pid=15052)\u001b[0m c:\\users\\cig\\anaconda3\\envs\\autofocus\\lib\\site-packages\\imquality\\brisque.py:45: FutureWarning: The behavior of rgb2gray will change in scikit-image 0.19. Currently, rgb2gray allows 2D grayscale image to be passed as inputs and leaves them unmodified as outputs. Starting from version 0.19, 2D arrays will be treated as 1D images with 3 channels.\r\n",
      "\u001b[2m\u001b[36m(pid=15052)\u001b[0m   self.image = skimage.color.rgb2gray(self.image)\r\n"
     ]
    },
    {
     "name": "stdout",
     "output_type": "stream",
     "text": [
      "\u001b[2m\u001b[36m(pid=15052)\u001b[0m reward: -0.02899\n",
      "\u001b[2m\u001b[36m(pid=15052)\u001b[0m 49.49\n"
     ]
    },
    {
     "name": "stderr",
     "output_type": "stream",
     "text": [
      "\u001b[2m\u001b[36m(pid=15052)\u001b[0m c:\\users\\cig\\anaconda3\\envs\\autofocus\\lib\\site-packages\\imquality\\brisque.py:45: FutureWarning: The behavior of rgb2gray will change in scikit-image 0.19. Currently, rgb2gray allows 2D grayscale image to be passed as inputs and leaves them unmodified as outputs. Starting from version 0.19, 2D arrays will be treated as 1D images with 3 channels.\r\n",
      "\u001b[2m\u001b[36m(pid=15052)\u001b[0m   self.image = skimage.color.rgb2gray(self.image)\r\n"
     ]
    },
    {
     "name": "stdout",
     "output_type": "stream",
     "text": [
      "\u001b[2m\u001b[36m(pid=15052)\u001b[0m reward: -0.04754\n",
      "\u001b[2m\u001b[36m(pid=15052)\u001b[0m 31.17\n",
      "\u001b[2m\u001b[36m(pid=15052)\u001b[0m reward: -10\n",
      "\u001b[2m\u001b[36m(pid=15052)\u001b[0m 36.23\n",
      "\u001b[2m\u001b[36m(pid=15052)\u001b[0m reward: -10\n",
      "\u001b[2m\u001b[36m(pid=15052)\u001b[0m 24.71\n",
      "\u001b[2m\u001b[36m(pid=15052)\u001b[0m reward: -10\n",
      "\u001b[2m\u001b[36m(pid=15052)\u001b[0m 24.19\n",
      "\u001b[2m\u001b[36m(pid=15052)\u001b[0m reward: -10\n",
      "\u001b[2m\u001b[36m(pid=15052)\u001b[0m 41.28\n",
      "\u001b[2m\u001b[36m(pid=15052)\u001b[0m reward: -10\n",
      "\u001b[2m\u001b[36m(pid=15052)\u001b[0m 24.18\n",
      "\u001b[2m\u001b[36m(pid=15052)\u001b[0m reward: -10\n",
      "\u001b[2m\u001b[36m(pid=15052)\u001b[0m 48.88\n"
     ]
    },
    {
     "name": "stderr",
     "output_type": "stream",
     "text": [
      "\u001b[2m\u001b[36m(pid=15052)\u001b[0m c:\\users\\cig\\anaconda3\\envs\\autofocus\\lib\\site-packages\\imquality\\brisque.py:45: FutureWarning: The behavior of rgb2gray will change in scikit-image 0.19. Currently, rgb2gray allows 2D grayscale image to be passed as inputs and leaves them unmodified as outputs. Starting from version 0.19, 2D arrays will be treated as 1D images with 3 channels.\r\n",
      "\u001b[2m\u001b[36m(pid=15052)\u001b[0m   self.image = skimage.color.rgb2gray(self.image)\r\n"
     ]
    },
    {
     "name": "stdout",
     "output_type": "stream",
     "text": [
      "\u001b[2m\u001b[36m(pid=15052)\u001b[0m reward: -0.058320000000000004\n",
      "\u001b[2m\u001b[36m(pid=15052)\u001b[0m 47.16\n"
     ]
    },
    {
     "name": "stderr",
     "output_type": "stream",
     "text": [
      "\u001b[2m\u001b[36m(pid=15052)\u001b[0m c:\\users\\cig\\anaconda3\\envs\\autofocus\\lib\\site-packages\\imquality\\brisque.py:45: FutureWarning: The behavior of rgb2gray will change in scikit-image 0.19. Currently, rgb2gray allows 2D grayscale image to be passed as inputs and leaves them unmodified as outputs. Starting from version 0.19, 2D arrays will be treated as 1D images with 3 channels.\r\n",
      "\u001b[2m\u001b[36m(pid=15052)\u001b[0m   self.image = skimage.color.rgb2gray(self.image)\r\n"
     ]
    },
    {
     "name": "stdout",
     "output_type": "stream",
     "text": [
      "\u001b[2m\u001b[36m(pid=15052)\u001b[0m reward: -0.05376\n",
      "\u001b[2m\u001b[36m(pid=15052)\u001b[0m 33.9\n",
      "\u001b[2m\u001b[36m(pid=15052)\u001b[0m reward: -10\n",
      "\u001b[2m\u001b[36m(pid=15052)\u001b[0m 24.95\n",
      "\u001b[2m\u001b[36m(pid=15052)\u001b[0m reward: -10\n",
      "\u001b[2m\u001b[36m(pid=15052)\u001b[0m 24.87\n",
      "\u001b[2m\u001b[36m(pid=15052)\u001b[0m reward: -10\n",
      "\u001b[2m\u001b[36m(pid=15052)\u001b[0m 24.67\n",
      "\u001b[2m\u001b[36m(pid=15052)\u001b[0m reward: -10\n",
      "\u001b[2m\u001b[36m(pid=15052)\u001b[0m 31.68\n",
      "\u001b[2m\u001b[36m(pid=15052)\u001b[0m reward: -10\n",
      "\u001b[2m\u001b[36m(pid=15052)\u001b[0m 24.23\n",
      "\u001b[2m\u001b[36m(pid=15052)\u001b[0m reward: -10\n",
      "\u001b[2m\u001b[36m(pid=15052)\u001b[0m 38.77\n",
      "\u001b[2m\u001b[36m(pid=15052)\u001b[0m reward: -10\n",
      "\u001b[2m\u001b[36m(pid=15052)\u001b[0m 24.23\n",
      "\u001b[2m\u001b[36m(pid=15052)\u001b[0m reward: -10\n",
      "\u001b[2m\u001b[36m(pid=15052)\u001b[0m 43.23\n",
      "\u001b[2m\u001b[36m(pid=15052)\u001b[0m reward: -10\n",
      "\u001b[2m\u001b[36m(pid=15052)\u001b[0m 24.42\n",
      "\u001b[2m\u001b[36m(pid=15052)\u001b[0m reward: -10\n",
      "\u001b[2m\u001b[36m(pid=15052)\u001b[0m 51.56\n",
      "\u001b[2m\u001b[36m(pid=15052)\u001b[0m reward: -10\n",
      "\u001b[2m\u001b[36m(pid=15052)\u001b[0m 48.1\n"
     ]
    },
    {
     "name": "stderr",
     "output_type": "stream",
     "text": [
      "\u001b[2m\u001b[36m(pid=15052)\u001b[0m c:\\users\\cig\\anaconda3\\envs\\autofocus\\lib\\site-packages\\imquality\\brisque.py:45: FutureWarning: The behavior of rgb2gray will change in scikit-image 0.19. Currently, rgb2gray allows 2D grayscale image to be passed as inputs and leaves them unmodified as outputs. Starting from version 0.19, 2D arrays will be treated as 1D images with 3 channels.\r\n",
      "\u001b[2m\u001b[36m(pid=15052)\u001b[0m   self.image = skimage.color.rgb2gray(self.image)\r\n"
     ]
    },
    {
     "name": "stdout",
     "output_type": "stream",
     "text": [
      "\u001b[2m\u001b[36m(pid=15052)\u001b[0m reward: -0.02104\n",
      "\u001b[2m\u001b[36m(pid=15052)\u001b[0m 24.63\n",
      "\u001b[2m\u001b[36m(pid=15052)\u001b[0m reward: -10\n",
      "\u001b[2m\u001b[36m(pid=15052)\u001b[0m 67.15\n",
      "\u001b[2m\u001b[36m(pid=15052)\u001b[0m reward: -10\n",
      "\u001b[2m\u001b[36m(pid=15052)\u001b[0m 46.76\n"
     ]
    },
    {
     "name": "stderr",
     "output_type": "stream",
     "text": [
      "\u001b[2m\u001b[36m(pid=15052)\u001b[0m c:\\users\\cig\\anaconda3\\envs\\autofocus\\lib\\site-packages\\imquality\\brisque.py:45: FutureWarning: The behavior of rgb2gray will change in scikit-image 0.19. Currently, rgb2gray allows 2D grayscale image to be passed as inputs and leaves them unmodified as outputs. Starting from version 0.19, 2D arrays will be treated as 1D images with 3 channels.\r\n",
      "\u001b[2m\u001b[36m(pid=15052)\u001b[0m   self.image = skimage.color.rgb2gray(self.image)\r\n"
     ]
    },
    {
     "name": "stdout",
     "output_type": "stream",
     "text": [
      "\u001b[2m\u001b[36m(pid=15052)\u001b[0m reward: -0.04648\n",
      "\u001b[2m\u001b[36m(pid=15052)\u001b[0m 56.49\n",
      "\u001b[2m\u001b[36m(pid=15052)\u001b[0m reward: -10\n",
      "\u001b[2m\u001b[36m(pid=15052)\u001b[0m 46.88\n"
     ]
    },
    {
     "name": "stderr",
     "output_type": "stream",
     "text": [
      "\u001b[2m\u001b[36m(pid=15052)\u001b[0m c:\\users\\cig\\anaconda3\\envs\\autofocus\\lib\\site-packages\\imquality\\brisque.py:45: FutureWarning: The behavior of rgb2gray will change in scikit-image 0.19. Currently, rgb2gray allows 2D grayscale image to be passed as inputs and leaves them unmodified as outputs. Starting from version 0.19, 2D arrays will be treated as 1D images with 3 channels.\r\n",
      "\u001b[2m\u001b[36m(pid=15052)\u001b[0m   self.image = skimage.color.rgb2gray(self.image)\r\n"
     ]
    },
    {
     "name": "stdout",
     "output_type": "stream",
     "text": [
      "\u001b[2m\u001b[36m(pid=15052)\u001b[0m reward: -0.0555\n",
      "\u001b[2m\u001b[36m(pid=15052)\u001b[0m 63.13\n",
      "\u001b[2m\u001b[36m(pid=15052)\u001b[0m reward: -10\n",
      "\u001b[2m\u001b[36m(pid=15052)\u001b[0m 46.35\n"
     ]
    },
    {
     "name": "stderr",
     "output_type": "stream",
     "text": [
      "\u001b[2m\u001b[36m(pid=15052)\u001b[0m c:\\users\\cig\\anaconda3\\envs\\autofocus\\lib\\site-packages\\imquality\\brisque.py:45: FutureWarning: The behavior of rgb2gray will change in scikit-image 0.19. Currently, rgb2gray allows 2D grayscale image to be passed as inputs and leaves them unmodified as outputs. Starting from version 0.19, 2D arrays will be treated as 1D images with 3 channels.\r\n",
      "\u001b[2m\u001b[36m(pid=15052)\u001b[0m   self.image = skimage.color.rgb2gray(self.image)\r\n"
     ]
    },
    {
     "name": "stdout",
     "output_type": "stream",
     "text": [
      "\u001b[2m\u001b[36m(pid=15052)\u001b[0m reward: -0.03604\n",
      "\u001b[2m\u001b[36m(pid=15052)\u001b[0m 59.2\n",
      "\u001b[2m\u001b[36m(pid=15052)\u001b[0m reward: -10\n",
      "\u001b[2m\u001b[36m(pid=15052)\u001b[0m 24.82\n",
      "\u001b[2m\u001b[36m(pid=15052)\u001b[0m reward: -10\n",
      "\u001b[2m\u001b[36m(pid=15052)\u001b[0m 24.86\n",
      "\u001b[2m\u001b[36m(pid=15052)\u001b[0m reward: -10\n",
      "\u001b[2m\u001b[36m(pid=15052)\u001b[0m 26.87\n",
      "\u001b[2m\u001b[36m(pid=15052)\u001b[0m reward: -10\n",
      "\u001b[2m\u001b[36m(pid=15052)\u001b[0m 24.88\n",
      "\u001b[2m\u001b[36m(pid=15052)\u001b[0m reward: -10\n",
      "\u001b[2m\u001b[36m(pid=15052)\u001b[0m 31.64\n",
      "\u001b[2m\u001b[36m(pid=15052)\u001b[0m reward: -10\n",
      "\u001b[2m\u001b[36m(pid=15052)\u001b[0m 24.21\n",
      "\u001b[2m\u001b[36m(pid=15052)\u001b[0m reward: -10\n",
      "\u001b[2m\u001b[36m(pid=15052)\u001b[0m 31.96\n",
      "\u001b[2m\u001b[36m(pid=15052)\u001b[0m reward: -10\n",
      "\u001b[2m\u001b[36m(pid=15052)\u001b[0m 28.61\n",
      "\u001b[2m\u001b[36m(pid=15052)\u001b[0m reward: -10\n",
      "\u001b[2m\u001b[36m(pid=15052)\u001b[0m 48.85\n"
     ]
    },
    {
     "name": "stderr",
     "output_type": "stream",
     "text": [
      "\u001b[2m\u001b[36m(pid=15052)\u001b[0m c:\\users\\cig\\anaconda3\\envs\\autofocus\\lib\\site-packages\\imquality\\brisque.py:45: FutureWarning: The behavior of rgb2gray will change in scikit-image 0.19. Currently, rgb2gray allows 2D grayscale image to be passed as inputs and leaves them unmodified as outputs. Starting from version 0.19, 2D arrays will be treated as 1D images with 3 channels.\r\n",
      "\u001b[2m\u001b[36m(pid=15052)\u001b[0m   self.image = skimage.color.rgb2gray(self.image)\r\n"
     ]
    },
    {
     "name": "stdout",
     "output_type": "stream",
     "text": [
      "\u001b[2m\u001b[36m(pid=15052)\u001b[0m reward: -0.05615\n",
      "\u001b[2m\u001b[36m(pid=15052)\u001b[0m 24.68\n",
      "\u001b[2m\u001b[36m(pid=15052)\u001b[0m reward: -10\n",
      "\u001b[2m\u001b[36m(pid=15052)\u001b[0m 24.93\n",
      "\u001b[2m\u001b[36m(pid=15052)\u001b[0m reward: -10\n",
      "\u001b[2m\u001b[36m(pid=15052)\u001b[0m 24.35\n",
      "\u001b[2m\u001b[36m(pid=15052)\u001b[0m reward: -10\n",
      "\u001b[2m\u001b[36m(pid=15052)\u001b[0m 60.56\n",
      "\u001b[2m\u001b[36m(pid=15052)\u001b[0m reward: -10\n",
      "\u001b[2m\u001b[36m(pid=15052)\u001b[0m 42.56\n",
      "\u001b[2m\u001b[36m(pid=15052)\u001b[0m reward: -10\n",
      "\u001b[2m\u001b[36m(pid=15052)\u001b[0m 47.69\n"
     ]
    },
    {
     "name": "stderr",
     "output_type": "stream",
     "text": [
      "\u001b[2m\u001b[36m(pid=15052)\u001b[0m c:\\users\\cig\\anaconda3\\envs\\autofocus\\lib\\site-packages\\imquality\\brisque.py:45: FutureWarning: The behavior of rgb2gray will change in scikit-image 0.19. Currently, rgb2gray allows 2D grayscale image to be passed as inputs and leaves them unmodified as outputs. Starting from version 0.19, 2D arrays will be treated as 1D images with 3 channels.\r\n",
      "\u001b[2m\u001b[36m(pid=15052)\u001b[0m   self.image = skimage.color.rgb2gray(self.image)\r\n"
     ]
    },
    {
     "name": "stdout",
     "output_type": "stream",
     "text": [
      "\u001b[2m\u001b[36m(pid=15052)\u001b[0m reward: -0.03222\n",
      "\u001b[2m\u001b[36m(pid=15052)\u001b[0m 48.8\n"
     ]
    },
    {
     "name": "stderr",
     "output_type": "stream",
     "text": [
      "\u001b[2m\u001b[36m(pid=15052)\u001b[0m c:\\users\\cig\\anaconda3\\envs\\autofocus\\lib\\site-packages\\imquality\\brisque.py:45: FutureWarning: The behavior of rgb2gray will change in scikit-image 0.19. Currently, rgb2gray allows 2D grayscale image to be passed as inputs and leaves them unmodified as outputs. Starting from version 0.19, 2D arrays will be treated as 1D images with 3 channels.\r\n",
      "\u001b[2m\u001b[36m(pid=15052)\u001b[0m   self.image = skimage.color.rgb2gray(self.image)\r\n"
     ]
    },
    {
     "name": "stdout",
     "output_type": "stream",
     "text": [
      "\u001b[2m\u001b[36m(pid=15052)\u001b[0m reward: -0.05318\n",
      "custom_metrics: {}\n",
      "date: 2021-03-31_17-04-29\n",
      "done: false\n",
      "episode_len_mean: 6.4\n",
      "episode_reward_max: -0.018600000000000002\n",
      "episode_reward_mean: -57.67136385714286\n",
      "episode_reward_min: -100.0\n",
      "episodes_this_iter: 29\n",
      "episodes_total: 140\n",
      "experiment_id: f29f35cc3ac947278fbe79a0a7e35ac4\n",
      "hostname: DESKTOP-K2L4N78\n",
      "info:\n",
      "  learner:\n",
      "    default_policy:\n",
      "      cur_kl_coeff: 2.278125047683716\n",
      "      cur_lr: 0.0002500000118743628\n",
      "      entropy: 8.412160873413086\n",
      "      entropy_coeff: 0.009999999776482582\n",
      "      kl: 0.022985568270087242\n",
      "      model: {}\n",
      "      policy_loss: -0.20905514061450958\n",
      "      total_loss: 1328.81494140625\n",
      "      vf_explained_var: -1.1920928955078125e-07\n",
      "      vf_loss: 1329.0557861328125\n",
      "  num_steps_sampled: 896\n",
      "  num_steps_trained: 896\n",
      "iterations_since_restore: 7\n",
      "node_ip: 10.16.102.19\n",
      "num_healthy_workers: 1\n",
      "off_policy_estimator: {}\n",
      "perf:\n",
      "  cpu_util_percent: 7.25844298245614\n",
      "  ram_util_percent: 44.73969298245614\n",
      "pid: 14556\n",
      "policy_reward_max: {}\n",
      "policy_reward_mean: {}\n",
      "policy_reward_min: {}\n",
      "sampler_perf:\n",
      "  mean_action_processing_ms: 0.0469902763905997\n",
      "  mean_env_wait_ms: 4140.181733313124\n",
      "  mean_inference_ms: 0.9195154050917678\n",
      "  mean_raw_obs_processing_ms: 527.1277278778658\n",
      "time_since_restore: 4235.116434335709\n",
      "time_this_iter_s: 639.8660418987274\n",
      "time_total_s: 4235.116434335709\n",
      "timers:\n",
      "  learn_throughput: 688.29\n",
      "  learn_time_ms: 185.968\n",
      "  load_throughput: 24876.688\n",
      "  load_time_ms: 5.145\n",
      "  sample_throughput: 0.212\n",
      "  sample_time_ms: 604709.92\n",
      "  update_time_ms: 5.715\n",
      "timestamp: 1617199469\n",
      "timesteps_since_restore: 0\n",
      "timesteps_total: 896\n",
      "training_iteration: 7\n",
      "\n",
      "------- 6 -------\n",
      "\u001b[2m\u001b[36m(pid=15052)\u001b[0m 31.71\n",
      "\u001b[2m\u001b[36m(pid=15052)\u001b[0m reward: -10\n",
      "\u001b[2m\u001b[36m(pid=15052)\u001b[0m 24.22\n",
      "\u001b[2m\u001b[36m(pid=15052)\u001b[0m reward: -10\n",
      "\u001b[2m\u001b[36m(pid=15052)\u001b[0m 35.68\n",
      "\u001b[2m\u001b[36m(pid=15052)\u001b[0m reward: -10\n",
      "\u001b[2m\u001b[36m(pid=15052)\u001b[0m 65.18\n",
      "\u001b[2m\u001b[36m(pid=15052)\u001b[0m reward: -10\n",
      "\u001b[2m\u001b[36m(pid=15052)\u001b[0m 63.24\n",
      "\u001b[2m\u001b[36m(pid=15052)\u001b[0m reward: -10\n",
      "\u001b[2m\u001b[36m(pid=15052)\u001b[0m 52.97\n",
      "\u001b[2m\u001b[36m(pid=15052)\u001b[0m reward: -10\n",
      "\u001b[2m\u001b[36m(pid=15052)\u001b[0m 38.18\n",
      "\u001b[2m\u001b[36m(pid=15052)\u001b[0m reward: -10\n",
      "\u001b[2m\u001b[36m(pid=15052)\u001b[0m 24.42\n",
      "\u001b[2m\u001b[36m(pid=15052)\u001b[0m reward: -10\n",
      "\u001b[2m\u001b[36m(pid=15052)\u001b[0m 24.71\n",
      "\u001b[2m\u001b[36m(pid=15052)\u001b[0m reward: -10\n",
      "\u001b[2m\u001b[36m(pid=15052)\u001b[0m 46.3\n"
     ]
    },
    {
     "name": "stderr",
     "output_type": "stream",
     "text": [
      "\u001b[2m\u001b[36m(pid=15052)\u001b[0m c:\\users\\cig\\anaconda3\\envs\\autofocus\\lib\\site-packages\\imquality\\brisque.py:45: FutureWarning: The behavior of rgb2gray will change in scikit-image 0.19. Currently, rgb2gray allows 2D grayscale image to be passed as inputs and leaves them unmodified as outputs. Starting from version 0.19, 2D arrays will be treated as 1D images with 3 channels.\r\n",
      "\u001b[2m\u001b[36m(pid=15052)\u001b[0m   self.image = skimage.color.rgb2gray(self.image)\r\n"
     ]
    },
    {
     "name": "stdout",
     "output_type": "stream",
     "text": [
      "\u001b[2m\u001b[36m(pid=15052)\u001b[0m reward: -0.04379\n",
      "\u001b[2m\u001b[36m(pid=15052)\u001b[0m 47.25\n"
     ]
    },
    {
     "name": "stderr",
     "output_type": "stream",
     "text": [
      "\u001b[2m\u001b[36m(pid=15052)\u001b[0m c:\\users\\cig\\anaconda3\\envs\\autofocus\\lib\\site-packages\\imquality\\brisque.py:45: FutureWarning: The behavior of rgb2gray will change in scikit-image 0.19. Currently, rgb2gray allows 2D grayscale image to be passed as inputs and leaves them unmodified as outputs. Starting from version 0.19, 2D arrays will be treated as 1D images with 3 channels.\r\n",
      "\u001b[2m\u001b[36m(pid=15052)\u001b[0m   self.image = skimage.color.rgb2gray(self.image)\r\n"
     ]
    },
    {
     "name": "stdout",
     "output_type": "stream",
     "text": [
      "\u001b[2m\u001b[36m(pid=15052)\u001b[0m reward: -0.05461\n",
      "\u001b[2m\u001b[36m(pid=15052)\u001b[0m 48.5\n"
     ]
    },
    {
     "name": "stderr",
     "output_type": "stream",
     "text": [
      "\u001b[2m\u001b[36m(pid=15052)\u001b[0m c:\\users\\cig\\anaconda3\\envs\\autofocus\\lib\\site-packages\\imquality\\brisque.py:45: FutureWarning: The behavior of rgb2gray will change in scikit-image 0.19. Currently, rgb2gray allows 2D grayscale image to be passed as inputs and leaves them unmodified as outputs. Starting from version 0.19, 2D arrays will be treated as 1D images with 3 channels.\r\n",
      "\u001b[2m\u001b[36m(pid=15052)\u001b[0m   self.image = skimage.color.rgb2gray(self.image)\r\n"
     ]
    },
    {
     "name": "stdout",
     "output_type": "stream",
     "text": [
      "\u001b[2m\u001b[36m(pid=15052)\u001b[0m reward: -0.06314\n",
      "\u001b[2m\u001b[36m(pid=15052)\u001b[0m 24.9\n",
      "\u001b[2m\u001b[36m(pid=15052)\u001b[0m reward: -10\n",
      "\u001b[2m\u001b[36m(pid=15052)\u001b[0m 46.22\n"
     ]
    },
    {
     "name": "stderr",
     "output_type": "stream",
     "text": [
      "\u001b[2m\u001b[36m(pid=15052)\u001b[0m c:\\users\\cig\\anaconda3\\envs\\autofocus\\lib\\site-packages\\imquality\\brisque.py:45: FutureWarning: The behavior of rgb2gray will change in scikit-image 0.19. Currently, rgb2gray allows 2D grayscale image to be passed as inputs and leaves them unmodified as outputs. Starting from version 0.19, 2D arrays will be treated as 1D images with 3 channels.\r\n",
      "\u001b[2m\u001b[36m(pid=15052)\u001b[0m   self.image = skimage.color.rgb2gray(self.image)\r\n"
     ]
    },
    {
     "name": "stdout",
     "output_type": "stream",
     "text": [
      "\u001b[2m\u001b[36m(pid=15052)\u001b[0m reward: -0.04596\n",
      "\u001b[2m\u001b[36m(pid=15052)\u001b[0m 68.56\n",
      "\u001b[2m\u001b[36m(pid=15052)\u001b[0m reward: -10\n",
      "\u001b[2m\u001b[36m(pid=15052)\u001b[0m 46.56\n"
     ]
    },
    {
     "name": "stderr",
     "output_type": "stream",
     "text": [
      "\u001b[2m\u001b[36m(pid=15052)\u001b[0m c:\\users\\cig\\anaconda3\\envs\\autofocus\\lib\\site-packages\\imquality\\brisque.py:45: FutureWarning: The behavior of rgb2gray will change in scikit-image 0.19. Currently, rgb2gray allows 2D grayscale image to be passed as inputs and leaves them unmodified as outputs. Starting from version 0.19, 2D arrays will be treated as 1D images with 3 channels.\r\n",
      "\u001b[2m\u001b[36m(pid=15052)\u001b[0m   self.image = skimage.color.rgb2gray(self.image)\r\n"
     ]
    },
    {
     "name": "stdout",
     "output_type": "stream",
     "text": [
      "\u001b[2m\u001b[36m(pid=15052)\u001b[0m reward: -0.039630000000000006\n",
      "\u001b[2m\u001b[36m(pid=15052)\u001b[0m 46.89\n"
     ]
    },
    {
     "name": "stderr",
     "output_type": "stream",
     "text": [
      "\u001b[2m\u001b[36m(pid=15052)\u001b[0m c:\\users\\cig\\anaconda3\\envs\\autofocus\\lib\\site-packages\\imquality\\brisque.py:45: FutureWarning: The behavior of rgb2gray will change in scikit-image 0.19. Currently, rgb2gray allows 2D grayscale image to be passed as inputs and leaves them unmodified as outputs. Starting from version 0.19, 2D arrays will be treated as 1D images with 3 channels.\r\n",
      "\u001b[2m\u001b[36m(pid=15052)\u001b[0m   self.image = skimage.color.rgb2gray(self.image)\r\n"
     ]
    },
    {
     "name": "stdout",
     "output_type": "stream",
     "text": [
      "\u001b[2m\u001b[36m(pid=15052)\u001b[0m reward: -0.05659\n",
      "\u001b[2m\u001b[36m(pid=15052)\u001b[0m 24.38\n",
      "\u001b[2m\u001b[36m(pid=15052)\u001b[0m reward: -10\n",
      "\u001b[2m\u001b[36m(pid=15052)\u001b[0m 24.97\n",
      "\u001b[2m\u001b[36m(pid=15052)\u001b[0m reward: -10\n",
      "\u001b[2m\u001b[36m(pid=15052)\u001b[0m 24.11\n",
      "\u001b[2m\u001b[36m(pid=15052)\u001b[0m reward: -10\n",
      "\u001b[2m\u001b[36m(pid=15052)\u001b[0m 61.97\n",
      "\u001b[2m\u001b[36m(pid=15052)\u001b[0m reward: -10\n",
      "\u001b[2m\u001b[36m(pid=15052)\u001b[0m 24.25\n",
      "\u001b[2m\u001b[36m(pid=15052)\u001b[0m reward: -10\n",
      "\u001b[2m\u001b[36m(pid=15052)\u001b[0m 56.19\n",
      "\u001b[2m\u001b[36m(pid=15052)\u001b[0m reward: -10\n",
      "\u001b[2m\u001b[36m(pid=15052)\u001b[0m 47.7\n"
     ]
    },
    {
     "name": "stderr",
     "output_type": "stream",
     "text": [
      "\u001b[2m\u001b[36m(pid=15052)\u001b[0m c:\\users\\cig\\anaconda3\\envs\\autofocus\\lib\\site-packages\\imquality\\brisque.py:45: FutureWarning: The behavior of rgb2gray will change in scikit-image 0.19. Currently, rgb2gray allows 2D grayscale image to be passed as inputs and leaves them unmodified as outputs. Starting from version 0.19, 2D arrays will be treated as 1D images with 3 channels.\r\n",
      "\u001b[2m\u001b[36m(pid=15052)\u001b[0m   self.image = skimage.color.rgb2gray(self.image)\r\n"
     ]
    },
    {
     "name": "stdout",
     "output_type": "stream",
     "text": [
      "\u001b[2m\u001b[36m(pid=15052)\u001b[0m reward: -0.026000000000000002\n",
      "\u001b[2m\u001b[36m(pid=15052)\u001b[0m 60.6\n",
      "\u001b[2m\u001b[36m(pid=15052)\u001b[0m reward: -10\n",
      "\u001b[2m\u001b[36m(pid=15052)\u001b[0m 24.95\n",
      "\u001b[2m\u001b[36m(pid=15052)\u001b[0m reward: -10\n",
      "\u001b[2m\u001b[36m(pid=15052)\u001b[0m 24.56\n",
      "\u001b[2m\u001b[36m(pid=15052)\u001b[0m reward: -10\n",
      "\u001b[2m\u001b[36m(pid=15052)\u001b[0m 49.76\n"
     ]
    },
    {
     "name": "stderr",
     "output_type": "stream",
     "text": [
      "\u001b[2m\u001b[36m(pid=15052)\u001b[0m c:\\users\\cig\\anaconda3\\envs\\autofocus\\lib\\site-packages\\imquality\\brisque.py:45: FutureWarning: The behavior of rgb2gray will change in scikit-image 0.19. Currently, rgb2gray allows 2D grayscale image to be passed as inputs and leaves them unmodified as outputs. Starting from version 0.19, 2D arrays will be treated as 1D images with 3 channels.\r\n",
      "\u001b[2m\u001b[36m(pid=15052)\u001b[0m   self.image = skimage.color.rgb2gray(self.image)\r\n"
     ]
    },
    {
     "name": "stdout",
     "output_type": "stream",
     "text": [
      "\u001b[2m\u001b[36m(pid=15052)\u001b[0m reward: -0.04395\n",
      "\u001b[2m\u001b[36m(pid=15052)\u001b[0m 24.37\n",
      "\u001b[2m\u001b[36m(pid=15052)\u001b[0m reward: -10\n",
      "\u001b[2m\u001b[36m(pid=15052)\u001b[0m 48.43\n"
     ]
    },
    {
     "name": "stderr",
     "output_type": "stream",
     "text": [
      "\u001b[2m\u001b[36m(pid=15052)\u001b[0m c:\\users\\cig\\anaconda3\\envs\\autofocus\\lib\\site-packages\\imquality\\brisque.py:45: FutureWarning: The behavior of rgb2gray will change in scikit-image 0.19. Currently, rgb2gray allows 2D grayscale image to be passed as inputs and leaves them unmodified as outputs. Starting from version 0.19, 2D arrays will be treated as 1D images with 3 channels.\r\n",
      "\u001b[2m\u001b[36m(pid=15052)\u001b[0m   self.image = skimage.color.rgb2gray(self.image)\r\n"
     ]
    },
    {
     "name": "stdout",
     "output_type": "stream",
     "text": [
      "\u001b[2m\u001b[36m(pid=15052)\u001b[0m reward: -0.054200000000000005\n",
      "\u001b[2m\u001b[36m(pid=15052)\u001b[0m 36.33\n",
      "\u001b[2m\u001b[36m(pid=15052)\u001b[0m reward: -10\n",
      "\u001b[2m\u001b[36m(pid=15052)\u001b[0m 48.81\n"
     ]
    },
    {
     "name": "stderr",
     "output_type": "stream",
     "text": [
      "\u001b[2m\u001b[36m(pid=15052)\u001b[0m c:\\users\\cig\\anaconda3\\envs\\autofocus\\lib\\site-packages\\imquality\\brisque.py:45: FutureWarning: The behavior of rgb2gray will change in scikit-image 0.19. Currently, rgb2gray allows 2D grayscale image to be passed as inputs and leaves them unmodified as outputs. Starting from version 0.19, 2D arrays will be treated as 1D images with 3 channels.\r\n",
      "\u001b[2m\u001b[36m(pid=15052)\u001b[0m   self.image = skimage.color.rgb2gray(self.image)\r\n"
     ]
    },
    {
     "name": "stdout",
     "output_type": "stream",
     "text": [
      "\u001b[2m\u001b[36m(pid=15052)\u001b[0m reward: -0.06123\n",
      "\u001b[2m\u001b[36m(pid=15052)\u001b[0m 49.98\n",
      "\u001b[2m\u001b[36m(pid=15052)\u001b[0m reward: -10\n",
      "\u001b[2m\u001b[36m(pid=15052)\u001b[0m 46.49\n"
     ]
    },
    {
     "name": "stderr",
     "output_type": "stream",
     "text": [
      "\u001b[2m\u001b[36m(pid=15052)\u001b[0m c:\\users\\cig\\anaconda3\\envs\\autofocus\\lib\\site-packages\\imquality\\brisque.py:45: FutureWarning: The behavior of rgb2gray will change in scikit-image 0.19. Currently, rgb2gray allows 2D grayscale image to be passed as inputs and leaves them unmodified as outputs. Starting from version 0.19, 2D arrays will be treated as 1D images with 3 channels.\r\n",
      "\u001b[2m\u001b[36m(pid=15052)\u001b[0m   self.image = skimage.color.rgb2gray(self.image)\r\n"
     ]
    },
    {
     "name": "stdout",
     "output_type": "stream",
     "text": [
      "\u001b[2m\u001b[36m(pid=15052)\u001b[0m reward: -0.03717\n",
      "\u001b[2m\u001b[36m(pid=15052)\u001b[0m 61.24\n",
      "\u001b[2m\u001b[36m(pid=15052)\u001b[0m reward: -10\n",
      "\u001b[2m\u001b[36m(pid=15052)\u001b[0m 48.39\n"
     ]
    },
    {
     "name": "stderr",
     "output_type": "stream",
     "text": [
      "\u001b[2m\u001b[36m(pid=15052)\u001b[0m c:\\users\\cig\\anaconda3\\envs\\autofocus\\lib\\site-packages\\imquality\\brisque.py:45: FutureWarning: The behavior of rgb2gray will change in scikit-image 0.19. Currently, rgb2gray allows 2D grayscale image to be passed as inputs and leaves them unmodified as outputs. Starting from version 0.19, 2D arrays will be treated as 1D images with 3 channels.\r\n",
      "\u001b[2m\u001b[36m(pid=15052)\u001b[0m   self.image = skimage.color.rgb2gray(self.image)\r\n"
     ]
    },
    {
     "name": "stdout",
     "output_type": "stream",
     "text": [
      "\u001b[2m\u001b[36m(pid=15052)\u001b[0m reward: -0.05358\n",
      "\u001b[2m\u001b[36m(pid=15052)\u001b[0m 60.75\n",
      "\u001b[2m\u001b[36m(pid=15052)\u001b[0m reward: -10\n",
      "\u001b[2m\u001b[36m(pid=15052)\u001b[0m 24.97\n",
      "\u001b[2m\u001b[36m(pid=15052)\u001b[0m reward: -10\n",
      "\u001b[2m\u001b[36m(pid=15052)\u001b[0m 63.81\n",
      "\u001b[2m\u001b[36m(pid=15052)\u001b[0m reward: -10\n",
      "\u001b[2m\u001b[36m(pid=15052)\u001b[0m 46.85\n"
     ]
    },
    {
     "name": "stderr",
     "output_type": "stream",
     "text": [
      "\u001b[2m\u001b[36m(pid=15052)\u001b[0m c:\\users\\cig\\anaconda3\\envs\\autofocus\\lib\\site-packages\\imquality\\brisque.py:45: FutureWarning: The behavior of rgb2gray will change in scikit-image 0.19. Currently, rgb2gray allows 2D grayscale image to be passed as inputs and leaves them unmodified as outputs. Starting from version 0.19, 2D arrays will be treated as 1D images with 3 channels.\r\n",
      "\u001b[2m\u001b[36m(pid=15052)\u001b[0m   self.image = skimage.color.rgb2gray(self.image)\r\n"
     ]
    },
    {
     "name": "stdout",
     "output_type": "stream",
     "text": [
      "\u001b[2m\u001b[36m(pid=15052)\u001b[0m reward: -0.05061\n",
      "\u001b[2m\u001b[36m(pid=15052)\u001b[0m 56.83\n",
      "\u001b[2m\u001b[36m(pid=15052)\u001b[0m reward: -10\n",
      "\u001b[2m\u001b[36m(pid=15052)\u001b[0m 47.79\n"
     ]
    },
    {
     "name": "stderr",
     "output_type": "stream",
     "text": [
      "\u001b[2m\u001b[36m(pid=15052)\u001b[0m c:\\users\\cig\\anaconda3\\envs\\autofocus\\lib\\site-packages\\imquality\\brisque.py:45: FutureWarning: The behavior of rgb2gray will change in scikit-image 0.19. Currently, rgb2gray allows 2D grayscale image to be passed as inputs and leaves them unmodified as outputs. Starting from version 0.19, 2D arrays will be treated as 1D images with 3 channels.\r\n",
      "\u001b[2m\u001b[36m(pid=15052)\u001b[0m   self.image = skimage.color.rgb2gray(self.image)\r\n"
     ]
    },
    {
     "name": "stdout",
     "output_type": "stream",
     "text": [
      "\u001b[2m\u001b[36m(pid=15052)\u001b[0m reward: -0.019870000000000002\n",
      "\u001b[2m\u001b[36m(pid=15052)\u001b[0m 24.54\n",
      "\u001b[2m\u001b[36m(pid=15052)\u001b[0m reward: -10\n",
      "\u001b[2m\u001b[36m(pid=15052)\u001b[0m 46.75\n"
     ]
    },
    {
     "name": "stderr",
     "output_type": "stream",
     "text": [
      "\u001b[2m\u001b[36m(pid=15052)\u001b[0m c:\\users\\cig\\anaconda3\\envs\\autofocus\\lib\\site-packages\\imquality\\brisque.py:45: FutureWarning: The behavior of rgb2gray will change in scikit-image 0.19. Currently, rgb2gray allows 2D grayscale image to be passed as inputs and leaves them unmodified as outputs. Starting from version 0.19, 2D arrays will be treated as 1D images with 3 channels.\r\n",
      "\u001b[2m\u001b[36m(pid=15052)\u001b[0m   self.image = skimage.color.rgb2gray(self.image)\r\n"
     ]
    },
    {
     "name": "stdout",
     "output_type": "stream",
     "text": [
      "\u001b[2m\u001b[36m(pid=15052)\u001b[0m reward: -0.04754\n",
      "\u001b[2m\u001b[36m(pid=15052)\u001b[0m 51.18\n",
      "\u001b[2m\u001b[36m(pid=15052)\u001b[0m reward: -10\n",
      "\u001b[2m\u001b[36m(pid=15052)\u001b[0m 49.28\n"
     ]
    },
    {
     "name": "stderr",
     "output_type": "stream",
     "text": [
      "\u001b[2m\u001b[36m(pid=15052)\u001b[0m c:\\users\\cig\\anaconda3\\envs\\autofocus\\lib\\site-packages\\imquality\\brisque.py:45: FutureWarning: The behavior of rgb2gray will change in scikit-image 0.19. Currently, rgb2gray allows 2D grayscale image to be passed as inputs and leaves them unmodified as outputs. Starting from version 0.19, 2D arrays will be treated as 1D images with 3 channels.\r\n",
      "\u001b[2m\u001b[36m(pid=15052)\u001b[0m   self.image = skimage.color.rgb2gray(self.image)\r\n"
     ]
    },
    {
     "name": "stdout",
     "output_type": "stream",
     "text": [
      "\u001b[2m\u001b[36m(pid=15052)\u001b[0m reward: -0.04636\n",
      "\u001b[2m\u001b[36m(pid=15052)\u001b[0m 61.55\n",
      "\u001b[2m\u001b[36m(pid=15052)\u001b[0m reward: -10\n",
      "\u001b[2m\u001b[36m(pid=15052)\u001b[0m 46.85\n"
     ]
    },
    {
     "name": "stderr",
     "output_type": "stream",
     "text": [
      "\u001b[2m\u001b[36m(pid=15052)\u001b[0m c:\\users\\cig\\anaconda3\\envs\\autofocus\\lib\\site-packages\\imquality\\brisque.py:45: FutureWarning: The behavior of rgb2gray will change in scikit-image 0.19. Currently, rgb2gray allows 2D grayscale image to be passed as inputs and leaves them unmodified as outputs. Starting from version 0.19, 2D arrays will be treated as 1D images with 3 channels.\r\n",
      "\u001b[2m\u001b[36m(pid=15052)\u001b[0m   self.image = skimage.color.rgb2gray(self.image)\r\n"
     ]
    },
    {
     "name": "stdout",
     "output_type": "stream",
     "text": [
      "\u001b[2m\u001b[36m(pid=15052)\u001b[0m reward: -0.05006\n",
      "\u001b[2m\u001b[36m(pid=15052)\u001b[0m 24.72\n",
      "\u001b[2m\u001b[36m(pid=15052)\u001b[0m reward: -10\n",
      "\u001b[2m\u001b[36m(pid=15052)\u001b[0m 36.6\n",
      "\u001b[2m\u001b[36m(pid=15052)\u001b[0m reward: -10\n",
      "\u001b[2m\u001b[36m(pid=15052)\u001b[0m 29.76\n",
      "\u001b[2m\u001b[36m(pid=15052)\u001b[0m reward: -10\n",
      "\u001b[2m\u001b[36m(pid=15052)\u001b[0m 47.86\n"
     ]
    },
    {
     "name": "stderr",
     "output_type": "stream",
     "text": [
      "\u001b[2m\u001b[36m(pid=15052)\u001b[0m c:\\users\\cig\\anaconda3\\envs\\autofocus\\lib\\site-packages\\imquality\\brisque.py:45: FutureWarning: The behavior of rgb2gray will change in scikit-image 0.19. Currently, rgb2gray allows 2D grayscale image to be passed as inputs and leaves them unmodified as outputs. Starting from version 0.19, 2D arrays will be treated as 1D images with 3 channels.\r\n",
      "\u001b[2m\u001b[36m(pid=15052)\u001b[0m   self.image = skimage.color.rgb2gray(self.image)\r\n"
     ]
    },
    {
     "name": "stdout",
     "output_type": "stream",
     "text": [
      "\u001b[2m\u001b[36m(pid=15052)\u001b[0m reward: -0.01982\n",
      "\u001b[2m\u001b[36m(pid=15052)\u001b[0m 24.97\n",
      "\u001b[2m\u001b[36m(pid=15052)\u001b[0m reward: -10\n",
      "\u001b[2m\u001b[36m(pid=15052)\u001b[0m 24.43\n",
      "\u001b[2m\u001b[36m(pid=15052)\u001b[0m reward: -10\n",
      "\u001b[2m\u001b[36m(pid=15052)\u001b[0m 49.86\n",
      "\u001b[2m\u001b[36m(pid=15052)\u001b[0m reward: -10\n",
      "\u001b[2m\u001b[36m(pid=15052)\u001b[0m 24.27\n",
      "\u001b[2m\u001b[36m(pid=15052)\u001b[0m reward: -10\n",
      "\u001b[2m\u001b[36m(pid=15052)\u001b[0m 53.1\n",
      "\u001b[2m\u001b[36m(pid=15052)\u001b[0m reward: -10\n",
      "\u001b[2m\u001b[36m(pid=15052)\u001b[0m 24.59\n",
      "\u001b[2m\u001b[36m(pid=15052)\u001b[0m reward: -10\n",
      "\u001b[2m\u001b[36m(pid=15052)\u001b[0m 48.42\n"
     ]
    },
    {
     "name": "stderr",
     "output_type": "stream",
     "text": [
      "\u001b[2m\u001b[36m(pid=15052)\u001b[0m c:\\users\\cig\\anaconda3\\envs\\autofocus\\lib\\site-packages\\imquality\\brisque.py:45: FutureWarning: The behavior of rgb2gray will change in scikit-image 0.19. Currently, rgb2gray allows 2D grayscale image to be passed as inputs and leaves them unmodified as outputs. Starting from version 0.19, 2D arrays will be treated as 1D images with 3 channels.\r\n",
      "\u001b[2m\u001b[36m(pid=15052)\u001b[0m   self.image = skimage.color.rgb2gray(self.image)\r\n"
     ]
    },
    {
     "name": "stdout",
     "output_type": "stream",
     "text": [
      "\u001b[2m\u001b[36m(pid=15052)\u001b[0m reward: -0.05172\n",
      "\u001b[2m\u001b[36m(pid=15052)\u001b[0m 24.75\n",
      "\u001b[2m\u001b[36m(pid=15052)\u001b[0m reward: -10\n",
      "\u001b[2m\u001b[36m(pid=15052)\u001b[0m 64.78\n",
      "\u001b[2m\u001b[36m(pid=15052)\u001b[0m reward: -10\n",
      "\u001b[2m\u001b[36m(pid=15052)\u001b[0m 46.96\n"
     ]
    },
    {
     "name": "stderr",
     "output_type": "stream",
     "text": [
      "\u001b[2m\u001b[36m(pid=15052)\u001b[0m c:\\users\\cig\\anaconda3\\envs\\autofocus\\lib\\site-packages\\imquality\\brisque.py:45: FutureWarning: The behavior of rgb2gray will change in scikit-image 0.19. Currently, rgb2gray allows 2D grayscale image to be passed as inputs and leaves them unmodified as outputs. Starting from version 0.19, 2D arrays will be treated as 1D images with 3 channels.\r\n",
      "\u001b[2m\u001b[36m(pid=15052)\u001b[0m   self.image = skimage.color.rgb2gray(self.image)\r\n"
     ]
    },
    {
     "name": "stdout",
     "output_type": "stream",
     "text": [
      "\u001b[2m\u001b[36m(pid=15052)\u001b[0m reward: -0.05444\n",
      "\u001b[2m\u001b[36m(pid=15052)\u001b[0m 24.58\n",
      "\u001b[2m\u001b[36m(pid=15052)\u001b[0m reward: -10\n",
      "\u001b[2m\u001b[36m(pid=15052)\u001b[0m 58.75\n",
      "\u001b[2m\u001b[36m(pid=15052)\u001b[0m reward: -10\n",
      "\u001b[2m\u001b[36m(pid=15052)\u001b[0m 24.8\n",
      "\u001b[2m\u001b[36m(pid=15052)\u001b[0m reward: -10\n",
      "\u001b[2m\u001b[36m(pid=15052)\u001b[0m 24.34\n",
      "\u001b[2m\u001b[36m(pid=15052)\u001b[0m reward: -10\n",
      "\u001b[2m\u001b[36m(pid=15052)\u001b[0m 47.63\n"
     ]
    },
    {
     "name": "stderr",
     "output_type": "stream",
     "text": [
      "\u001b[2m\u001b[36m(pid=15052)\u001b[0m c:\\users\\cig\\anaconda3\\envs\\autofocus\\lib\\site-packages\\imquality\\brisque.py:45: FutureWarning: The behavior of rgb2gray will change in scikit-image 0.19. Currently, rgb2gray allows 2D grayscale image to be passed as inputs and leaves them unmodified as outputs. Starting from version 0.19, 2D arrays will be treated as 1D images with 3 channels.\r\n",
      "\u001b[2m\u001b[36m(pid=15052)\u001b[0m   self.image = skimage.color.rgb2gray(self.image)\r\n"
     ]
    },
    {
     "name": "stdout",
     "output_type": "stream",
     "text": [
      "\u001b[2m\u001b[36m(pid=15052)\u001b[0m reward: -0.02689\n",
      "\u001b[2m\u001b[36m(pid=15052)\u001b[0m 24.86\n",
      "\u001b[2m\u001b[36m(pid=15052)\u001b[0m reward: -10\n",
      "\u001b[2m\u001b[36m(pid=15052)\u001b[0m 64.88\n",
      "\u001b[2m\u001b[36m(pid=15052)\u001b[0m reward: -10\n",
      "\u001b[2m\u001b[36m(pid=15052)\u001b[0m 24.8\n",
      "\u001b[2m\u001b[36m(pid=15052)\u001b[0m reward: -10\n",
      "\u001b[2m\u001b[36m(pid=15052)\u001b[0m 24.89\n",
      "\u001b[2m\u001b[36m(pid=15052)\u001b[0m reward: -10\n",
      "\u001b[2m\u001b[36m(pid=15052)\u001b[0m 51.75\n",
      "\u001b[2m\u001b[36m(pid=15052)\u001b[0m reward: -10\n",
      "\u001b[2m\u001b[36m(pid=15052)\u001b[0m 68.5\n",
      "\u001b[2m\u001b[36m(pid=15052)\u001b[0m reward: -10\n",
      "\u001b[2m\u001b[36m(pid=15052)\u001b[0m 52.18\n",
      "\u001b[2m\u001b[36m(pid=15052)\u001b[0m reward: -10\n",
      "\u001b[2m\u001b[36m(pid=15052)\u001b[0m 24.97\n",
      "\u001b[2m\u001b[36m(pid=15052)\u001b[0m reward: -10\n",
      "\u001b[2m\u001b[36m(pid=15052)\u001b[0m 67.12\n",
      "\u001b[2m\u001b[36m(pid=15052)\u001b[0m reward: -10\n",
      "\u001b[2m\u001b[36m(pid=15052)\u001b[0m 63.79\n",
      "\u001b[2m\u001b[36m(pid=15052)\u001b[0m reward: -10\n",
      "\u001b[2m\u001b[36m(pid=15052)\u001b[0m 46.5\n"
     ]
    },
    {
     "name": "stderr",
     "output_type": "stream",
     "text": [
      "\u001b[2m\u001b[36m(pid=15052)\u001b[0m c:\\users\\cig\\anaconda3\\envs\\autofocus\\lib\\site-packages\\imquality\\brisque.py:45: FutureWarning: The behavior of rgb2gray will change in scikit-image 0.19. Currently, rgb2gray allows 2D grayscale image to be passed as inputs and leaves them unmodified as outputs. Starting from version 0.19, 2D arrays will be treated as 1D images with 3 channels.\r\n",
      "\u001b[2m\u001b[36m(pid=15052)\u001b[0m   self.image = skimage.color.rgb2gray(self.image)\r\n"
     ]
    },
    {
     "name": "stdout",
     "output_type": "stream",
     "text": [
      "\u001b[2m\u001b[36m(pid=15052)\u001b[0m reward: -0.047799999999999995\n",
      "\u001b[2m\u001b[36m(pid=15052)\u001b[0m 60.63\n",
      "\u001b[2m\u001b[36m(pid=15052)\u001b[0m reward: -10\n",
      "\u001b[2m\u001b[36m(pid=15052)\u001b[0m 48.98\n"
     ]
    },
    {
     "name": "stderr",
     "output_type": "stream",
     "text": [
      "\u001b[2m\u001b[36m(pid=15052)\u001b[0m c:\\users\\cig\\anaconda3\\envs\\autofocus\\lib\\site-packages\\imquality\\brisque.py:45: FutureWarning: The behavior of rgb2gray will change in scikit-image 0.19. Currently, rgb2gray allows 2D grayscale image to be passed as inputs and leaves them unmodified as outputs. Starting from version 0.19, 2D arrays will be treated as 1D images with 3 channels.\r\n",
      "\u001b[2m\u001b[36m(pid=15052)\u001b[0m   self.image = skimage.color.rgb2gray(self.image)\r\n"
     ]
    },
    {
     "name": "stdout",
     "output_type": "stream",
     "text": [
      "\u001b[2m\u001b[36m(pid=15052)\u001b[0m reward: -0.05654\n",
      "\u001b[2m\u001b[36m(pid=15052)\u001b[0m 56.73\n",
      "\u001b[2m\u001b[36m(pid=15052)\u001b[0m reward: -10\n",
      "\u001b[2m\u001b[36m(pid=15052)\u001b[0m 24.63\n",
      "\u001b[2m\u001b[36m(pid=15052)\u001b[0m reward: -10\n",
      "\u001b[2m\u001b[36m(pid=15052)\u001b[0m 48.61\n"
     ]
    },
    {
     "name": "stderr",
     "output_type": "stream",
     "text": [
      "\u001b[2m\u001b[36m(pid=15052)\u001b[0m c:\\users\\cig\\anaconda3\\envs\\autofocus\\lib\\site-packages\\imquality\\brisque.py:45: FutureWarning: The behavior of rgb2gray will change in scikit-image 0.19. Currently, rgb2gray allows 2D grayscale image to be passed as inputs and leaves them unmodified as outputs. Starting from version 0.19, 2D arrays will be treated as 1D images with 3 channels.\r\n",
      "\u001b[2m\u001b[36m(pid=15052)\u001b[0m   self.image = skimage.color.rgb2gray(self.image)\r\n"
     ]
    },
    {
     "name": "stdout",
     "output_type": "stream",
     "text": [
      "\u001b[2m\u001b[36m(pid=15052)\u001b[0m reward: -0.061630000000000004\n",
      "\u001b[2m\u001b[36m(pid=15052)\u001b[0m 48.23\n"
     ]
    },
    {
     "name": "stderr",
     "output_type": "stream",
     "text": [
      "\u001b[2m\u001b[36m(pid=15052)\u001b[0m c:\\users\\cig\\anaconda3\\envs\\autofocus\\lib\\site-packages\\imquality\\brisque.py:45: FutureWarning: The behavior of rgb2gray will change in scikit-image 0.19. Currently, rgb2gray allows 2D grayscale image to be passed as inputs and leaves them unmodified as outputs. Starting from version 0.19, 2D arrays will be treated as 1D images with 3 channels.\r\n",
      "\u001b[2m\u001b[36m(pid=15052)\u001b[0m   self.image = skimage.color.rgb2gray(self.image)\r\n"
     ]
    },
    {
     "name": "stdout",
     "output_type": "stream",
     "text": [
      "\u001b[2m\u001b[36m(pid=15052)\u001b[0m reward: -0.03595\n",
      "\u001b[2m\u001b[36m(pid=15052)\u001b[0m 46.71\n"
     ]
    },
    {
     "name": "stderr",
     "output_type": "stream",
     "text": [
      "\u001b[2m\u001b[36m(pid=15052)\u001b[0m c:\\users\\cig\\anaconda3\\envs\\autofocus\\lib\\site-packages\\imquality\\brisque.py:45: FutureWarning: The behavior of rgb2gray will change in scikit-image 0.19. Currently, rgb2gray allows 2D grayscale image to be passed as inputs and leaves them unmodified as outputs. Starting from version 0.19, 2D arrays will be treated as 1D images with 3 channels.\r\n",
      "\u001b[2m\u001b[36m(pid=15052)\u001b[0m   self.image = skimage.color.rgb2gray(self.image)\r\n"
     ]
    },
    {
     "name": "stdout",
     "output_type": "stream",
     "text": [
      "\u001b[2m\u001b[36m(pid=15052)\u001b[0m reward: -0.047310000000000005\n",
      "\u001b[2m\u001b[36m(pid=15052)\u001b[0m 49.35\n"
     ]
    },
    {
     "name": "stderr",
     "output_type": "stream",
     "text": [
      "\u001b[2m\u001b[36m(pid=15052)\u001b[0m c:\\users\\cig\\anaconda3\\envs\\autofocus\\lib\\site-packages\\imquality\\brisque.py:45: FutureWarning: The behavior of rgb2gray will change in scikit-image 0.19. Currently, rgb2gray allows 2D grayscale image to be passed as inputs and leaves them unmodified as outputs. Starting from version 0.19, 2D arrays will be treated as 1D images with 3 channels.\r\n",
      "\u001b[2m\u001b[36m(pid=15052)\u001b[0m   self.image = skimage.color.rgb2gray(self.image)\r\n"
     ]
    },
    {
     "name": "stdout",
     "output_type": "stream",
     "text": [
      "\u001b[2m\u001b[36m(pid=15052)\u001b[0m reward: -0.047740000000000005\n",
      "\u001b[2m\u001b[36m(pid=15052)\u001b[0m 60.19\n",
      "\u001b[2m\u001b[36m(pid=15052)\u001b[0m reward: -10\n",
      "\u001b[2m\u001b[36m(pid=15052)\u001b[0m 56.61\n",
      "\u001b[2m\u001b[36m(pid=15052)\u001b[0m reward: -10\n",
      "\u001b[2m\u001b[36m(pid=15052)\u001b[0m 61.74\n",
      "\u001b[2m\u001b[36m(pid=15052)\u001b[0m reward: -10\n",
      "\u001b[2m\u001b[36m(pid=15052)\u001b[0m 46.15\n"
     ]
    },
    {
     "name": "stderr",
     "output_type": "stream",
     "text": [
      "\u001b[2m\u001b[36m(pid=15052)\u001b[0m c:\\users\\cig\\anaconda3\\envs\\autofocus\\lib\\site-packages\\imquality\\brisque.py:45: FutureWarning: The behavior of rgb2gray will change in scikit-image 0.19. Currently, rgb2gray allows 2D grayscale image to be passed as inputs and leaves them unmodified as outputs. Starting from version 0.19, 2D arrays will be treated as 1D images with 3 channels.\r\n",
      "\u001b[2m\u001b[36m(pid=15052)\u001b[0m   self.image = skimage.color.rgb2gray(self.image)\r\n"
     ]
    },
    {
     "name": "stdout",
     "output_type": "stream",
     "text": [
      "\u001b[2m\u001b[36m(pid=15052)\u001b[0m reward: -0.028730000000000002\n",
      "\u001b[2m\u001b[36m(pid=15052)\u001b[0m 51.24\n",
      "\u001b[2m\u001b[36m(pid=15052)\u001b[0m reward: -10\n",
      "\u001b[2m\u001b[36m(pid=15052)\u001b[0m 57.44\n",
      "\u001b[2m\u001b[36m(pid=15052)\u001b[0m reward: -10\n",
      "\u001b[2m\u001b[36m(pid=15052)\u001b[0m 47.27\n"
     ]
    },
    {
     "name": "stderr",
     "output_type": "stream",
     "text": [
      "\u001b[2m\u001b[36m(pid=15052)\u001b[0m c:\\users\\cig\\anaconda3\\envs\\autofocus\\lib\\site-packages\\imquality\\brisque.py:45: FutureWarning: The behavior of rgb2gray will change in scikit-image 0.19. Currently, rgb2gray allows 2D grayscale image to be passed as inputs and leaves them unmodified as outputs. Starting from version 0.19, 2D arrays will be treated as 1D images with 3 channels.\r\n",
      "\u001b[2m\u001b[36m(pid=15052)\u001b[0m   self.image = skimage.color.rgb2gray(self.image)\r\n"
     ]
    },
    {
     "name": "stdout",
     "output_type": "stream",
     "text": [
      "\u001b[2m\u001b[36m(pid=15052)\u001b[0m reward: -0.05714\n",
      "\u001b[2m\u001b[36m(pid=15052)\u001b[0m 28.58\n",
      "\u001b[2m\u001b[36m(pid=15052)\u001b[0m reward: -10\n",
      "\u001b[2m\u001b[36m(pid=15052)\u001b[0m 67.8\n",
      "\u001b[2m\u001b[36m(pid=15052)\u001b[0m reward: -10\n",
      "\u001b[2m\u001b[36m(pid=15052)\u001b[0m 24.15\n",
      "\u001b[2m\u001b[36m(pid=15052)\u001b[0m reward: -10\n",
      "\u001b[2m\u001b[36m(pid=15052)\u001b[0m 24.18\n",
      "\u001b[2m\u001b[36m(pid=15052)\u001b[0m reward: -10\n",
      "\u001b[2m\u001b[36m(pid=15052)\u001b[0m 44.24\n",
      "\u001b[2m\u001b[36m(pid=15052)\u001b[0m reward: -10\n",
      "\u001b[2m\u001b[36m(pid=15052)\u001b[0m 42.25\n",
      "\u001b[2m\u001b[36m(pid=15052)\u001b[0m reward: -10\n",
      "\u001b[2m\u001b[36m(pid=15052)\u001b[0m 24.64\n",
      "\u001b[2m\u001b[36m(pid=15052)\u001b[0m reward: -10\n",
      "\u001b[2m\u001b[36m(pid=15052)\u001b[0m 64.54\n",
      "\u001b[2m\u001b[36m(pid=15052)\u001b[0m reward: -10\n",
      "\u001b[2m\u001b[36m(pid=15052)\u001b[0m 65.12\n",
      "\u001b[2m\u001b[36m(pid=15052)\u001b[0m reward: -10\n",
      "\u001b[2m\u001b[36m(pid=15052)\u001b[0m 24.7\n",
      "\u001b[2m\u001b[36m(pid=15052)\u001b[0m reward: -10\n",
      "\u001b[2m\u001b[36m(pid=15052)\u001b[0m 24.41\n",
      "\u001b[2m\u001b[36m(pid=15052)\u001b[0m reward: -10\n",
      "\u001b[2m\u001b[36m(pid=15052)\u001b[0m 47.43\n"
     ]
    },
    {
     "name": "stderr",
     "output_type": "stream",
     "text": [
      "\u001b[2m\u001b[36m(pid=15052)\u001b[0m c:\\users\\cig\\anaconda3\\envs\\autofocus\\lib\\site-packages\\imquality\\brisque.py:45: FutureWarning: The behavior of rgb2gray will change in scikit-image 0.19. Currently, rgb2gray allows 2D grayscale image to be passed as inputs and leaves them unmodified as outputs. Starting from version 0.19, 2D arrays will be treated as 1D images with 3 channels.\r\n",
      "\u001b[2m\u001b[36m(pid=15052)\u001b[0m   self.image = skimage.color.rgb2gray(self.image)\r\n"
     ]
    },
    {
     "name": "stdout",
     "output_type": "stream",
     "text": [
      "\u001b[2m\u001b[36m(pid=15052)\u001b[0m reward: -0.04097\n",
      "\u001b[2m\u001b[36m(pid=15052)\u001b[0m 24.36\n",
      "\u001b[2m\u001b[36m(pid=15052)\u001b[0m reward: -10\n",
      "\u001b[2m\u001b[36m(pid=15052)\u001b[0m 34.96\n",
      "\u001b[2m\u001b[36m(pid=15052)\u001b[0m reward: -10\n",
      "\u001b[2m\u001b[36m(pid=15052)\u001b[0m 54.12\n",
      "\u001b[2m\u001b[36m(pid=15052)\u001b[0m reward: -10\n",
      "\u001b[2m\u001b[36m(pid=15052)\u001b[0m 47.54\n"
     ]
    },
    {
     "name": "stderr",
     "output_type": "stream",
     "text": [
      "\u001b[2m\u001b[36m(pid=15052)\u001b[0m c:\\users\\cig\\anaconda3\\envs\\autofocus\\lib\\site-packages\\imquality\\brisque.py:45: FutureWarning: The behavior of rgb2gray will change in scikit-image 0.19. Currently, rgb2gray allows 2D grayscale image to be passed as inputs and leaves them unmodified as outputs. Starting from version 0.19, 2D arrays will be treated as 1D images with 3 channels.\r\n",
      "\u001b[2m\u001b[36m(pid=15052)\u001b[0m   self.image = skimage.color.rgb2gray(self.image)\r\n"
     ]
    },
    {
     "name": "stdout",
     "output_type": "stream",
     "text": [
      "\u001b[2m\u001b[36m(pid=15052)\u001b[0m reward: -0.038\n",
      "\u001b[2m\u001b[36m(pid=15052)\u001b[0m 47.71\n"
     ]
    },
    {
     "name": "stderr",
     "output_type": "stream",
     "text": [
      "\u001b[2m\u001b[36m(pid=15052)\u001b[0m c:\\users\\cig\\anaconda3\\envs\\autofocus\\lib\\site-packages\\imquality\\brisque.py:45: FutureWarning: The behavior of rgb2gray will change in scikit-image 0.19. Currently, rgb2gray allows 2D grayscale image to be passed as inputs and leaves them unmodified as outputs. Starting from version 0.19, 2D arrays will be treated as 1D images with 3 channels.\r\n",
      "\u001b[2m\u001b[36m(pid=15052)\u001b[0m   self.image = skimage.color.rgb2gray(self.image)\r\n"
     ]
    },
    {
     "name": "stdout",
     "output_type": "stream",
     "text": [
      "\u001b[2m\u001b[36m(pid=15052)\u001b[0m reward: -0.0232\n",
      "\u001b[2m\u001b[36m(pid=15052)\u001b[0m 24.61\n",
      "\u001b[2m\u001b[36m(pid=15052)\u001b[0m reward: -10\n",
      "\u001b[2m\u001b[36m(pid=15052)\u001b[0m 63.8\n",
      "\u001b[2m\u001b[36m(pid=15052)\u001b[0m reward: -10\n",
      "\u001b[2m\u001b[36m(pid=15052)\u001b[0m 28.2\n",
      "\u001b[2m\u001b[36m(pid=15052)\u001b[0m reward: -10\n",
      "\u001b[2m\u001b[36m(pid=15052)\u001b[0m 47.7\n"
     ]
    },
    {
     "name": "stderr",
     "output_type": "stream",
     "text": [
      "\u001b[2m\u001b[36m(pid=15052)\u001b[0m c:\\users\\cig\\anaconda3\\envs\\autofocus\\lib\\site-packages\\imquality\\brisque.py:45: FutureWarning: The behavior of rgb2gray will change in scikit-image 0.19. Currently, rgb2gray allows 2D grayscale image to be passed as inputs and leaves them unmodified as outputs. Starting from version 0.19, 2D arrays will be treated as 1D images with 3 channels.\r\n",
      "\u001b[2m\u001b[36m(pid=15052)\u001b[0m   self.image = skimage.color.rgb2gray(self.image)\r\n"
     ]
    },
    {
     "name": "stdout",
     "output_type": "stream",
     "text": [
      "\u001b[2m\u001b[36m(pid=15052)\u001b[0m reward: -0.02603\n",
      "\u001b[2m\u001b[36m(pid=15052)\u001b[0m 24.73\n",
      "\u001b[2m\u001b[36m(pid=15052)\u001b[0m reward: -10\n",
      "\u001b[2m\u001b[36m(pid=15052)\u001b[0m 46.84\n"
     ]
    },
    {
     "name": "stderr",
     "output_type": "stream",
     "text": [
      "\u001b[2m\u001b[36m(pid=15052)\u001b[0m c:\\users\\cig\\anaconda3\\envs\\autofocus\\lib\\site-packages\\imquality\\brisque.py:45: FutureWarning: The behavior of rgb2gray will change in scikit-image 0.19. Currently, rgb2gray allows 2D grayscale image to be passed as inputs and leaves them unmodified as outputs. Starting from version 0.19, 2D arrays will be treated as 1D images with 3 channels.\r\n",
      "\u001b[2m\u001b[36m(pid=15052)\u001b[0m   self.image = skimage.color.rgb2gray(self.image)\r\n"
     ]
    },
    {
     "name": "stdout",
     "output_type": "stream",
     "text": [
      "\u001b[2m\u001b[36m(pid=15052)\u001b[0m reward: -0.054630000000000005\n",
      "\u001b[2m\u001b[36m(pid=15052)\u001b[0m 49.42\n"
     ]
    },
    {
     "name": "stderr",
     "output_type": "stream",
     "text": [
      "\u001b[2m\u001b[36m(pid=15052)\u001b[0m c:\\users\\cig\\anaconda3\\envs\\autofocus\\lib\\site-packages\\imquality\\brisque.py:45: FutureWarning: The behavior of rgb2gray will change in scikit-image 0.19. Currently, rgb2gray allows 2D grayscale image to be passed as inputs and leaves them unmodified as outputs. Starting from version 0.19, 2D arrays will be treated as 1D images with 3 channels.\r\n",
      "\u001b[2m\u001b[36m(pid=15052)\u001b[0m   self.image = skimage.color.rgb2gray(self.image)\r\n"
     ]
    },
    {
     "name": "stdout",
     "output_type": "stream",
     "text": [
      "\u001b[2m\u001b[36m(pid=15052)\u001b[0m reward: -0.04265\n",
      "\u001b[2m\u001b[36m(pid=15052)\u001b[0m 24.51\n",
      "\u001b[2m\u001b[36m(pid=15052)\u001b[0m reward: -10\n",
      "\u001b[2m\u001b[36m(pid=15052)\u001b[0m 33.1\n",
      "\u001b[2m\u001b[36m(pid=15052)\u001b[0m reward: -10\n",
      "\u001b[2m\u001b[36m(pid=15052)\u001b[0m 24.21\n",
      "\u001b[2m\u001b[36m(pid=15052)\u001b[0m reward: -10\n",
      "\u001b[2m\u001b[36m(pid=15052)\u001b[0m 48.12\n"
     ]
    },
    {
     "name": "stderr",
     "output_type": "stream",
     "text": [
      "\u001b[2m\u001b[36m(pid=15052)\u001b[0m c:\\users\\cig\\anaconda3\\envs\\autofocus\\lib\\site-packages\\imquality\\brisque.py:45: FutureWarning: The behavior of rgb2gray will change in scikit-image 0.19. Currently, rgb2gray allows 2D grayscale image to be passed as inputs and leaves them unmodified as outputs. Starting from version 0.19, 2D arrays will be treated as 1D images with 3 channels.\r\n",
      "\u001b[2m\u001b[36m(pid=15052)\u001b[0m   self.image = skimage.color.rgb2gray(self.image)\r\n"
     ]
    },
    {
     "name": "stdout",
     "output_type": "stream",
     "text": [
      "\u001b[2m\u001b[36m(pid=15052)\u001b[0m reward: -0.02271\n",
      "\u001b[2m\u001b[36m(pid=15052)\u001b[0m 47.36\n"
     ]
    },
    {
     "name": "stderr",
     "output_type": "stream",
     "text": [
      "\u001b[2m\u001b[36m(pid=15052)\u001b[0m c:\\users\\cig\\anaconda3\\envs\\autofocus\\lib\\site-packages\\imquality\\brisque.py:45: FutureWarning: The behavior of rgb2gray will change in scikit-image 0.19. Currently, rgb2gray allows 2D grayscale image to be passed as inputs and leaves them unmodified as outputs. Starting from version 0.19, 2D arrays will be treated as 1D images with 3 channels.\r\n",
      "\u001b[2m\u001b[36m(pid=15052)\u001b[0m   self.image = skimage.color.rgb2gray(self.image)\r\n"
     ]
    },
    {
     "name": "stdout",
     "output_type": "stream",
     "text": [
      "\u001b[2m\u001b[36m(pid=15052)\u001b[0m reward: -0.04703\n",
      "\u001b[2m\u001b[36m(pid=15052)\u001b[0m 24.85\n",
      "\u001b[2m\u001b[36m(pid=15052)\u001b[0m reward: -10\n",
      "\u001b[2m\u001b[36m(pid=15052)\u001b[0m 24.39\n",
      "\u001b[2m\u001b[36m(pid=15052)\u001b[0m reward: -10\n",
      "\u001b[2m\u001b[36m(pid=15052)\u001b[0m 30.43\n",
      "\u001b[2m\u001b[36m(pid=15052)\u001b[0m reward: -10\n",
      "\u001b[2m\u001b[36m(pid=15052)\u001b[0m 46.71\n"
     ]
    },
    {
     "name": "stderr",
     "output_type": "stream",
     "text": [
      "\u001b[2m\u001b[36m(pid=15052)\u001b[0m c:\\users\\cig\\anaconda3\\envs\\autofocus\\lib\\site-packages\\imquality\\brisque.py:45: FutureWarning: The behavior of rgb2gray will change in scikit-image 0.19. Currently, rgb2gray allows 2D grayscale image to be passed as inputs and leaves them unmodified as outputs. Starting from version 0.19, 2D arrays will be treated as 1D images with 3 channels.\r\n",
      "\u001b[2m\u001b[36m(pid=15052)\u001b[0m   self.image = skimage.color.rgb2gray(self.image)\r\n"
     ]
    },
    {
     "name": "stdout",
     "output_type": "stream",
     "text": [
      "\u001b[2m\u001b[36m(pid=15052)\u001b[0m reward: -0.048979999999999996\n",
      "\u001b[2m\u001b[36m(pid=15052)\u001b[0m 60.89\n",
      "\u001b[2m\u001b[36m(pid=15052)\u001b[0m reward: -10\n",
      "\u001b[2m\u001b[36m(pid=15052)\u001b[0m 48.51\n"
     ]
    },
    {
     "name": "stderr",
     "output_type": "stream",
     "text": [
      "\u001b[2m\u001b[36m(pid=15052)\u001b[0m c:\\users\\cig\\anaconda3\\envs\\autofocus\\lib\\site-packages\\imquality\\brisque.py:45: FutureWarning: The behavior of rgb2gray will change in scikit-image 0.19. Currently, rgb2gray allows 2D grayscale image to be passed as inputs and leaves them unmodified as outputs. Starting from version 0.19, 2D arrays will be treated as 1D images with 3 channels.\r\n",
      "\u001b[2m\u001b[36m(pid=15052)\u001b[0m   self.image = skimage.color.rgb2gray(self.image)\r\n"
     ]
    },
    {
     "name": "stdout",
     "output_type": "stream",
     "text": [
      "\u001b[2m\u001b[36m(pid=15052)\u001b[0m reward: -0.06081\n",
      "custom_metrics: {}\n",
      "date: 2021-03-31_17-15-54\n",
      "done: false\n",
      "episode_len_mean: 5.657458563535911\n",
      "episode_reward_max: -0.018600000000000002\n",
      "episode_reward_mean: -49.53439751381215\n",
      "episode_reward_min: -100.0\n",
      "episodes_this_iter: 41\n",
      "episodes_total: 181\n",
      "experiment_id: f29f35cc3ac947278fbe79a0a7e35ac4\n",
      "hostname: DESKTOP-K2L4N78\n",
      "info:\n",
      "  learner:\n",
      "    default_policy:\n",
      "      cur_kl_coeff: 3.417187452316284\n",
      "      cur_lr: 0.0002500000118743628\n",
      "      entropy: 8.333162307739258\n",
      "      entropy_coeff: 0.009999999776482582\n",
      "      kl: 0.015494275838136673\n",
      "      model: {}\n",
      "      policy_loss: -0.18247154355049133\n",
      "      total_loss: 654.3125\n",
      "      vf_explained_var: 0.0\n",
      "      vf_loss: 654.525390625\n",
      "  num_steps_sampled: 1024\n",
      "  num_steps_trained: 1024\n",
      "iterations_since_restore: 8\n",
      "node_ip: 10.16.102.19\n",
      "num_healthy_workers: 1\n",
      "off_policy_estimator: {}\n",
      "perf:\n",
      "  cpu_util_percent: 6.726714431934493\n",
      "  ram_util_percent: 45.55107471852611\n",
      "pid: 14556\n",
      "policy_reward_max: {}\n",
      "policy_reward_mean: {}\n",
      "policy_reward_min: {}\n",
      "sampler_perf:\n",
      "  mean_action_processing_ms: 0.04452227306849087\n",
      "  mean_env_wait_ms: 4141.5969517569565\n",
      "  mean_inference_ms: 0.9199996018664258\n",
      "  mean_raw_obs_processing_ms: 555.0160126355025\n",
      "time_since_restore: 4920.026643753052\n",
      "time_this_iter_s: 684.9102094173431\n",
      "time_total_s: 4920.026643753052\n",
      "timers:\n",
      "  learn_throughput: 697.654\n",
      "  learn_time_ms: 183.472\n",
      "  load_throughput: 26933.943\n",
      "  load_time_ms: 4.752\n",
      "  sample_throughput: 0.208\n",
      "  sample_time_ms: 614700.387\n",
      "  update_time_ms: 5.751\n",
      "timestamp: 1617200154\n",
      "timesteps_since_restore: 0\n",
      "timesteps_total: 1024\n",
      "training_iteration: 8\n",
      "\n",
      "------- 7 -------\n",
      "\u001b[2m\u001b[36m(pid=15052)\u001b[0m 47.57\n"
     ]
    },
    {
     "name": "stderr",
     "output_type": "stream",
     "text": [
      "\u001b[2m\u001b[36m(pid=15052)\u001b[0m c:\\users\\cig\\anaconda3\\envs\\autofocus\\lib\\site-packages\\imquality\\brisque.py:45: FutureWarning: The behavior of rgb2gray will change in scikit-image 0.19. Currently, rgb2gray allows 2D grayscale image to be passed as inputs and leaves them unmodified as outputs. Starting from version 0.19, 2D arrays will be treated as 1D images with 3 channels.\r\n",
      "\u001b[2m\u001b[36m(pid=15052)\u001b[0m   self.image = skimage.color.rgb2gray(self.image)\r\n"
     ]
    },
    {
     "name": "stdout",
     "output_type": "stream",
     "text": [
      "\u001b[2m\u001b[36m(pid=15052)\u001b[0m reward: -0.03311\n",
      "\u001b[2m\u001b[36m(pid=15052)\u001b[0m 57.32\n",
      "\u001b[2m\u001b[36m(pid=15052)\u001b[0m reward: -10\n",
      "\u001b[2m\u001b[36m(pid=15052)\u001b[0m 49.6\n"
     ]
    },
    {
     "name": "stderr",
     "output_type": "stream",
     "text": [
      "\u001b[2m\u001b[36m(pid=15052)\u001b[0m c:\\users\\cig\\anaconda3\\envs\\autofocus\\lib\\site-packages\\imquality\\brisque.py:45: FutureWarning: The behavior of rgb2gray will change in scikit-image 0.19. Currently, rgb2gray allows 2D grayscale image to be passed as inputs and leaves them unmodified as outputs. Starting from version 0.19, 2D arrays will be treated as 1D images with 3 channels.\r\n",
      "\u001b[2m\u001b[36m(pid=15052)\u001b[0m   self.image = skimage.color.rgb2gray(self.image)\r\n"
     ]
    },
    {
     "name": "stdout",
     "output_type": "stream",
     "text": [
      "\u001b[2m\u001b[36m(pid=15052)\u001b[0m reward: -0.04615\n",
      "\u001b[2m\u001b[36m(pid=15052)\u001b[0m 24.11\n",
      "\u001b[2m\u001b[36m(pid=15052)\u001b[0m reward: -10\n",
      "\u001b[2m\u001b[36m(pid=15052)\u001b[0m 64.5\n",
      "\u001b[2m\u001b[36m(pid=15052)\u001b[0m reward: -10\n",
      "\u001b[2m\u001b[36m(pid=15052)\u001b[0m 47.3\n"
     ]
    },
    {
     "name": "stderr",
     "output_type": "stream",
     "text": [
      "\u001b[2m\u001b[36m(pid=15052)\u001b[0m c:\\users\\cig\\anaconda3\\envs\\autofocus\\lib\\site-packages\\imquality\\brisque.py:45: FutureWarning: The behavior of rgb2gray will change in scikit-image 0.19. Currently, rgb2gray allows 2D grayscale image to be passed as inputs and leaves them unmodified as outputs. Starting from version 0.19, 2D arrays will be treated as 1D images with 3 channels.\r\n",
      "\u001b[2m\u001b[36m(pid=15052)\u001b[0m   self.image = skimage.color.rgb2gray(self.image)\r\n"
     ]
    },
    {
     "name": "stdout",
     "output_type": "stream",
     "text": [
      "\u001b[2m\u001b[36m(pid=15052)\u001b[0m reward: -0.04639\n",
      "\u001b[2m\u001b[36m(pid=15052)\u001b[0m 24.69\n",
      "\u001b[2m\u001b[36m(pid=15052)\u001b[0m reward: -10\n",
      "\u001b[2m\u001b[36m(pid=15052)\u001b[0m 36.92\n",
      "\u001b[2m\u001b[36m(pid=15052)\u001b[0m reward: -10\n",
      "\u001b[2m\u001b[36m(pid=15052)\u001b[0m 63.39\n",
      "\u001b[2m\u001b[36m(pid=15052)\u001b[0m reward: -10\n",
      "\u001b[2m\u001b[36m(pid=15052)\u001b[0m 57.25\n",
      "\u001b[2m\u001b[36m(pid=15052)\u001b[0m reward: -10\n",
      "\u001b[2m\u001b[36m(pid=15052)\u001b[0m 48.5\n"
     ]
    },
    {
     "name": "stderr",
     "output_type": "stream",
     "text": [
      "\u001b[2m\u001b[36m(pid=15052)\u001b[0m c:\\users\\cig\\anaconda3\\envs\\autofocus\\lib\\site-packages\\imquality\\brisque.py:45: FutureWarning: The behavior of rgb2gray will change in scikit-image 0.19. Currently, rgb2gray allows 2D grayscale image to be passed as inputs and leaves them unmodified as outputs. Starting from version 0.19, 2D arrays will be treated as 1D images with 3 channels.\r\n",
      "\u001b[2m\u001b[36m(pid=15052)\u001b[0m   self.image = skimage.color.rgb2gray(self.image)\r\n"
     ]
    },
    {
     "name": "stdout",
     "output_type": "stream",
     "text": [
      "\u001b[2m\u001b[36m(pid=15052)\u001b[0m reward: -0.05725\n",
      "\u001b[2m\u001b[36m(pid=15052)\u001b[0m 46.32\n"
     ]
    },
    {
     "name": "stderr",
     "output_type": "stream",
     "text": [
      "\u001b[2m\u001b[36m(pid=15052)\u001b[0m c:\\users\\cig\\anaconda3\\envs\\autofocus\\lib\\site-packages\\imquality\\brisque.py:45: FutureWarning: The behavior of rgb2gray will change in scikit-image 0.19. Currently, rgb2gray allows 2D grayscale image to be passed as inputs and leaves them unmodified as outputs. Starting from version 0.19, 2D arrays will be treated as 1D images with 3 channels.\r\n",
      "\u001b[2m\u001b[36m(pid=15052)\u001b[0m   self.image = skimage.color.rgb2gray(self.image)\r\n"
     ]
    },
    {
     "name": "stdout",
     "output_type": "stream",
     "text": [
      "\u001b[2m\u001b[36m(pid=15052)\u001b[0m reward: -0.03925\n",
      "\u001b[2m\u001b[36m(pid=15052)\u001b[0m 24.11\n",
      "\u001b[2m\u001b[36m(pid=15052)\u001b[0m reward: -10\n",
      "\u001b[2m\u001b[36m(pid=15052)\u001b[0m 48.16\n"
     ]
    },
    {
     "name": "stderr",
     "output_type": "stream",
     "text": [
      "\u001b[2m\u001b[36m(pid=15052)\u001b[0m c:\\users\\cig\\anaconda3\\envs\\autofocus\\lib\\site-packages\\imquality\\brisque.py:45: FutureWarning: The behavior of rgb2gray will change in scikit-image 0.19. Currently, rgb2gray allows 2D grayscale image to be passed as inputs and leaves them unmodified as outputs. Starting from version 0.19, 2D arrays will be treated as 1D images with 3 channels.\r\n",
      "\u001b[2m\u001b[36m(pid=15052)\u001b[0m   self.image = skimage.color.rgb2gray(self.image)\r\n"
     ]
    },
    {
     "name": "stdout",
     "output_type": "stream",
     "text": [
      "\u001b[2m\u001b[36m(pid=15052)\u001b[0m reward: -0.02289\n",
      "\u001b[2m\u001b[36m(pid=15052)\u001b[0m 54.67\n",
      "\u001b[2m\u001b[36m(pid=15052)\u001b[0m reward: -10\n",
      "\u001b[2m\u001b[36m(pid=15052)\u001b[0m 24.86\n",
      "\u001b[2m\u001b[36m(pid=15052)\u001b[0m reward: -10\n",
      "\u001b[2m\u001b[36m(pid=15052)\u001b[0m 52.1\n",
      "\u001b[2m\u001b[36m(pid=15052)\u001b[0m reward: -10\n",
      "\u001b[2m\u001b[36m(pid=15052)\u001b[0m 48.37\n"
     ]
    },
    {
     "name": "stderr",
     "output_type": "stream",
     "text": [
      "\u001b[2m\u001b[36m(pid=15052)\u001b[0m c:\\users\\cig\\anaconda3\\envs\\autofocus\\lib\\site-packages\\imquality\\brisque.py:45: FutureWarning: The behavior of rgb2gray will change in scikit-image 0.19. Currently, rgb2gray allows 2D grayscale image to be passed as inputs and leaves them unmodified as outputs. Starting from version 0.19, 2D arrays will be treated as 1D images with 3 channels.\r\n",
      "\u001b[2m\u001b[36m(pid=15052)\u001b[0m   self.image = skimage.color.rgb2gray(self.image)\r\n"
     ]
    },
    {
     "name": "stdout",
     "output_type": "stream",
     "text": [
      "\u001b[2m\u001b[36m(pid=15052)\u001b[0m reward: -0.05059\n",
      "\u001b[2m\u001b[36m(pid=15052)\u001b[0m 48.1\n"
     ]
    },
    {
     "name": "stderr",
     "output_type": "stream",
     "text": [
      "\u001b[2m\u001b[36m(pid=15052)\u001b[0m c:\\users\\cig\\anaconda3\\envs\\autofocus\\lib\\site-packages\\imquality\\brisque.py:45: FutureWarning: The behavior of rgb2gray will change in scikit-image 0.19. Currently, rgb2gray allows 2D grayscale image to be passed as inputs and leaves them unmodified as outputs. Starting from version 0.19, 2D arrays will be treated as 1D images with 3 channels.\r\n",
      "\u001b[2m\u001b[36m(pid=15052)\u001b[0m   self.image = skimage.color.rgb2gray(self.image)\r\n"
     ]
    },
    {
     "name": "stdout",
     "output_type": "stream",
     "text": [
      "\u001b[2m\u001b[36m(pid=15052)\u001b[0m reward: -0.02186\n",
      "\u001b[2m\u001b[36m(pid=15052)\u001b[0m 45.75\n",
      "\u001b[2m\u001b[36m(pid=15052)\u001b[0m reward: -10\n",
      "\u001b[2m\u001b[36m(pid=15052)\u001b[0m 24.36\n",
      "\u001b[2m\u001b[36m(pid=15052)\u001b[0m reward: -10\n",
      "\u001b[2m\u001b[36m(pid=15052)\u001b[0m 62.1\n",
      "\u001b[2m\u001b[36m(pid=15052)\u001b[0m reward: -10\n",
      "\u001b[2m\u001b[36m(pid=15052)\u001b[0m 24.18\n",
      "\u001b[2m\u001b[36m(pid=15052)\u001b[0m reward: -10\n",
      "\u001b[2m\u001b[36m(pid=15052)\u001b[0m 47.42\n"
     ]
    },
    {
     "name": "stderr",
     "output_type": "stream",
     "text": [
      "\u001b[2m\u001b[36m(pid=15052)\u001b[0m c:\\users\\cig\\anaconda3\\envs\\autofocus\\lib\\site-packages\\imquality\\brisque.py:45: FutureWarning: The behavior of rgb2gray will change in scikit-image 0.19. Currently, rgb2gray allows 2D grayscale image to be passed as inputs and leaves them unmodified as outputs. Starting from version 0.19, 2D arrays will be treated as 1D images with 3 channels.\r\n",
      "\u001b[2m\u001b[36m(pid=15052)\u001b[0m   self.image = skimage.color.rgb2gray(self.image)\r\n"
     ]
    },
    {
     "name": "stdout",
     "output_type": "stream",
     "text": [
      "\u001b[2m\u001b[36m(pid=15052)\u001b[0m reward: -0.044340000000000004\n",
      "\u001b[2m\u001b[36m(pid=15052)\u001b[0m 24.3\n",
      "\u001b[2m\u001b[36m(pid=15052)\u001b[0m reward: -10\n",
      "\u001b[2m\u001b[36m(pid=15052)\u001b[0m 47.21\n"
     ]
    },
    {
     "name": "stderr",
     "output_type": "stream",
     "text": [
      "\u001b[2m\u001b[36m(pid=15052)\u001b[0m c:\\users\\cig\\anaconda3\\envs\\autofocus\\lib\\site-packages\\imquality\\brisque.py:45: FutureWarning: The behavior of rgb2gray will change in scikit-image 0.19. Currently, rgb2gray allows 2D grayscale image to be passed as inputs and leaves them unmodified as outputs. Starting from version 0.19, 2D arrays will be treated as 1D images with 3 channels.\r\n",
      "\u001b[2m\u001b[36m(pid=15052)\u001b[0m   self.image = skimage.color.rgb2gray(self.image)\r\n"
     ]
    },
    {
     "name": "stdout",
     "output_type": "stream",
     "text": [
      "\u001b[2m\u001b[36m(pid=15052)\u001b[0m reward: -0.05715\n",
      "\u001b[2m\u001b[36m(pid=15052)\u001b[0m 27.45\n",
      "\u001b[2m\u001b[36m(pid=15052)\u001b[0m reward: -10\n",
      "\u001b[2m\u001b[36m(pid=15052)\u001b[0m 56.37\n",
      "\u001b[2m\u001b[36m(pid=15052)\u001b[0m reward: -10\n",
      "\u001b[2m\u001b[36m(pid=15052)\u001b[0m 46.37\n"
     ]
    },
    {
     "name": "stderr",
     "output_type": "stream",
     "text": [
      "\u001b[2m\u001b[36m(pid=15052)\u001b[0m c:\\users\\cig\\anaconda3\\envs\\autofocus\\lib\\site-packages\\imquality\\brisque.py:45: FutureWarning: The behavior of rgb2gray will change in scikit-image 0.19. Currently, rgb2gray allows 2D grayscale image to be passed as inputs and leaves them unmodified as outputs. Starting from version 0.19, 2D arrays will be treated as 1D images with 3 channels.\r\n",
      "\u001b[2m\u001b[36m(pid=15052)\u001b[0m   self.image = skimage.color.rgb2gray(self.image)\r\n"
     ]
    },
    {
     "name": "stdout",
     "output_type": "stream",
     "text": [
      "\u001b[2m\u001b[36m(pid=15052)\u001b[0m reward: -0.041049999999999996\n",
      "\u001b[2m\u001b[36m(pid=15052)\u001b[0m 24.25\n",
      "\u001b[2m\u001b[36m(pid=15052)\u001b[0m reward: -10\n",
      "\u001b[2m\u001b[36m(pid=15052)\u001b[0m 60.73\n",
      "\u001b[2m\u001b[36m(pid=15052)\u001b[0m reward: -10\n",
      "\u001b[2m\u001b[36m(pid=15052)\u001b[0m 24.43\n",
      "\u001b[2m\u001b[36m(pid=15052)\u001b[0m reward: -10\n",
      "\u001b[2m\u001b[36m(pid=15052)\u001b[0m 24.12\n",
      "\u001b[2m\u001b[36m(pid=15052)\u001b[0m reward: -10\n",
      "\u001b[2m\u001b[36m(pid=15052)\u001b[0m 46.85\n"
     ]
    },
    {
     "name": "stderr",
     "output_type": "stream",
     "text": [
      "\u001b[2m\u001b[36m(pid=15052)\u001b[0m c:\\users\\cig\\anaconda3\\envs\\autofocus\\lib\\site-packages\\imquality\\brisque.py:45: FutureWarning: The behavior of rgb2gray will change in scikit-image 0.19. Currently, rgb2gray allows 2D grayscale image to be passed as inputs and leaves them unmodified as outputs. Starting from version 0.19, 2D arrays will be treated as 1D images with 3 channels.\r\n",
      "\u001b[2m\u001b[36m(pid=15052)\u001b[0m   self.image = skimage.color.rgb2gray(self.image)\r\n"
     ]
    },
    {
     "name": "stdout",
     "output_type": "stream",
     "text": [
      "\u001b[2m\u001b[36m(pid=15052)\u001b[0m reward: -0.05146\n",
      "\u001b[2m\u001b[36m(pid=15052)\u001b[0m 24.95\n",
      "\u001b[2m\u001b[36m(pid=15052)\u001b[0m reward: -10\n",
      "\u001b[2m\u001b[36m(pid=15052)\u001b[0m 49.26\n"
     ]
    },
    {
     "name": "stderr",
     "output_type": "stream",
     "text": [
      "\u001b[2m\u001b[36m(pid=15052)\u001b[0m c:\\users\\cig\\anaconda3\\envs\\autofocus\\lib\\site-packages\\imquality\\brisque.py:45: FutureWarning: The behavior of rgb2gray will change in scikit-image 0.19. Currently, rgb2gray allows 2D grayscale image to be passed as inputs and leaves them unmodified as outputs. Starting from version 0.19, 2D arrays will be treated as 1D images with 3 channels.\r\n",
      "\u001b[2m\u001b[36m(pid=15052)\u001b[0m   self.image = skimage.color.rgb2gray(self.image)\r\n"
     ]
    },
    {
     "name": "stdout",
     "output_type": "stream",
     "text": [
      "\u001b[2m\u001b[36m(pid=15052)\u001b[0m reward: -0.04642\n",
      "\u001b[2m\u001b[36m(pid=15052)\u001b[0m 67.38\n",
      "\u001b[2m\u001b[36m(pid=15052)\u001b[0m reward: -10\n",
      "\u001b[2m\u001b[36m(pid=15052)\u001b[0m 34.66\n",
      "\u001b[2m\u001b[36m(pid=15052)\u001b[0m reward: -10\n",
      "\u001b[2m\u001b[36m(pid=15052)\u001b[0m 36.19\n",
      "\u001b[2m\u001b[36m(pid=15052)\u001b[0m reward: -10\n",
      "\u001b[2m\u001b[36m(pid=15052)\u001b[0m 48.78\n"
     ]
    },
    {
     "name": "stderr",
     "output_type": "stream",
     "text": [
      "\u001b[2m\u001b[36m(pid=15052)\u001b[0m c:\\users\\cig\\anaconda3\\envs\\autofocus\\lib\\site-packages\\imquality\\brisque.py:45: FutureWarning: The behavior of rgb2gray will change in scikit-image 0.19. Currently, rgb2gray allows 2D grayscale image to be passed as inputs and leaves them unmodified as outputs. Starting from version 0.19, 2D arrays will be treated as 1D images with 3 channels.\r\n",
      "\u001b[2m\u001b[36m(pid=15052)\u001b[0m   self.image = skimage.color.rgb2gray(self.image)\r\n"
     ]
    },
    {
     "name": "stdout",
     "output_type": "stream",
     "text": [
      "\u001b[2m\u001b[36m(pid=15052)\u001b[0m reward: -0.05952\n",
      "\u001b[2m\u001b[36m(pid=15052)\u001b[0m 49.56\n"
     ]
    },
    {
     "name": "stderr",
     "output_type": "stream",
     "text": [
      "\u001b[2m\u001b[36m(pid=15052)\u001b[0m c:\\users\\cig\\anaconda3\\envs\\autofocus\\lib\\site-packages\\imquality\\brisque.py:45: FutureWarning: The behavior of rgb2gray will change in scikit-image 0.19. Currently, rgb2gray allows 2D grayscale image to be passed as inputs and leaves them unmodified as outputs. Starting from version 0.19, 2D arrays will be treated as 1D images with 3 channels.\r\n",
      "\u001b[2m\u001b[36m(pid=15052)\u001b[0m   self.image = skimage.color.rgb2gray(self.image)\r\n"
     ]
    },
    {
     "name": "stdout",
     "output_type": "stream",
     "text": [
      "\u001b[2m\u001b[36m(pid=15052)\u001b[0m reward: -0.048049999999999995\n",
      "\u001b[2m\u001b[36m(pid=15052)\u001b[0m 27.72\n",
      "\u001b[2m\u001b[36m(pid=15052)\u001b[0m reward: -10\n",
      "\u001b[2m\u001b[36m(pid=15052)\u001b[0m 46.22\n"
     ]
    },
    {
     "name": "stderr",
     "output_type": "stream",
     "text": [
      "\u001b[2m\u001b[36m(pid=15052)\u001b[0m c:\\users\\cig\\anaconda3\\envs\\autofocus\\lib\\site-packages\\imquality\\brisque.py:45: FutureWarning: The behavior of rgb2gray will change in scikit-image 0.19. Currently, rgb2gray allows 2D grayscale image to be passed as inputs and leaves them unmodified as outputs. Starting from version 0.19, 2D arrays will be treated as 1D images with 3 channels.\r\n",
      "\u001b[2m\u001b[36m(pid=15052)\u001b[0m   self.image = skimage.color.rgb2gray(self.image)\r\n"
     ]
    },
    {
     "name": "stdout",
     "output_type": "stream",
     "text": [
      "\u001b[2m\u001b[36m(pid=15052)\u001b[0m reward: -0.03576\n",
      "\u001b[2m\u001b[36m(pid=15052)\u001b[0m 46.23\n"
     ]
    },
    {
     "name": "stderr",
     "output_type": "stream",
     "text": [
      "\u001b[2m\u001b[36m(pid=15052)\u001b[0m c:\\users\\cig\\anaconda3\\envs\\autofocus\\lib\\site-packages\\imquality\\brisque.py:45: FutureWarning: The behavior of rgb2gray will change in scikit-image 0.19. Currently, rgb2gray allows 2D grayscale image to be passed as inputs and leaves them unmodified as outputs. Starting from version 0.19, 2D arrays will be treated as 1D images with 3 channels.\r\n",
      "\u001b[2m\u001b[36m(pid=15052)\u001b[0m   self.image = skimage.color.rgb2gray(self.image)\r\n"
     ]
    },
    {
     "name": "stdout",
     "output_type": "stream",
     "text": [
      "\u001b[2m\u001b[36m(pid=15052)\u001b[0m reward: -0.04184\n",
      "\u001b[2m\u001b[36m(pid=15052)\u001b[0m 24.56\n",
      "\u001b[2m\u001b[36m(pid=15052)\u001b[0m reward: -10\n",
      "\u001b[2m\u001b[36m(pid=15052)\u001b[0m 34.76\n",
      "\u001b[2m\u001b[36m(pid=15052)\u001b[0m reward: -10\n",
      "\u001b[2m\u001b[36m(pid=15052)\u001b[0m 44.37\n",
      "\u001b[2m\u001b[36m(pid=15052)\u001b[0m reward: -10\n",
      "\u001b[2m\u001b[36m(pid=15052)\u001b[0m 46.31\n"
     ]
    },
    {
     "name": "stderr",
     "output_type": "stream",
     "text": [
      "\u001b[2m\u001b[36m(pid=15052)\u001b[0m c:\\users\\cig\\anaconda3\\envs\\autofocus\\lib\\site-packages\\imquality\\brisque.py:45: FutureWarning: The behavior of rgb2gray will change in scikit-image 0.19. Currently, rgb2gray allows 2D grayscale image to be passed as inputs and leaves them unmodified as outputs. Starting from version 0.19, 2D arrays will be treated as 1D images with 3 channels.\r\n",
      "\u001b[2m\u001b[36m(pid=15052)\u001b[0m   self.image = skimage.color.rgb2gray(self.image)\r\n"
     ]
    },
    {
     "name": "stdout",
     "output_type": "stream",
     "text": [
      "\u001b[2m\u001b[36m(pid=15052)\u001b[0m reward: -0.03961\n",
      "\u001b[2m\u001b[36m(pid=15052)\u001b[0m 62.4\n",
      "\u001b[2m\u001b[36m(pid=15052)\u001b[0m reward: -10\n",
      "\u001b[2m\u001b[36m(pid=15052)\u001b[0m 24.21\n",
      "\u001b[2m\u001b[36m(pid=15052)\u001b[0m reward: -10\n",
      "\u001b[2m\u001b[36m(pid=15052)\u001b[0m 48.22\n"
     ]
    },
    {
     "name": "stderr",
     "output_type": "stream",
     "text": [
      "\u001b[2m\u001b[36m(pid=15052)\u001b[0m c:\\users\\cig\\anaconda3\\envs\\autofocus\\lib\\site-packages\\imquality\\brisque.py:45: FutureWarning: The behavior of rgb2gray will change in scikit-image 0.19. Currently, rgb2gray allows 2D grayscale image to be passed as inputs and leaves them unmodified as outputs. Starting from version 0.19, 2D arrays will be treated as 1D images with 3 channels.\r\n",
      "\u001b[2m\u001b[36m(pid=15052)\u001b[0m   self.image = skimage.color.rgb2gray(self.image)\r\n"
     ]
    },
    {
     "name": "stdout",
     "output_type": "stream",
     "text": [
      "\u001b[2m\u001b[36m(pid=15052)\u001b[0m reward: -0.02499\n",
      "\u001b[2m\u001b[36m(pid=15052)\u001b[0m 24.17\n",
      "\u001b[2m\u001b[36m(pid=15052)\u001b[0m reward: -10\n",
      "\u001b[2m\u001b[36m(pid=15052)\u001b[0m 34.21\n",
      "\u001b[2m\u001b[36m(pid=15052)\u001b[0m reward: -10\n",
      "\u001b[2m\u001b[36m(pid=15052)\u001b[0m 24.63\n",
      "\u001b[2m\u001b[36m(pid=15052)\u001b[0m reward: -10\n",
      "\u001b[2m\u001b[36m(pid=15052)\u001b[0m 24.18\n",
      "\u001b[2m\u001b[36m(pid=15052)\u001b[0m reward: -10\n",
      "\u001b[2m\u001b[36m(pid=15052)\u001b[0m 45.85\n",
      "\u001b[2m\u001b[36m(pid=15052)\u001b[0m reward: -10\n",
      "\u001b[2m\u001b[36m(pid=15052)\u001b[0m 40.79\n",
      "\u001b[2m\u001b[36m(pid=15052)\u001b[0m reward: -10\n",
      "\u001b[2m\u001b[36m(pid=15052)\u001b[0m 43.79\n",
      "\u001b[2m\u001b[36m(pid=15052)\u001b[0m reward: -10\n",
      "\u001b[2m\u001b[36m(pid=15052)\u001b[0m 60.46\n",
      "\u001b[2m\u001b[36m(pid=15052)\u001b[0m reward: -10\n",
      "\u001b[2m\u001b[36m(pid=15052)\u001b[0m 24.22\n",
      "\u001b[2m\u001b[36m(pid=15052)\u001b[0m reward: -10\n",
      "\u001b[2m\u001b[36m(pid=15052)\u001b[0m 24.95\n",
      "\u001b[2m\u001b[36m(pid=15052)\u001b[0m reward: -10\n",
      "\u001b[2m\u001b[36m(pid=15052)\u001b[0m 40.42\n",
      "\u001b[2m\u001b[36m(pid=15052)\u001b[0m reward: -10\n",
      "\u001b[2m\u001b[36m(pid=15052)\u001b[0m 25.23\n",
      "\u001b[2m\u001b[36m(pid=15052)\u001b[0m reward: -10\n",
      "\u001b[2m\u001b[36m(pid=15052)\u001b[0m 39.73\n",
      "\u001b[2m\u001b[36m(pid=15052)\u001b[0m reward: -10\n",
      "\u001b[2m\u001b[36m(pid=15052)\u001b[0m 47.69\n"
     ]
    },
    {
     "name": "stderr",
     "output_type": "stream",
     "text": [
      "\u001b[2m\u001b[36m(pid=15052)\u001b[0m c:\\users\\cig\\anaconda3\\envs\\autofocus\\lib\\site-packages\\imquality\\brisque.py:45: FutureWarning: The behavior of rgb2gray will change in scikit-image 0.19. Currently, rgb2gray allows 2D grayscale image to be passed as inputs and leaves them unmodified as outputs. Starting from version 0.19, 2D arrays will be treated as 1D images with 3 channels.\r\n",
      "\u001b[2m\u001b[36m(pid=15052)\u001b[0m   self.image = skimage.color.rgb2gray(self.image)\r\n"
     ]
    },
    {
     "name": "stdout",
     "output_type": "stream",
     "text": [
      "\u001b[2m\u001b[36m(pid=15052)\u001b[0m reward: -0.03333\n",
      "\u001b[2m\u001b[36m(pid=15052)\u001b[0m 24.21\n",
      "\u001b[2m\u001b[36m(pid=15052)\u001b[0m reward: -10\n",
      "\u001b[2m\u001b[36m(pid=15052)\u001b[0m 46.73\n"
     ]
    },
    {
     "name": "stderr",
     "output_type": "stream",
     "text": [
      "\u001b[2m\u001b[36m(pid=15052)\u001b[0m c:\\users\\cig\\anaconda3\\envs\\autofocus\\lib\\site-packages\\imquality\\brisque.py:45: FutureWarning: The behavior of rgb2gray will change in scikit-image 0.19. Currently, rgb2gray allows 2D grayscale image to be passed as inputs and leaves them unmodified as outputs. Starting from version 0.19, 2D arrays will be treated as 1D images with 3 channels.\r\n",
      "\u001b[2m\u001b[36m(pid=15052)\u001b[0m   self.image = skimage.color.rgb2gray(self.image)\r\n"
     ]
    },
    {
     "name": "stdout",
     "output_type": "stream",
     "text": [
      "\u001b[2m\u001b[36m(pid=15052)\u001b[0m reward: -0.046200000000000005\n",
      "\u001b[2m\u001b[36m(pid=15052)\u001b[0m 24.8\n",
      "\u001b[2m\u001b[36m(pid=15052)\u001b[0m reward: -10\n",
      "\u001b[2m\u001b[36m(pid=15052)\u001b[0m 24.97\n",
      "\u001b[2m\u001b[36m(pid=15052)\u001b[0m reward: -10\n",
      "\u001b[2m\u001b[36m(pid=15052)\u001b[0m 46.97\n"
     ]
    },
    {
     "name": "stderr",
     "output_type": "stream",
     "text": [
      "\u001b[2m\u001b[36m(pid=15052)\u001b[0m c:\\users\\cig\\anaconda3\\envs\\autofocus\\lib\\site-packages\\imquality\\brisque.py:45: FutureWarning: The behavior of rgb2gray will change in scikit-image 0.19. Currently, rgb2gray allows 2D grayscale image to be passed as inputs and leaves them unmodified as outputs. Starting from version 0.19, 2D arrays will be treated as 1D images with 3 channels.\r\n",
      "\u001b[2m\u001b[36m(pid=15052)\u001b[0m   self.image = skimage.color.rgb2gray(self.image)\r\n"
     ]
    },
    {
     "name": "stdout",
     "output_type": "stream",
     "text": [
      "\u001b[2m\u001b[36m(pid=15052)\u001b[0m reward: -0.04707\n",
      "\u001b[2m\u001b[36m(pid=15052)\u001b[0m 49.49\n",
      "\u001b[2m\u001b[36m(pid=15052)\u001b[0m reward: -10\n",
      "\u001b[2m\u001b[36m(pid=15052)\u001b[0m 44.43\n",
      "\u001b[2m\u001b[36m(pid=15052)\u001b[0m reward: -10\n",
      "\u001b[2m\u001b[36m(pid=15052)\u001b[0m 41.1\n",
      "\u001b[2m\u001b[36m(pid=15052)\u001b[0m reward: -10\n",
      "\u001b[2m\u001b[36m(pid=15052)\u001b[0m 65.84\n",
      "\u001b[2m\u001b[36m(pid=15052)\u001b[0m reward: -10\n",
      "\u001b[2m\u001b[36m(pid=15052)\u001b[0m 41.83\n",
      "\u001b[2m\u001b[36m(pid=15052)\u001b[0m reward: -10\n",
      "\u001b[2m\u001b[36m(pid=15052)\u001b[0m 24.84\n",
      "\u001b[2m\u001b[36m(pid=15052)\u001b[0m reward: -10\n",
      "\u001b[2m\u001b[36m(pid=15052)\u001b[0m 24.25\n",
      "\u001b[2m\u001b[36m(pid=15052)\u001b[0m reward: -10\n",
      "\u001b[2m\u001b[36m(pid=15052)\u001b[0m 24.49\n",
      "\u001b[2m\u001b[36m(pid=15052)\u001b[0m reward: -10\n",
      "\u001b[2m\u001b[36m(pid=15052)\u001b[0m 50.23\n",
      "\u001b[2m\u001b[36m(pid=15052)\u001b[0m reward: -10\n",
      "\u001b[2m\u001b[36m(pid=15052)\u001b[0m 24.18\n",
      "\u001b[2m\u001b[36m(pid=15052)\u001b[0m reward: -10\n",
      "\u001b[2m\u001b[36m(pid=15052)\u001b[0m 63.8\n",
      "\u001b[2m\u001b[36m(pid=15052)\u001b[0m reward: -10\n",
      "\u001b[2m\u001b[36m(pid=15052)\u001b[0m 56.31\n",
      "\u001b[2m\u001b[36m(pid=15052)\u001b[0m reward: -10\n",
      "\u001b[2m\u001b[36m(pid=15052)\u001b[0m 47.71\n"
     ]
    },
    {
     "name": "stderr",
     "output_type": "stream",
     "text": [
      "\u001b[2m\u001b[36m(pid=15052)\u001b[0m c:\\users\\cig\\anaconda3\\envs\\autofocus\\lib\\site-packages\\imquality\\brisque.py:45: FutureWarning: The behavior of rgb2gray will change in scikit-image 0.19. Currently, rgb2gray allows 2D grayscale image to be passed as inputs and leaves them unmodified as outputs. Starting from version 0.19, 2D arrays will be treated as 1D images with 3 channels.\r\n",
      "\u001b[2m\u001b[36m(pid=15052)\u001b[0m   self.image = skimage.color.rgb2gray(self.image)\r\n"
     ]
    },
    {
     "name": "stdout",
     "output_type": "stream",
     "text": [
      "\u001b[2m\u001b[36m(pid=15052)\u001b[0m reward: -0.027800000000000002\n",
      "\u001b[2m\u001b[36m(pid=15052)\u001b[0m 58.49\n",
      "\u001b[2m\u001b[36m(pid=15052)\u001b[0m reward: -10\n",
      "\u001b[2m\u001b[36m(pid=15052)\u001b[0m 49.77\n",
      "\u001b[2m\u001b[36m(pid=15052)\u001b[0m reward: -10\n",
      "\u001b[2m\u001b[36m(pid=15052)\u001b[0m 48.5\n"
     ]
    },
    {
     "name": "stderr",
     "output_type": "stream",
     "text": [
      "\u001b[2m\u001b[36m(pid=15052)\u001b[0m c:\\users\\cig\\anaconda3\\envs\\autofocus\\lib\\site-packages\\imquality\\brisque.py:45: FutureWarning: The behavior of rgb2gray will change in scikit-image 0.19. Currently, rgb2gray allows 2D grayscale image to be passed as inputs and leaves them unmodified as outputs. Starting from version 0.19, 2D arrays will be treated as 1D images with 3 channels.\r\n",
      "\u001b[2m\u001b[36m(pid=15052)\u001b[0m   self.image = skimage.color.rgb2gray(self.image)\r\n"
     ]
    },
    {
     "name": "stdout",
     "output_type": "stream",
     "text": [
      "\u001b[2m\u001b[36m(pid=15052)\u001b[0m reward: -0.0469\n",
      "\u001b[2m\u001b[36m(pid=15052)\u001b[0m 46.84\n"
     ]
    },
    {
     "name": "stderr",
     "output_type": "stream",
     "text": [
      "\u001b[2m\u001b[36m(pid=15052)\u001b[0m c:\\users\\cig\\anaconda3\\envs\\autofocus\\lib\\site-packages\\imquality\\brisque.py:45: FutureWarning: The behavior of rgb2gray will change in scikit-image 0.19. Currently, rgb2gray allows 2D grayscale image to be passed as inputs and leaves them unmodified as outputs. Starting from version 0.19, 2D arrays will be treated as 1D images with 3 channels.\r\n",
      "\u001b[2m\u001b[36m(pid=15052)\u001b[0m   self.image = skimage.color.rgb2gray(self.image)\r\n"
     ]
    },
    {
     "name": "stdout",
     "output_type": "stream",
     "text": [
      "\u001b[2m\u001b[36m(pid=15052)\u001b[0m reward: -0.049210000000000004\n",
      "\u001b[2m\u001b[36m(pid=15052)\u001b[0m 48.5\n"
     ]
    },
    {
     "name": "stderr",
     "output_type": "stream",
     "text": [
      "\u001b[2m\u001b[36m(pid=15052)\u001b[0m c:\\users\\cig\\anaconda3\\envs\\autofocus\\lib\\site-packages\\imquality\\brisque.py:45: FutureWarning: The behavior of rgb2gray will change in scikit-image 0.19. Currently, rgb2gray allows 2D grayscale image to be passed as inputs and leaves them unmodified as outputs. Starting from version 0.19, 2D arrays will be treated as 1D images with 3 channels.\r\n",
      "\u001b[2m\u001b[36m(pid=15052)\u001b[0m   self.image = skimage.color.rgb2gray(self.image)\r\n"
     ]
    },
    {
     "name": "stdout",
     "output_type": "stream",
     "text": [
      "\u001b[2m\u001b[36m(pid=15052)\u001b[0m reward: -0.049890000000000004\n",
      "\u001b[2m\u001b[36m(pid=15052)\u001b[0m 34.18\n",
      "\u001b[2m\u001b[36m(pid=15052)\u001b[0m reward: -10\n",
      "\u001b[2m\u001b[36m(pid=15052)\u001b[0m 58.17\n",
      "\u001b[2m\u001b[36m(pid=15052)\u001b[0m reward: -10\n",
      "\u001b[2m\u001b[36m(pid=15052)\u001b[0m 47.13\n"
     ]
    },
    {
     "name": "stderr",
     "output_type": "stream",
     "text": [
      "\u001b[2m\u001b[36m(pid=15052)\u001b[0m c:\\users\\cig\\anaconda3\\envs\\autofocus\\lib\\site-packages\\imquality\\brisque.py:45: FutureWarning: The behavior of rgb2gray will change in scikit-image 0.19. Currently, rgb2gray allows 2D grayscale image to be passed as inputs and leaves them unmodified as outputs. Starting from version 0.19, 2D arrays will be treated as 1D images with 3 channels.\r\n",
      "\u001b[2m\u001b[36m(pid=15052)\u001b[0m   self.image = skimage.color.rgb2gray(self.image)\r\n"
     ]
    },
    {
     "name": "stdout",
     "output_type": "stream",
     "text": [
      "\u001b[2m\u001b[36m(pid=15052)\u001b[0m reward: -0.046770000000000006\n",
      "\u001b[2m\u001b[36m(pid=15052)\u001b[0m 49.34\n"
     ]
    },
    {
     "name": "stderr",
     "output_type": "stream",
     "text": [
      "\u001b[2m\u001b[36m(pid=15052)\u001b[0m c:\\users\\cig\\anaconda3\\envs\\autofocus\\lib\\site-packages\\imquality\\brisque.py:45: FutureWarning: The behavior of rgb2gray will change in scikit-image 0.19. Currently, rgb2gray allows 2D grayscale image to be passed as inputs and leaves them unmodified as outputs. Starting from version 0.19, 2D arrays will be treated as 1D images with 3 channels.\r\n",
      "\u001b[2m\u001b[36m(pid=15052)\u001b[0m   self.image = skimage.color.rgb2gray(self.image)\r\n"
     ]
    },
    {
     "name": "stdout",
     "output_type": "stream",
     "text": [
      "\u001b[2m\u001b[36m(pid=15052)\u001b[0m reward: -0.04675\n",
      "\u001b[2m\u001b[36m(pid=15052)\u001b[0m 48.34\n"
     ]
    },
    {
     "name": "stderr",
     "output_type": "stream",
     "text": [
      "\u001b[2m\u001b[36m(pid=15052)\u001b[0m c:\\users\\cig\\anaconda3\\envs\\autofocus\\lib\\site-packages\\imquality\\brisque.py:45: FutureWarning: The behavior of rgb2gray will change in scikit-image 0.19. Currently, rgb2gray allows 2D grayscale image to be passed as inputs and leaves them unmodified as outputs. Starting from version 0.19, 2D arrays will be treated as 1D images with 3 channels.\r\n",
      "\u001b[2m\u001b[36m(pid=15052)\u001b[0m   self.image = skimage.color.rgb2gray(self.image)\r\n"
     ]
    },
    {
     "name": "stdout",
     "output_type": "stream",
     "text": [
      "\u001b[2m\u001b[36m(pid=15052)\u001b[0m reward: -0.03408\n",
      "\u001b[2m\u001b[36m(pid=15052)\u001b[0m 45.65\n",
      "\u001b[2m\u001b[36m(pid=15052)\u001b[0m reward: -10\n",
      "\u001b[2m\u001b[36m(pid=15052)\u001b[0m 24.76\n",
      "\u001b[2m\u001b[36m(pid=15052)\u001b[0m reward: -10\n",
      "\u001b[2m\u001b[36m(pid=15052)\u001b[0m 24.35\n",
      "\u001b[2m\u001b[36m(pid=15052)\u001b[0m reward: -10\n",
      "\u001b[2m\u001b[36m(pid=15052)\u001b[0m 24.21\n",
      "\u001b[2m\u001b[36m(pid=15052)\u001b[0m reward: -10\n",
      "\u001b[2m\u001b[36m(pid=15052)\u001b[0m 57.5\n",
      "\u001b[2m\u001b[36m(pid=15052)\u001b[0m reward: -10\n",
      "\u001b[2m\u001b[36m(pid=15052)\u001b[0m 49.18\n"
     ]
    },
    {
     "name": "stderr",
     "output_type": "stream",
     "text": [
      "\u001b[2m\u001b[36m(pid=15052)\u001b[0m c:\\users\\cig\\anaconda3\\envs\\autofocus\\lib\\site-packages\\imquality\\brisque.py:45: FutureWarning: The behavior of rgb2gray will change in scikit-image 0.19. Currently, rgb2gray allows 2D grayscale image to be passed as inputs and leaves them unmodified as outputs. Starting from version 0.19, 2D arrays will be treated as 1D images with 3 channels.\r\n",
      "\u001b[2m\u001b[36m(pid=15052)\u001b[0m   self.image = skimage.color.rgb2gray(self.image)\r\n"
     ]
    },
    {
     "name": "stdout",
     "output_type": "stream",
     "text": [
      "\u001b[2m\u001b[36m(pid=15052)\u001b[0m reward: -0.04678\n",
      "\u001b[2m\u001b[36m(pid=15052)\u001b[0m 36.18\n",
      "\u001b[2m\u001b[36m(pid=15052)\u001b[0m reward: -10\n",
      "\u001b[2m\u001b[36m(pid=15052)\u001b[0m 50.29\n",
      "\u001b[2m\u001b[36m(pid=15052)\u001b[0m reward: -10\n",
      "\u001b[2m\u001b[36m(pid=15052)\u001b[0m 46.25\n",
      "\u001b[2m\u001b[36m(pid=15052)\u001b[0m reward: -10\n",
      "\u001b[2m\u001b[36m(pid=15052)\u001b[0m 60.85\n",
      "\u001b[2m\u001b[36m(pid=15052)\u001b[0m reward: -10\n",
      "\u001b[2m\u001b[36m(pid=15052)\u001b[0m 60.43\n",
      "\u001b[2m\u001b[36m(pid=15052)\u001b[0m reward: -10\n",
      "\u001b[2m\u001b[36m(pid=15052)\u001b[0m 47.2\n"
     ]
    },
    {
     "name": "stderr",
     "output_type": "stream",
     "text": [
      "\u001b[2m\u001b[36m(pid=15052)\u001b[0m c:\\users\\cig\\anaconda3\\envs\\autofocus\\lib\\site-packages\\imquality\\brisque.py:45: FutureWarning: The behavior of rgb2gray will change in scikit-image 0.19. Currently, rgb2gray allows 2D grayscale image to be passed as inputs and leaves them unmodified as outputs. Starting from version 0.19, 2D arrays will be treated as 1D images with 3 channels.\r\n",
      "\u001b[2m\u001b[36m(pid=15052)\u001b[0m   self.image = skimage.color.rgb2gray(self.image)\r\n"
     ]
    },
    {
     "name": "stdout",
     "output_type": "stream",
     "text": [
      "\u001b[2m\u001b[36m(pid=15052)\u001b[0m reward: -0.04625\n",
      "\u001b[2m\u001b[36m(pid=15052)\u001b[0m 24.37\n",
      "\u001b[2m\u001b[36m(pid=15052)\u001b[0m reward: -10\n",
      "\u001b[2m\u001b[36m(pid=15052)\u001b[0m 61.75\n",
      "\u001b[2m\u001b[36m(pid=15052)\u001b[0m reward: -10\n",
      "\u001b[2m\u001b[36m(pid=15052)\u001b[0m 56.23\n",
      "\u001b[2m\u001b[36m(pid=15052)\u001b[0m reward: -10\n",
      "\u001b[2m\u001b[36m(pid=15052)\u001b[0m 47.18\n"
     ]
    },
    {
     "name": "stderr",
     "output_type": "stream",
     "text": [
      "\u001b[2m\u001b[36m(pid=15052)\u001b[0m c:\\users\\cig\\anaconda3\\envs\\autofocus\\lib\\site-packages\\imquality\\brisque.py:45: FutureWarning: The behavior of rgb2gray will change in scikit-image 0.19. Currently, rgb2gray allows 2D grayscale image to be passed as inputs and leaves them unmodified as outputs. Starting from version 0.19, 2D arrays will be treated as 1D images with 3 channels.\r\n",
      "\u001b[2m\u001b[36m(pid=15052)\u001b[0m   self.image = skimage.color.rgb2gray(self.image)\r\n"
     ]
    },
    {
     "name": "stdout",
     "output_type": "stream",
     "text": [
      "\u001b[2m\u001b[36m(pid=15052)\u001b[0m reward: -0.04607\n",
      "\u001b[2m\u001b[36m(pid=15052)\u001b[0m 46.76\n"
     ]
    },
    {
     "name": "stderr",
     "output_type": "stream",
     "text": [
      "\u001b[2m\u001b[36m(pid=15052)\u001b[0m c:\\users\\cig\\anaconda3\\envs\\autofocus\\lib\\site-packages\\imquality\\brisque.py:45: FutureWarning: The behavior of rgb2gray will change in scikit-image 0.19. Currently, rgb2gray allows 2D grayscale image to be passed as inputs and leaves them unmodified as outputs. Starting from version 0.19, 2D arrays will be treated as 1D images with 3 channels.\r\n",
      "\u001b[2m\u001b[36m(pid=15052)\u001b[0m   self.image = skimage.color.rgb2gray(self.image)\r\n"
     ]
    },
    {
     "name": "stdout",
     "output_type": "stream",
     "text": [
      "\u001b[2m\u001b[36m(pid=15052)\u001b[0m reward: -0.04616\n",
      "\u001b[2m\u001b[36m(pid=15052)\u001b[0m 49.42\n"
     ]
    },
    {
     "name": "stderr",
     "output_type": "stream",
     "text": [
      "\u001b[2m\u001b[36m(pid=15052)\u001b[0m c:\\users\\cig\\anaconda3\\envs\\autofocus\\lib\\site-packages\\imquality\\brisque.py:45: FutureWarning: The behavior of rgb2gray will change in scikit-image 0.19. Currently, rgb2gray allows 2D grayscale image to be passed as inputs and leaves them unmodified as outputs. Starting from version 0.19, 2D arrays will be treated as 1D images with 3 channels.\r\n",
      "\u001b[2m\u001b[36m(pid=15052)\u001b[0m   self.image = skimage.color.rgb2gray(self.image)\r\n"
     ]
    },
    {
     "name": "stdout",
     "output_type": "stream",
     "text": [
      "\u001b[2m\u001b[36m(pid=15052)\u001b[0m reward: -0.0465\n",
      "\u001b[2m\u001b[36m(pid=15052)\u001b[0m 27.61\n",
      "\u001b[2m\u001b[36m(pid=15052)\u001b[0m reward: -10\n",
      "\u001b[2m\u001b[36m(pid=15052)\u001b[0m 51.57\n",
      "\u001b[2m\u001b[36m(pid=15052)\u001b[0m reward: -10\n",
      "\u001b[2m\u001b[36m(pid=15052)\u001b[0m 64.7\n",
      "\u001b[2m\u001b[36m(pid=15052)\u001b[0m reward: -10\n",
      "\u001b[2m\u001b[36m(pid=15052)\u001b[0m 48.53\n"
     ]
    },
    {
     "name": "stderr",
     "output_type": "stream",
     "text": [
      "\u001b[2m\u001b[36m(pid=15052)\u001b[0m c:\\users\\cig\\anaconda3\\envs\\autofocus\\lib\\site-packages\\imquality\\brisque.py:45: FutureWarning: The behavior of rgb2gray will change in scikit-image 0.19. Currently, rgb2gray allows 2D grayscale image to be passed as inputs and leaves them unmodified as outputs. Starting from version 0.19, 2D arrays will be treated as 1D images with 3 channels.\r\n",
      "\u001b[2m\u001b[36m(pid=15052)\u001b[0m   self.image = skimage.color.rgb2gray(self.image)\r\n"
     ]
    },
    {
     "name": "stdout",
     "output_type": "stream",
     "text": [
      "\u001b[2m\u001b[36m(pid=15052)\u001b[0m reward: -0.046310000000000004\n",
      "\u001b[2m\u001b[36m(pid=15052)\u001b[0m 24.14\n",
      "\u001b[2m\u001b[36m(pid=15052)\u001b[0m reward: -10\n",
      "\u001b[2m\u001b[36m(pid=15052)\u001b[0m 24.23\n",
      "\u001b[2m\u001b[36m(pid=15052)\u001b[0m reward: -10\n",
      "\u001b[2m\u001b[36m(pid=15052)\u001b[0m 44.67\n",
      "\u001b[2m\u001b[36m(pid=15052)\u001b[0m reward: -10\n",
      "\u001b[2m\u001b[36m(pid=15052)\u001b[0m 49.44\n"
     ]
    },
    {
     "name": "stderr",
     "output_type": "stream",
     "text": [
      "\u001b[2m\u001b[36m(pid=15052)\u001b[0m c:\\users\\cig\\anaconda3\\envs\\autofocus\\lib\\site-packages\\imquality\\brisque.py:45: FutureWarning: The behavior of rgb2gray will change in scikit-image 0.19. Currently, rgb2gray allows 2D grayscale image to be passed as inputs and leaves them unmodified as outputs. Starting from version 0.19, 2D arrays will be treated as 1D images with 3 channels.\r\n",
      "\u001b[2m\u001b[36m(pid=15052)\u001b[0m   self.image = skimage.color.rgb2gray(self.image)\r\n"
     ]
    },
    {
     "name": "stdout",
     "output_type": "stream",
     "text": [
      "\u001b[2m\u001b[36m(pid=15052)\u001b[0m reward: -0.045270000000000005\n",
      "\u001b[2m\u001b[36m(pid=15052)\u001b[0m 24.86\n",
      "\u001b[2m\u001b[36m(pid=15052)\u001b[0m reward: -10\n",
      "\u001b[2m\u001b[36m(pid=15052)\u001b[0m 46.58\n",
      "\u001b[2m\u001b[36m(pid=15052)\u001b[0m reward: -10\n",
      "\u001b[2m\u001b[36m(pid=15052)\u001b[0m 24.85\n",
      "\u001b[2m\u001b[36m(pid=15052)\u001b[0m reward: -10\n",
      "\u001b[2m\u001b[36m(pid=15052)\u001b[0m 24.1\n",
      "\u001b[2m\u001b[36m(pid=15052)\u001b[0m reward: -10\n",
      "\u001b[2m\u001b[36m(pid=15052)\u001b[0m 47.28\n"
     ]
    },
    {
     "name": "stderr",
     "output_type": "stream",
     "text": [
      "\u001b[2m\u001b[36m(pid=15052)\u001b[0m c:\\users\\cig\\anaconda3\\envs\\autofocus\\lib\\site-packages\\imquality\\brisque.py:45: FutureWarning: The behavior of rgb2gray will change in scikit-image 0.19. Currently, rgb2gray allows 2D grayscale image to be passed as inputs and leaves them unmodified as outputs. Starting from version 0.19, 2D arrays will be treated as 1D images with 3 channels.\r\n",
      "\u001b[2m\u001b[36m(pid=15052)\u001b[0m   self.image = skimage.color.rgb2gray(self.image)\r\n"
     ]
    },
    {
     "name": "stdout",
     "output_type": "stream",
     "text": [
      "\u001b[2m\u001b[36m(pid=15052)\u001b[0m reward: -0.04523\n",
      "\u001b[2m\u001b[36m(pid=15052)\u001b[0m 46.37\n",
      "\u001b[2m\u001b[36m(pid=15052)\u001b[0m reward: -10\n",
      "\u001b[2m\u001b[36m(pid=15052)\u001b[0m 24.8\n",
      "\u001b[2m\u001b[36m(pid=15052)\u001b[0m reward: -10\n",
      "\u001b[2m\u001b[36m(pid=15052)\u001b[0m 24.2\n",
      "\u001b[2m\u001b[36m(pid=15052)\u001b[0m reward: -10\n",
      "\u001b[2m\u001b[36m(pid=15052)\u001b[0m 32.76\n",
      "\u001b[2m\u001b[36m(pid=15052)\u001b[0m reward: -10\n",
      "custom_metrics: {}\n",
      "date: 2021-03-31_17-27-13\n",
      "done: false\n",
      "episode_len_mean: 5.218181818181818\n",
      "episode_reward_max: -0.018600000000000002\n",
      "episode_reward_mean: -44.715137272727276\n",
      "episode_reward_min: -100.0\n",
      "episodes_this_iter: 39\n",
      "episodes_total: 220\n",
      "experiment_id: f29f35cc3ac947278fbe79a0a7e35ac4\n",
      "hostname: DESKTOP-K2L4N78\n",
      "info:\n",
      "  learner:\n",
      "    default_policy:\n",
      "      cur_kl_coeff: 3.417187452316284\n",
      "      cur_lr: 0.0002500000118743628\n",
      "      entropy: 8.257640838623047\n",
      "      entropy_coeff: 0.009999999776482582\n",
      "      kl: 0.012626608833670616\n",
      "      model: {}\n",
      "      policy_loss: -0.16024264693260193\n",
      "      total_loss: 525.2608032226562\n",
      "      vf_explained_var: 5.960464477539063e-08\n",
      "      vf_loss: 525.46044921875\n",
      "  num_steps_sampled: 1152\n",
      "  num_steps_trained: 1152\n",
      "iterations_since_restore: 9\n",
      "node_ip: 10.16.102.19\n",
      "num_healthy_workers: 1\n",
      "off_policy_estimator: {}\n",
      "perf:\n",
      "  cpu_util_percent: 7.3845915201654595\n",
      "  ram_util_percent: 45.68821096173733\n",
      "pid: 14556\n",
      "policy_reward_max: {}\n",
      "policy_reward_mean: {}\n",
      "policy_reward_min: {}\n",
      "sampler_perf:\n",
      "  mean_action_processing_ms: 0.043856142646996686\n",
      "  mean_env_wait_ms: 4143.0538429412645\n",
      "  mean_inference_ms: 0.9209724697521274\n",
      "  mean_raw_obs_processing_ms: 581.2002658977901\n",
      "time_since_restore: 5598.816111087799\n",
      "time_this_iter_s: 678.7894673347473\n",
      "time_total_s: 5598.816111087799\n",
      "timers:\n",
      "  learn_throughput: 707.727\n",
      "  learn_time_ms: 180.861\n",
      "  load_throughput: 28781.843\n",
      "  load_time_ms: 4.447\n",
      "  sample_throughput: 0.206\n",
      "  sample_time_ms: 621791.362\n",
      "  update_time_ms: 5.556\n",
      "timestamp: 1617200833\n",
      "timesteps_since_restore: 0\n",
      "timesteps_total: 1152\n",
      "training_iteration: 9\n",
      "\n",
      "------- 8 -------\n",
      "\u001b[2m\u001b[36m(pid=15052)\u001b[0m 60.76\n",
      "\u001b[2m\u001b[36m(pid=15052)\u001b[0m reward: -10\n",
      "\u001b[2m\u001b[36m(pid=15052)\u001b[0m 49.68\n",
      "\u001b[2m\u001b[36m(pid=15052)\u001b[0m reward: -10\n",
      "\u001b[2m\u001b[36m(pid=15052)\u001b[0m 48.21\n"
     ]
    },
    {
     "name": "stderr",
     "output_type": "stream",
     "text": [
      "\u001b[2m\u001b[36m(pid=15052)\u001b[0m c:\\users\\cig\\anaconda3\\envs\\autofocus\\lib\\site-packages\\imquality\\brisque.py:45: FutureWarning: The behavior of rgb2gray will change in scikit-image 0.19. Currently, rgb2gray allows 2D grayscale image to be passed as inputs and leaves them unmodified as outputs. Starting from version 0.19, 2D arrays will be treated as 1D images with 3 channels.\r\n",
      "\u001b[2m\u001b[36m(pid=15052)\u001b[0m   self.image = skimage.color.rgb2gray(self.image)\r\n"
     ]
    },
    {
     "name": "stdout",
     "output_type": "stream",
     "text": [
      "\u001b[2m\u001b[36m(pid=15052)\u001b[0m reward: -0.02129\n",
      "\u001b[2m\u001b[36m(pid=15052)\u001b[0m 60.5\n",
      "\u001b[2m\u001b[36m(pid=15052)\u001b[0m reward: -10\n",
      "\u001b[2m\u001b[36m(pid=15052)\u001b[0m 24.1\n",
      "\u001b[2m\u001b[36m(pid=15052)\u001b[0m reward: -10\n",
      "\u001b[2m\u001b[36m(pid=15052)\u001b[0m 44.81\n",
      "\u001b[2m\u001b[36m(pid=15052)\u001b[0m reward: -10\n",
      "\u001b[2m\u001b[36m(pid=15052)\u001b[0m 60.25\n",
      "\u001b[2m\u001b[36m(pid=15052)\u001b[0m reward: -10\n",
      "\u001b[2m\u001b[36m(pid=15052)\u001b[0m 52.4\n",
      "\u001b[2m\u001b[36m(pid=15052)\u001b[0m reward: -10\n",
      "\u001b[2m\u001b[36m(pid=15052)\u001b[0m 26.49\n",
      "\u001b[2m\u001b[36m(pid=15052)\u001b[0m reward: -10\n",
      "\u001b[2m\u001b[36m(pid=15052)\u001b[0m 24.46\n",
      "\u001b[2m\u001b[36m(pid=15052)\u001b[0m reward: -10\n",
      "\u001b[2m\u001b[36m(pid=15052)\u001b[0m 59.59\n",
      "\u001b[2m\u001b[36m(pid=15052)\u001b[0m reward: -10\n",
      "\u001b[2m\u001b[36m(pid=15052)\u001b[0m 25.75\n",
      "\u001b[2m\u001b[36m(pid=15052)\u001b[0m reward: -10\n",
      "\u001b[2m\u001b[36m(pid=15052)\u001b[0m 55.52\n",
      "\u001b[2m\u001b[36m(pid=15052)\u001b[0m reward: -10\n",
      "\u001b[2m\u001b[36m(pid=15052)\u001b[0m 24.83\n",
      "\u001b[2m\u001b[36m(pid=15052)\u001b[0m reward: -10\n",
      "\u001b[2m\u001b[36m(pid=15052)\u001b[0m 35.69\n",
      "\u001b[2m\u001b[36m(pid=15052)\u001b[0m reward: -10\n",
      "\u001b[2m\u001b[36m(pid=15052)\u001b[0m 24.96\n",
      "\u001b[2m\u001b[36m(pid=15052)\u001b[0m reward: -10\n",
      "\u001b[2m\u001b[36m(pid=15052)\u001b[0m 24.44\n",
      "\u001b[2m\u001b[36m(pid=15052)\u001b[0m reward: -10\n",
      "\u001b[2m\u001b[36m(pid=15052)\u001b[0m 49.8\n",
      "\u001b[2m\u001b[36m(pid=15052)\u001b[0m reward: -10\n",
      "\u001b[2m\u001b[36m(pid=15052)\u001b[0m 48.6\n"
     ]
    },
    {
     "name": "stderr",
     "output_type": "stream",
     "text": [
      "\u001b[2m\u001b[36m(pid=15052)\u001b[0m c:\\users\\cig\\anaconda3\\envs\\autofocus\\lib\\site-packages\\imquality\\brisque.py:45: FutureWarning: The behavior of rgb2gray will change in scikit-image 0.19. Currently, rgb2gray allows 2D grayscale image to be passed as inputs and leaves them unmodified as outputs. Starting from version 0.19, 2D arrays will be treated as 1D images with 3 channels.\r\n",
      "\u001b[2m\u001b[36m(pid=15052)\u001b[0m   self.image = skimage.color.rgb2gray(self.image)\r\n"
     ]
    },
    {
     "name": "stdout",
     "output_type": "stream",
     "text": [
      "\u001b[2m\u001b[36m(pid=15052)\u001b[0m reward: -0.05167\n",
      "\u001b[2m\u001b[36m(pid=15052)\u001b[0m 44.43\n",
      "\u001b[2m\u001b[36m(pid=15052)\u001b[0m reward: -10\n",
      "\u001b[2m\u001b[36m(pid=15052)\u001b[0m 59.59\n",
      "\u001b[2m\u001b[36m(pid=15052)\u001b[0m reward: -10\n",
      "\u001b[2m\u001b[36m(pid=15052)\u001b[0m 55.76\n",
      "\u001b[2m\u001b[36m(pid=15052)\u001b[0m reward: -10\n",
      "\u001b[2m\u001b[36m(pid=15052)\u001b[0m 48.97\n"
     ]
    },
    {
     "name": "stderr",
     "output_type": "stream",
     "text": [
      "\u001b[2m\u001b[36m(pid=15052)\u001b[0m c:\\users\\cig\\anaconda3\\envs\\autofocus\\lib\\site-packages\\imquality\\brisque.py:45: FutureWarning: The behavior of rgb2gray will change in scikit-image 0.19. Currently, rgb2gray allows 2D grayscale image to be passed as inputs and leaves them unmodified as outputs. Starting from version 0.19, 2D arrays will be treated as 1D images with 3 channels.\r\n",
      "\u001b[2m\u001b[36m(pid=15052)\u001b[0m   self.image = skimage.color.rgb2gray(self.image)\r\n"
     ]
    },
    {
     "name": "stdout",
     "output_type": "stream",
     "text": [
      "\u001b[2m\u001b[36m(pid=15052)\u001b[0m reward: -0.05432\n",
      "\u001b[2m\u001b[36m(pid=15052)\u001b[0m 24.98\n",
      "\u001b[2m\u001b[36m(pid=15052)\u001b[0m reward: -10\n",
      "\u001b[2m\u001b[36m(pid=15052)\u001b[0m 24.42\n",
      "\u001b[2m\u001b[36m(pid=15052)\u001b[0m reward: -10\n",
      "\u001b[2m\u001b[36m(pid=15052)\u001b[0m 58.68\n",
      "\u001b[2m\u001b[36m(pid=15052)\u001b[0m reward: -10\n",
      "\u001b[2m\u001b[36m(pid=15052)\u001b[0m 47.56\n"
     ]
    },
    {
     "name": "stderr",
     "output_type": "stream",
     "text": [
      "\u001b[2m\u001b[36m(pid=15052)\u001b[0m c:\\users\\cig\\anaconda3\\envs\\autofocus\\lib\\site-packages\\imquality\\brisque.py:45: FutureWarning: The behavior of rgb2gray will change in scikit-image 0.19. Currently, rgb2gray allows 2D grayscale image to be passed as inputs and leaves them unmodified as outputs. Starting from version 0.19, 2D arrays will be treated as 1D images with 3 channels.\r\n",
      "\u001b[2m\u001b[36m(pid=15052)\u001b[0m   self.image = skimage.color.rgb2gray(self.image)\r\n"
     ]
    },
    {
     "name": "stdout",
     "output_type": "stream",
     "text": [
      "\u001b[2m\u001b[36m(pid=15052)\u001b[0m reward: -0.02987\n",
      "\u001b[2m\u001b[36m(pid=15052)\u001b[0m 24.29\n",
      "\u001b[2m\u001b[36m(pid=15052)\u001b[0m reward: -10\n",
      "\u001b[2m\u001b[36m(pid=15052)\u001b[0m 39.69\n",
      "\u001b[2m\u001b[36m(pid=15052)\u001b[0m reward: -10\n",
      "\u001b[2m\u001b[36m(pid=15052)\u001b[0m 46.45\n",
      "\u001b[2m\u001b[36m(pid=15052)\u001b[0m reward: -10\n",
      "\u001b[2m\u001b[36m(pid=15052)\u001b[0m 24.56\n",
      "\u001b[2m\u001b[36m(pid=15052)\u001b[0m reward: -10\n",
      "\u001b[2m\u001b[36m(pid=15052)\u001b[0m 49.18\n"
     ]
    },
    {
     "name": "stderr",
     "output_type": "stream",
     "text": [
      "\u001b[2m\u001b[36m(pid=15052)\u001b[0m c:\\users\\cig\\anaconda3\\envs\\autofocus\\lib\\site-packages\\imquality\\brisque.py:45: FutureWarning: The behavior of rgb2gray will change in scikit-image 0.19. Currently, rgb2gray allows 2D grayscale image to be passed as inputs and leaves them unmodified as outputs. Starting from version 0.19, 2D arrays will be treated as 1D images with 3 channels.\r\n",
      "\u001b[2m\u001b[36m(pid=15052)\u001b[0m   self.image = skimage.color.rgb2gray(self.image)\r\n"
     ]
    },
    {
     "name": "stdout",
     "output_type": "stream",
     "text": [
      "\u001b[2m\u001b[36m(pid=15052)\u001b[0m reward: -0.04705\n",
      "\u001b[2m\u001b[36m(pid=15052)\u001b[0m 49.12\n"
     ]
    },
    {
     "name": "stderr",
     "output_type": "stream",
     "text": [
      "\u001b[2m\u001b[36m(pid=15052)\u001b[0m c:\\users\\cig\\anaconda3\\envs\\autofocus\\lib\\site-packages\\imquality\\brisque.py:45: FutureWarning: The behavior of rgb2gray will change in scikit-image 0.19. Currently, rgb2gray allows 2D grayscale image to be passed as inputs and leaves them unmodified as outputs. Starting from version 0.19, 2D arrays will be treated as 1D images with 3 channels.\r\n",
      "\u001b[2m\u001b[36m(pid=15052)\u001b[0m   self.image = skimage.color.rgb2gray(self.image)\r\n"
     ]
    },
    {
     "name": "stdout",
     "output_type": "stream",
     "text": [
      "\u001b[2m\u001b[36m(pid=15052)\u001b[0m reward: -0.047549999999999995\n",
      "\u001b[2m\u001b[36m(pid=15052)\u001b[0m 24.69\n",
      "\u001b[2m\u001b[36m(pid=15052)\u001b[0m reward: -10\n",
      "\u001b[2m\u001b[36m(pid=15052)\u001b[0m 24.25\n",
      "\u001b[2m\u001b[36m(pid=15052)\u001b[0m reward: -10\n",
      "\u001b[2m\u001b[36m(pid=15052)\u001b[0m 47.87\n"
     ]
    },
    {
     "name": "stderr",
     "output_type": "stream",
     "text": [
      "\u001b[2m\u001b[36m(pid=15052)\u001b[0m c:\\users\\cig\\anaconda3\\envs\\autofocus\\lib\\site-packages\\imquality\\brisque.py:45: FutureWarning: The behavior of rgb2gray will change in scikit-image 0.19. Currently, rgb2gray allows 2D grayscale image to be passed as inputs and leaves them unmodified as outputs. Starting from version 0.19, 2D arrays will be treated as 1D images with 3 channels.\r\n",
      "\u001b[2m\u001b[36m(pid=15052)\u001b[0m   self.image = skimage.color.rgb2gray(self.image)\r\n"
     ]
    },
    {
     "name": "stdout",
     "output_type": "stream",
     "text": [
      "\u001b[2m\u001b[36m(pid=15052)\u001b[0m reward: -0.01713\n",
      "\u001b[2m\u001b[36m(pid=15052)\u001b[0m 62.5\n",
      "\u001b[2m\u001b[36m(pid=15052)\u001b[0m reward: -10\n",
      "\u001b[2m\u001b[36m(pid=15052)\u001b[0m 24.79\n",
      "\u001b[2m\u001b[36m(pid=15052)\u001b[0m reward: -10\n",
      "\u001b[2m\u001b[36m(pid=15052)\u001b[0m 24.21\n",
      "\u001b[2m\u001b[36m(pid=15052)\u001b[0m reward: -10\n",
      "\u001b[2m\u001b[36m(pid=15052)\u001b[0m 24.71\n",
      "\u001b[2m\u001b[36m(pid=15052)\u001b[0m reward: -10\n",
      "\u001b[2m\u001b[36m(pid=15052)\u001b[0m 24.72\n",
      "\u001b[2m\u001b[36m(pid=15052)\u001b[0m reward: -10\n",
      "\u001b[2m\u001b[36m(pid=15052)\u001b[0m 24.21\n",
      "\u001b[2m\u001b[36m(pid=15052)\u001b[0m reward: -10\n",
      "\u001b[2m\u001b[36m(pid=15052)\u001b[0m 24.69\n",
      "\u001b[2m\u001b[36m(pid=15052)\u001b[0m reward: -10\n",
      "\u001b[2m\u001b[36m(pid=15052)\u001b[0m 49.88\n",
      "\u001b[2m\u001b[36m(pid=15052)\u001b[0m reward: -10\n",
      "\u001b[2m\u001b[36m(pid=15052)\u001b[0m 49.96\n",
      "\u001b[2m\u001b[36m(pid=15052)\u001b[0m reward: -10\n",
      "\u001b[2m\u001b[36m(pid=15052)\u001b[0m 28.89\n",
      "\u001b[2m\u001b[36m(pid=15052)\u001b[0m reward: -10\n",
      "\u001b[2m\u001b[36m(pid=15052)\u001b[0m 32.73\n",
      "\u001b[2m\u001b[36m(pid=15052)\u001b[0m reward: -10\n",
      "\u001b[2m\u001b[36m(pid=15052)\u001b[0m 47.43\n"
     ]
    },
    {
     "name": "stderr",
     "output_type": "stream",
     "text": [
      "\u001b[2m\u001b[36m(pid=15052)\u001b[0m c:\\users\\cig\\anaconda3\\envs\\autofocus\\lib\\site-packages\\imquality\\brisque.py:45: FutureWarning: The behavior of rgb2gray will change in scikit-image 0.19. Currently, rgb2gray allows 2D grayscale image to be passed as inputs and leaves them unmodified as outputs. Starting from version 0.19, 2D arrays will be treated as 1D images with 3 channels.\r\n",
      "\u001b[2m\u001b[36m(pid=15052)\u001b[0m   self.image = skimage.color.rgb2gray(self.image)\r\n"
     ]
    },
    {
     "name": "stdout",
     "output_type": "stream",
     "text": [
      "\u001b[2m\u001b[36m(pid=15052)\u001b[0m reward: -0.041280000000000004\n",
      "\u001b[2m\u001b[36m(pid=15052)\u001b[0m 49.8\n",
      "\u001b[2m\u001b[36m(pid=15052)\u001b[0m reward: -10\n",
      "\u001b[2m\u001b[36m(pid=15052)\u001b[0m 24.2\n",
      "\u001b[2m\u001b[36m(pid=15052)\u001b[0m reward: -10\n",
      "\u001b[2m\u001b[36m(pid=15052)\u001b[0m 56.22\n",
      "\u001b[2m\u001b[36m(pid=15052)\u001b[0m reward: -10\n",
      "\u001b[2m\u001b[36m(pid=15052)\u001b[0m 24.56\n",
      "\u001b[2m\u001b[36m(pid=15052)\u001b[0m reward: -10\n",
      "\u001b[2m\u001b[36m(pid=15052)\u001b[0m 24.86\n",
      "\u001b[2m\u001b[36m(pid=15052)\u001b[0m reward: -10\n",
      "\u001b[2m\u001b[36m(pid=15052)\u001b[0m 24.2\n",
      "\u001b[2m\u001b[36m(pid=15052)\u001b[0m reward: -10\n",
      "\u001b[2m\u001b[36m(pid=15052)\u001b[0m 24.3\n",
      "\u001b[2m\u001b[36m(pid=15052)\u001b[0m reward: -10\n",
      "\u001b[2m\u001b[36m(pid=15052)\u001b[0m 25.89\n",
      "\u001b[2m\u001b[36m(pid=15052)\u001b[0m reward: -10\n",
      "\u001b[2m\u001b[36m(pid=15052)\u001b[0m 36.64\n",
      "\u001b[2m\u001b[36m(pid=15052)\u001b[0m reward: -10\n",
      "\u001b[2m\u001b[36m(pid=15052)\u001b[0m 24.75\n",
      "\u001b[2m\u001b[36m(pid=15052)\u001b[0m reward: -10\n",
      "\u001b[2m\u001b[36m(pid=15052)\u001b[0m 24.74\n",
      "\u001b[2m\u001b[36m(pid=15052)\u001b[0m reward: -10\n",
      "\u001b[2m\u001b[36m(pid=15052)\u001b[0m 46.65\n"
     ]
    },
    {
     "name": "stderr",
     "output_type": "stream",
     "text": [
      "\u001b[2m\u001b[36m(pid=15052)\u001b[0m c:\\users\\cig\\anaconda3\\envs\\autofocus\\lib\\site-packages\\imquality\\brisque.py:45: FutureWarning: The behavior of rgb2gray will change in scikit-image 0.19. Currently, rgb2gray allows 2D grayscale image to be passed as inputs and leaves them unmodified as outputs. Starting from version 0.19, 2D arrays will be treated as 1D images with 3 channels.\r\n",
      "\u001b[2m\u001b[36m(pid=15052)\u001b[0m   self.image = skimage.color.rgb2gray(self.image)\r\n"
     ]
    },
    {
     "name": "stdout",
     "output_type": "stream",
     "text": [
      "\u001b[2m\u001b[36m(pid=15052)\u001b[0m reward: -0.04793\n",
      "\u001b[2m\u001b[36m(pid=15052)\u001b[0m 49.18\n"
     ]
    },
    {
     "name": "stderr",
     "output_type": "stream",
     "text": [
      "\u001b[2m\u001b[36m(pid=15052)\u001b[0m c:\\users\\cig\\anaconda3\\envs\\autofocus\\lib\\site-packages\\imquality\\brisque.py:45: FutureWarning: The behavior of rgb2gray will change in scikit-image 0.19. Currently, rgb2gray allows 2D grayscale image to be passed as inputs and leaves them unmodified as outputs. Starting from version 0.19, 2D arrays will be treated as 1D images with 3 channels.\r\n",
      "\u001b[2m\u001b[36m(pid=15052)\u001b[0m   self.image = skimage.color.rgb2gray(self.image)\r\n"
     ]
    },
    {
     "name": "stdout",
     "output_type": "stream",
     "text": [
      "\u001b[2m\u001b[36m(pid=15052)\u001b[0m reward: -0.04739\n",
      "\u001b[2m\u001b[36m(pid=15052)\u001b[0m 48.95\n"
     ]
    },
    {
     "name": "stderr",
     "output_type": "stream",
     "text": [
      "\u001b[2m\u001b[36m(pid=15052)\u001b[0m c:\\users\\cig\\anaconda3\\envs\\autofocus\\lib\\site-packages\\imquality\\brisque.py:45: FutureWarning: The behavior of rgb2gray will change in scikit-image 0.19. Currently, rgb2gray allows 2D grayscale image to be passed as inputs and leaves them unmodified as outputs. Starting from version 0.19, 2D arrays will be treated as 1D images with 3 channels.\r\n",
      "\u001b[2m\u001b[36m(pid=15052)\u001b[0m   self.image = skimage.color.rgb2gray(self.image)\r\n"
     ]
    },
    {
     "name": "stdout",
     "output_type": "stream",
     "text": [
      "\u001b[2m\u001b[36m(pid=15052)\u001b[0m reward: -0.04869\n",
      "\u001b[2m\u001b[36m(pid=15052)\u001b[0m 46.23\n",
      "\u001b[2m\u001b[36m(pid=15052)\u001b[0m reward: -10\n",
      "\u001b[2m\u001b[36m(pid=15052)\u001b[0m 56.12\n",
      "\u001b[2m\u001b[36m(pid=15052)\u001b[0m reward: -10\n",
      "\u001b[2m\u001b[36m(pid=15052)\u001b[0m 24.56\n",
      "\u001b[2m\u001b[36m(pid=15052)\u001b[0m reward: -10\n",
      "\u001b[2m\u001b[36m(pid=15052)\u001b[0m 24.4\n",
      "\u001b[2m\u001b[36m(pid=15052)\u001b[0m reward: -10\n",
      "\u001b[2m\u001b[36m(pid=15052)\u001b[0m 42.56\n",
      "\u001b[2m\u001b[36m(pid=15052)\u001b[0m reward: -10\n",
      "\u001b[2m\u001b[36m(pid=15052)\u001b[0m 24.21\n",
      "\u001b[2m\u001b[36m(pid=15052)\u001b[0m reward: -10\n",
      "\u001b[2m\u001b[36m(pid=15052)\u001b[0m 37.18\n",
      "\u001b[2m\u001b[36m(pid=15052)\u001b[0m reward: -10\n",
      "\u001b[2m\u001b[36m(pid=15052)\u001b[0m 60.7\n",
      "\u001b[2m\u001b[36m(pid=15052)\u001b[0m reward: -10\n",
      "\u001b[2m\u001b[36m(pid=15052)\u001b[0m 24.86\n",
      "\u001b[2m\u001b[36m(pid=15052)\u001b[0m reward: -10\n",
      "\u001b[2m\u001b[36m(pid=15052)\u001b[0m 51.14\n",
      "\u001b[2m\u001b[36m(pid=15052)\u001b[0m reward: -10\n",
      "\u001b[2m\u001b[36m(pid=15052)\u001b[0m 47.61\n"
     ]
    },
    {
     "name": "stderr",
     "output_type": "stream",
     "text": [
      "\u001b[2m\u001b[36m(pid=15052)\u001b[0m c:\\users\\cig\\anaconda3\\envs\\autofocus\\lib\\site-packages\\imquality\\brisque.py:45: FutureWarning: The behavior of rgb2gray will change in scikit-image 0.19. Currently, rgb2gray allows 2D grayscale image to be passed as inputs and leaves them unmodified as outputs. Starting from version 0.19, 2D arrays will be treated as 1D images with 3 channels.\r\n",
      "\u001b[2m\u001b[36m(pid=15052)\u001b[0m   self.image = skimage.color.rgb2gray(self.image)\r\n"
     ]
    },
    {
     "name": "stdout",
     "output_type": "stream",
     "text": [
      "\u001b[2m\u001b[36m(pid=15052)\u001b[0m reward: -0.02968\n",
      "\u001b[2m\u001b[36m(pid=15052)\u001b[0m 51.51\n",
      "\u001b[2m\u001b[36m(pid=15052)\u001b[0m reward: -10\n",
      "\u001b[2m\u001b[36m(pid=15052)\u001b[0m 59.19\n",
      "\u001b[2m\u001b[36m(pid=15052)\u001b[0m reward: -10\n",
      "\u001b[2m\u001b[36m(pid=15052)\u001b[0m 46.9\n"
     ]
    },
    {
     "name": "stderr",
     "output_type": "stream",
     "text": [
      "\u001b[2m\u001b[36m(pid=15052)\u001b[0m c:\\users\\cig\\anaconda3\\envs\\autofocus\\lib\\site-packages\\imquality\\brisque.py:45: FutureWarning: The behavior of rgb2gray will change in scikit-image 0.19. Currently, rgb2gray allows 2D grayscale image to be passed as inputs and leaves them unmodified as outputs. Starting from version 0.19, 2D arrays will be treated as 1D images with 3 channels.\r\n",
      "\u001b[2m\u001b[36m(pid=15052)\u001b[0m   self.image = skimage.color.rgb2gray(self.image)\r\n"
     ]
    },
    {
     "name": "stdout",
     "output_type": "stream",
     "text": [
      "\u001b[2m\u001b[36m(pid=15052)\u001b[0m reward: -0.04673\n",
      "\u001b[2m\u001b[36m(pid=15052)\u001b[0m 47.79\n"
     ]
    },
    {
     "name": "stderr",
     "output_type": "stream",
     "text": [
      "\u001b[2m\u001b[36m(pid=15052)\u001b[0m c:\\users\\cig\\anaconda3\\envs\\autofocus\\lib\\site-packages\\imquality\\brisque.py:45: FutureWarning: The behavior of rgb2gray will change in scikit-image 0.19. Currently, rgb2gray allows 2D grayscale image to be passed as inputs and leaves them unmodified as outputs. Starting from version 0.19, 2D arrays will be treated as 1D images with 3 channels.\r\n",
      "\u001b[2m\u001b[36m(pid=15052)\u001b[0m   self.image = skimage.color.rgb2gray(self.image)\r\n"
     ]
    },
    {
     "name": "stdout",
     "output_type": "stream",
     "text": [
      "\u001b[2m\u001b[36m(pid=15052)\u001b[0m reward: -0.024640000000000002\n",
      "\u001b[2m\u001b[36m(pid=15052)\u001b[0m 57.3\n",
      "\u001b[2m\u001b[36m(pid=15052)\u001b[0m reward: -10\n",
      "\u001b[2m\u001b[36m(pid=15052)\u001b[0m 64.48\n",
      "\u001b[2m\u001b[36m(pid=15052)\u001b[0m reward: -10\n",
      "\u001b[2m\u001b[36m(pid=15052)\u001b[0m 24.38\n",
      "\u001b[2m\u001b[36m(pid=15052)\u001b[0m reward: -10\n",
      "\u001b[2m\u001b[36m(pid=15052)\u001b[0m 24.21\n",
      "\u001b[2m\u001b[36m(pid=15052)\u001b[0m reward: -10\n",
      "\u001b[2m\u001b[36m(pid=15052)\u001b[0m 24.56\n",
      "\u001b[2m\u001b[36m(pid=15052)\u001b[0m reward: -10\n",
      "\u001b[2m\u001b[36m(pid=15052)\u001b[0m 24.21\n",
      "\u001b[2m\u001b[36m(pid=15052)\u001b[0m reward: -10\n",
      "\u001b[2m\u001b[36m(pid=15052)\u001b[0m 44.96\n",
      "\u001b[2m\u001b[36m(pid=15052)\u001b[0m reward: -10\n",
      "\u001b[2m\u001b[36m(pid=15052)\u001b[0m 47.56\n"
     ]
    },
    {
     "name": "stderr",
     "output_type": "stream",
     "text": [
      "\u001b[2m\u001b[36m(pid=15052)\u001b[0m c:\\users\\cig\\anaconda3\\envs\\autofocus\\lib\\site-packages\\imquality\\brisque.py:45: FutureWarning: The behavior of rgb2gray will change in scikit-image 0.19. Currently, rgb2gray allows 2D grayscale image to be passed as inputs and leaves them unmodified as outputs. Starting from version 0.19, 2D arrays will be treated as 1D images with 3 channels.\r\n",
      "\u001b[2m\u001b[36m(pid=15052)\u001b[0m   self.image = skimage.color.rgb2gray(self.image)\r\n"
     ]
    },
    {
     "name": "stdout",
     "output_type": "stream",
     "text": [
      "\u001b[2m\u001b[36m(pid=15052)\u001b[0m reward: -0.0363\n",
      "\u001b[2m\u001b[36m(pid=15052)\u001b[0m 24.22\n",
      "\u001b[2m\u001b[36m(pid=15052)\u001b[0m reward: -10\n",
      "\u001b[2m\u001b[36m(pid=15052)\u001b[0m 49.35\n"
     ]
    },
    {
     "name": "stderr",
     "output_type": "stream",
     "text": [
      "\u001b[2m\u001b[36m(pid=15052)\u001b[0m c:\\users\\cig\\anaconda3\\envs\\autofocus\\lib\\site-packages\\imquality\\brisque.py:45: FutureWarning: The behavior of rgb2gray will change in scikit-image 0.19. Currently, rgb2gray allows 2D grayscale image to be passed as inputs and leaves them unmodified as outputs. Starting from version 0.19, 2D arrays will be treated as 1D images with 3 channels.\r\n",
      "\u001b[2m\u001b[36m(pid=15052)\u001b[0m   self.image = skimage.color.rgb2gray(self.image)\r\n"
     ]
    },
    {
     "name": "stdout",
     "output_type": "stream",
     "text": [
      "\u001b[2m\u001b[36m(pid=15052)\u001b[0m reward: -0.04693\n",
      "\u001b[2m\u001b[36m(pid=15052)\u001b[0m 48.59\n"
     ]
    },
    {
     "name": "stderr",
     "output_type": "stream",
     "text": [
      "\u001b[2m\u001b[36m(pid=15052)\u001b[0m c:\\users\\cig\\anaconda3\\envs\\autofocus\\lib\\site-packages\\imquality\\brisque.py:45: FutureWarning: The behavior of rgb2gray will change in scikit-image 0.19. Currently, rgb2gray allows 2D grayscale image to be passed as inputs and leaves them unmodified as outputs. Starting from version 0.19, 2D arrays will be treated as 1D images with 3 channels.\r\n",
      "\u001b[2m\u001b[36m(pid=15052)\u001b[0m   self.image = skimage.color.rgb2gray(self.image)\r\n"
     ]
    },
    {
     "name": "stdout",
     "output_type": "stream",
     "text": [
      "\u001b[2m\u001b[36m(pid=15052)\u001b[0m reward: -0.05005\n",
      "\u001b[2m\u001b[36m(pid=15052)\u001b[0m 24.24\n",
      "\u001b[2m\u001b[36m(pid=15052)\u001b[0m reward: -10\n",
      "\u001b[2m\u001b[36m(pid=15052)\u001b[0m 24.31\n",
      "\u001b[2m\u001b[36m(pid=15052)\u001b[0m reward: -10\n",
      "\u001b[2m\u001b[36m(pid=15052)\u001b[0m 46.95\n"
     ]
    },
    {
     "name": "stderr",
     "output_type": "stream",
     "text": [
      "\u001b[2m\u001b[36m(pid=15052)\u001b[0m c:\\users\\cig\\anaconda3\\envs\\autofocus\\lib\\site-packages\\imquality\\brisque.py:45: FutureWarning: The behavior of rgb2gray will change in scikit-image 0.19. Currently, rgb2gray allows 2D grayscale image to be passed as inputs and leaves them unmodified as outputs. Starting from version 0.19, 2D arrays will be treated as 1D images with 3 channels.\r\n",
      "\u001b[2m\u001b[36m(pid=15052)\u001b[0m   self.image = skimage.color.rgb2gray(self.image)\r\n"
     ]
    },
    {
     "name": "stdout",
     "output_type": "stream",
     "text": [
      "\u001b[2m\u001b[36m(pid=15052)\u001b[0m reward: -0.049740000000000006\n",
      "\u001b[2m\u001b[36m(pid=15052)\u001b[0m 32.1\n",
      "\u001b[2m\u001b[36m(pid=15052)\u001b[0m reward: -10\n",
      "\u001b[2m\u001b[36m(pid=15052)\u001b[0m 47.59\n"
     ]
    },
    {
     "name": "stderr",
     "output_type": "stream",
     "text": [
      "\u001b[2m\u001b[36m(pid=15052)\u001b[0m c:\\users\\cig\\anaconda3\\envs\\autofocus\\lib\\site-packages\\imquality\\brisque.py:45: FutureWarning: The behavior of rgb2gray will change in scikit-image 0.19. Currently, rgb2gray allows 2D grayscale image to be passed as inputs and leaves them unmodified as outputs. Starting from version 0.19, 2D arrays will be treated as 1D images with 3 channels.\r\n",
      "\u001b[2m\u001b[36m(pid=15052)\u001b[0m   self.image = skimage.color.rgb2gray(self.image)\r\n"
     ]
    },
    {
     "name": "stdout",
     "output_type": "stream",
     "text": [
      "\u001b[2m\u001b[36m(pid=15052)\u001b[0m reward: -0.03503\n",
      "\u001b[2m\u001b[36m(pid=15052)\u001b[0m 34.75\n",
      "\u001b[2m\u001b[36m(pid=15052)\u001b[0m reward: -10\n",
      "\u001b[2m\u001b[36m(pid=15052)\u001b[0m 68.19\n",
      "\u001b[2m\u001b[36m(pid=15052)\u001b[0m reward: -10\n",
      "\u001b[2m\u001b[36m(pid=15052)\u001b[0m 24.56\n",
      "\u001b[2m\u001b[36m(pid=15052)\u001b[0m reward: -10\n",
      "\u001b[2m\u001b[36m(pid=15052)\u001b[0m 24.8\n",
      "\u001b[2m\u001b[36m(pid=15052)\u001b[0m reward: -10\n",
      "\u001b[2m\u001b[36m(pid=15052)\u001b[0m 53.29\n",
      "\u001b[2m\u001b[36m(pid=15052)\u001b[0m reward: -10\n",
      "\u001b[2m\u001b[36m(pid=15052)\u001b[0m 68.93\n",
      "\u001b[2m\u001b[36m(pid=15052)\u001b[0m reward: -10\n",
      "\u001b[2m\u001b[36m(pid=15052)\u001b[0m 46.75\n"
     ]
    },
    {
     "name": "stderr",
     "output_type": "stream",
     "text": [
      "\u001b[2m\u001b[36m(pid=15052)\u001b[0m c:\\users\\cig\\anaconda3\\envs\\autofocus\\lib\\site-packages\\imquality\\brisque.py:45: FutureWarning: The behavior of rgb2gray will change in scikit-image 0.19. Currently, rgb2gray allows 2D grayscale image to be passed as inputs and leaves them unmodified as outputs. Starting from version 0.19, 2D arrays will be treated as 1D images with 3 channels.\r\n",
      "\u001b[2m\u001b[36m(pid=15052)\u001b[0m   self.image = skimage.color.rgb2gray(self.image)\r\n"
     ]
    },
    {
     "name": "stdout",
     "output_type": "stream",
     "text": [
      "\u001b[2m\u001b[36m(pid=15052)\u001b[0m reward: -0.04598\n",
      "\u001b[2m\u001b[36m(pid=15052)\u001b[0m 47.47\n"
     ]
    },
    {
     "name": "stderr",
     "output_type": "stream",
     "text": [
      "\u001b[2m\u001b[36m(pid=15052)\u001b[0m c:\\users\\cig\\anaconda3\\envs\\autofocus\\lib\\site-packages\\imquality\\brisque.py:45: FutureWarning: The behavior of rgb2gray will change in scikit-image 0.19. Currently, rgb2gray allows 2D grayscale image to be passed as inputs and leaves them unmodified as outputs. Starting from version 0.19, 2D arrays will be treated as 1D images with 3 channels.\r\n",
      "\u001b[2m\u001b[36m(pid=15052)\u001b[0m   self.image = skimage.color.rgb2gray(self.image)\r\n"
     ]
    },
    {
     "name": "stdout",
     "output_type": "stream",
     "text": [
      "\u001b[2m\u001b[36m(pid=15052)\u001b[0m reward: -0.03737\n",
      "\u001b[2m\u001b[36m(pid=15052)\u001b[0m 47.32\n"
     ]
    },
    {
     "name": "stderr",
     "output_type": "stream",
     "text": [
      "\u001b[2m\u001b[36m(pid=15052)\u001b[0m c:\\users\\cig\\anaconda3\\envs\\autofocus\\lib\\site-packages\\imquality\\brisque.py:45: FutureWarning: The behavior of rgb2gray will change in scikit-image 0.19. Currently, rgb2gray allows 2D grayscale image to be passed as inputs and leaves them unmodified as outputs. Starting from version 0.19, 2D arrays will be treated as 1D images with 3 channels.\r\n",
      "\u001b[2m\u001b[36m(pid=15052)\u001b[0m   self.image = skimage.color.rgb2gray(self.image)\r\n"
     ]
    },
    {
     "name": "stdout",
     "output_type": "stream",
     "text": [
      "\u001b[2m\u001b[36m(pid=15052)\u001b[0m reward: -0.041850000000000005\n",
      "\u001b[2m\u001b[36m(pid=15052)\u001b[0m 44.17\n",
      "\u001b[2m\u001b[36m(pid=15052)\u001b[0m reward: -10\n",
      "\u001b[2m\u001b[36m(pid=15052)\u001b[0m 24.48\n",
      "\u001b[2m\u001b[36m(pid=15052)\u001b[0m reward: -10\n",
      "\u001b[2m\u001b[36m(pid=15052)\u001b[0m 60.42\n",
      "\u001b[2m\u001b[36m(pid=15052)\u001b[0m reward: -10\n",
      "\u001b[2m\u001b[36m(pid=15052)\u001b[0m 24.7\n",
      "\u001b[2m\u001b[36m(pid=15052)\u001b[0m reward: -10\n",
      "\u001b[2m\u001b[36m(pid=15052)\u001b[0m 47.63\n"
     ]
    },
    {
     "name": "stderr",
     "output_type": "stream",
     "text": [
      "\u001b[2m\u001b[36m(pid=15052)\u001b[0m c:\\users\\cig\\anaconda3\\envs\\autofocus\\lib\\site-packages\\imquality\\brisque.py:45: FutureWarning: The behavior of rgb2gray will change in scikit-image 0.19. Currently, rgb2gray allows 2D grayscale image to be passed as inputs and leaves them unmodified as outputs. Starting from version 0.19, 2D arrays will be treated as 1D images with 3 channels.\r\n",
      "\u001b[2m\u001b[36m(pid=15052)\u001b[0m   self.image = skimage.color.rgb2gray(self.image)\r\n"
     ]
    },
    {
     "name": "stdout",
     "output_type": "stream",
     "text": [
      "\u001b[2m\u001b[36m(pid=15052)\u001b[0m reward: -0.02986\n",
      "\u001b[2m\u001b[36m(pid=15052)\u001b[0m 57.21\n",
      "\u001b[2m\u001b[36m(pid=15052)\u001b[0m reward: -10\n",
      "\u001b[2m\u001b[36m(pid=15052)\u001b[0m 48.71\n"
     ]
    },
    {
     "name": "stderr",
     "output_type": "stream",
     "text": [
      "\u001b[2m\u001b[36m(pid=15052)\u001b[0m c:\\users\\cig\\anaconda3\\envs\\autofocus\\lib\\site-packages\\imquality\\brisque.py:45: FutureWarning: The behavior of rgb2gray will change in scikit-image 0.19. Currently, rgb2gray allows 2D grayscale image to be passed as inputs and leaves them unmodified as outputs. Starting from version 0.19, 2D arrays will be treated as 1D images with 3 channels.\r\n",
      "\u001b[2m\u001b[36m(pid=15052)\u001b[0m   self.image = skimage.color.rgb2gray(self.image)\r\n"
     ]
    },
    {
     "name": "stdout",
     "output_type": "stream",
     "text": [
      "\u001b[2m\u001b[36m(pid=15052)\u001b[0m reward: -0.051340000000000004\n",
      "\u001b[2m\u001b[36m(pid=15052)\u001b[0m 67.29\n",
      "\u001b[2m\u001b[36m(pid=15052)\u001b[0m reward: -10\n",
      "\u001b[2m\u001b[36m(pid=15052)\u001b[0m 68.45\n",
      "\u001b[2m\u001b[36m(pid=15052)\u001b[0m reward: -10\n",
      "\u001b[2m\u001b[36m(pid=15052)\u001b[0m 46.81\n"
     ]
    },
    {
     "name": "stderr",
     "output_type": "stream",
     "text": [
      "\u001b[2m\u001b[36m(pid=15052)\u001b[0m c:\\users\\cig\\anaconda3\\envs\\autofocus\\lib\\site-packages\\imquality\\brisque.py:45: FutureWarning: The behavior of rgb2gray will change in scikit-image 0.19. Currently, rgb2gray allows 2D grayscale image to be passed as inputs and leaves them unmodified as outputs. Starting from version 0.19, 2D arrays will be treated as 1D images with 3 channels.\r\n",
      "\u001b[2m\u001b[36m(pid=15052)\u001b[0m   self.image = skimage.color.rgb2gray(self.image)\r\n"
     ]
    },
    {
     "name": "stdout",
     "output_type": "stream",
     "text": [
      "\u001b[2m\u001b[36m(pid=15052)\u001b[0m reward: -0.047689999999999996\n",
      "\u001b[2m\u001b[36m(pid=15052)\u001b[0m 46.37\n",
      "\u001b[2m\u001b[36m(pid=15052)\u001b[0m reward: -10\n",
      "\u001b[2m\u001b[36m(pid=15052)\u001b[0m 24.88\n",
      "\u001b[2m\u001b[36m(pid=15052)\u001b[0m reward: -10\n",
      "\u001b[2m\u001b[36m(pid=15052)\u001b[0m 48.1\n"
     ]
    },
    {
     "name": "stderr",
     "output_type": "stream",
     "text": [
      "\u001b[2m\u001b[36m(pid=15052)\u001b[0m c:\\users\\cig\\anaconda3\\envs\\autofocus\\lib\\site-packages\\imquality\\brisque.py:45: FutureWarning: The behavior of rgb2gray will change in scikit-image 0.19. Currently, rgb2gray allows 2D grayscale image to be passed as inputs and leaves them unmodified as outputs. Starting from version 0.19, 2D arrays will be treated as 1D images with 3 channels.\r\n",
      "\u001b[2m\u001b[36m(pid=15052)\u001b[0m   self.image = skimage.color.rgb2gray(self.image)\r\n"
     ]
    },
    {
     "name": "stdout",
     "output_type": "stream",
     "text": [
      "\u001b[2m\u001b[36m(pid=15052)\u001b[0m reward: -0.01911\n",
      "\u001b[2m\u001b[36m(pid=15052)\u001b[0m 64.15\n",
      "\u001b[2m\u001b[36m(pid=15052)\u001b[0m reward: -10\n",
      "\u001b[2m\u001b[36m(pid=15052)\u001b[0m 24.19\n",
      "\u001b[2m\u001b[36m(pid=15052)\u001b[0m reward: -10\n",
      "\u001b[2m\u001b[36m(pid=15052)\u001b[0m 24.42\n",
      "\u001b[2m\u001b[36m(pid=15052)\u001b[0m reward: -10\n",
      "\u001b[2m\u001b[36m(pid=15052)\u001b[0m 24.21\n",
      "\u001b[2m\u001b[36m(pid=15052)\u001b[0m reward: -10\n",
      "\u001b[2m\u001b[36m(pid=15052)\u001b[0m 46.66\n",
      "\u001b[2m\u001b[36m(pid=15052)\u001b[0m reward: -10\n",
      "\u001b[2m\u001b[36m(pid=15052)\u001b[0m 46.28\n",
      "\u001b[2m\u001b[36m(pid=15052)\u001b[0m reward: -10\n",
      "\u001b[2m\u001b[36m(pid=15052)\u001b[0m 24.5\n",
      "\u001b[2m\u001b[36m(pid=15052)\u001b[0m reward: -10\n",
      "\u001b[2m\u001b[36m(pid=15052)\u001b[0m 46.41\n",
      "\u001b[2m\u001b[36m(pid=15052)\u001b[0m reward: -10\n",
      "\u001b[2m\u001b[36m(pid=15052)\u001b[0m 44.61\n",
      "\u001b[2m\u001b[36m(pid=15052)\u001b[0m reward: -10\n",
      "\u001b[2m\u001b[36m(pid=15052)\u001b[0m 24.85\n",
      "\u001b[2m\u001b[36m(pid=15052)\u001b[0m reward: -10\n",
      "\u001b[2m\u001b[36m(pid=15052)\u001b[0m 59.12\n",
      "\u001b[2m\u001b[36m(pid=15052)\u001b[0m reward: -10\n",
      "\u001b[2m\u001b[36m(pid=15052)\u001b[0m 44.4\n",
      "\u001b[2m\u001b[36m(pid=15052)\u001b[0m reward: -10\n",
      "\u001b[2m\u001b[36m(pid=15052)\u001b[0m 29.18\n",
      "\u001b[2m\u001b[36m(pid=15052)\u001b[0m reward: -10\n",
      "custom_metrics: {}\n",
      "date: 2021-03-31_17-38-02\n",
      "done: false\n",
      "episode_len_mean: 5.087649402390438\n",
      "episode_reward_max: -0.018600000000000002\n",
      "episode_reward_mean: -43.30030545816734\n",
      "episode_reward_min: -100.0\n",
      "episodes_this_iter: 31\n",
      "episodes_total: 251\n",
      "experiment_id: f29f35cc3ac947278fbe79a0a7e35ac4\n",
      "hostname: DESKTOP-K2L4N78\n",
      "info:\n",
      "  learner:\n",
      "    default_policy:\n",
      "      cur_kl_coeff: 3.417187452316284\n",
      "      cur_lr: 0.0002500000118743628\n",
      "      entropy: 8.181537628173828\n",
      "      entropy_coeff: 0.009999999776482582\n",
      "      kl: 0.014611102640628815\n",
      "      model: {}\n",
      "      policy_loss: -0.1671002209186554\n",
      "      total_loss: 1057.765380859375\n",
      "      vf_explained_var: 5.960464477539063e-08\n",
      "      vf_loss: 1057.96435546875\n",
      "  num_steps_sampled: 1280\n",
      "  num_steps_trained: 1280\n",
      "iterations_since_restore: 10\n",
      "node_ip: 10.16.102.19\n",
      "num_healthy_workers: 1\n",
      "off_policy_estimator: {}\n",
      "perf:\n",
      "  cpu_util_percent: 10.545248380129589\n",
      "  ram_util_percent: 47.76663066954644\n",
      "pid: 14556\n",
      "policy_reward_max: {}\n",
      "policy_reward_mean: {}\n",
      "policy_reward_min: {}\n",
      "sampler_perf:\n",
      "  mean_action_processing_ms: 0.04373974153981863\n",
      "  mean_env_wait_ms: 4144.21052329773\n",
      "  mean_inference_ms: 0.919762325364136\n",
      "  mean_raw_obs_processing_ms: 598.5345788376553\n",
      "time_since_restore: 6247.800150156021\n",
      "time_this_iter_s: 648.984039068222\n",
      "time_total_s: 6247.800150156021\n",
      "timers:\n",
      "  learn_throughput: 712.003\n",
      "  learn_time_ms: 179.775\n",
      "  load_throughput: 30458.514\n",
      "  load_time_ms: 4.202\n",
      "  sample_throughput: 0.205\n",
      "  sample_time_ms: 624481.528\n",
      "  update_time_ms: 5.601\n",
      "timestamp: 1617201482\n",
      "timesteps_since_restore: 0\n",
      "timesteps_total: 1280\n",
      "training_iteration: 10\n",
      "\n",
      "------- 9 -------\n",
      "\u001b[2m\u001b[36m(pid=15052)\u001b[0m 36.75\n",
      "\u001b[2m\u001b[36m(pid=15052)\u001b[0m reward: -10\n",
      "\u001b[2m\u001b[36m(pid=15052)\u001b[0m 47.94\n"
     ]
    },
    {
     "name": "stderr",
     "output_type": "stream",
     "text": [
      "\u001b[2m\u001b[36m(pid=15052)\u001b[0m c:\\users\\cig\\anaconda3\\envs\\autofocus\\lib\\site-packages\\imquality\\brisque.py:45: FutureWarning: The behavior of rgb2gray will change in scikit-image 0.19. Currently, rgb2gray allows 2D grayscale image to be passed as inputs and leaves them unmodified as outputs. Starting from version 0.19, 2D arrays will be treated as 1D images with 3 channels.\r\n",
      "\u001b[2m\u001b[36m(pid=15052)\u001b[0m   self.image = skimage.color.rgb2gray(self.image)\r\n"
     ]
    },
    {
     "name": "stdout",
     "output_type": "stream",
     "text": [
      "\u001b[2m\u001b[36m(pid=15052)\u001b[0m reward: -0.02185\n",
      "\u001b[2m\u001b[36m(pid=15052)\u001b[0m 47.9\n"
     ]
    },
    {
     "name": "stderr",
     "output_type": "stream",
     "text": [
      "\u001b[2m\u001b[36m(pid=15052)\u001b[0m c:\\users\\cig\\anaconda3\\envs\\autofocus\\lib\\site-packages\\imquality\\brisque.py:45: FutureWarning: The behavior of rgb2gray will change in scikit-image 0.19. Currently, rgb2gray allows 2D grayscale image to be passed as inputs and leaves them unmodified as outputs. Starting from version 0.19, 2D arrays will be treated as 1D images with 3 channels.\r\n",
      "\u001b[2m\u001b[36m(pid=15052)\u001b[0m   self.image = skimage.color.rgb2gray(self.image)\r\n"
     ]
    },
    {
     "name": "stdout",
     "output_type": "stream",
     "text": [
      "\u001b[2m\u001b[36m(pid=15052)\u001b[0m reward: -0.01533\n",
      "\u001b[2m\u001b[36m(pid=15052)\u001b[0m 24.69\n",
      "\u001b[2m\u001b[36m(pid=15052)\u001b[0m reward: -10\n",
      "\u001b[2m\u001b[36m(pid=15052)\u001b[0m 24.91\n",
      "\u001b[2m\u001b[36m(pid=15052)\u001b[0m reward: -10\n",
      "\u001b[2m\u001b[36m(pid=15052)\u001b[0m 49.63\n",
      "\u001b[2m\u001b[36m(pid=15052)\u001b[0m reward: -10\n",
      "\u001b[2m\u001b[36m(pid=15052)\u001b[0m 40.8\n",
      "\u001b[2m\u001b[36m(pid=15052)\u001b[0m reward: -10\n",
      "\u001b[2m\u001b[36m(pid=15052)\u001b[0m 46.88\n"
     ]
    },
    {
     "name": "stderr",
     "output_type": "stream",
     "text": [
      "\u001b[2m\u001b[36m(pid=15052)\u001b[0m c:\\users\\cig\\anaconda3\\envs\\autofocus\\lib\\site-packages\\imquality\\brisque.py:45: FutureWarning: The behavior of rgb2gray will change in scikit-image 0.19. Currently, rgb2gray allows 2D grayscale image to be passed as inputs and leaves them unmodified as outputs. Starting from version 0.19, 2D arrays will be treated as 1D images with 3 channels.\r\n",
      "\u001b[2m\u001b[36m(pid=15052)\u001b[0m   self.image = skimage.color.rgb2gray(self.image)\r\n"
     ]
    },
    {
     "name": "stdout",
     "output_type": "stream",
     "text": [
      "\u001b[2m\u001b[36m(pid=15052)\u001b[0m reward: -0.04549\n",
      "\u001b[2m\u001b[36m(pid=15052)\u001b[0m 24.85\n",
      "\u001b[2m\u001b[36m(pid=15052)\u001b[0m reward: -10\n",
      "\u001b[2m\u001b[36m(pid=15052)\u001b[0m 24.7\n",
      "\u001b[2m\u001b[36m(pid=15052)\u001b[0m reward: -10\n",
      "\u001b[2m\u001b[36m(pid=15052)\u001b[0m 63.56\n",
      "\u001b[2m\u001b[36m(pid=15052)\u001b[0m reward: -10\n",
      "\u001b[2m\u001b[36m(pid=15052)\u001b[0m 55.12\n",
      "\u001b[2m\u001b[36m(pid=15052)\u001b[0m reward: -10\n",
      "\u001b[2m\u001b[36m(pid=15052)\u001b[0m 60.69\n",
      "\u001b[2m\u001b[36m(pid=15052)\u001b[0m reward: -10\n",
      "\u001b[2m\u001b[36m(pid=15052)\u001b[0m 48.7\n"
     ]
    },
    {
     "name": "stderr",
     "output_type": "stream",
     "text": [
      "\u001b[2m\u001b[36m(pid=15052)\u001b[0m c:\\users\\cig\\anaconda3\\envs\\autofocus\\lib\\site-packages\\imquality\\brisque.py:45: FutureWarning: The behavior of rgb2gray will change in scikit-image 0.19. Currently, rgb2gray allows 2D grayscale image to be passed as inputs and leaves them unmodified as outputs. Starting from version 0.19, 2D arrays will be treated as 1D images with 3 channels.\r\n",
      "\u001b[2m\u001b[36m(pid=15052)\u001b[0m   self.image = skimage.color.rgb2gray(self.image)\r\n"
     ]
    },
    {
     "name": "stdout",
     "output_type": "stream",
     "text": [
      "\u001b[2m\u001b[36m(pid=15052)\u001b[0m reward: -0.05112\n",
      "\u001b[2m\u001b[36m(pid=15052)\u001b[0m 48.69\n"
     ]
    },
    {
     "name": "stderr",
     "output_type": "stream",
     "text": [
      "\u001b[2m\u001b[36m(pid=15052)\u001b[0m c:\\users\\cig\\anaconda3\\envs\\autofocus\\lib\\site-packages\\imquality\\brisque.py:45: FutureWarning: The behavior of rgb2gray will change in scikit-image 0.19. Currently, rgb2gray allows 2D grayscale image to be passed as inputs and leaves them unmodified as outputs. Starting from version 0.19, 2D arrays will be treated as 1D images with 3 channels.\r\n",
      "\u001b[2m\u001b[36m(pid=15052)\u001b[0m   self.image = skimage.color.rgb2gray(self.image)\r\n"
     ]
    },
    {
     "name": "stdout",
     "output_type": "stream",
     "text": [
      "\u001b[2m\u001b[36m(pid=15052)\u001b[0m reward: -0.04925\n",
      "\u001b[2m\u001b[36m(pid=15052)\u001b[0m 34.79\n",
      "\u001b[2m\u001b[36m(pid=15052)\u001b[0m reward: -10\n",
      "\u001b[2m\u001b[36m(pid=15052)\u001b[0m 45.41\n",
      "\u001b[2m\u001b[36m(pid=15052)\u001b[0m reward: -10\n",
      "\u001b[2m\u001b[36m(pid=15052)\u001b[0m 24.18\n",
      "\u001b[2m\u001b[36m(pid=15052)\u001b[0m reward: -10\n",
      "\u001b[2m\u001b[36m(pid=15052)\u001b[0m 46.47\n",
      "\u001b[2m\u001b[36m(pid=15052)\u001b[0m reward: -10\n",
      "\u001b[2m\u001b[36m(pid=15052)\u001b[0m 48.37\n"
     ]
    },
    {
     "name": "stderr",
     "output_type": "stream",
     "text": [
      "\u001b[2m\u001b[36m(pid=15052)\u001b[0m c:\\users\\cig\\anaconda3\\envs\\autofocus\\lib\\site-packages\\imquality\\brisque.py:45: FutureWarning: The behavior of rgb2gray will change in scikit-image 0.19. Currently, rgb2gray allows 2D grayscale image to be passed as inputs and leaves them unmodified as outputs. Starting from version 0.19, 2D arrays will be treated as 1D images with 3 channels.\r\n",
      "\u001b[2m\u001b[36m(pid=15052)\u001b[0m   self.image = skimage.color.rgb2gray(self.image)\r\n"
     ]
    },
    {
     "name": "stdout",
     "output_type": "stream",
     "text": [
      "\u001b[2m\u001b[36m(pid=15052)\u001b[0m reward: -0.03773\n",
      "\u001b[2m\u001b[36m(pid=15052)\u001b[0m 48.82\n"
     ]
    },
    {
     "name": "stderr",
     "output_type": "stream",
     "text": [
      "\u001b[2m\u001b[36m(pid=15052)\u001b[0m c:\\users\\cig\\anaconda3\\envs\\autofocus\\lib\\site-packages\\imquality\\brisque.py:45: FutureWarning: The behavior of rgb2gray will change in scikit-image 0.19. Currently, rgb2gray allows 2D grayscale image to be passed as inputs and leaves them unmodified as outputs. Starting from version 0.19, 2D arrays will be treated as 1D images with 3 channels.\r\n",
      "\u001b[2m\u001b[36m(pid=15052)\u001b[0m   self.image = skimage.color.rgb2gray(self.image)\r\n"
     ]
    },
    {
     "name": "stdout",
     "output_type": "stream",
     "text": [
      "\u001b[2m\u001b[36m(pid=15052)\u001b[0m reward: -0.05065\n",
      "\u001b[2m\u001b[36m(pid=15052)\u001b[0m 49.42\n"
     ]
    },
    {
     "name": "stderr",
     "output_type": "stream",
     "text": [
      "\u001b[2m\u001b[36m(pid=15052)\u001b[0m c:\\users\\cig\\anaconda3\\envs\\autofocus\\lib\\site-packages\\imquality\\brisque.py:45: FutureWarning: The behavior of rgb2gray will change in scikit-image 0.19. Currently, rgb2gray allows 2D grayscale image to be passed as inputs and leaves them unmodified as outputs. Starting from version 0.19, 2D arrays will be treated as 1D images with 3 channels.\r\n",
      "\u001b[2m\u001b[36m(pid=15052)\u001b[0m   self.image = skimage.color.rgb2gray(self.image)\r\n"
     ]
    },
    {
     "name": "stdout",
     "output_type": "stream",
     "text": [
      "\u001b[2m\u001b[36m(pid=15052)\u001b[0m reward: -0.04444\n",
      "\u001b[2m\u001b[36m(pid=15052)\u001b[0m 47.63\n"
     ]
    },
    {
     "name": "stderr",
     "output_type": "stream",
     "text": [
      "\u001b[2m\u001b[36m(pid=15052)\u001b[0m c:\\users\\cig\\anaconda3\\envs\\autofocus\\lib\\site-packages\\imquality\\brisque.py:45: FutureWarning: The behavior of rgb2gray will change in scikit-image 0.19. Currently, rgb2gray allows 2D grayscale image to be passed as inputs and leaves them unmodified as outputs. Starting from version 0.19, 2D arrays will be treated as 1D images with 3 channels.\r\n",
      "\u001b[2m\u001b[36m(pid=15052)\u001b[0m   self.image = skimage.color.rgb2gray(self.image)\r\n"
     ]
    },
    {
     "name": "stdout",
     "output_type": "stream",
     "text": [
      "\u001b[2m\u001b[36m(pid=15052)\u001b[0m reward: -0.029930000000000002\n",
      "\u001b[2m\u001b[36m(pid=15052)\u001b[0m 47.71\n"
     ]
    },
    {
     "name": "stderr",
     "output_type": "stream",
     "text": [
      "\u001b[2m\u001b[36m(pid=15052)\u001b[0m c:\\users\\cig\\anaconda3\\envs\\autofocus\\lib\\site-packages\\imquality\\brisque.py:45: FutureWarning: The behavior of rgb2gray will change in scikit-image 0.19. Currently, rgb2gray allows 2D grayscale image to be passed as inputs and leaves them unmodified as outputs. Starting from version 0.19, 2D arrays will be treated as 1D images with 3 channels.\r\n",
      "\u001b[2m\u001b[36m(pid=15052)\u001b[0m   self.image = skimage.color.rgb2gray(self.image)\r\n"
     ]
    },
    {
     "name": "stdout",
     "output_type": "stream",
     "text": [
      "\u001b[2m\u001b[36m(pid=15052)\u001b[0m reward: -0.027719999999999998\n",
      "\u001b[2m\u001b[36m(pid=15052)\u001b[0m 49.25\n"
     ]
    },
    {
     "name": "stderr",
     "output_type": "stream",
     "text": [
      "\u001b[2m\u001b[36m(pid=15052)\u001b[0m c:\\users\\cig\\anaconda3\\envs\\autofocus\\lib\\site-packages\\imquality\\brisque.py:45: FutureWarning: The behavior of rgb2gray will change in scikit-image 0.19. Currently, rgb2gray allows 2D grayscale image to be passed as inputs and leaves them unmodified as outputs. Starting from version 0.19, 2D arrays will be treated as 1D images with 3 channels.\r\n",
      "\u001b[2m\u001b[36m(pid=15052)\u001b[0m   self.image = skimage.color.rgb2gray(self.image)\r\n"
     ]
    },
    {
     "name": "stdout",
     "output_type": "stream",
     "text": [
      "\u001b[2m\u001b[36m(pid=15052)\u001b[0m reward: -0.046689999999999995\n",
      "\u001b[2m\u001b[36m(pid=15052)\u001b[0m 42.16\n",
      "\u001b[2m\u001b[36m(pid=15052)\u001b[0m reward: -10\n",
      "\u001b[2m\u001b[36m(pid=15052)\u001b[0m 47.25\n"
     ]
    },
    {
     "name": "stderr",
     "output_type": "stream",
     "text": [
      "\u001b[2m\u001b[36m(pid=15052)\u001b[0m c:\\users\\cig\\anaconda3\\envs\\autofocus\\lib\\site-packages\\imquality\\brisque.py:45: FutureWarning: The behavior of rgb2gray will change in scikit-image 0.19. Currently, rgb2gray allows 2D grayscale image to be passed as inputs and leaves them unmodified as outputs. Starting from version 0.19, 2D arrays will be treated as 1D images with 3 channels.\r\n",
      "\u001b[2m\u001b[36m(pid=15052)\u001b[0m   self.image = skimage.color.rgb2gray(self.image)\r\n"
     ]
    },
    {
     "name": "stdout",
     "output_type": "stream",
     "text": [
      "\u001b[2m\u001b[36m(pid=15052)\u001b[0m reward: -0.04281\n",
      "\u001b[2m\u001b[36m(pid=15052)\u001b[0m 57.98\n",
      "\u001b[2m\u001b[36m(pid=15052)\u001b[0m reward: -10\n",
      "\u001b[2m\u001b[36m(pid=15052)\u001b[0m 24.21\n",
      "\u001b[2m\u001b[36m(pid=15052)\u001b[0m reward: -10\n",
      "\u001b[2m\u001b[36m(pid=15052)\u001b[0m 46.84\n"
     ]
    },
    {
     "name": "stderr",
     "output_type": "stream",
     "text": [
      "\u001b[2m\u001b[36m(pid=15052)\u001b[0m c:\\users\\cig\\anaconda3\\envs\\autofocus\\lib\\site-packages\\imquality\\brisque.py:45: FutureWarning: The behavior of rgb2gray will change in scikit-image 0.19. Currently, rgb2gray allows 2D grayscale image to be passed as inputs and leaves them unmodified as outputs. Starting from version 0.19, 2D arrays will be treated as 1D images with 3 channels.\r\n",
      "\u001b[2m\u001b[36m(pid=15052)\u001b[0m   self.image = skimage.color.rgb2gray(self.image)\r\n"
     ]
    },
    {
     "name": "stdout",
     "output_type": "stream",
     "text": [
      "\u001b[2m\u001b[36m(pid=15052)\u001b[0m reward: -0.04186\n",
      "\u001b[2m\u001b[36m(pid=15052)\u001b[0m 61.22\n",
      "\u001b[2m\u001b[36m(pid=15052)\u001b[0m reward: -10\n",
      "\u001b[2m\u001b[36m(pid=15052)\u001b[0m 44.97\n",
      "\u001b[2m\u001b[36m(pid=15052)\u001b[0m reward: -10\n",
      "\u001b[2m\u001b[36m(pid=15052)\u001b[0m 62.88\n",
      "\u001b[2m\u001b[36m(pid=15052)\u001b[0m reward: -10\n",
      "\u001b[2m\u001b[36m(pid=15052)\u001b[0m 24.83\n",
      "\u001b[2m\u001b[36m(pid=15052)\u001b[0m reward: -10\n",
      "\u001b[2m\u001b[36m(pid=15052)\u001b[0m 39.75\n",
      "\u001b[2m\u001b[36m(pid=15052)\u001b[0m reward: -10\n",
      "\u001b[2m\u001b[36m(pid=15052)\u001b[0m 24.1\n",
      "\u001b[2m\u001b[36m(pid=15052)\u001b[0m reward: -10\n",
      "\u001b[2m\u001b[36m(pid=15052)\u001b[0m 24.25\n",
      "\u001b[2m\u001b[36m(pid=15052)\u001b[0m reward: -10\n",
      "\u001b[2m\u001b[36m(pid=15052)\u001b[0m 24.12\n",
      "\u001b[2m\u001b[36m(pid=15052)\u001b[0m reward: -10\n",
      "\u001b[2m\u001b[36m(pid=15052)\u001b[0m 25.11\n",
      "\u001b[2m\u001b[36m(pid=15052)\u001b[0m reward: -10\n",
      "\u001b[2m\u001b[36m(pid=15052)\u001b[0m 46.9\n"
     ]
    },
    {
     "name": "stderr",
     "output_type": "stream",
     "text": [
      "\u001b[2m\u001b[36m(pid=15052)\u001b[0m c:\\users\\cig\\anaconda3\\envs\\autofocus\\lib\\site-packages\\imquality\\brisque.py:45: FutureWarning: The behavior of rgb2gray will change in scikit-image 0.19. Currently, rgb2gray allows 2D grayscale image to be passed as inputs and leaves them unmodified as outputs. Starting from version 0.19, 2D arrays will be treated as 1D images with 3 channels.\r\n",
      "\u001b[2m\u001b[36m(pid=15052)\u001b[0m   self.image = skimage.color.rgb2gray(self.image)\r\n"
     ]
    },
    {
     "name": "stdout",
     "output_type": "stream",
     "text": [
      "\u001b[2m\u001b[36m(pid=15052)\u001b[0m reward: -0.03983\n",
      "\u001b[2m\u001b[36m(pid=15052)\u001b[0m 24.89\n",
      "\u001b[2m\u001b[36m(pid=15052)\u001b[0m reward: -10\n",
      "\u001b[2m\u001b[36m(pid=15052)\u001b[0m 59.69\n",
      "\u001b[2m\u001b[36m(pid=15052)\u001b[0m reward: -10\n",
      "\u001b[2m\u001b[36m(pid=15052)\u001b[0m 36.23\n",
      "\u001b[2m\u001b[36m(pid=15052)\u001b[0m reward: -10\n",
      "\u001b[2m\u001b[36m(pid=15052)\u001b[0m 46.69\n",
      "\u001b[2m\u001b[36m(pid=15052)\u001b[0m reward: -10\n",
      "\u001b[2m\u001b[36m(pid=15052)\u001b[0m 62.25\n",
      "\u001b[2m\u001b[36m(pid=15052)\u001b[0m reward: -10\n",
      "\u001b[2m\u001b[36m(pid=15052)\u001b[0m 49.98\n",
      "\u001b[2m\u001b[36m(pid=15052)\u001b[0m reward: -10\n",
      "\u001b[2m\u001b[36m(pid=15052)\u001b[0m 56.4\n",
      "\u001b[2m\u001b[36m(pid=15052)\u001b[0m reward: -10\n",
      "\u001b[2m\u001b[36m(pid=15052)\u001b[0m 56.89\n",
      "\u001b[2m\u001b[36m(pid=15052)\u001b[0m reward: -10\n",
      "\u001b[2m\u001b[36m(pid=15052)\u001b[0m 24.97\n",
      "\u001b[2m\u001b[36m(pid=15052)\u001b[0m reward: -10\n",
      "\u001b[2m\u001b[36m(pid=15052)\u001b[0m 48.7\n"
     ]
    },
    {
     "name": "stderr",
     "output_type": "stream",
     "text": [
      "\u001b[2m\u001b[36m(pid=15052)\u001b[0m c:\\users\\cig\\anaconda3\\envs\\autofocus\\lib\\site-packages\\imquality\\brisque.py:45: FutureWarning: The behavior of rgb2gray will change in scikit-image 0.19. Currently, rgb2gray allows 2D grayscale image to be passed as inputs and leaves them unmodified as outputs. Starting from version 0.19, 2D arrays will be treated as 1D images with 3 channels.\r\n",
      "\u001b[2m\u001b[36m(pid=15052)\u001b[0m   self.image = skimage.color.rgb2gray(self.image)\r\n"
     ]
    },
    {
     "name": "stdout",
     "output_type": "stream",
     "text": [
      "\u001b[2m\u001b[36m(pid=15052)\u001b[0m reward: -0.05266\n",
      "\u001b[2m\u001b[36m(pid=15052)\u001b[0m 56.69\n",
      "\u001b[2m\u001b[36m(pid=15052)\u001b[0m reward: -10\n",
      "\u001b[2m\u001b[36m(pid=15052)\u001b[0m 59.97\n",
      "\u001b[2m\u001b[36m(pid=15052)\u001b[0m reward: -10\n",
      "\u001b[2m\u001b[36m(pid=15052)\u001b[0m 46.18\n",
      "\u001b[2m\u001b[36m(pid=15052)\u001b[0m reward: -10\n",
      "\u001b[2m\u001b[36m(pid=15052)\u001b[0m 48.51\n"
     ]
    },
    {
     "name": "stderr",
     "output_type": "stream",
     "text": [
      "\u001b[2m\u001b[36m(pid=15052)\u001b[0m c:\\users\\cig\\anaconda3\\envs\\autofocus\\lib\\site-packages\\imquality\\brisque.py:45: FutureWarning: The behavior of rgb2gray will change in scikit-image 0.19. Currently, rgb2gray allows 2D grayscale image to be passed as inputs and leaves them unmodified as outputs. Starting from version 0.19, 2D arrays will be treated as 1D images with 3 channels.\r\n",
      "\u001b[2m\u001b[36m(pid=15052)\u001b[0m   self.image = skimage.color.rgb2gray(self.image)\r\n"
     ]
    },
    {
     "name": "stdout",
     "output_type": "stream",
     "text": [
      "\u001b[2m\u001b[36m(pid=15052)\u001b[0m reward: -0.037450000000000004\n",
      "\u001b[2m\u001b[36m(pid=15052)\u001b[0m 40.69\n",
      "\u001b[2m\u001b[36m(pid=15052)\u001b[0m reward: -10\n",
      "\u001b[2m\u001b[36m(pid=15052)\u001b[0m 49.56\n"
     ]
    },
    {
     "name": "stderr",
     "output_type": "stream",
     "text": [
      "\u001b[2m\u001b[36m(pid=15052)\u001b[0m c:\\users\\cig\\anaconda3\\envs\\autofocus\\lib\\site-packages\\imquality\\brisque.py:45: FutureWarning: The behavior of rgb2gray will change in scikit-image 0.19. Currently, rgb2gray allows 2D grayscale image to be passed as inputs and leaves them unmodified as outputs. Starting from version 0.19, 2D arrays will be treated as 1D images with 3 channels.\r\n",
      "\u001b[2m\u001b[36m(pid=15052)\u001b[0m   self.image = skimage.color.rgb2gray(self.image)\r\n"
     ]
    },
    {
     "name": "stdout",
     "output_type": "stream",
     "text": [
      "\u001b[2m\u001b[36m(pid=15052)\u001b[0m reward: -0.041729999999999996\n",
      "\u001b[2m\u001b[36m(pid=15052)\u001b[0m 62.11\n",
      "\u001b[2m\u001b[36m(pid=15052)\u001b[0m reward: -10\n",
      "\u001b[2m\u001b[36m(pid=15052)\u001b[0m 24.84\n",
      "\u001b[2m\u001b[36m(pid=15052)\u001b[0m reward: -10\n",
      "\u001b[2m\u001b[36m(pid=15052)\u001b[0m 24.66\n",
      "\u001b[2m\u001b[36m(pid=15052)\u001b[0m reward: -10\n",
      "\u001b[2m\u001b[36m(pid=15052)\u001b[0m 24.7\n",
      "\u001b[2m\u001b[36m(pid=15052)\u001b[0m reward: -10\n",
      "\u001b[2m\u001b[36m(pid=15052)\u001b[0m 46.9\n"
     ]
    },
    {
     "name": "stderr",
     "output_type": "stream",
     "text": [
      "\u001b[2m\u001b[36m(pid=15052)\u001b[0m c:\\users\\cig\\anaconda3\\envs\\autofocus\\lib\\site-packages\\imquality\\brisque.py:45: FutureWarning: The behavior of rgb2gray will change in scikit-image 0.19. Currently, rgb2gray allows 2D grayscale image to be passed as inputs and leaves them unmodified as outputs. Starting from version 0.19, 2D arrays will be treated as 1D images with 3 channels.\r\n",
      "\u001b[2m\u001b[36m(pid=15052)\u001b[0m   self.image = skimage.color.rgb2gray(self.image)\r\n"
     ]
    },
    {
     "name": "stdout",
     "output_type": "stream",
     "text": [
      "\u001b[2m\u001b[36m(pid=15052)\u001b[0m reward: -0.03928\n",
      "\u001b[2m\u001b[36m(pid=15052)\u001b[0m 47.89\n"
     ]
    },
    {
     "name": "stderr",
     "output_type": "stream",
     "text": [
      "\u001b[2m\u001b[36m(pid=15052)\u001b[0m c:\\users\\cig\\anaconda3\\envs\\autofocus\\lib\\site-packages\\imquality\\brisque.py:45: FutureWarning: The behavior of rgb2gray will change in scikit-image 0.19. Currently, rgb2gray allows 2D grayscale image to be passed as inputs and leaves them unmodified as outputs. Starting from version 0.19, 2D arrays will be treated as 1D images with 3 channels.\r\n",
      "\u001b[2m\u001b[36m(pid=15052)\u001b[0m   self.image = skimage.color.rgb2gray(self.image)\r\n"
     ]
    },
    {
     "name": "stdout",
     "output_type": "stream",
     "text": [
      "\u001b[2m\u001b[36m(pid=15052)\u001b[0m reward: -0.023379999999999998\n",
      "\u001b[2m\u001b[36m(pid=15052)\u001b[0m 65.74\n",
      "\u001b[2m\u001b[36m(pid=15052)\u001b[0m reward: -10\n",
      "\u001b[2m\u001b[36m(pid=15052)\u001b[0m 49.1\n"
     ]
    },
    {
     "name": "stderr",
     "output_type": "stream",
     "text": [
      "\u001b[2m\u001b[36m(pid=15052)\u001b[0m c:\\users\\cig\\anaconda3\\envs\\autofocus\\lib\\site-packages\\imquality\\brisque.py:45: FutureWarning: The behavior of rgb2gray will change in scikit-image 0.19. Currently, rgb2gray allows 2D grayscale image to be passed as inputs and leaves them unmodified as outputs. Starting from version 0.19, 2D arrays will be treated as 1D images with 3 channels.\r\n",
      "\u001b[2m\u001b[36m(pid=15052)\u001b[0m   self.image = skimage.color.rgb2gray(self.image)\r\n"
     ]
    },
    {
     "name": "stdout",
     "output_type": "stream",
     "text": [
      "\u001b[2m\u001b[36m(pid=15052)\u001b[0m reward: -0.047700000000000006\n",
      "\u001b[2m\u001b[36m(pid=15052)\u001b[0m 53.1\n",
      "\u001b[2m\u001b[36m(pid=15052)\u001b[0m reward: -10\n",
      "\u001b[2m\u001b[36m(pid=15052)\u001b[0m 48.12\n"
     ]
    },
    {
     "name": "stderr",
     "output_type": "stream",
     "text": [
      "\u001b[2m\u001b[36m(pid=15052)\u001b[0m c:\\users\\cig\\anaconda3\\envs\\autofocus\\lib\\site-packages\\imquality\\brisque.py:45: FutureWarning: The behavior of rgb2gray will change in scikit-image 0.19. Currently, rgb2gray allows 2D grayscale image to be passed as inputs and leaves them unmodified as outputs. Starting from version 0.19, 2D arrays will be treated as 1D images with 3 channels.\r\n",
      "\u001b[2m\u001b[36m(pid=15052)\u001b[0m   self.image = skimage.color.rgb2gray(self.image)\r\n"
     ]
    },
    {
     "name": "stdout",
     "output_type": "stream",
     "text": [
      "\u001b[2m\u001b[36m(pid=15052)\u001b[0m reward: -0.018670000000000003\n",
      "\u001b[2m\u001b[36m(pid=15052)\u001b[0m 49.1\n"
     ]
    },
    {
     "name": "stderr",
     "output_type": "stream",
     "text": [
      "\u001b[2m\u001b[36m(pid=15052)\u001b[0m c:\\users\\cig\\anaconda3\\envs\\autofocus\\lib\\site-packages\\imquality\\brisque.py:45: FutureWarning: The behavior of rgb2gray will change in scikit-image 0.19. Currently, rgb2gray allows 2D grayscale image to be passed as inputs and leaves them unmodified as outputs. Starting from version 0.19, 2D arrays will be treated as 1D images with 3 channels.\r\n",
      "\u001b[2m\u001b[36m(pid=15052)\u001b[0m   self.image = skimage.color.rgb2gray(self.image)\r\n"
     ]
    },
    {
     "name": "stdout",
     "output_type": "stream",
     "text": [
      "\u001b[2m\u001b[36m(pid=15052)\u001b[0m reward: -0.0466\n",
      "\u001b[2m\u001b[36m(pid=15052)\u001b[0m 25.85\n",
      "\u001b[2m\u001b[36m(pid=15052)\u001b[0m reward: -10\n",
      "\u001b[2m\u001b[36m(pid=15052)\u001b[0m 64.75\n",
      "\u001b[2m\u001b[36m(pid=15052)\u001b[0m reward: -10\n",
      "\u001b[2m\u001b[36m(pid=15052)\u001b[0m 24.11\n",
      "\u001b[2m\u001b[36m(pid=15052)\u001b[0m reward: -10\n",
      "\u001b[2m\u001b[36m(pid=15052)\u001b[0m 47.76\n"
     ]
    },
    {
     "name": "stderr",
     "output_type": "stream",
     "text": [
      "\u001b[2m\u001b[36m(pid=15052)\u001b[0m c:\\users\\cig\\anaconda3\\envs\\autofocus\\lib\\site-packages\\imquality\\brisque.py:45: FutureWarning: The behavior of rgb2gray will change in scikit-image 0.19. Currently, rgb2gray allows 2D grayscale image to be passed as inputs and leaves them unmodified as outputs. Starting from version 0.19, 2D arrays will be treated as 1D images with 3 channels.\r\n",
      "\u001b[2m\u001b[36m(pid=15052)\u001b[0m   self.image = skimage.color.rgb2gray(self.image)\r\n"
     ]
    },
    {
     "name": "stdout",
     "output_type": "stream",
     "text": [
      "\u001b[2m\u001b[36m(pid=15052)\u001b[0m reward: -0.02536\n",
      "\u001b[2m\u001b[36m(pid=15052)\u001b[0m 48.96\n"
     ]
    },
    {
     "name": "stderr",
     "output_type": "stream",
     "text": [
      "\u001b[2m\u001b[36m(pid=15052)\u001b[0m c:\\users\\cig\\anaconda3\\envs\\autofocus\\lib\\site-packages\\imquality\\brisque.py:45: FutureWarning: The behavior of rgb2gray will change in scikit-image 0.19. Currently, rgb2gray allows 2D grayscale image to be passed as inputs and leaves them unmodified as outputs. Starting from version 0.19, 2D arrays will be treated as 1D images with 3 channels.\r\n",
      "\u001b[2m\u001b[36m(pid=15052)\u001b[0m   self.image = skimage.color.rgb2gray(self.image)\r\n"
     ]
    },
    {
     "name": "stdout",
     "output_type": "stream",
     "text": [
      "\u001b[2m\u001b[36m(pid=15052)\u001b[0m reward: -0.049159999999999995\n",
      "\u001b[2m\u001b[36m(pid=15052)\u001b[0m 48.76\n"
     ]
    },
    {
     "name": "stderr",
     "output_type": "stream",
     "text": [
      "\u001b[2m\u001b[36m(pid=15052)\u001b[0m c:\\users\\cig\\anaconda3\\envs\\autofocus\\lib\\site-packages\\imquality\\brisque.py:45: FutureWarning: The behavior of rgb2gray will change in scikit-image 0.19. Currently, rgb2gray allows 2D grayscale image to be passed as inputs and leaves them unmodified as outputs. Starting from version 0.19, 2D arrays will be treated as 1D images with 3 channels.\r\n",
      "\u001b[2m\u001b[36m(pid=15052)\u001b[0m   self.image = skimage.color.rgb2gray(self.image)\r\n"
     ]
    },
    {
     "name": "stdout",
     "output_type": "stream",
     "text": [
      "\u001b[2m\u001b[36m(pid=15052)\u001b[0m reward: -0.05092\n",
      "\u001b[2m\u001b[36m(pid=15052)\u001b[0m 67.42\n",
      "\u001b[2m\u001b[36m(pid=15052)\u001b[0m reward: -10\n",
      "\u001b[2m\u001b[36m(pid=15052)\u001b[0m 24.4\n",
      "\u001b[2m\u001b[36m(pid=15052)\u001b[0m reward: -10\n",
      "\u001b[2m\u001b[36m(pid=15052)\u001b[0m 24.84\n",
      "\u001b[2m\u001b[36m(pid=15052)\u001b[0m reward: -10\n",
      "\u001b[2m\u001b[36m(pid=15052)\u001b[0m 48.5\n"
     ]
    },
    {
     "name": "stderr",
     "output_type": "stream",
     "text": [
      "\u001b[2m\u001b[36m(pid=15052)\u001b[0m c:\\users\\cig\\anaconda3\\envs\\autofocus\\lib\\site-packages\\imquality\\brisque.py:45: FutureWarning: The behavior of rgb2gray will change in scikit-image 0.19. Currently, rgb2gray allows 2D grayscale image to be passed as inputs and leaves them unmodified as outputs. Starting from version 0.19, 2D arrays will be treated as 1D images with 3 channels.\r\n",
      "\u001b[2m\u001b[36m(pid=15052)\u001b[0m   self.image = skimage.color.rgb2gray(self.image)\r\n"
     ]
    },
    {
     "name": "stdout",
     "output_type": "stream",
     "text": [
      "\u001b[2m\u001b[36m(pid=15052)\u001b[0m reward: -0.04115\n",
      "\u001b[2m\u001b[36m(pid=15052)\u001b[0m 49.49\n"
     ]
    },
    {
     "name": "stderr",
     "output_type": "stream",
     "text": [
      "\u001b[2m\u001b[36m(pid=15052)\u001b[0m c:\\users\\cig\\anaconda3\\envs\\autofocus\\lib\\site-packages\\imquality\\brisque.py:45: FutureWarning: The behavior of rgb2gray will change in scikit-image 0.19. Currently, rgb2gray allows 2D grayscale image to be passed as inputs and leaves them unmodified as outputs. Starting from version 0.19, 2D arrays will be treated as 1D images with 3 channels.\r\n",
      "\u001b[2m\u001b[36m(pid=15052)\u001b[0m   self.image = skimage.color.rgb2gray(self.image)\r\n"
     ]
    },
    {
     "name": "stdout",
     "output_type": "stream",
     "text": [
      "\u001b[2m\u001b[36m(pid=15052)\u001b[0m reward: -0.04298\n",
      "\u001b[2m\u001b[36m(pid=15052)\u001b[0m 45.89\n",
      "\u001b[2m\u001b[36m(pid=15052)\u001b[0m reward: -10\n",
      "\u001b[2m\u001b[36m(pid=15052)\u001b[0m 34.44\n",
      "\u001b[2m\u001b[36m(pid=15052)\u001b[0m reward: -10\n",
      "\u001b[2m\u001b[36m(pid=15052)\u001b[0m 26.15\n",
      "\u001b[2m\u001b[36m(pid=15052)\u001b[0m reward: -10\n",
      "\u001b[2m\u001b[36m(pid=15052)\u001b[0m 42.13\n",
      "\u001b[2m\u001b[36m(pid=15052)\u001b[0m reward: -10\n",
      "\u001b[2m\u001b[36m(pid=15052)\u001b[0m 48.63\n"
     ]
    },
    {
     "name": "stderr",
     "output_type": "stream",
     "text": [
      "\u001b[2m\u001b[36m(pid=15052)\u001b[0m c:\\users\\cig\\anaconda3\\envs\\autofocus\\lib\\site-packages\\imquality\\brisque.py:45: FutureWarning: The behavior of rgb2gray will change in scikit-image 0.19. Currently, rgb2gray allows 2D grayscale image to be passed as inputs and leaves them unmodified as outputs. Starting from version 0.19, 2D arrays will be treated as 1D images with 3 channels.\r\n",
      "\u001b[2m\u001b[36m(pid=15052)\u001b[0m   self.image = skimage.color.rgb2gray(self.image)\r\n"
     ]
    },
    {
     "name": "stdout",
     "output_type": "stream",
     "text": [
      "\u001b[2m\u001b[36m(pid=15052)\u001b[0m reward: -0.04471\n",
      "\u001b[2m\u001b[36m(pid=15052)\u001b[0m 24.0\n",
      "\u001b[2m\u001b[36m(pid=15052)\u001b[0m reward: -10\n",
      "\u001b[2m\u001b[36m(pid=15052)\u001b[0m 59.75\n",
      "\u001b[2m\u001b[36m(pid=15052)\u001b[0m reward: -10\n",
      "\u001b[2m\u001b[36m(pid=15052)\u001b[0m 62.83\n",
      "\u001b[2m\u001b[36m(pid=15052)\u001b[0m reward: -10\n",
      "\u001b[2m\u001b[36m(pid=15052)\u001b[0m 46.1\n",
      "\u001b[2m\u001b[36m(pid=15052)\u001b[0m reward: -10\n",
      "\u001b[2m\u001b[36m(pid=15052)\u001b[0m 36.1\n",
      "\u001b[2m\u001b[36m(pid=15052)\u001b[0m reward: -10\n",
      "\u001b[2m\u001b[36m(pid=15052)\u001b[0m 24.97\n",
      "\u001b[2m\u001b[36m(pid=15052)\u001b[0m reward: -10\n",
      "\u001b[2m\u001b[36m(pid=15052)\u001b[0m 33.94\n",
      "\u001b[2m\u001b[36m(pid=15052)\u001b[0m reward: -10\n",
      "\u001b[2m\u001b[36m(pid=15052)\u001b[0m 60.87\n",
      "\u001b[2m\u001b[36m(pid=15052)\u001b[0m reward: -10\n",
      "\u001b[2m\u001b[36m(pid=15052)\u001b[0m 59.56\n",
      "\u001b[2m\u001b[36m(pid=15052)\u001b[0m reward: -10\n",
      "\u001b[2m\u001b[36m(pid=15052)\u001b[0m 24.42\n",
      "\u001b[2m\u001b[36m(pid=15052)\u001b[0m reward: -10\n",
      "\u001b[2m\u001b[36m(pid=15052)\u001b[0m 48.86\n"
     ]
    },
    {
     "name": "stderr",
     "output_type": "stream",
     "text": [
      "\u001b[2m\u001b[36m(pid=15052)\u001b[0m c:\\users\\cig\\anaconda3\\envs\\autofocus\\lib\\site-packages\\imquality\\brisque.py:45: FutureWarning: The behavior of rgb2gray will change in scikit-image 0.19. Currently, rgb2gray allows 2D grayscale image to be passed as inputs and leaves them unmodified as outputs. Starting from version 0.19, 2D arrays will be treated as 1D images with 3 channels.\r\n",
      "\u001b[2m\u001b[36m(pid=15052)\u001b[0m   self.image = skimage.color.rgb2gray(self.image)\r\n"
     ]
    },
    {
     "name": "stdout",
     "output_type": "stream",
     "text": [
      "\u001b[2m\u001b[36m(pid=15052)\u001b[0m reward: -0.05379\n",
      "\u001b[2m\u001b[36m(pid=15052)\u001b[0m 24.12\n",
      "\u001b[2m\u001b[36m(pid=15052)\u001b[0m reward: -10\n",
      "\u001b[2m\u001b[36m(pid=15052)\u001b[0m 24.77\n",
      "\u001b[2m\u001b[36m(pid=15052)\u001b[0m reward: -10\n",
      "\u001b[2m\u001b[36m(pid=15052)\u001b[0m 47.37\n"
     ]
    },
    {
     "name": "stderr",
     "output_type": "stream",
     "text": [
      "\u001b[2m\u001b[36m(pid=15052)\u001b[0m c:\\users\\cig\\anaconda3\\envs\\autofocus\\lib\\site-packages\\imquality\\brisque.py:45: FutureWarning: The behavior of rgb2gray will change in scikit-image 0.19. Currently, rgb2gray allows 2D grayscale image to be passed as inputs and leaves them unmodified as outputs. Starting from version 0.19, 2D arrays will be treated as 1D images with 3 channels.\r\n",
      "\u001b[2m\u001b[36m(pid=15052)\u001b[0m   self.image = skimage.color.rgb2gray(self.image)\r\n"
     ]
    },
    {
     "name": "stdout",
     "output_type": "stream",
     "text": [
      "\u001b[2m\u001b[36m(pid=15052)\u001b[0m reward: -0.044610000000000004\n",
      "\u001b[2m\u001b[36m(pid=15052)\u001b[0m 47.98\n"
     ]
    },
    {
     "name": "stderr",
     "output_type": "stream",
     "text": [
      "\u001b[2m\u001b[36m(pid=15052)\u001b[0m c:\\users\\cig\\anaconda3\\envs\\autofocus\\lib\\site-packages\\imquality\\brisque.py:45: FutureWarning: The behavior of rgb2gray will change in scikit-image 0.19. Currently, rgb2gray allows 2D grayscale image to be passed as inputs and leaves them unmodified as outputs. Starting from version 0.19, 2D arrays will be treated as 1D images with 3 channels.\r\n",
      "\u001b[2m\u001b[36m(pid=15052)\u001b[0m   self.image = skimage.color.rgb2gray(self.image)\r\n"
     ]
    },
    {
     "name": "stdout",
     "output_type": "stream",
     "text": [
      "\u001b[2m\u001b[36m(pid=15052)\u001b[0m reward: -0.018000000000000002\n",
      "\u001b[2m\u001b[36m(pid=15052)\u001b[0m 49.5\n"
     ]
    },
    {
     "name": "stderr",
     "output_type": "stream",
     "text": [
      "\u001b[2m\u001b[36m(pid=15052)\u001b[0m c:\\users\\cig\\anaconda3\\envs\\autofocus\\lib\\site-packages\\imquality\\brisque.py:45: FutureWarning: The behavior of rgb2gray will change in scikit-image 0.19. Currently, rgb2gray allows 2D grayscale image to be passed as inputs and leaves them unmodified as outputs. Starting from version 0.19, 2D arrays will be treated as 1D images with 3 channels.\r\n",
      "\u001b[2m\u001b[36m(pid=15052)\u001b[0m   self.image = skimage.color.rgb2gray(self.image)\r\n"
     ]
    },
    {
     "name": "stdout",
     "output_type": "stream",
     "text": [
      "\u001b[2m\u001b[36m(pid=15052)\u001b[0m reward: -0.04205\n",
      "\u001b[2m\u001b[36m(pid=15052)\u001b[0m 49.42\n"
     ]
    },
    {
     "name": "stderr",
     "output_type": "stream",
     "text": [
      "\u001b[2m\u001b[36m(pid=15052)\u001b[0m c:\\users\\cig\\anaconda3\\envs\\autofocus\\lib\\site-packages\\imquality\\brisque.py:45: FutureWarning: The behavior of rgb2gray will change in scikit-image 0.19. Currently, rgb2gray allows 2D grayscale image to be passed as inputs and leaves them unmodified as outputs. Starting from version 0.19, 2D arrays will be treated as 1D images with 3 channels.\r\n",
      "\u001b[2m\u001b[36m(pid=15052)\u001b[0m   self.image = skimage.color.rgb2gray(self.image)\r\n"
     ]
    },
    {
     "name": "stdout",
     "output_type": "stream",
     "text": [
      "\u001b[2m\u001b[36m(pid=15052)\u001b[0m reward: -0.04586\n",
      "\u001b[2m\u001b[36m(pid=15052)\u001b[0m 56.16\n",
      "\u001b[2m\u001b[36m(pid=15052)\u001b[0m reward: -10\n",
      "\u001b[2m\u001b[36m(pid=15052)\u001b[0m 24.56\n",
      "\u001b[2m\u001b[36m(pid=15052)\u001b[0m reward: -10\n",
      "\u001b[2m\u001b[36m(pid=15052)\u001b[0m 48.35\n"
     ]
    },
    {
     "name": "stderr",
     "output_type": "stream",
     "text": [
      "\u001b[2m\u001b[36m(pid=15052)\u001b[0m c:\\users\\cig\\anaconda3\\envs\\autofocus\\lib\\site-packages\\imquality\\brisque.py:45: FutureWarning: The behavior of rgb2gray will change in scikit-image 0.19. Currently, rgb2gray allows 2D grayscale image to be passed as inputs and leaves them unmodified as outputs. Starting from version 0.19, 2D arrays will be treated as 1D images with 3 channels.\r\n",
      "\u001b[2m\u001b[36m(pid=15052)\u001b[0m   self.image = skimage.color.rgb2gray(self.image)\r\n"
     ]
    },
    {
     "name": "stdout",
     "output_type": "stream",
     "text": [
      "\u001b[2m\u001b[36m(pid=15052)\u001b[0m reward: -0.02707\n",
      "\u001b[2m\u001b[36m(pid=15052)\u001b[0m 60.96\n",
      "\u001b[2m\u001b[36m(pid=15052)\u001b[0m reward: -10\n",
      "\u001b[2m\u001b[36m(pid=15052)\u001b[0m 25.21\n",
      "\u001b[2m\u001b[36m(pid=15052)\u001b[0m reward: -10\n",
      "\u001b[2m\u001b[36m(pid=15052)\u001b[0m 47.21\n"
     ]
    },
    {
     "name": "stderr",
     "output_type": "stream",
     "text": [
      "\u001b[2m\u001b[36m(pid=15052)\u001b[0m c:\\users\\cig\\anaconda3\\envs\\autofocus\\lib\\site-packages\\imquality\\brisque.py:45: FutureWarning: The behavior of rgb2gray will change in scikit-image 0.19. Currently, rgb2gray allows 2D grayscale image to be passed as inputs and leaves them unmodified as outputs. Starting from version 0.19, 2D arrays will be treated as 1D images with 3 channels.\r\n",
      "\u001b[2m\u001b[36m(pid=15052)\u001b[0m   self.image = skimage.color.rgb2gray(self.image)\r\n"
     ]
    },
    {
     "name": "stdout",
     "output_type": "stream",
     "text": [
      "\u001b[2m\u001b[36m(pid=15052)\u001b[0m reward: -0.04211\n",
      "\u001b[2m\u001b[36m(pid=15052)\u001b[0m 46.74\n"
     ]
    },
    {
     "name": "stderr",
     "output_type": "stream",
     "text": [
      "\u001b[2m\u001b[36m(pid=15052)\u001b[0m c:\\users\\cig\\anaconda3\\envs\\autofocus\\lib\\site-packages\\imquality\\brisque.py:45: FutureWarning: The behavior of rgb2gray will change in scikit-image 0.19. Currently, rgb2gray allows 2D grayscale image to be passed as inputs and leaves them unmodified as outputs. Starting from version 0.19, 2D arrays will be treated as 1D images with 3 channels.\r\n",
      "\u001b[2m\u001b[36m(pid=15052)\u001b[0m   self.image = skimage.color.rgb2gray(self.image)\r\n"
     ]
    },
    {
     "name": "stdout",
     "output_type": "stream",
     "text": [
      "\u001b[2m\u001b[36m(pid=15052)\u001b[0m reward: -0.0357\n",
      "\u001b[2m\u001b[36m(pid=15052)\u001b[0m 46.93\n"
     ]
    },
    {
     "name": "stderr",
     "output_type": "stream",
     "text": [
      "\u001b[2m\u001b[36m(pid=15052)\u001b[0m c:\\users\\cig\\anaconda3\\envs\\autofocus\\lib\\site-packages\\imquality\\brisque.py:45: FutureWarning: The behavior of rgb2gray will change in scikit-image 0.19. Currently, rgb2gray allows 2D grayscale image to be passed as inputs and leaves them unmodified as outputs. Starting from version 0.19, 2D arrays will be treated as 1D images with 3 channels.\r\n",
      "\u001b[2m\u001b[36m(pid=15052)\u001b[0m   self.image = skimage.color.rgb2gray(self.image)\r\n"
     ]
    },
    {
     "name": "stdout",
     "output_type": "stream",
     "text": [
      "\u001b[2m\u001b[36m(pid=15052)\u001b[0m reward: -0.04329\n",
      "\u001b[2m\u001b[36m(pid=15052)\u001b[0m 46.89\n"
     ]
    },
    {
     "name": "stderr",
     "output_type": "stream",
     "text": [
      "\u001b[2m\u001b[36m(pid=15052)\u001b[0m c:\\users\\cig\\anaconda3\\envs\\autofocus\\lib\\site-packages\\imquality\\brisque.py:45: FutureWarning: The behavior of rgb2gray will change in scikit-image 0.19. Currently, rgb2gray allows 2D grayscale image to be passed as inputs and leaves them unmodified as outputs. Starting from version 0.19, 2D arrays will be treated as 1D images with 3 channels.\r\n",
      "\u001b[2m\u001b[36m(pid=15052)\u001b[0m   self.image = skimage.color.rgb2gray(self.image)\r\n"
     ]
    },
    {
     "name": "stdout",
     "output_type": "stream",
     "text": [
      "\u001b[2m\u001b[36m(pid=15052)\u001b[0m reward: -0.04132\n",
      "\u001b[2m\u001b[36m(pid=15052)\u001b[0m 24.45\n",
      "\u001b[2m\u001b[36m(pid=15052)\u001b[0m reward: -10\n",
      "\u001b[2m\u001b[36m(pid=15052)\u001b[0m 24.44\n",
      "\u001b[2m\u001b[36m(pid=15052)\u001b[0m reward: -10\n",
      "\u001b[2m\u001b[36m(pid=15052)\u001b[0m 24.41\n",
      "\u001b[2m\u001b[36m(pid=15052)\u001b[0m reward: -10\n",
      "\u001b[2m\u001b[36m(pid=15052)\u001b[0m 56.83\n",
      "\u001b[2m\u001b[36m(pid=15052)\u001b[0m reward: -10\n",
      "\u001b[2m\u001b[36m(pid=15052)\u001b[0m 49.96\n",
      "\u001b[2m\u001b[36m(pid=15052)\u001b[0m reward: -10\n",
      "\u001b[2m\u001b[36m(pid=15052)\u001b[0m 48.93\n"
     ]
    },
    {
     "name": "stderr",
     "output_type": "stream",
     "text": [
      "\u001b[2m\u001b[36m(pid=15052)\u001b[0m c:\\users\\cig\\anaconda3\\envs\\autofocus\\lib\\site-packages\\imquality\\brisque.py:45: FutureWarning: The behavior of rgb2gray will change in scikit-image 0.19. Currently, rgb2gray allows 2D grayscale image to be passed as inputs and leaves them unmodified as outputs. Starting from version 0.19, 2D arrays will be treated as 1D images with 3 channels.\r\n",
      "\u001b[2m\u001b[36m(pid=15052)\u001b[0m   self.image = skimage.color.rgb2gray(self.image)\r\n"
     ]
    },
    {
     "name": "stdout",
     "output_type": "stream",
     "text": [
      "\u001b[2m\u001b[36m(pid=15052)\u001b[0m reward: -0.04872\n",
      "\u001b[2m\u001b[36m(pid=15052)\u001b[0m 60.6\n",
      "\u001b[2m\u001b[36m(pid=15052)\u001b[0m reward: -10\n",
      "\u001b[2m\u001b[36m(pid=15052)\u001b[0m 24.76\n",
      "\u001b[2m\u001b[36m(pid=15052)\u001b[0m reward: -10\n",
      "\u001b[2m\u001b[36m(pid=15052)\u001b[0m 49.6\n"
     ]
    },
    {
     "name": "stderr",
     "output_type": "stream",
     "text": [
      "\u001b[2m\u001b[36m(pid=15052)\u001b[0m c:\\users\\cig\\anaconda3\\envs\\autofocus\\lib\\site-packages\\imquality\\brisque.py:45: FutureWarning: The behavior of rgb2gray will change in scikit-image 0.19. Currently, rgb2gray allows 2D grayscale image to be passed as inputs and leaves them unmodified as outputs. Starting from version 0.19, 2D arrays will be treated as 1D images with 3 channels.\r\n",
      "\u001b[2m\u001b[36m(pid=15052)\u001b[0m   self.image = skimage.color.rgb2gray(self.image)\r\n"
     ]
    },
    {
     "name": "stdout",
     "output_type": "stream",
     "text": [
      "\u001b[2m\u001b[36m(pid=15052)\u001b[0m reward: -0.041229999999999996\n",
      "\u001b[2m\u001b[36m(pid=15052)\u001b[0m 48.1\n"
     ]
    },
    {
     "name": "stderr",
     "output_type": "stream",
     "text": [
      "\u001b[2m\u001b[36m(pid=15052)\u001b[0m c:\\users\\cig\\anaconda3\\envs\\autofocus\\lib\\site-packages\\imquality\\brisque.py:45: FutureWarning: The behavior of rgb2gray will change in scikit-image 0.19. Currently, rgb2gray allows 2D grayscale image to be passed as inputs and leaves them unmodified as outputs. Starting from version 0.19, 2D arrays will be treated as 1D images with 3 channels.\r\n",
      "\u001b[2m\u001b[36m(pid=15052)\u001b[0m   self.image = skimage.color.rgb2gray(self.image)\r\n"
     ]
    },
    {
     "name": "stdout",
     "output_type": "stream",
     "text": [
      "\u001b[2m\u001b[36m(pid=15052)\u001b[0m reward: -0.0169\n",
      "\u001b[2m\u001b[36m(pid=15052)\u001b[0m 39.53\n",
      "\u001b[2m\u001b[36m(pid=15052)\u001b[0m reward: -10\n",
      "\u001b[2m\u001b[36m(pid=15052)\u001b[0m 24.91\n",
      "\u001b[2m\u001b[36m(pid=15052)\u001b[0m reward: -10\n",
      "\u001b[2m\u001b[36m(pid=15052)\u001b[0m 46.74\n"
     ]
    },
    {
     "name": "stderr",
     "output_type": "stream",
     "text": [
      "\u001b[2m\u001b[36m(pid=15052)\u001b[0m c:\\users\\cig\\anaconda3\\envs\\autofocus\\lib\\site-packages\\imquality\\brisque.py:45: FutureWarning: The behavior of rgb2gray will change in scikit-image 0.19. Currently, rgb2gray allows 2D grayscale image to be passed as inputs and leaves them unmodified as outputs. Starting from version 0.19, 2D arrays will be treated as 1D images with 3 channels.\r\n",
      "\u001b[2m\u001b[36m(pid=15052)\u001b[0m   self.image = skimage.color.rgb2gray(self.image)\r\n"
     ]
    },
    {
     "name": "stdout",
     "output_type": "stream",
     "text": [
      "\u001b[2m\u001b[36m(pid=15052)\u001b[0m reward: -0.0388\n",
      "\u001b[2m\u001b[36m(pid=15052)\u001b[0m 24.56\n",
      "\u001b[2m\u001b[36m(pid=15052)\u001b[0m reward: -10\n",
      "\u001b[2m\u001b[36m(pid=15052)\u001b[0m 49.77\n",
      "\u001b[2m\u001b[36m(pid=15052)\u001b[0m reward: -10\n",
      "\u001b[2m\u001b[36m(pid=15052)\u001b[0m 24.17\n",
      "\u001b[2m\u001b[36m(pid=15052)\u001b[0m reward: -10\n",
      "\u001b[2m\u001b[36m(pid=15052)\u001b[0m 24.75\n",
      "\u001b[2m\u001b[36m(pid=15052)\u001b[0m reward: -10\n",
      "\u001b[2m\u001b[36m(pid=15052)\u001b[0m 46.91\n"
     ]
    },
    {
     "name": "stderr",
     "output_type": "stream",
     "text": [
      "\u001b[2m\u001b[36m(pid=15052)\u001b[0m c:\\users\\cig\\anaconda3\\envs\\autofocus\\lib\\site-packages\\imquality\\brisque.py:45: FutureWarning: The behavior of rgb2gray will change in scikit-image 0.19. Currently, rgb2gray allows 2D grayscale image to be passed as inputs and leaves them unmodified as outputs. Starting from version 0.19, 2D arrays will be treated as 1D images with 3 channels.\r\n",
      "\u001b[2m\u001b[36m(pid=15052)\u001b[0m   self.image = skimage.color.rgb2gray(self.image)\r\n"
     ]
    },
    {
     "name": "stdout",
     "output_type": "stream",
     "text": [
      "\u001b[2m\u001b[36m(pid=15052)\u001b[0m reward: -0.038130000000000004\n",
      "\u001b[2m\u001b[36m(pid=15052)\u001b[0m 27.57\n",
      "\u001b[2m\u001b[36m(pid=15052)\u001b[0m reward: -10\n",
      "custom_metrics: {}\n",
      "date: 2021-03-31_17-49-46\n",
      "done: false\n",
      "episode_len_mean: 4.769491525423729\n",
      "episode_reward_max: -0.01533\n",
      "episode_reward_mean: -39.79681593220339\n",
      "episode_reward_min: -100.0\n",
      "episodes_this_iter: 44\n",
      "episodes_total: 295\n",
      "experiment_id: f29f35cc3ac947278fbe79a0a7e35ac4\n",
      "hostname: DESKTOP-K2L4N78\n",
      "info:\n",
      "  learner:\n",
      "    default_policy:\n",
      "      cur_kl_coeff: 3.417187452316284\n",
      "      cur_lr: 0.0002500000118743628\n",
      "      entropy: 8.094011306762695\n",
      "      entropy_coeff: 0.009999999776482582\n",
      "      kl: 0.012346435338258743\n",
      "      model: {}\n",
      "      policy_loss: -0.16865746676921844\n",
      "      total_loss: 568.1187133789062\n",
      "      vf_explained_var: 1.1920928955078125e-07\n",
      "      vf_loss: 568.3260498046875\n",
      "  num_steps_sampled: 1408\n",
      "  num_steps_trained: 1408\n",
      "iterations_since_restore: 11\n",
      "node_ip: 10.16.102.19\n",
      "num_healthy_workers: 1\n",
      "off_policy_estimator: {}\n",
      "perf:\n",
      "  cpu_util_percent: 18.513359920239285\n",
      "  ram_util_percent: 46.03918245264207\n",
      "pid: 14556\n",
      "policy_reward_max: {}\n",
      "policy_reward_mean: {}\n",
      "policy_reward_min: {}\n",
      "sampler_perf:\n",
      "  mean_action_processing_ms: 0.043458637520767424\n",
      "  mean_env_wait_ms: 4146.445530155092\n",
      "  mean_inference_ms: 0.9189717921137492\n",
      "  mean_raw_obs_processing_ms: 624.3060917772109\n",
      "time_since_restore: 6951.750182151794\n",
      "time_this_iter_s: 703.9500319957733\n",
      "time_total_s: 6951.750182151794\n",
      "timers:\n",
      "  learn_throughput: 792.258\n",
      "  learn_time_ms: 161.564\n",
      "  load_throughput: 80023.687\n",
      "  load_time_ms: 1.6\n",
      "  sample_throughput: 0.202\n",
      "  sample_time_ms: 634449.868\n",
      "  update_time_ms: 5.401\n",
      "timestamp: 1617202186\n",
      "timesteps_since_restore: 0\n",
      "timesteps_total: 1408\n",
      "training_iteration: 11\n",
      "\n",
      "------- 10 -------\n",
      "\u001b[2m\u001b[36m(pid=15052)\u001b[0m 47.5\n"
     ]
    },
    {
     "name": "stderr",
     "output_type": "stream",
     "text": [
      "\u001b[2m\u001b[36m(pid=15052)\u001b[0m c:\\users\\cig\\anaconda3\\envs\\autofocus\\lib\\site-packages\\imquality\\brisque.py:45: FutureWarning: The behavior of rgb2gray will change in scikit-image 0.19. Currently, rgb2gray allows 2D grayscale image to be passed as inputs and leaves them unmodified as outputs. Starting from version 0.19, 2D arrays will be treated as 1D images with 3 channels.\r\n",
      "\u001b[2m\u001b[36m(pid=15052)\u001b[0m   self.image = skimage.color.rgb2gray(self.image)\r\n"
     ]
    },
    {
     "name": "stdout",
     "output_type": "stream",
     "text": [
      "\u001b[2m\u001b[36m(pid=15052)\u001b[0m reward: -0.0337\n",
      "\u001b[2m\u001b[36m(pid=15052)\u001b[0m 60.97\n",
      "\u001b[2m\u001b[36m(pid=15052)\u001b[0m reward: -10\n",
      "\u001b[2m\u001b[36m(pid=15052)\u001b[0m 45.91\n",
      "\u001b[2m\u001b[36m(pid=15052)\u001b[0m reward: -10\n",
      "\u001b[2m\u001b[36m(pid=15052)\u001b[0m 55.27\n",
      "\u001b[2m\u001b[36m(pid=15052)\u001b[0m reward: -10\n",
      "\u001b[2m\u001b[36m(pid=15052)\u001b[0m 68.37\n",
      "\u001b[2m\u001b[36m(pid=15052)\u001b[0m reward: -10\n",
      "\u001b[2m\u001b[36m(pid=15052)\u001b[0m 48.82\n"
     ]
    },
    {
     "name": "stderr",
     "output_type": "stream",
     "text": [
      "\u001b[2m\u001b[36m(pid=15052)\u001b[0m c:\\users\\cig\\anaconda3\\envs\\autofocus\\lib\\site-packages\\imquality\\brisque.py:45: FutureWarning: The behavior of rgb2gray will change in scikit-image 0.19. Currently, rgb2gray allows 2D grayscale image to be passed as inputs and leaves them unmodified as outputs. Starting from version 0.19, 2D arrays will be treated as 1D images with 3 channels.\r\n",
      "\u001b[2m\u001b[36m(pid=15052)\u001b[0m   self.image = skimage.color.rgb2gray(self.image)\r\n"
     ]
    },
    {
     "name": "stdout",
     "output_type": "stream",
     "text": [
      "\u001b[2m\u001b[36m(pid=15052)\u001b[0m reward: -0.05225\n",
      "\u001b[2m\u001b[36m(pid=15052)\u001b[0m 56.1\n",
      "\u001b[2m\u001b[36m(pid=15052)\u001b[0m reward: -10\n",
      "\u001b[2m\u001b[36m(pid=15052)\u001b[0m 47.9\n"
     ]
    },
    {
     "name": "stderr",
     "output_type": "stream",
     "text": [
      "\u001b[2m\u001b[36m(pid=15052)\u001b[0m c:\\users\\cig\\anaconda3\\envs\\autofocus\\lib\\site-packages\\imquality\\brisque.py:45: FutureWarning: The behavior of rgb2gray will change in scikit-image 0.19. Currently, rgb2gray allows 2D grayscale image to be passed as inputs and leaves them unmodified as outputs. Starting from version 0.19, 2D arrays will be treated as 1D images with 3 channels.\r\n",
      "\u001b[2m\u001b[36m(pid=15052)\u001b[0m   self.image = skimage.color.rgb2gray(self.image)\r\n"
     ]
    },
    {
     "name": "stdout",
     "output_type": "stream",
     "text": [
      "\u001b[2m\u001b[36m(pid=15052)\u001b[0m reward: -0.02127\n",
      "\u001b[2m\u001b[36m(pid=15052)\u001b[0m 54.53\n",
      "\u001b[2m\u001b[36m(pid=15052)\u001b[0m reward: -10\n",
      "\u001b[2m\u001b[36m(pid=15052)\u001b[0m 46.89\n"
     ]
    },
    {
     "name": "stderr",
     "output_type": "stream",
     "text": [
      "\u001b[2m\u001b[36m(pid=15052)\u001b[0m c:\\users\\cig\\anaconda3\\envs\\autofocus\\lib\\site-packages\\imquality\\brisque.py:45: FutureWarning: The behavior of rgb2gray will change in scikit-image 0.19. Currently, rgb2gray allows 2D grayscale image to be passed as inputs and leaves them unmodified as outputs. Starting from version 0.19, 2D arrays will be treated as 1D images with 3 channels.\r\n",
      "\u001b[2m\u001b[36m(pid=15052)\u001b[0m   self.image = skimage.color.rgb2gray(self.image)\r\n"
     ]
    },
    {
     "name": "stdout",
     "output_type": "stream",
     "text": [
      "\u001b[2m\u001b[36m(pid=15052)\u001b[0m reward: -0.04328\n",
      "\u001b[2m\u001b[36m(pid=15052)\u001b[0m 56.1\n",
      "\u001b[2m\u001b[36m(pid=15052)\u001b[0m reward: -10\n",
      "\u001b[2m\u001b[36m(pid=15052)\u001b[0m 54.39\n",
      "\u001b[2m\u001b[36m(pid=15052)\u001b[0m reward: -10\n",
      "\u001b[2m\u001b[36m(pid=15052)\u001b[0m 24.24\n",
      "\u001b[2m\u001b[36m(pid=15052)\u001b[0m reward: -10\n",
      "\u001b[2m\u001b[36m(pid=15052)\u001b[0m 24.69\n",
      "\u001b[2m\u001b[36m(pid=15052)\u001b[0m reward: -10\n",
      "\u001b[2m\u001b[36m(pid=15052)\u001b[0m 24.73\n",
      "\u001b[2m\u001b[36m(pid=15052)\u001b[0m reward: -10\n",
      "\u001b[2m\u001b[36m(pid=15052)\u001b[0m 46.43\n",
      "\u001b[2m\u001b[36m(pid=15052)\u001b[0m reward: -10\n",
      "\u001b[2m\u001b[36m(pid=15052)\u001b[0m 24.42\n",
      "\u001b[2m\u001b[36m(pid=15052)\u001b[0m reward: -10\n",
      "\u001b[2m\u001b[36m(pid=15052)\u001b[0m 34.82\n",
      "\u001b[2m\u001b[36m(pid=15052)\u001b[0m reward: -10\n",
      "\u001b[2m\u001b[36m(pid=15052)\u001b[0m 48.84\n"
     ]
    },
    {
     "name": "stderr",
     "output_type": "stream",
     "text": [
      "\u001b[2m\u001b[36m(pid=15052)\u001b[0m c:\\users\\cig\\anaconda3\\envs\\autofocus\\lib\\site-packages\\imquality\\brisque.py:45: FutureWarning: The behavior of rgb2gray will change in scikit-image 0.19. Currently, rgb2gray allows 2D grayscale image to be passed as inputs and leaves them unmodified as outputs. Starting from version 0.19, 2D arrays will be treated as 1D images with 3 channels.\r\n",
      "\u001b[2m\u001b[36m(pid=15052)\u001b[0m   self.image = skimage.color.rgb2gray(self.image)\r\n"
     ]
    },
    {
     "name": "stdout",
     "output_type": "stream",
     "text": [
      "\u001b[2m\u001b[36m(pid=15052)\u001b[0m reward: -0.05142\n",
      "\u001b[2m\u001b[36m(pid=15052)\u001b[0m 47.1\n"
     ]
    },
    {
     "name": "stderr",
     "output_type": "stream",
     "text": [
      "\u001b[2m\u001b[36m(pid=15052)\u001b[0m c:\\users\\cig\\anaconda3\\envs\\autofocus\\lib\\site-packages\\imquality\\brisque.py:45: FutureWarning: The behavior of rgb2gray will change in scikit-image 0.19. Currently, rgb2gray allows 2D grayscale image to be passed as inputs and leaves them unmodified as outputs. Starting from version 0.19, 2D arrays will be treated as 1D images with 3 channels.\r\n",
      "\u001b[2m\u001b[36m(pid=15052)\u001b[0m   self.image = skimage.color.rgb2gray(self.image)\r\n"
     ]
    },
    {
     "name": "stdout",
     "output_type": "stream",
     "text": [
      "\u001b[2m\u001b[36m(pid=15052)\u001b[0m reward: -0.04267\n",
      "\u001b[2m\u001b[36m(pid=15052)\u001b[0m 46.18\n",
      "\u001b[2m\u001b[36m(pid=15052)\u001b[0m reward: -10\n",
      "\u001b[2m\u001b[36m(pid=15052)\u001b[0m 24.21\n",
      "\u001b[2m\u001b[36m(pid=15052)\u001b[0m reward: -10\n",
      "\u001b[2m\u001b[36m(pid=15052)\u001b[0m 60.98\n",
      "\u001b[2m\u001b[36m(pid=15052)\u001b[0m reward: -10\n",
      "\u001b[2m\u001b[36m(pid=15052)\u001b[0m 48.21\n"
     ]
    },
    {
     "name": "stderr",
     "output_type": "stream",
     "text": [
      "\u001b[2m\u001b[36m(pid=15052)\u001b[0m c:\\users\\cig\\anaconda3\\envs\\autofocus\\lib\\site-packages\\imquality\\brisque.py:45: FutureWarning: The behavior of rgb2gray will change in scikit-image 0.19. Currently, rgb2gray allows 2D grayscale image to be passed as inputs and leaves them unmodified as outputs. Starting from version 0.19, 2D arrays will be treated as 1D images with 3 channels.\r\n",
      "\u001b[2m\u001b[36m(pid=15052)\u001b[0m   self.image = skimage.color.rgb2gray(self.image)\r\n"
     ]
    },
    {
     "name": "stdout",
     "output_type": "stream",
     "text": [
      "\u001b[2m\u001b[36m(pid=15052)\u001b[0m reward: -0.01786\n",
      "\u001b[2m\u001b[36m(pid=15052)\u001b[0m 32.43\n",
      "\u001b[2m\u001b[36m(pid=15052)\u001b[0m reward: -10\n",
      "\u001b[2m\u001b[36m(pid=15052)\u001b[0m 63.73\n",
      "\u001b[2m\u001b[36m(pid=15052)\u001b[0m reward: -10\n",
      "\u001b[2m\u001b[36m(pid=15052)\u001b[0m 24.64\n",
      "\u001b[2m\u001b[36m(pid=15052)\u001b[0m reward: -10\n",
      "\u001b[2m\u001b[36m(pid=15052)\u001b[0m 24.84\n",
      "\u001b[2m\u001b[36m(pid=15052)\u001b[0m reward: -10\n",
      "\u001b[2m\u001b[36m(pid=15052)\u001b[0m 24.47\n",
      "\u001b[2m\u001b[36m(pid=15052)\u001b[0m reward: -10\n",
      "\u001b[2m\u001b[36m(pid=15052)\u001b[0m 24.64\n",
      "\u001b[2m\u001b[36m(pid=15052)\u001b[0m reward: -10\n",
      "\u001b[2m\u001b[36m(pid=15052)\u001b[0m 48.71\n"
     ]
    },
    {
     "name": "stderr",
     "output_type": "stream",
     "text": [
      "\u001b[2m\u001b[36m(pid=15052)\u001b[0m c:\\users\\cig\\anaconda3\\envs\\autofocus\\lib\\site-packages\\imquality\\brisque.py:45: FutureWarning: The behavior of rgb2gray will change in scikit-image 0.19. Currently, rgb2gray allows 2D grayscale image to be passed as inputs and leaves them unmodified as outputs. Starting from version 0.19, 2D arrays will be treated as 1D images with 3 channels.\r\n",
      "\u001b[2m\u001b[36m(pid=15052)\u001b[0m   self.image = skimage.color.rgb2gray(self.image)\r\n"
     ]
    },
    {
     "name": "stdout",
     "output_type": "stream",
     "text": [
      "\u001b[2m\u001b[36m(pid=15052)\u001b[0m reward: -0.05043\n",
      "\u001b[2m\u001b[36m(pid=15052)\u001b[0m 49.71\n"
     ]
    },
    {
     "name": "stderr",
     "output_type": "stream",
     "text": [
      "\u001b[2m\u001b[36m(pid=15052)\u001b[0m c:\\users\\cig\\anaconda3\\envs\\autofocus\\lib\\site-packages\\imquality\\brisque.py:45: FutureWarning: The behavior of rgb2gray will change in scikit-image 0.19. Currently, rgb2gray allows 2D grayscale image to be passed as inputs and leaves them unmodified as outputs. Starting from version 0.19, 2D arrays will be treated as 1D images with 3 channels.\r\n",
      "\u001b[2m\u001b[36m(pid=15052)\u001b[0m   self.image = skimage.color.rgb2gray(self.image)\r\n"
     ]
    },
    {
     "name": "stdout",
     "output_type": "stream",
     "text": [
      "\u001b[2m\u001b[36m(pid=15052)\u001b[0m reward: -0.04044\n",
      "\u001b[2m\u001b[36m(pid=15052)\u001b[0m 24.81\n",
      "\u001b[2m\u001b[36m(pid=15052)\u001b[0m reward: -10\n",
      "\u001b[2m\u001b[36m(pid=15052)\u001b[0m 49.95\n",
      "\u001b[2m\u001b[36m(pid=15052)\u001b[0m reward: -10\n",
      "\u001b[2m\u001b[36m(pid=15052)\u001b[0m 49.63\n"
     ]
    },
    {
     "name": "stderr",
     "output_type": "stream",
     "text": [
      "\u001b[2m\u001b[36m(pid=15052)\u001b[0m c:\\users\\cig\\anaconda3\\envs\\autofocus\\lib\\site-packages\\imquality\\brisque.py:45: FutureWarning: The behavior of rgb2gray will change in scikit-image 0.19. Currently, rgb2gray allows 2D grayscale image to be passed as inputs and leaves them unmodified as outputs. Starting from version 0.19, 2D arrays will be treated as 1D images with 3 channels.\r\n",
      "\u001b[2m\u001b[36m(pid=15052)\u001b[0m   self.image = skimage.color.rgb2gray(self.image)\r\n"
     ]
    },
    {
     "name": "stdout",
     "output_type": "stream",
     "text": [
      "\u001b[2m\u001b[36m(pid=15052)\u001b[0m reward: -0.04002000000000001\n",
      "\u001b[2m\u001b[36m(pid=15052)\u001b[0m 48.31\n"
     ]
    },
    {
     "name": "stderr",
     "output_type": "stream",
     "text": [
      "\u001b[2m\u001b[36m(pid=15052)\u001b[0m c:\\users\\cig\\anaconda3\\envs\\autofocus\\lib\\site-packages\\imquality\\brisque.py:45: FutureWarning: The behavior of rgb2gray will change in scikit-image 0.19. Currently, rgb2gray allows 2D grayscale image to be passed as inputs and leaves them unmodified as outputs. Starting from version 0.19, 2D arrays will be treated as 1D images with 3 channels.\r\n",
      "\u001b[2m\u001b[36m(pid=15052)\u001b[0m   self.image = skimage.color.rgb2gray(self.image)\r\n"
     ]
    },
    {
     "name": "stdout",
     "output_type": "stream",
     "text": [
      "\u001b[2m\u001b[36m(pid=15052)\u001b[0m reward: -0.023280000000000002\n",
      "\u001b[2m\u001b[36m(pid=15052)\u001b[0m 55.45\n",
      "\u001b[2m\u001b[36m(pid=15052)\u001b[0m reward: -10\n",
      "\u001b[2m\u001b[36m(pid=15052)\u001b[0m 61.44\n",
      "\u001b[2m\u001b[36m(pid=15052)\u001b[0m reward: -10\n",
      "\u001b[2m\u001b[36m(pid=15052)\u001b[0m 46.21\n",
      "\u001b[2m\u001b[36m(pid=15052)\u001b[0m reward: -10\n",
      "\u001b[2m\u001b[36m(pid=15052)\u001b[0m 24.76\n",
      "\u001b[2m\u001b[36m(pid=15052)\u001b[0m reward: -10\n",
      "\u001b[2m\u001b[36m(pid=15052)\u001b[0m 47.16\n"
     ]
    },
    {
     "name": "stderr",
     "output_type": "stream",
     "text": [
      "\u001b[2m\u001b[36m(pid=15052)\u001b[0m c:\\users\\cig\\anaconda3\\envs\\autofocus\\lib\\site-packages\\imquality\\brisque.py:45: FutureWarning: The behavior of rgb2gray will change in scikit-image 0.19. Currently, rgb2gray allows 2D grayscale image to be passed as inputs and leaves them unmodified as outputs. Starting from version 0.19, 2D arrays will be treated as 1D images with 3 channels.\r\n",
      "\u001b[2m\u001b[36m(pid=15052)\u001b[0m   self.image = skimage.color.rgb2gray(self.image)\r\n"
     ]
    },
    {
     "name": "stdout",
     "output_type": "stream",
     "text": [
      "\u001b[2m\u001b[36m(pid=15052)\u001b[0m reward: -0.04337\n",
      "\u001b[2m\u001b[36m(pid=15052)\u001b[0m 66.31\n",
      "\u001b[2m\u001b[36m(pid=15052)\u001b[0m reward: -10\n",
      "\u001b[2m\u001b[36m(pid=15052)\u001b[0m 40.1\n",
      "\u001b[2m\u001b[36m(pid=15052)\u001b[0m reward: -10\n",
      "\u001b[2m\u001b[36m(pid=15052)\u001b[0m 24.75\n",
      "\u001b[2m\u001b[36m(pid=15052)\u001b[0m reward: -10\n",
      "\u001b[2m\u001b[36m(pid=15052)\u001b[0m 49.6\n"
     ]
    },
    {
     "name": "stderr",
     "output_type": "stream",
     "text": [
      "\u001b[2m\u001b[36m(pid=15052)\u001b[0m c:\\users\\cig\\anaconda3\\envs\\autofocus\\lib\\site-packages\\imquality\\brisque.py:45: FutureWarning: The behavior of rgb2gray will change in scikit-image 0.19. Currently, rgb2gray allows 2D grayscale image to be passed as inputs and leaves them unmodified as outputs. Starting from version 0.19, 2D arrays will be treated as 1D images with 3 channels.\r\n",
      "\u001b[2m\u001b[36m(pid=15052)\u001b[0m   self.image = skimage.color.rgb2gray(self.image)\r\n"
     ]
    },
    {
     "name": "stdout",
     "output_type": "stream",
     "text": [
      "\u001b[2m\u001b[36m(pid=15052)\u001b[0m reward: -0.03842\n",
      "\u001b[2m\u001b[36m(pid=15052)\u001b[0m 24.17\n",
      "\u001b[2m\u001b[36m(pid=15052)\u001b[0m reward: -10\n",
      "\u001b[2m\u001b[36m(pid=15052)\u001b[0m 48.63\n"
     ]
    },
    {
     "name": "stderr",
     "output_type": "stream",
     "text": [
      "\u001b[2m\u001b[36m(pid=15052)\u001b[0m c:\\users\\cig\\anaconda3\\envs\\autofocus\\lib\\site-packages\\imquality\\brisque.py:45: FutureWarning: The behavior of rgb2gray will change in scikit-image 0.19. Currently, rgb2gray allows 2D grayscale image to be passed as inputs and leaves them unmodified as outputs. Starting from version 0.19, 2D arrays will be treated as 1D images with 3 channels.\r\n",
      "\u001b[2m\u001b[36m(pid=15052)\u001b[0m   self.image = skimage.color.rgb2gray(self.image)\r\n"
     ]
    },
    {
     "name": "stdout",
     "output_type": "stream",
     "text": [
      "\u001b[2m\u001b[36m(pid=15052)\u001b[0m reward: -0.04778\n",
      "\u001b[2m\u001b[36m(pid=15052)\u001b[0m 24.85\n",
      "\u001b[2m\u001b[36m(pid=15052)\u001b[0m reward: -10\n",
      "\u001b[2m\u001b[36m(pid=15052)\u001b[0m 47.97\n"
     ]
    },
    {
     "name": "stderr",
     "output_type": "stream",
     "text": [
      "\u001b[2m\u001b[36m(pid=15052)\u001b[0m c:\\users\\cig\\anaconda3\\envs\\autofocus\\lib\\site-packages\\imquality\\brisque.py:45: FutureWarning: The behavior of rgb2gray will change in scikit-image 0.19. Currently, rgb2gray allows 2D grayscale image to be passed as inputs and leaves them unmodified as outputs. Starting from version 0.19, 2D arrays will be treated as 1D images with 3 channels.\r\n",
      "\u001b[2m\u001b[36m(pid=15052)\u001b[0m   self.image = skimage.color.rgb2gray(self.image)\r\n"
     ]
    },
    {
     "name": "stdout",
     "output_type": "stream",
     "text": [
      "\u001b[2m\u001b[36m(pid=15052)\u001b[0m reward: -0.02086\n",
      "\u001b[2m\u001b[36m(pid=15052)\u001b[0m 46.47\n",
      "\u001b[2m\u001b[36m(pid=15052)\u001b[0m reward: -10\n",
      "\u001b[2m\u001b[36m(pid=15052)\u001b[0m 48.61\n"
     ]
    },
    {
     "name": "stderr",
     "output_type": "stream",
     "text": [
      "\u001b[2m\u001b[36m(pid=15052)\u001b[0m c:\\users\\cig\\anaconda3\\envs\\autofocus\\lib\\site-packages\\imquality\\brisque.py:45: FutureWarning: The behavior of rgb2gray will change in scikit-image 0.19. Currently, rgb2gray allows 2D grayscale image to be passed as inputs and leaves them unmodified as outputs. Starting from version 0.19, 2D arrays will be treated as 1D images with 3 channels.\r\n",
      "\u001b[2m\u001b[36m(pid=15052)\u001b[0m   self.image = skimage.color.rgb2gray(self.image)\r\n"
     ]
    },
    {
     "name": "stdout",
     "output_type": "stream",
     "text": [
      "\u001b[2m\u001b[36m(pid=15052)\u001b[0m reward: -0.04438\n",
      "\u001b[2m\u001b[36m(pid=15052)\u001b[0m 49.42\n"
     ]
    },
    {
     "name": "stderr",
     "output_type": "stream",
     "text": [
      "\u001b[2m\u001b[36m(pid=15052)\u001b[0m c:\\users\\cig\\anaconda3\\envs\\autofocus\\lib\\site-packages\\imquality\\brisque.py:45: FutureWarning: The behavior of rgb2gray will change in scikit-image 0.19. Currently, rgb2gray allows 2D grayscale image to be passed as inputs and leaves them unmodified as outputs. Starting from version 0.19, 2D arrays will be treated as 1D images with 3 channels.\r\n",
      "\u001b[2m\u001b[36m(pid=15052)\u001b[0m   self.image = skimage.color.rgb2gray(self.image)\r\n"
     ]
    },
    {
     "name": "stdout",
     "output_type": "stream",
     "text": [
      "\u001b[2m\u001b[36m(pid=15052)\u001b[0m reward: -0.04072\n",
      "\u001b[2m\u001b[36m(pid=15052)\u001b[0m 46.57\n",
      "\u001b[2m\u001b[36m(pid=15052)\u001b[0m reward: -10\n",
      "\u001b[2m\u001b[36m(pid=15052)\u001b[0m 24.49\n",
      "\u001b[2m\u001b[36m(pid=15052)\u001b[0m reward: -10\n",
      "\u001b[2m\u001b[36m(pid=15052)\u001b[0m 61.8\n",
      "\u001b[2m\u001b[36m(pid=15052)\u001b[0m reward: -10\n",
      "\u001b[2m\u001b[36m(pid=15052)\u001b[0m 47.34\n"
     ]
    },
    {
     "name": "stderr",
     "output_type": "stream",
     "text": [
      "\u001b[2m\u001b[36m(pid=15052)\u001b[0m c:\\users\\cig\\anaconda3\\envs\\autofocus\\lib\\site-packages\\imquality\\brisque.py:45: FutureWarning: The behavior of rgb2gray will change in scikit-image 0.19. Currently, rgb2gray allows 2D grayscale image to be passed as inputs and leaves them unmodified as outputs. Starting from version 0.19, 2D arrays will be treated as 1D images with 3 channels.\r\n",
      "\u001b[2m\u001b[36m(pid=15052)\u001b[0m   self.image = skimage.color.rgb2gray(self.image)\r\n"
     ]
    },
    {
     "name": "stdout",
     "output_type": "stream",
     "text": [
      "\u001b[2m\u001b[36m(pid=15052)\u001b[0m reward: -0.045340000000000005\n",
      "\u001b[2m\u001b[36m(pid=15052)\u001b[0m 49.71\n"
     ]
    },
    {
     "name": "stderr",
     "output_type": "stream",
     "text": [
      "\u001b[2m\u001b[36m(pid=15052)\u001b[0m c:\\users\\cig\\anaconda3\\envs\\autofocus\\lib\\site-packages\\imquality\\brisque.py:45: FutureWarning: The behavior of rgb2gray will change in scikit-image 0.19. Currently, rgb2gray allows 2D grayscale image to be passed as inputs and leaves them unmodified as outputs. Starting from version 0.19, 2D arrays will be treated as 1D images with 3 channels.\r\n",
      "\u001b[2m\u001b[36m(pid=15052)\u001b[0m   self.image = skimage.color.rgb2gray(self.image)\r\n"
     ]
    },
    {
     "name": "stdout",
     "output_type": "stream",
     "text": [
      "\u001b[2m\u001b[36m(pid=15052)\u001b[0m reward: -0.04051\n",
      "\u001b[2m\u001b[36m(pid=15052)\u001b[0m 24.24\n",
      "\u001b[2m\u001b[36m(pid=15052)\u001b[0m reward: -10\n",
      "\u001b[2m\u001b[36m(pid=15052)\u001b[0m 36.68\n",
      "\u001b[2m\u001b[36m(pid=15052)\u001b[0m reward: -10\n",
      "\u001b[2m\u001b[36m(pid=15052)\u001b[0m 48.82\n"
     ]
    },
    {
     "name": "stderr",
     "output_type": "stream",
     "text": [
      "\u001b[2m\u001b[36m(pid=15052)\u001b[0m c:\\users\\cig\\anaconda3\\envs\\autofocus\\lib\\site-packages\\imquality\\brisque.py:45: FutureWarning: The behavior of rgb2gray will change in scikit-image 0.19. Currently, rgb2gray allows 2D grayscale image to be passed as inputs and leaves them unmodified as outputs. Starting from version 0.19, 2D arrays will be treated as 1D images with 3 channels.\r\n",
      "\u001b[2m\u001b[36m(pid=15052)\u001b[0m   self.image = skimage.color.rgb2gray(self.image)\r\n"
     ]
    },
    {
     "name": "stdout",
     "output_type": "stream",
     "text": [
      "\u001b[2m\u001b[36m(pid=15052)\u001b[0m reward: -0.05392\n",
      "\u001b[2m\u001b[36m(pid=15052)\u001b[0m 56.81\n",
      "\u001b[2m\u001b[36m(pid=15052)\u001b[0m reward: -10\n",
      "\u001b[2m\u001b[36m(pid=15052)\u001b[0m 49.89\n",
      "\u001b[2m\u001b[36m(pid=15052)\u001b[0m reward: -10\n",
      "\u001b[2m\u001b[36m(pid=15052)\u001b[0m 24.95\n",
      "\u001b[2m\u001b[36m(pid=15052)\u001b[0m reward: -10\n",
      "\u001b[2m\u001b[36m(pid=15052)\u001b[0m 46.79\n"
     ]
    },
    {
     "name": "stderr",
     "output_type": "stream",
     "text": [
      "\u001b[2m\u001b[36m(pid=15052)\u001b[0m c:\\users\\cig\\anaconda3\\envs\\autofocus\\lib\\site-packages\\imquality\\brisque.py:45: FutureWarning: The behavior of rgb2gray will change in scikit-image 0.19. Currently, rgb2gray allows 2D grayscale image to be passed as inputs and leaves them unmodified as outputs. Starting from version 0.19, 2D arrays will be treated as 1D images with 3 channels.\r\n",
      "\u001b[2m\u001b[36m(pid=15052)\u001b[0m   self.image = skimage.color.rgb2gray(self.image)\r\n"
     ]
    },
    {
     "name": "stdout",
     "output_type": "stream",
     "text": [
      "\u001b[2m\u001b[36m(pid=15052)\u001b[0m reward: -0.03935\n",
      "\u001b[2m\u001b[36m(pid=15052)\u001b[0m 58.84\n",
      "\u001b[2m\u001b[36m(pid=15052)\u001b[0m reward: -10\n",
      "\u001b[2m\u001b[36m(pid=15052)\u001b[0m 24.76\n",
      "\u001b[2m\u001b[36m(pid=15052)\u001b[0m reward: -10\n",
      "\u001b[2m\u001b[36m(pid=15052)\u001b[0m 48.56\n"
     ]
    },
    {
     "name": "stderr",
     "output_type": "stream",
     "text": [
      "\u001b[2m\u001b[36m(pid=15052)\u001b[0m c:\\users\\cig\\anaconda3\\envs\\autofocus\\lib\\site-packages\\imquality\\brisque.py:45: FutureWarning: The behavior of rgb2gray will change in scikit-image 0.19. Currently, rgb2gray allows 2D grayscale image to be passed as inputs and leaves them unmodified as outputs. Starting from version 0.19, 2D arrays will be treated as 1D images with 3 channels.\r\n",
      "\u001b[2m\u001b[36m(pid=15052)\u001b[0m   self.image = skimage.color.rgb2gray(self.image)\r\n"
     ]
    },
    {
     "name": "stdout",
     "output_type": "stream",
     "text": [
      "\u001b[2m\u001b[36m(pid=15052)\u001b[0m reward: -0.04295\n",
      "\u001b[2m\u001b[36m(pid=15052)\u001b[0m 46.91\n"
     ]
    },
    {
     "name": "stderr",
     "output_type": "stream",
     "text": [
      "\u001b[2m\u001b[36m(pid=15052)\u001b[0m c:\\users\\cig\\anaconda3\\envs\\autofocus\\lib\\site-packages\\imquality\\brisque.py:45: FutureWarning: The behavior of rgb2gray will change in scikit-image 0.19. Currently, rgb2gray allows 2D grayscale image to be passed as inputs and leaves them unmodified as outputs. Starting from version 0.19, 2D arrays will be treated as 1D images with 3 channels.\r\n",
      "\u001b[2m\u001b[36m(pid=15052)\u001b[0m   self.image = skimage.color.rgb2gray(self.image)\r\n"
     ]
    },
    {
     "name": "stdout",
     "output_type": "stream",
     "text": [
      "\u001b[2m\u001b[36m(pid=15052)\u001b[0m reward: -0.04258\n",
      "\u001b[2m\u001b[36m(pid=15052)\u001b[0m 48.48\n"
     ]
    },
    {
     "name": "stderr",
     "output_type": "stream",
     "text": [
      "\u001b[2m\u001b[36m(pid=15052)\u001b[0m c:\\users\\cig\\anaconda3\\envs\\autofocus\\lib\\site-packages\\imquality\\brisque.py:45: FutureWarning: The behavior of rgb2gray will change in scikit-image 0.19. Currently, rgb2gray allows 2D grayscale image to be passed as inputs and leaves them unmodified as outputs. Starting from version 0.19, 2D arrays will be treated as 1D images with 3 channels.\r\n",
      "\u001b[2m\u001b[36m(pid=15052)\u001b[0m   self.image = skimage.color.rgb2gray(self.image)\r\n"
     ]
    },
    {
     "name": "stdout",
     "output_type": "stream",
     "text": [
      "\u001b[2m\u001b[36m(pid=15052)\u001b[0m reward: -0.03929\n",
      "\u001b[2m\u001b[36m(pid=15052)\u001b[0m 24.47\n",
      "\u001b[2m\u001b[36m(pid=15052)\u001b[0m reward: -10\n",
      "\u001b[2m\u001b[36m(pid=15052)\u001b[0m 61.71\n",
      "\u001b[2m\u001b[36m(pid=15052)\u001b[0m reward: -10\n",
      "\u001b[2m\u001b[36m(pid=15052)\u001b[0m 46.79\n"
     ]
    },
    {
     "name": "stderr",
     "output_type": "stream",
     "text": [
      "\u001b[2m\u001b[36m(pid=15052)\u001b[0m c:\\users\\cig\\anaconda3\\envs\\autofocus\\lib\\site-packages\\imquality\\brisque.py:45: FutureWarning: The behavior of rgb2gray will change in scikit-image 0.19. Currently, rgb2gray allows 2D grayscale image to be passed as inputs and leaves them unmodified as outputs. Starting from version 0.19, 2D arrays will be treated as 1D images with 3 channels.\r\n",
      "\u001b[2m\u001b[36m(pid=15052)\u001b[0m   self.image = skimage.color.rgb2gray(self.image)\r\n"
     ]
    },
    {
     "name": "stdout",
     "output_type": "stream",
     "text": [
      "\u001b[2m\u001b[36m(pid=15052)\u001b[0m reward: -0.03715\n",
      "\u001b[2m\u001b[36m(pid=15052)\u001b[0m 24.71\n",
      "\u001b[2m\u001b[36m(pid=15052)\u001b[0m reward: -10\n",
      "\u001b[2m\u001b[36m(pid=15052)\u001b[0m 46.52\n",
      "\u001b[2m\u001b[36m(pid=15052)\u001b[0m reward: -10\n",
      "\u001b[2m\u001b[36m(pid=15052)\u001b[0m 24.1\n",
      "\u001b[2m\u001b[36m(pid=15052)\u001b[0m reward: -10\n",
      "\u001b[2m\u001b[36m(pid=15052)\u001b[0m 59.83\n",
      "\u001b[2m\u001b[36m(pid=15052)\u001b[0m reward: -10\n",
      "\u001b[2m\u001b[36m(pid=15052)\u001b[0m 62.95\n",
      "\u001b[2m\u001b[36m(pid=15052)\u001b[0m reward: -10\n",
      "\u001b[2m\u001b[36m(pid=15052)\u001b[0m 45.62\n",
      "\u001b[2m\u001b[36m(pid=15052)\u001b[0m reward: -10\n",
      "\u001b[2m\u001b[36m(pid=15052)\u001b[0m 46.71\n"
     ]
    },
    {
     "name": "stderr",
     "output_type": "stream",
     "text": [
      "\u001b[2m\u001b[36m(pid=15052)\u001b[0m c:\\users\\cig\\anaconda3\\envs\\autofocus\\lib\\site-packages\\imquality\\brisque.py:45: FutureWarning: The behavior of rgb2gray will change in scikit-image 0.19. Currently, rgb2gray allows 2D grayscale image to be passed as inputs and leaves them unmodified as outputs. Starting from version 0.19, 2D arrays will be treated as 1D images with 3 channels.\r\n",
      "\u001b[2m\u001b[36m(pid=15052)\u001b[0m   self.image = skimage.color.rgb2gray(self.image)\r\n"
     ]
    },
    {
     "name": "stdout",
     "output_type": "stream",
     "text": [
      "\u001b[2m\u001b[36m(pid=15052)\u001b[0m reward: -0.03641\n",
      "\u001b[2m\u001b[36m(pid=15052)\u001b[0m 47.21\n"
     ]
    },
    {
     "name": "stderr",
     "output_type": "stream",
     "text": [
      "\u001b[2m\u001b[36m(pid=15052)\u001b[0m c:\\users\\cig\\anaconda3\\envs\\autofocus\\lib\\site-packages\\imquality\\brisque.py:45: FutureWarning: The behavior of rgb2gray will change in scikit-image 0.19. Currently, rgb2gray allows 2D grayscale image to be passed as inputs and leaves them unmodified as outputs. Starting from version 0.19, 2D arrays will be treated as 1D images with 3 channels.\r\n",
      "\u001b[2m\u001b[36m(pid=15052)\u001b[0m   self.image = skimage.color.rgb2gray(self.image)\r\n"
     ]
    },
    {
     "name": "stdout",
     "output_type": "stream",
     "text": [
      "\u001b[2m\u001b[36m(pid=15052)\u001b[0m reward: -0.04319\n",
      "\u001b[2m\u001b[36m(pid=15052)\u001b[0m 46.88\n"
     ]
    },
    {
     "name": "stderr",
     "output_type": "stream",
     "text": [
      "\u001b[2m\u001b[36m(pid=15052)\u001b[0m c:\\users\\cig\\anaconda3\\envs\\autofocus\\lib\\site-packages\\imquality\\brisque.py:45: FutureWarning: The behavior of rgb2gray will change in scikit-image 0.19. Currently, rgb2gray allows 2D grayscale image to be passed as inputs and leaves them unmodified as outputs. Starting from version 0.19, 2D arrays will be treated as 1D images with 3 channels.\r\n",
      "\u001b[2m\u001b[36m(pid=15052)\u001b[0m   self.image = skimage.color.rgb2gray(self.image)\r\n"
     ]
    },
    {
     "name": "stdout",
     "output_type": "stream",
     "text": [
      "\u001b[2m\u001b[36m(pid=15052)\u001b[0m reward: -0.039560000000000005\n",
      "\u001b[2m\u001b[36m(pid=15052)\u001b[0m 24.96\n",
      "\u001b[2m\u001b[36m(pid=15052)\u001b[0m reward: -10\n",
      "\u001b[2m\u001b[36m(pid=15052)\u001b[0m 29.9\n",
      "\u001b[2m\u001b[36m(pid=15052)\u001b[0m reward: -10\n",
      "\u001b[2m\u001b[36m(pid=15052)\u001b[0m 24.83\n",
      "\u001b[2m\u001b[36m(pid=15052)\u001b[0m reward: -10\n",
      "\u001b[2m\u001b[36m(pid=15052)\u001b[0m 46.56\n",
      "\u001b[2m\u001b[36m(pid=15052)\u001b[0m reward: -10\n",
      "\u001b[2m\u001b[36m(pid=15052)\u001b[0m 24.66\n",
      "\u001b[2m\u001b[36m(pid=15052)\u001b[0m reward: -10\n",
      "\u001b[2m\u001b[36m(pid=15052)\u001b[0m 46.47\n",
      "\u001b[2m\u001b[36m(pid=15052)\u001b[0m reward: -10\n",
      "\u001b[2m\u001b[36m(pid=15052)\u001b[0m 46.76\n"
     ]
    },
    {
     "name": "stderr",
     "output_type": "stream",
     "text": [
      "\u001b[2m\u001b[36m(pid=15052)\u001b[0m c:\\users\\cig\\anaconda3\\envs\\autofocus\\lib\\site-packages\\imquality\\brisque.py:45: FutureWarning: The behavior of rgb2gray will change in scikit-image 0.19. Currently, rgb2gray allows 2D grayscale image to be passed as inputs and leaves them unmodified as outputs. Starting from version 0.19, 2D arrays will be treated as 1D images with 3 channels.\r\n",
      "\u001b[2m\u001b[36m(pid=15052)\u001b[0m   self.image = skimage.color.rgb2gray(self.image)\r\n"
     ]
    },
    {
     "name": "stdout",
     "output_type": "stream",
     "text": [
      "\u001b[2m\u001b[36m(pid=15052)\u001b[0m reward: -0.03993\n",
      "\u001b[2m\u001b[36m(pid=15052)\u001b[0m 47.75\n"
     ]
    },
    {
     "name": "stderr",
     "output_type": "stream",
     "text": [
      "\u001b[2m\u001b[36m(pid=15052)\u001b[0m c:\\users\\cig\\anaconda3\\envs\\autofocus\\lib\\site-packages\\imquality\\brisque.py:45: FutureWarning: The behavior of rgb2gray will change in scikit-image 0.19. Currently, rgb2gray allows 2D grayscale image to be passed as inputs and leaves them unmodified as outputs. Starting from version 0.19, 2D arrays will be treated as 1D images with 3 channels.\r\n",
      "\u001b[2m\u001b[36m(pid=15052)\u001b[0m   self.image = skimage.color.rgb2gray(self.image)\r\n"
     ]
    },
    {
     "name": "stdout",
     "output_type": "stream",
     "text": [
      "\u001b[2m\u001b[36m(pid=15052)\u001b[0m reward: -0.02666\n",
      "\u001b[2m\u001b[36m(pid=15052)\u001b[0m 49.29\n"
     ]
    },
    {
     "name": "stderr",
     "output_type": "stream",
     "text": [
      "\u001b[2m\u001b[36m(pid=15052)\u001b[0m c:\\users\\cig\\anaconda3\\envs\\autofocus\\lib\\site-packages\\imquality\\brisque.py:45: FutureWarning: The behavior of rgb2gray will change in scikit-image 0.19. Currently, rgb2gray allows 2D grayscale image to be passed as inputs and leaves them unmodified as outputs. Starting from version 0.19, 2D arrays will be treated as 1D images with 3 channels.\r\n",
      "\u001b[2m\u001b[36m(pid=15052)\u001b[0m   self.image = skimage.color.rgb2gray(self.image)\r\n"
     ]
    },
    {
     "name": "stdout",
     "output_type": "stream",
     "text": [
      "\u001b[2m\u001b[36m(pid=15052)\u001b[0m reward: -0.04251\n",
      "\u001b[2m\u001b[36m(pid=15052)\u001b[0m 38.92\n",
      "\u001b[2m\u001b[36m(pid=15052)\u001b[0m reward: -10\n",
      "\u001b[2m\u001b[36m(pid=15052)\u001b[0m 47.2\n"
     ]
    },
    {
     "name": "stderr",
     "output_type": "stream",
     "text": [
      "\u001b[2m\u001b[36m(pid=15052)\u001b[0m c:\\users\\cig\\anaconda3\\envs\\autofocus\\lib\\site-packages\\imquality\\brisque.py:45: FutureWarning: The behavior of rgb2gray will change in scikit-image 0.19. Currently, rgb2gray allows 2D grayscale image to be passed as inputs and leaves them unmodified as outputs. Starting from version 0.19, 2D arrays will be treated as 1D images with 3 channels.\r\n",
      "\u001b[2m\u001b[36m(pid=15052)\u001b[0m   self.image = skimage.color.rgb2gray(self.image)\r\n"
     ]
    },
    {
     "name": "stdout",
     "output_type": "stream",
     "text": [
      "\u001b[2m\u001b[36m(pid=15052)\u001b[0m reward: -0.04302\n",
      "\u001b[2m\u001b[36m(pid=15052)\u001b[0m 49.3\n"
     ]
    },
    {
     "name": "stderr",
     "output_type": "stream",
     "text": [
      "\u001b[2m\u001b[36m(pid=15052)\u001b[0m c:\\users\\cig\\anaconda3\\envs\\autofocus\\lib\\site-packages\\imquality\\brisque.py:45: FutureWarning: The behavior of rgb2gray will change in scikit-image 0.19. Currently, rgb2gray allows 2D grayscale image to be passed as inputs and leaves them unmodified as outputs. Starting from version 0.19, 2D arrays will be treated as 1D images with 3 channels.\r\n",
      "\u001b[2m\u001b[36m(pid=15052)\u001b[0m   self.image = skimage.color.rgb2gray(self.image)\r\n"
     ]
    },
    {
     "name": "stdout",
     "output_type": "stream",
     "text": [
      "\u001b[2m\u001b[36m(pid=15052)\u001b[0m reward: -0.047740000000000005\n",
      "\u001b[2m\u001b[36m(pid=15052)\u001b[0m 60.94\n",
      "\u001b[2m\u001b[36m(pid=15052)\u001b[0m reward: -10\n",
      "\u001b[2m\u001b[36m(pid=15052)\u001b[0m 48.23\n"
     ]
    },
    {
     "name": "stderr",
     "output_type": "stream",
     "text": [
      "\u001b[2m\u001b[36m(pid=15052)\u001b[0m c:\\users\\cig\\anaconda3\\envs\\autofocus\\lib\\site-packages\\imquality\\brisque.py:45: FutureWarning: The behavior of rgb2gray will change in scikit-image 0.19. Currently, rgb2gray allows 2D grayscale image to be passed as inputs and leaves them unmodified as outputs. Starting from version 0.19, 2D arrays will be treated as 1D images with 3 channels.\r\n",
      "\u001b[2m\u001b[36m(pid=15052)\u001b[0m   self.image = skimage.color.rgb2gray(self.image)\r\n"
     ]
    },
    {
     "name": "stdout",
     "output_type": "stream",
     "text": [
      "\u001b[2m\u001b[36m(pid=15052)\u001b[0m reward: -0.0202\n",
      "\u001b[2m\u001b[36m(pid=15052)\u001b[0m 47.47\n"
     ]
    },
    {
     "name": "stderr",
     "output_type": "stream",
     "text": [
      "\u001b[2m\u001b[36m(pid=15052)\u001b[0m c:\\users\\cig\\anaconda3\\envs\\autofocus\\lib\\site-packages\\imquality\\brisque.py:45: FutureWarning: The behavior of rgb2gray will change in scikit-image 0.19. Currently, rgb2gray allows 2D grayscale image to be passed as inputs and leaves them unmodified as outputs. Starting from version 0.19, 2D arrays will be treated as 1D images with 3 channels.\r\n",
      "\u001b[2m\u001b[36m(pid=15052)\u001b[0m   self.image = skimage.color.rgb2gray(self.image)\r\n"
     ]
    },
    {
     "name": "stdout",
     "output_type": "stream",
     "text": [
      "\u001b[2m\u001b[36m(pid=15052)\u001b[0m reward: -0.038310000000000004\n",
      "\u001b[2m\u001b[36m(pid=15052)\u001b[0m 48.89\n"
     ]
    },
    {
     "name": "stderr",
     "output_type": "stream",
     "text": [
      "\u001b[2m\u001b[36m(pid=15052)\u001b[0m c:\\users\\cig\\anaconda3\\envs\\autofocus\\lib\\site-packages\\imquality\\brisque.py:45: FutureWarning: The behavior of rgb2gray will change in scikit-image 0.19. Currently, rgb2gray allows 2D grayscale image to be passed as inputs and leaves them unmodified as outputs. Starting from version 0.19, 2D arrays will be treated as 1D images with 3 channels.\r\n",
      "\u001b[2m\u001b[36m(pid=15052)\u001b[0m   self.image = skimage.color.rgb2gray(self.image)\r\n"
     ]
    },
    {
     "name": "stdout",
     "output_type": "stream",
     "text": [
      "\u001b[2m\u001b[36m(pid=15052)\u001b[0m reward: -0.04963\n",
      "\u001b[2m\u001b[36m(pid=15052)\u001b[0m 49.97\n",
      "\u001b[2m\u001b[36m(pid=15052)\u001b[0m reward: -10\n",
      "\u001b[2m\u001b[36m(pid=15052)\u001b[0m 48.64\n"
     ]
    },
    {
     "name": "stderr",
     "output_type": "stream",
     "text": [
      "\u001b[2m\u001b[36m(pid=15052)\u001b[0m c:\\users\\cig\\anaconda3\\envs\\autofocus\\lib\\site-packages\\imquality\\brisque.py:45: FutureWarning: The behavior of rgb2gray will change in scikit-image 0.19. Currently, rgb2gray allows 2D grayscale image to be passed as inputs and leaves them unmodified as outputs. Starting from version 0.19, 2D arrays will be treated as 1D images with 3 channels.\r\n",
      "\u001b[2m\u001b[36m(pid=15052)\u001b[0m   self.image = skimage.color.rgb2gray(self.image)\r\n"
     ]
    },
    {
     "name": "stdout",
     "output_type": "stream",
     "text": [
      "\u001b[2m\u001b[36m(pid=15052)\u001b[0m reward: -0.04797\n",
      "\u001b[2m\u001b[36m(pid=15052)\u001b[0m 44.6\n",
      "\u001b[2m\u001b[36m(pid=15052)\u001b[0m reward: -10\n",
      "\u001b[2m\u001b[36m(pid=15052)\u001b[0m 33.11\n",
      "\u001b[2m\u001b[36m(pid=15052)\u001b[0m reward: -10\n",
      "\u001b[2m\u001b[36m(pid=15052)\u001b[0m 24.98\n",
      "\u001b[2m\u001b[36m(pid=15052)\u001b[0m reward: -10\n",
      "\u001b[2m\u001b[36m(pid=15052)\u001b[0m 47.75\n"
     ]
    },
    {
     "name": "stderr",
     "output_type": "stream",
     "text": [
      "\u001b[2m\u001b[36m(pid=15052)\u001b[0m c:\\users\\cig\\anaconda3\\envs\\autofocus\\lib\\site-packages\\imquality\\brisque.py:45: FutureWarning: The behavior of rgb2gray will change in scikit-image 0.19. Currently, rgb2gray allows 2D grayscale image to be passed as inputs and leaves them unmodified as outputs. Starting from version 0.19, 2D arrays will be treated as 1D images with 3 channels.\r\n",
      "\u001b[2m\u001b[36m(pid=15052)\u001b[0m   self.image = skimage.color.rgb2gray(self.image)\r\n"
     ]
    },
    {
     "name": "stdout",
     "output_type": "stream",
     "text": [
      "\u001b[2m\u001b[36m(pid=15052)\u001b[0m reward: -0.02457\n",
      "\u001b[2m\u001b[36m(pid=15052)\u001b[0m 29.34\n",
      "\u001b[2m\u001b[36m(pid=15052)\u001b[0m reward: -10\n",
      "\u001b[2m\u001b[36m(pid=15052)\u001b[0m 46.1\n",
      "\u001b[2m\u001b[36m(pid=15052)\u001b[0m reward: -10\n",
      "\u001b[2m\u001b[36m(pid=15052)\u001b[0m 24.7\n",
      "\u001b[2m\u001b[36m(pid=15052)\u001b[0m reward: -10\n",
      "\u001b[2m\u001b[36m(pid=15052)\u001b[0m 24.97\n",
      "\u001b[2m\u001b[36m(pid=15052)\u001b[0m reward: -10\n",
      "\u001b[2m\u001b[36m(pid=15052)\u001b[0m 24.18\n",
      "\u001b[2m\u001b[36m(pid=15052)\u001b[0m reward: -10\n",
      "\u001b[2m\u001b[36m(pid=15052)\u001b[0m 24.71\n",
      "\u001b[2m\u001b[36m(pid=15052)\u001b[0m reward: -10\n",
      "\u001b[2m\u001b[36m(pid=15052)\u001b[0m 63.51\n",
      "\u001b[2m\u001b[36m(pid=15052)\u001b[0m reward: -10\n",
      "\u001b[2m\u001b[36m(pid=15052)\u001b[0m 48.75\n"
     ]
    },
    {
     "name": "stderr",
     "output_type": "stream",
     "text": [
      "\u001b[2m\u001b[36m(pid=15052)\u001b[0m c:\\users\\cig\\anaconda3\\envs\\autofocus\\lib\\site-packages\\imquality\\brisque.py:45: FutureWarning: The behavior of rgb2gray will change in scikit-image 0.19. Currently, rgb2gray allows 2D grayscale image to be passed as inputs and leaves them unmodified as outputs. Starting from version 0.19, 2D arrays will be treated as 1D images with 3 channels.\r\n",
      "\u001b[2m\u001b[36m(pid=15052)\u001b[0m   self.image = skimage.color.rgb2gray(self.image)\r\n"
     ]
    },
    {
     "name": "stdout",
     "output_type": "stream",
     "text": [
      "\u001b[2m\u001b[36m(pid=15052)\u001b[0m reward: -0.05303\n",
      "\u001b[2m\u001b[36m(pid=15052)\u001b[0m 62.4\n",
      "\u001b[2m\u001b[36m(pid=15052)\u001b[0m reward: -10\n",
      "\u001b[2m\u001b[36m(pid=15052)\u001b[0m 47.74\n"
     ]
    },
    {
     "name": "stderr",
     "output_type": "stream",
     "text": [
      "\u001b[2m\u001b[36m(pid=15052)\u001b[0m c:\\users\\cig\\anaconda3\\envs\\autofocus\\lib\\site-packages\\imquality\\brisque.py:45: FutureWarning: The behavior of rgb2gray will change in scikit-image 0.19. Currently, rgb2gray allows 2D grayscale image to be passed as inputs and leaves them unmodified as outputs. Starting from version 0.19, 2D arrays will be treated as 1D images with 3 channels.\r\n",
      "\u001b[2m\u001b[36m(pid=15052)\u001b[0m   self.image = skimage.color.rgb2gray(self.image)\r\n"
     ]
    },
    {
     "name": "stdout",
     "output_type": "stream",
     "text": [
      "\u001b[2m\u001b[36m(pid=15052)\u001b[0m reward: -0.02542\n",
      "\u001b[2m\u001b[36m(pid=15052)\u001b[0m 64.12\n",
      "\u001b[2m\u001b[36m(pid=15052)\u001b[0m reward: -10\n",
      "\u001b[2m\u001b[36m(pid=15052)\u001b[0m 24.59\n",
      "\u001b[2m\u001b[36m(pid=15052)\u001b[0m reward: -10\n",
      "\u001b[2m\u001b[36m(pid=15052)\u001b[0m 40.12\n",
      "\u001b[2m\u001b[36m(pid=15052)\u001b[0m reward: -10\n",
      "\u001b[2m\u001b[36m(pid=15052)\u001b[0m 24.37\n",
      "\u001b[2m\u001b[36m(pid=15052)\u001b[0m reward: -10\n",
      "\u001b[2m\u001b[36m(pid=15052)\u001b[0m 60.56\n",
      "\u001b[2m\u001b[36m(pid=15052)\u001b[0m reward: -10\n",
      "\u001b[2m\u001b[36m(pid=15052)\u001b[0m 46.89\n"
     ]
    },
    {
     "name": "stderr",
     "output_type": "stream",
     "text": [
      "\u001b[2m\u001b[36m(pid=15052)\u001b[0m c:\\users\\cig\\anaconda3\\envs\\autofocus\\lib\\site-packages\\imquality\\brisque.py:45: FutureWarning: The behavior of rgb2gray will change in scikit-image 0.19. Currently, rgb2gray allows 2D grayscale image to be passed as inputs and leaves them unmodified as outputs. Starting from version 0.19, 2D arrays will be treated as 1D images with 3 channels.\r\n",
      "\u001b[2m\u001b[36m(pid=15052)\u001b[0m   self.image = skimage.color.rgb2gray(self.image)\r\n"
     ]
    },
    {
     "name": "stdout",
     "output_type": "stream",
     "text": [
      "\u001b[2m\u001b[36m(pid=15052)\u001b[0m reward: -0.04118\n",
      "\u001b[2m\u001b[36m(pid=15052)\u001b[0m 32.89\n",
      "\u001b[2m\u001b[36m(pid=15052)\u001b[0m reward: -10\n",
      "\u001b[2m\u001b[36m(pid=15052)\u001b[0m 45.5\n",
      "\u001b[2m\u001b[36m(pid=15052)\u001b[0m reward: -10\n",
      "\u001b[2m\u001b[36m(pid=15052)\u001b[0m 27.52\n",
      "\u001b[2m\u001b[36m(pid=15052)\u001b[0m reward: -10\n",
      "\u001b[2m\u001b[36m(pid=15052)\u001b[0m 48.84\n"
     ]
    },
    {
     "name": "stderr",
     "output_type": "stream",
     "text": [
      "\u001b[2m\u001b[36m(pid=15052)\u001b[0m c:\\users\\cig\\anaconda3\\envs\\autofocus\\lib\\site-packages\\imquality\\brisque.py:45: FutureWarning: The behavior of rgb2gray will change in scikit-image 0.19. Currently, rgb2gray allows 2D grayscale image to be passed as inputs and leaves them unmodified as outputs. Starting from version 0.19, 2D arrays will be treated as 1D images with 3 channels.\r\n",
      "\u001b[2m\u001b[36m(pid=15052)\u001b[0m   self.image = skimage.color.rgb2gray(self.image)\r\n"
     ]
    },
    {
     "name": "stdout",
     "output_type": "stream",
     "text": [
      "\u001b[2m\u001b[36m(pid=15052)\u001b[0m reward: -0.05036\n",
      "\u001b[2m\u001b[36m(pid=15052)\u001b[0m 46.12\n",
      "\u001b[2m\u001b[36m(pid=15052)\u001b[0m reward: -10\n",
      "\u001b[2m\u001b[36m(pid=15052)\u001b[0m 46.76\n"
     ]
    },
    {
     "name": "stderr",
     "output_type": "stream",
     "text": [
      "\u001b[2m\u001b[36m(pid=15052)\u001b[0m c:\\users\\cig\\anaconda3\\envs\\autofocus\\lib\\site-packages\\imquality\\brisque.py:45: FutureWarning: The behavior of rgb2gray will change in scikit-image 0.19. Currently, rgb2gray allows 2D grayscale image to be passed as inputs and leaves them unmodified as outputs. Starting from version 0.19, 2D arrays will be treated as 1D images with 3 channels.\r\n",
      "\u001b[2m\u001b[36m(pid=15052)\u001b[0m   self.image = skimage.color.rgb2gray(self.image)\r\n"
     ]
    },
    {
     "name": "stdout",
     "output_type": "stream",
     "text": [
      "\u001b[2m\u001b[36m(pid=15052)\u001b[0m reward: -0.038560000000000004\n",
      "\u001b[2m\u001b[36m(pid=15052)\u001b[0m 32.89\n",
      "\u001b[2m\u001b[36m(pid=15052)\u001b[0m reward: -10\n",
      "\u001b[2m\u001b[36m(pid=15052)\u001b[0m 59.7\n",
      "\u001b[2m\u001b[36m(pid=15052)\u001b[0m reward: -10\n",
      "\u001b[2m\u001b[36m(pid=15052)\u001b[0m 47.16\n"
     ]
    },
    {
     "name": "stderr",
     "output_type": "stream",
     "text": [
      "\u001b[2m\u001b[36m(pid=15052)\u001b[0m c:\\users\\cig\\anaconda3\\envs\\autofocus\\lib\\site-packages\\imquality\\brisque.py:45: FutureWarning: The behavior of rgb2gray will change in scikit-image 0.19. Currently, rgb2gray allows 2D grayscale image to be passed as inputs and leaves them unmodified as outputs. Starting from version 0.19, 2D arrays will be treated as 1D images with 3 channels.\r\n",
      "\u001b[2m\u001b[36m(pid=15052)\u001b[0m   self.image = skimage.color.rgb2gray(self.image)\r\n"
     ]
    },
    {
     "name": "stdout",
     "output_type": "stream",
     "text": [
      "\u001b[2m\u001b[36m(pid=15052)\u001b[0m reward: -0.039130000000000005\n",
      "custom_metrics: {}\n",
      "date: 2021-03-31_18-01-31\n",
      "done: false\n",
      "episode_len_mean: 4.530973451327434\n",
      "episode_reward_max: -0.01533\n",
      "episode_reward_mean: -37.14395669616519\n",
      "episode_reward_min: -100.0\n",
      "episodes_this_iter: 44\n",
      "episodes_total: 339\n",
      "experiment_id: f29f35cc3ac947278fbe79a0a7e35ac4\n",
      "hostname: DESKTOP-K2L4N78\n",
      "info:\n",
      "  learner:\n",
      "    default_policy:\n",
      "      cur_kl_coeff: 3.417187452316284\n",
      "      cur_lr: 0.0002500000118743628\n",
      "      entropy: 7.983038902282715\n",
      "      entropy_coeff: 0.009999999776482582\n",
      "      kl: 0.015508529730141163\n",
      "      model: {}\n",
      "      policy_loss: -0.17887647449970245\n",
      "      total_loss: 348.17840576171875\n",
      "      vf_explained_var: 5.960464477539063e-08\n",
      "      vf_loss: 348.3841552734375\n",
      "  num_steps_sampled: 1536\n",
      "  num_steps_trained: 1536\n",
      "iterations_since_restore: 12\n",
      "node_ip: 10.16.102.19\n",
      "num_healthy_workers: 1\n",
      "off_policy_estimator: {}\n",
      "perf:\n",
      "  cpu_util_percent: 12.30079522862823\n",
      "  ram_util_percent: 44.655666003976144\n",
      "pid: 14556\n",
      "policy_reward_max: {}\n",
      "policy_reward_mean: {}\n",
      "policy_reward_min: {}\n",
      "sampler_perf:\n",
      "  mean_action_processing_ms: 0.043135868999319545\n",
      "  mean_env_wait_ms: 4148.963759235916\n",
      "  mean_inference_ms: 0.9189705612186867\n",
      "  mean_raw_obs_processing_ms: 648.7578795677216\n",
      "time_since_restore: 7657.079221725464\n",
      "time_this_iter_s: 705.3290395736694\n",
      "time_total_s: 7657.079221725464\n",
      "timers:\n",
      "  learn_throughput: 789.773\n",
      "  learn_time_ms: 162.072\n",
      "  load_throughput: 80020.109\n",
      "  load_time_ms: 1.6\n",
      "  sample_throughput: 0.198\n",
      "  sample_time_ms: 646468.464\n",
      "  update_time_ms: 5.402\n",
      "timestamp: 1617202891\n",
      "timesteps_since_restore: 0\n",
      "timesteps_total: 1536\n",
      "training_iteration: 12\n",
      "\n",
      "------- 11 -------\n",
      "\u001b[2m\u001b[36m(pid=15052)\u001b[0m 24.0\n",
      "\u001b[2m\u001b[36m(pid=15052)\u001b[0m reward: -10\n",
      "\u001b[2m\u001b[36m(pid=15052)\u001b[0m 48.49\n"
     ]
    },
    {
     "name": "stderr",
     "output_type": "stream",
     "text": [
      "\u001b[2m\u001b[36m(pid=15052)\u001b[0m c:\\users\\cig\\anaconda3\\envs\\autofocus\\lib\\site-packages\\imquality\\brisque.py:45: FutureWarning: The behavior of rgb2gray will change in scikit-image 0.19. Currently, rgb2gray allows 2D grayscale image to be passed as inputs and leaves them unmodified as outputs. Starting from version 0.19, 2D arrays will be treated as 1D images with 3 channels.\r\n",
      "\u001b[2m\u001b[36m(pid=15052)\u001b[0m   self.image = skimage.color.rgb2gray(self.image)\r\n"
     ]
    },
    {
     "name": "stdout",
     "output_type": "stream",
     "text": [
      "\u001b[2m\u001b[36m(pid=15052)\u001b[0m reward: -0.03822\n",
      "\u001b[2m\u001b[36m(pid=15052)\u001b[0m 49.54\n"
     ]
    },
    {
     "name": "stderr",
     "output_type": "stream",
     "text": [
      "\u001b[2m\u001b[36m(pid=15052)\u001b[0m c:\\users\\cig\\anaconda3\\envs\\autofocus\\lib\\site-packages\\imquality\\brisque.py:45: FutureWarning: The behavior of rgb2gray will change in scikit-image 0.19. Currently, rgb2gray allows 2D grayscale image to be passed as inputs and leaves them unmodified as outputs. Starting from version 0.19, 2D arrays will be treated as 1D images with 3 channels.\r\n",
      "\u001b[2m\u001b[36m(pid=15052)\u001b[0m   self.image = skimage.color.rgb2gray(self.image)\r\n"
     ]
    },
    {
     "name": "stdout",
     "output_type": "stream",
     "text": [
      "\u001b[2m\u001b[36m(pid=15052)\u001b[0m reward: -0.040530000000000004\n",
      "\u001b[2m\u001b[36m(pid=15052)\u001b[0m 24.96\n",
      "\u001b[2m\u001b[36m(pid=15052)\u001b[0m reward: -10\n",
      "\u001b[2m\u001b[36m(pid=15052)\u001b[0m 47.76\n"
     ]
    },
    {
     "name": "stderr",
     "output_type": "stream",
     "text": [
      "\u001b[2m\u001b[36m(pid=15052)\u001b[0m c:\\users\\cig\\anaconda3\\envs\\autofocus\\lib\\site-packages\\imquality\\brisque.py:45: FutureWarning: The behavior of rgb2gray will change in scikit-image 0.19. Currently, rgb2gray allows 2D grayscale image to be passed as inputs and leaves them unmodified as outputs. Starting from version 0.19, 2D arrays will be treated as 1D images with 3 channels.\r\n",
      "\u001b[2m\u001b[36m(pid=15052)\u001b[0m   self.image = skimage.color.rgb2gray(self.image)\r\n"
     ]
    },
    {
     "name": "stdout",
     "output_type": "stream",
     "text": [
      "\u001b[2m\u001b[36m(pid=15052)\u001b[0m reward: -0.03007\n",
      "\u001b[2m\u001b[36m(pid=15052)\u001b[0m 24.25\n",
      "\u001b[2m\u001b[36m(pid=15052)\u001b[0m reward: -10\n",
      "\u001b[2m\u001b[36m(pid=15052)\u001b[0m 24.56\n",
      "\u001b[2m\u001b[36m(pid=15052)\u001b[0m reward: -10\n",
      "\u001b[2m\u001b[36m(pid=15052)\u001b[0m 46.8\n"
     ]
    },
    {
     "name": "stderr",
     "output_type": "stream",
     "text": [
      "\u001b[2m\u001b[36m(pid=15052)\u001b[0m c:\\users\\cig\\anaconda3\\envs\\autofocus\\lib\\site-packages\\imquality\\brisque.py:45: FutureWarning: The behavior of rgb2gray will change in scikit-image 0.19. Currently, rgb2gray allows 2D grayscale image to be passed as inputs and leaves them unmodified as outputs. Starting from version 0.19, 2D arrays will be treated as 1D images with 3 channels.\r\n",
      "\u001b[2m\u001b[36m(pid=15052)\u001b[0m   self.image = skimage.color.rgb2gray(self.image)\r\n"
     ]
    },
    {
     "name": "stdout",
     "output_type": "stream",
     "text": [
      "\u001b[2m\u001b[36m(pid=15052)\u001b[0m reward: -0.03601\n",
      "\u001b[2m\u001b[36m(pid=15052)\u001b[0m 42.1\n",
      "\u001b[2m\u001b[36m(pid=15052)\u001b[0m reward: -10\n",
      "\u001b[2m\u001b[36m(pid=15052)\u001b[0m 40.16\n",
      "\u001b[2m\u001b[36m(pid=15052)\u001b[0m reward: -10\n",
      "\u001b[2m\u001b[36m(pid=15052)\u001b[0m 40.3\n",
      "\u001b[2m\u001b[36m(pid=15052)\u001b[0m reward: -10\n",
      "\u001b[2m\u001b[36m(pid=15052)\u001b[0m 46.25\n",
      "\u001b[2m\u001b[36m(pid=15052)\u001b[0m reward: -10\n",
      "\u001b[2m\u001b[36m(pid=15052)\u001b[0m 24.4\n",
      "\u001b[2m\u001b[36m(pid=15052)\u001b[0m reward: -10\n",
      "\u001b[2m\u001b[36m(pid=15052)\u001b[0m 47.21\n"
     ]
    },
    {
     "name": "stderr",
     "output_type": "stream",
     "text": [
      "\u001b[2m\u001b[36m(pid=15052)\u001b[0m c:\\users\\cig\\anaconda3\\envs\\autofocus\\lib\\site-packages\\imquality\\brisque.py:45: FutureWarning: The behavior of rgb2gray will change in scikit-image 0.19. Currently, rgb2gray allows 2D grayscale image to be passed as inputs and leaves them unmodified as outputs. Starting from version 0.19, 2D arrays will be treated as 1D images with 3 channels.\r\n",
      "\u001b[2m\u001b[36m(pid=15052)\u001b[0m   self.image = skimage.color.rgb2gray(self.image)\r\n"
     ]
    },
    {
     "name": "stdout",
     "output_type": "stream",
     "text": [
      "\u001b[2m\u001b[36m(pid=15052)\u001b[0m reward: -0.044020000000000004\n",
      "\u001b[2m\u001b[36m(pid=15052)\u001b[0m 24.82\n",
      "\u001b[2m\u001b[36m(pid=15052)\u001b[0m reward: -10\n",
      "\u001b[2m\u001b[36m(pid=15052)\u001b[0m 36.74\n",
      "\u001b[2m\u001b[36m(pid=15052)\u001b[0m reward: -10\n",
      "\u001b[2m\u001b[36m(pid=15052)\u001b[0m 48.31\n"
     ]
    },
    {
     "name": "stderr",
     "output_type": "stream",
     "text": [
      "\u001b[2m\u001b[36m(pid=15052)\u001b[0m c:\\users\\cig\\anaconda3\\envs\\autofocus\\lib\\site-packages\\imquality\\brisque.py:45: FutureWarning: The behavior of rgb2gray will change in scikit-image 0.19. Currently, rgb2gray allows 2D grayscale image to be passed as inputs and leaves them unmodified as outputs. Starting from version 0.19, 2D arrays will be treated as 1D images with 3 channels.\r\n",
      "\u001b[2m\u001b[36m(pid=15052)\u001b[0m   self.image = skimage.color.rgb2gray(self.image)\r\n"
     ]
    },
    {
     "name": "stdout",
     "output_type": "stream",
     "text": [
      "\u001b[2m\u001b[36m(pid=15052)\u001b[0m reward: -0.01737\n",
      "\u001b[2m\u001b[36m(pid=15052)\u001b[0m 24.23\n",
      "\u001b[2m\u001b[36m(pid=15052)\u001b[0m reward: -10\n",
      "\u001b[2m\u001b[36m(pid=15052)\u001b[0m 47.7\n"
     ]
    },
    {
     "name": "stderr",
     "output_type": "stream",
     "text": [
      "\u001b[2m\u001b[36m(pid=15052)\u001b[0m c:\\users\\cig\\anaconda3\\envs\\autofocus\\lib\\site-packages\\imquality\\brisque.py:45: FutureWarning: The behavior of rgb2gray will change in scikit-image 0.19. Currently, rgb2gray allows 2D grayscale image to be passed as inputs and leaves them unmodified as outputs. Starting from version 0.19, 2D arrays will be treated as 1D images with 3 channels.\r\n",
      "\u001b[2m\u001b[36m(pid=15052)\u001b[0m   self.image = skimage.color.rgb2gray(self.image)\r\n"
     ]
    },
    {
     "name": "stdout",
     "output_type": "stream",
     "text": [
      "\u001b[2m\u001b[36m(pid=15052)\u001b[0m reward: -0.030100000000000002\n",
      "\u001b[2m\u001b[36m(pid=15052)\u001b[0m 24.76\n",
      "\u001b[2m\u001b[36m(pid=15052)\u001b[0m reward: -10\n",
      "\u001b[2m\u001b[36m(pid=15052)\u001b[0m 24.15\n",
      "\u001b[2m\u001b[36m(pid=15052)\u001b[0m reward: -10\n",
      "\u001b[2m\u001b[36m(pid=15052)\u001b[0m 48.77\n"
     ]
    },
    {
     "name": "stderr",
     "output_type": "stream",
     "text": [
      "\u001b[2m\u001b[36m(pid=15052)\u001b[0m c:\\users\\cig\\anaconda3\\envs\\autofocus\\lib\\site-packages\\imquality\\brisque.py:45: FutureWarning: The behavior of rgb2gray will change in scikit-image 0.19. Currently, rgb2gray allows 2D grayscale image to be passed as inputs and leaves them unmodified as outputs. Starting from version 0.19, 2D arrays will be treated as 1D images with 3 channels.\r\n",
      "\u001b[2m\u001b[36m(pid=15052)\u001b[0m   self.image = skimage.color.rgb2gray(self.image)\r\n"
     ]
    },
    {
     "name": "stdout",
     "output_type": "stream",
     "text": [
      "\u001b[2m\u001b[36m(pid=15052)\u001b[0m reward: -0.05337\n",
      "\u001b[2m\u001b[36m(pid=15052)\u001b[0m 47.77\n"
     ]
    },
    {
     "name": "stderr",
     "output_type": "stream",
     "text": [
      "\u001b[2m\u001b[36m(pid=15052)\u001b[0m c:\\users\\cig\\anaconda3\\envs\\autofocus\\lib\\site-packages\\imquality\\brisque.py:45: FutureWarning: The behavior of rgb2gray will change in scikit-image 0.19. Currently, rgb2gray allows 2D grayscale image to be passed as inputs and leaves them unmodified as outputs. Starting from version 0.19, 2D arrays will be treated as 1D images with 3 channels.\r\n",
      "\u001b[2m\u001b[36m(pid=15052)\u001b[0m   self.image = skimage.color.rgb2gray(self.image)\r\n"
     ]
    },
    {
     "name": "stdout",
     "output_type": "stream",
     "text": [
      "\u001b[2m\u001b[36m(pid=15052)\u001b[0m reward: -0.02632\n",
      "\u001b[2m\u001b[36m(pid=15052)\u001b[0m 24.76\n",
      "\u001b[2m\u001b[36m(pid=15052)\u001b[0m reward: -10\n",
      "\u001b[2m\u001b[36m(pid=15052)\u001b[0m 24.62\n",
      "\u001b[2m\u001b[36m(pid=15052)\u001b[0m reward: -10\n",
      "\u001b[2m\u001b[36m(pid=15052)\u001b[0m 24.26\n",
      "\u001b[2m\u001b[36m(pid=15052)\u001b[0m reward: -10\n",
      "\u001b[2m\u001b[36m(pid=15052)\u001b[0m 24.51\n",
      "\u001b[2m\u001b[36m(pid=15052)\u001b[0m reward: -10\n",
      "\u001b[2m\u001b[36m(pid=15052)\u001b[0m 24.33\n",
      "\u001b[2m\u001b[36m(pid=15052)\u001b[0m reward: -10\n",
      "\u001b[2m\u001b[36m(pid=15052)\u001b[0m 47.44\n"
     ]
    },
    {
     "name": "stderr",
     "output_type": "stream",
     "text": [
      "\u001b[2m\u001b[36m(pid=15052)\u001b[0m c:\\users\\cig\\anaconda3\\envs\\autofocus\\lib\\site-packages\\imquality\\brisque.py:45: FutureWarning: The behavior of rgb2gray will change in scikit-image 0.19. Currently, rgb2gray allows 2D grayscale image to be passed as inputs and leaves them unmodified as outputs. Starting from version 0.19, 2D arrays will be treated as 1D images with 3 channels.\r\n",
      "\u001b[2m\u001b[36m(pid=15052)\u001b[0m   self.image = skimage.color.rgb2gray(self.image)\r\n"
     ]
    },
    {
     "name": "stdout",
     "output_type": "stream",
     "text": [
      "\u001b[2m\u001b[36m(pid=15052)\u001b[0m reward: -0.039439999999999996\n",
      "\u001b[2m\u001b[36m(pid=15052)\u001b[0m 47.11\n"
     ]
    },
    {
     "name": "stderr",
     "output_type": "stream",
     "text": [
      "\u001b[2m\u001b[36m(pid=15052)\u001b[0m c:\\users\\cig\\anaconda3\\envs\\autofocus\\lib\\site-packages\\imquality\\brisque.py:45: FutureWarning: The behavior of rgb2gray will change in scikit-image 0.19. Currently, rgb2gray allows 2D grayscale image to be passed as inputs and leaves them unmodified as outputs. Starting from version 0.19, 2D arrays will be treated as 1D images with 3 channels.\r\n",
      "\u001b[2m\u001b[36m(pid=15052)\u001b[0m   self.image = skimage.color.rgb2gray(self.image)\r\n"
     ]
    },
    {
     "name": "stdout",
     "output_type": "stream",
     "text": [
      "\u001b[2m\u001b[36m(pid=15052)\u001b[0m reward: -0.04288\n",
      "\u001b[2m\u001b[36m(pid=15052)\u001b[0m 67.79\n",
      "\u001b[2m\u001b[36m(pid=15052)\u001b[0m reward: -10\n",
      "\u001b[2m\u001b[36m(pid=15052)\u001b[0m 46.98\n"
     ]
    },
    {
     "name": "stderr",
     "output_type": "stream",
     "text": [
      "\u001b[2m\u001b[36m(pid=15052)\u001b[0m c:\\users\\cig\\anaconda3\\envs\\autofocus\\lib\\site-packages\\imquality\\brisque.py:45: FutureWarning: The behavior of rgb2gray will change in scikit-image 0.19. Currently, rgb2gray allows 2D grayscale image to be passed as inputs and leaves them unmodified as outputs. Starting from version 0.19, 2D arrays will be treated as 1D images with 3 channels.\r\n",
      "\u001b[2m\u001b[36m(pid=15052)\u001b[0m   self.image = skimage.color.rgb2gray(self.image)\r\n"
     ]
    },
    {
     "name": "stdout",
     "output_type": "stream",
     "text": [
      "\u001b[2m\u001b[36m(pid=15052)\u001b[0m reward: -0.04157\n",
      "\u001b[2m\u001b[36m(pid=15052)\u001b[0m 49.8\n"
     ]
    },
    {
     "name": "stderr",
     "output_type": "stream",
     "text": [
      "\u001b[2m\u001b[36m(pid=15052)\u001b[0m c:\\users\\cig\\anaconda3\\envs\\autofocus\\lib\\site-packages\\imquality\\brisque.py:45: FutureWarning: The behavior of rgb2gray will change in scikit-image 0.19. Currently, rgb2gray allows 2D grayscale image to be passed as inputs and leaves them unmodified as outputs. Starting from version 0.19, 2D arrays will be treated as 1D images with 3 channels.\r\n",
      "\u001b[2m\u001b[36m(pid=15052)\u001b[0m   self.image = skimage.color.rgb2gray(self.image)\r\n"
     ]
    },
    {
     "name": "stdout",
     "output_type": "stream",
     "text": [
      "\u001b[2m\u001b[36m(pid=15052)\u001b[0m reward: -0.03847\n",
      "\u001b[2m\u001b[36m(pid=15052)\u001b[0m 24.37\n",
      "\u001b[2m\u001b[36m(pid=15052)\u001b[0m reward: -10\n",
      "\u001b[2m\u001b[36m(pid=15052)\u001b[0m 24.2\n",
      "\u001b[2m\u001b[36m(pid=15052)\u001b[0m reward: -10\n",
      "\u001b[2m\u001b[36m(pid=15052)\u001b[0m 35.21\n",
      "\u001b[2m\u001b[36m(pid=15052)\u001b[0m reward: -10\n",
      "\u001b[2m\u001b[36m(pid=15052)\u001b[0m 48.4\n"
     ]
    },
    {
     "name": "stderr",
     "output_type": "stream",
     "text": [
      "\u001b[2m\u001b[36m(pid=15052)\u001b[0m c:\\users\\cig\\anaconda3\\envs\\autofocus\\lib\\site-packages\\imquality\\brisque.py:45: FutureWarning: The behavior of rgb2gray will change in scikit-image 0.19. Currently, rgb2gray allows 2D grayscale image to be passed as inputs and leaves them unmodified as outputs. Starting from version 0.19, 2D arrays will be treated as 1D images with 3 channels.\r\n",
      "\u001b[2m\u001b[36m(pid=15052)\u001b[0m   self.image = skimage.color.rgb2gray(self.image)\r\n"
     ]
    },
    {
     "name": "stdout",
     "output_type": "stream",
     "text": [
      "\u001b[2m\u001b[36m(pid=15052)\u001b[0m reward: -0.02278\n",
      "\u001b[2m\u001b[36m(pid=15052)\u001b[0m 58.71\n",
      "\u001b[2m\u001b[36m(pid=15052)\u001b[0m reward: -10\n",
      "\u001b[2m\u001b[36m(pid=15052)\u001b[0m 56.4\n",
      "\u001b[2m\u001b[36m(pid=15052)\u001b[0m reward: -10\n",
      "\u001b[2m\u001b[36m(pid=15052)\u001b[0m 44.75\n",
      "\u001b[2m\u001b[36m(pid=15052)\u001b[0m reward: -10\n",
      "\u001b[2m\u001b[36m(pid=15052)\u001b[0m 59.64\n",
      "\u001b[2m\u001b[36m(pid=15052)\u001b[0m reward: -10\n",
      "\u001b[2m\u001b[36m(pid=15052)\u001b[0m 56.2\n",
      "\u001b[2m\u001b[36m(pid=15052)\u001b[0m reward: -10\n",
      "\u001b[2m\u001b[36m(pid=15052)\u001b[0m 48.11\n"
     ]
    },
    {
     "name": "stderr",
     "output_type": "stream",
     "text": [
      "\u001b[2m\u001b[36m(pid=15052)\u001b[0m c:\\users\\cig\\anaconda3\\envs\\autofocus\\lib\\site-packages\\imquality\\brisque.py:45: FutureWarning: The behavior of rgb2gray will change in scikit-image 0.19. Currently, rgb2gray allows 2D grayscale image to be passed as inputs and leaves them unmodified as outputs. Starting from version 0.19, 2D arrays will be treated as 1D images with 3 channels.\r\n",
      "\u001b[2m\u001b[36m(pid=15052)\u001b[0m   self.image = skimage.color.rgb2gray(self.image)\r\n"
     ]
    },
    {
     "name": "stdout",
     "output_type": "stream",
     "text": [
      "\u001b[2m\u001b[36m(pid=15052)\u001b[0m reward: -0.01632\n",
      "\u001b[2m\u001b[36m(pid=15052)\u001b[0m 24.93\n",
      "\u001b[2m\u001b[36m(pid=15052)\u001b[0m reward: -10\n",
      "\u001b[2m\u001b[36m(pid=15052)\u001b[0m 24.36\n",
      "\u001b[2m\u001b[36m(pid=15052)\u001b[0m reward: -10\n",
      "\u001b[2m\u001b[36m(pid=15052)\u001b[0m 24.12\n",
      "\u001b[2m\u001b[36m(pid=15052)\u001b[0m reward: -10\n",
      "\u001b[2m\u001b[36m(pid=15052)\u001b[0m 49.88\n",
      "\u001b[2m\u001b[36m(pid=15052)\u001b[0m reward: -10\n",
      "\u001b[2m\u001b[36m(pid=15052)\u001b[0m 47.8\n"
     ]
    },
    {
     "name": "stderr",
     "output_type": "stream",
     "text": [
      "\u001b[2m\u001b[36m(pid=15052)\u001b[0m c:\\users\\cig\\anaconda3\\envs\\autofocus\\lib\\site-packages\\imquality\\brisque.py:45: FutureWarning: The behavior of rgb2gray will change in scikit-image 0.19. Currently, rgb2gray allows 2D grayscale image to be passed as inputs and leaves them unmodified as outputs. Starting from version 0.19, 2D arrays will be treated as 1D images with 3 channels.\r\n",
      "\u001b[2m\u001b[36m(pid=15052)\u001b[0m   self.image = skimage.color.rgb2gray(self.image)\r\n"
     ]
    },
    {
     "name": "stdout",
     "output_type": "stream",
     "text": [
      "\u001b[2m\u001b[36m(pid=15052)\u001b[0m reward: -0.02672\n",
      "\u001b[2m\u001b[36m(pid=15052)\u001b[0m 48.16\n"
     ]
    },
    {
     "name": "stderr",
     "output_type": "stream",
     "text": [
      "\u001b[2m\u001b[36m(pid=15052)\u001b[0m c:\\users\\cig\\anaconda3\\envs\\autofocus\\lib\\site-packages\\imquality\\brisque.py:45: FutureWarning: The behavior of rgb2gray will change in scikit-image 0.19. Currently, rgb2gray allows 2D grayscale image to be passed as inputs and leaves them unmodified as outputs. Starting from version 0.19, 2D arrays will be treated as 1D images with 3 channels.\r\n",
      "\u001b[2m\u001b[36m(pid=15052)\u001b[0m   self.image = skimage.color.rgb2gray(self.image)\r\n"
     ]
    },
    {
     "name": "stdout",
     "output_type": "stream",
     "text": [
      "\u001b[2m\u001b[36m(pid=15052)\u001b[0m reward: -0.01781\n",
      "\u001b[2m\u001b[36m(pid=15052)\u001b[0m 24.71\n",
      "\u001b[2m\u001b[36m(pid=15052)\u001b[0m reward: -10\n",
      "\u001b[2m\u001b[36m(pid=15052)\u001b[0m 48.6\n"
     ]
    },
    {
     "name": "stderr",
     "output_type": "stream",
     "text": [
      "\u001b[2m\u001b[36m(pid=15052)\u001b[0m c:\\users\\cig\\anaconda3\\envs\\autofocus\\lib\\site-packages\\imquality\\brisque.py:45: FutureWarning: The behavior of rgb2gray will change in scikit-image 0.19. Currently, rgb2gray allows 2D grayscale image to be passed as inputs and leaves them unmodified as outputs. Starting from version 0.19, 2D arrays will be treated as 1D images with 3 channels.\r\n",
      "\u001b[2m\u001b[36m(pid=15052)\u001b[0m   self.image = skimage.color.rgb2gray(self.image)\r\n"
     ]
    },
    {
     "name": "stdout",
     "output_type": "stream",
     "text": [
      "\u001b[2m\u001b[36m(pid=15052)\u001b[0m reward: -0.04432\n",
      "\u001b[2m\u001b[36m(pid=15052)\u001b[0m 48.53\n"
     ]
    },
    {
     "name": "stderr",
     "output_type": "stream",
     "text": [
      "\u001b[2m\u001b[36m(pid=15052)\u001b[0m c:\\users\\cig\\anaconda3\\envs\\autofocus\\lib\\site-packages\\imquality\\brisque.py:45: FutureWarning: The behavior of rgb2gray will change in scikit-image 0.19. Currently, rgb2gray allows 2D grayscale image to be passed as inputs and leaves them unmodified as outputs. Starting from version 0.19, 2D arrays will be treated as 1D images with 3 channels.\r\n",
      "\u001b[2m\u001b[36m(pid=15052)\u001b[0m   self.image = skimage.color.rgb2gray(self.image)\r\n"
     ]
    },
    {
     "name": "stdout",
     "output_type": "stream",
     "text": [
      "\u001b[2m\u001b[36m(pid=15052)\u001b[0m reward: -0.04086\n",
      "\u001b[2m\u001b[36m(pid=15052)\u001b[0m 47.56\n"
     ]
    },
    {
     "name": "stderr",
     "output_type": "stream",
     "text": [
      "\u001b[2m\u001b[36m(pid=15052)\u001b[0m c:\\users\\cig\\anaconda3\\envs\\autofocus\\lib\\site-packages\\imquality\\brisque.py:45: FutureWarning: The behavior of rgb2gray will change in scikit-image 0.19. Currently, rgb2gray allows 2D grayscale image to be passed as inputs and leaves them unmodified as outputs. Starting from version 0.19, 2D arrays will be treated as 1D images with 3 channels.\r\n",
      "\u001b[2m\u001b[36m(pid=15052)\u001b[0m   self.image = skimage.color.rgb2gray(self.image)\r\n"
     ]
    },
    {
     "name": "stdout",
     "output_type": "stream",
     "text": [
      "\u001b[2m\u001b[36m(pid=15052)\u001b[0m reward: -0.034530000000000005\n",
      "\u001b[2m\u001b[36m(pid=15052)\u001b[0m 36.97\n",
      "\u001b[2m\u001b[36m(pid=15052)\u001b[0m reward: -10\n",
      "\u001b[2m\u001b[36m(pid=15052)\u001b[0m 47.3\n"
     ]
    },
    {
     "name": "stderr",
     "output_type": "stream",
     "text": [
      "\u001b[2m\u001b[36m(pid=15052)\u001b[0m c:\\users\\cig\\anaconda3\\envs\\autofocus\\lib\\site-packages\\imquality\\brisque.py:45: FutureWarning: The behavior of rgb2gray will change in scikit-image 0.19. Currently, rgb2gray allows 2D grayscale image to be passed as inputs and leaves them unmodified as outputs. Starting from version 0.19, 2D arrays will be treated as 1D images with 3 channels.\r\n",
      "\u001b[2m\u001b[36m(pid=15052)\u001b[0m   self.image = skimage.color.rgb2gray(self.image)\r\n"
     ]
    },
    {
     "name": "stdout",
     "output_type": "stream",
     "text": [
      "\u001b[2m\u001b[36m(pid=15052)\u001b[0m reward: -0.05042\n",
      "\u001b[2m\u001b[36m(pid=15052)\u001b[0m 48.1\n"
     ]
    },
    {
     "name": "stderr",
     "output_type": "stream",
     "text": [
      "\u001b[2m\u001b[36m(pid=15052)\u001b[0m c:\\users\\cig\\anaconda3\\envs\\autofocus\\lib\\site-packages\\imquality\\brisque.py:45: FutureWarning: The behavior of rgb2gray will change in scikit-image 0.19. Currently, rgb2gray allows 2D grayscale image to be passed as inputs and leaves them unmodified as outputs. Starting from version 0.19, 2D arrays will be treated as 1D images with 3 channels.\r\n",
      "\u001b[2m\u001b[36m(pid=15052)\u001b[0m   self.image = skimage.color.rgb2gray(self.image)\r\n"
     ]
    },
    {
     "name": "stdout",
     "output_type": "stream",
     "text": [
      "\u001b[2m\u001b[36m(pid=15052)\u001b[0m reward: -0.02286\n",
      "\u001b[2m\u001b[36m(pid=15052)\u001b[0m 56.9\n",
      "\u001b[2m\u001b[36m(pid=15052)\u001b[0m reward: -10\n",
      "\u001b[2m\u001b[36m(pid=15052)\u001b[0m 24.77\n",
      "\u001b[2m\u001b[36m(pid=15052)\u001b[0m reward: -10\n",
      "\u001b[2m\u001b[36m(pid=15052)\u001b[0m 24.3\n",
      "\u001b[2m\u001b[36m(pid=15052)\u001b[0m reward: -10\n",
      "\u001b[2m\u001b[36m(pid=15052)\u001b[0m 24.8\n",
      "\u001b[2m\u001b[36m(pid=15052)\u001b[0m reward: -10\n",
      "\u001b[2m\u001b[36m(pid=15052)\u001b[0m 48.65\n"
     ]
    },
    {
     "name": "stderr",
     "output_type": "stream",
     "text": [
      "\u001b[2m\u001b[36m(pid=15052)\u001b[0m c:\\users\\cig\\anaconda3\\envs\\autofocus\\lib\\site-packages\\imquality\\brisque.py:45: FutureWarning: The behavior of rgb2gray will change in scikit-image 0.19. Currently, rgb2gray allows 2D grayscale image to be passed as inputs and leaves them unmodified as outputs. Starting from version 0.19, 2D arrays will be treated as 1D images with 3 channels.\r\n",
      "\u001b[2m\u001b[36m(pid=15052)\u001b[0m   self.image = skimage.color.rgb2gray(self.image)\r\n"
     ]
    },
    {
     "name": "stdout",
     "output_type": "stream",
     "text": [
      "\u001b[2m\u001b[36m(pid=15052)\u001b[0m reward: -0.0545\n",
      "\u001b[2m\u001b[36m(pid=15052)\u001b[0m 56.48\n",
      "\u001b[2m\u001b[36m(pid=15052)\u001b[0m reward: -10\n",
      "\u001b[2m\u001b[36m(pid=15052)\u001b[0m 25.95\n",
      "\u001b[2m\u001b[36m(pid=15052)\u001b[0m reward: -10\n",
      "\u001b[2m\u001b[36m(pid=15052)\u001b[0m 44.75\n",
      "\u001b[2m\u001b[36m(pid=15052)\u001b[0m reward: -10\n",
      "\u001b[2m\u001b[36m(pid=15052)\u001b[0m 36.44\n",
      "\u001b[2m\u001b[36m(pid=15052)\u001b[0m reward: -10\n",
      "\u001b[2m\u001b[36m(pid=15052)\u001b[0m 31.1\n",
      "\u001b[2m\u001b[36m(pid=15052)\u001b[0m reward: -10\n",
      "\u001b[2m\u001b[36m(pid=15052)\u001b[0m 44.68\n",
      "\u001b[2m\u001b[36m(pid=15052)\u001b[0m reward: -10\n",
      "\u001b[2m\u001b[36m(pid=15052)\u001b[0m 60.18\n",
      "\u001b[2m\u001b[36m(pid=15052)\u001b[0m reward: -10\n",
      "\u001b[2m\u001b[36m(pid=15052)\u001b[0m 47.55\n"
     ]
    },
    {
     "name": "stderr",
     "output_type": "stream",
     "text": [
      "\u001b[2m\u001b[36m(pid=15052)\u001b[0m c:\\users\\cig\\anaconda3\\envs\\autofocus\\lib\\site-packages\\imquality\\brisque.py:45: FutureWarning: The behavior of rgb2gray will change in scikit-image 0.19. Currently, rgb2gray allows 2D grayscale image to be passed as inputs and leaves them unmodified as outputs. Starting from version 0.19, 2D arrays will be treated as 1D images with 3 channels.\r\n",
      "\u001b[2m\u001b[36m(pid=15052)\u001b[0m   self.image = skimage.color.rgb2gray(self.image)\r\n"
     ]
    },
    {
     "name": "stdout",
     "output_type": "stream",
     "text": [
      "\u001b[2m\u001b[36m(pid=15052)\u001b[0m reward: -0.03412\n",
      "\u001b[2m\u001b[36m(pid=15052)\u001b[0m 32.45\n",
      "\u001b[2m\u001b[36m(pid=15052)\u001b[0m reward: -10\n",
      "\u001b[2m\u001b[36m(pid=15052)\u001b[0m 46.27\n",
      "\u001b[2m\u001b[36m(pid=15052)\u001b[0m reward: -10\n",
      "\u001b[2m\u001b[36m(pid=15052)\u001b[0m 46.32\n",
      "\u001b[2m\u001b[36m(pid=15052)\u001b[0m reward: -10\n",
      "\u001b[2m\u001b[36m(pid=15052)\u001b[0m 49.84\n",
      "\u001b[2m\u001b[36m(pid=15052)\u001b[0m reward: -10\n",
      "\u001b[2m\u001b[36m(pid=15052)\u001b[0m 32.54\n",
      "\u001b[2m\u001b[36m(pid=15052)\u001b[0m reward: -10\n",
      "\u001b[2m\u001b[36m(pid=15052)\u001b[0m 24.42\n",
      "\u001b[2m\u001b[36m(pid=15052)\u001b[0m reward: -10\n",
      "\u001b[2m\u001b[36m(pid=15052)\u001b[0m 47.3\n"
     ]
    },
    {
     "name": "stderr",
     "output_type": "stream",
     "text": [
      "\u001b[2m\u001b[36m(pid=15052)\u001b[0m c:\\users\\cig\\anaconda3\\envs\\autofocus\\lib\\site-packages\\imquality\\brisque.py:45: FutureWarning: The behavior of rgb2gray will change in scikit-image 0.19. Currently, rgb2gray allows 2D grayscale image to be passed as inputs and leaves them unmodified as outputs. Starting from version 0.19, 2D arrays will be treated as 1D images with 3 channels.\r\n",
      "\u001b[2m\u001b[36m(pid=15052)\u001b[0m   self.image = skimage.color.rgb2gray(self.image)\r\n"
     ]
    },
    {
     "name": "stdout",
     "output_type": "stream",
     "text": [
      "\u001b[2m\u001b[36m(pid=15052)\u001b[0m reward: -0.04464\n",
      "\u001b[2m\u001b[36m(pid=15052)\u001b[0m 47.73\n"
     ]
    },
    {
     "name": "stderr",
     "output_type": "stream",
     "text": [
      "\u001b[2m\u001b[36m(pid=15052)\u001b[0m c:\\users\\cig\\anaconda3\\envs\\autofocus\\lib\\site-packages\\imquality\\brisque.py:45: FutureWarning: The behavior of rgb2gray will change in scikit-image 0.19. Currently, rgb2gray allows 2D grayscale image to be passed as inputs and leaves them unmodified as outputs. Starting from version 0.19, 2D arrays will be treated as 1D images with 3 channels.\r\n",
      "\u001b[2m\u001b[36m(pid=15052)\u001b[0m   self.image = skimage.color.rgb2gray(self.image)\r\n"
     ]
    },
    {
     "name": "stdout",
     "output_type": "stream",
     "text": [
      "\u001b[2m\u001b[36m(pid=15052)\u001b[0m reward: -0.02793\n",
      "\u001b[2m\u001b[36m(pid=15052)\u001b[0m 49.97\n",
      "\u001b[2m\u001b[36m(pid=15052)\u001b[0m reward: -10\n",
      "\u001b[2m\u001b[36m(pid=15052)\u001b[0m 59.77\n",
      "\u001b[2m\u001b[36m(pid=15052)\u001b[0m reward: -10\n",
      "\u001b[2m\u001b[36m(pid=15052)\u001b[0m 24.75\n",
      "\u001b[2m\u001b[36m(pid=15052)\u001b[0m reward: -10\n",
      "\u001b[2m\u001b[36m(pid=15052)\u001b[0m 24.6\n",
      "\u001b[2m\u001b[36m(pid=15052)\u001b[0m reward: -10\n",
      "\u001b[2m\u001b[36m(pid=15052)\u001b[0m 49.37\n"
     ]
    },
    {
     "name": "stderr",
     "output_type": "stream",
     "text": [
      "\u001b[2m\u001b[36m(pid=15052)\u001b[0m c:\\users\\cig\\anaconda3\\envs\\autofocus\\lib\\site-packages\\imquality\\brisque.py:45: FutureWarning: The behavior of rgb2gray will change in scikit-image 0.19. Currently, rgb2gray allows 2D grayscale image to be passed as inputs and leaves them unmodified as outputs. Starting from version 0.19, 2D arrays will be treated as 1D images with 3 channels.\r\n",
      "\u001b[2m\u001b[36m(pid=15052)\u001b[0m   self.image = skimage.color.rgb2gray(self.image)\r\n"
     ]
    },
    {
     "name": "stdout",
     "output_type": "stream",
     "text": [
      "\u001b[2m\u001b[36m(pid=15052)\u001b[0m reward: -0.044090000000000004\n",
      "\u001b[2m\u001b[36m(pid=15052)\u001b[0m 45.96\n",
      "\u001b[2m\u001b[36m(pid=15052)\u001b[0m reward: -10\n",
      "\u001b[2m\u001b[36m(pid=15052)\u001b[0m 34.63\n",
      "\u001b[2m\u001b[36m(pid=15052)\u001b[0m reward: -10\n",
      "\u001b[2m\u001b[36m(pid=15052)\u001b[0m 24.7\n",
      "\u001b[2m\u001b[36m(pid=15052)\u001b[0m reward: -10\n",
      "\u001b[2m\u001b[36m(pid=15052)\u001b[0m 46.23\n",
      "\u001b[2m\u001b[36m(pid=15052)\u001b[0m reward: -10\n",
      "\u001b[2m\u001b[36m(pid=15052)\u001b[0m 47.6\n"
     ]
    },
    {
     "name": "stderr",
     "output_type": "stream",
     "text": [
      "\u001b[2m\u001b[36m(pid=15052)\u001b[0m c:\\users\\cig\\anaconda3\\envs\\autofocus\\lib\\site-packages\\imquality\\brisque.py:45: FutureWarning: The behavior of rgb2gray will change in scikit-image 0.19. Currently, rgb2gray allows 2D grayscale image to be passed as inputs and leaves them unmodified as outputs. Starting from version 0.19, 2D arrays will be treated as 1D images with 3 channels.\r\n",
      "\u001b[2m\u001b[36m(pid=15052)\u001b[0m   self.image = skimage.color.rgb2gray(self.image)\r\n"
     ]
    },
    {
     "name": "stdout",
     "output_type": "stream",
     "text": [
      "\u001b[2m\u001b[36m(pid=15052)\u001b[0m reward: -0.03270000000000001\n",
      "\u001b[2m\u001b[36m(pid=15052)\u001b[0m 24.35\n",
      "\u001b[2m\u001b[36m(pid=15052)\u001b[0m reward: -10\n",
      "\u001b[2m\u001b[36m(pid=15052)\u001b[0m 63.22\n",
      "\u001b[2m\u001b[36m(pid=15052)\u001b[0m reward: -10\n",
      "\u001b[2m\u001b[36m(pid=15052)\u001b[0m 25.75\n",
      "\u001b[2m\u001b[36m(pid=15052)\u001b[0m reward: -10\n",
      "\u001b[2m\u001b[36m(pid=15052)\u001b[0m 67.42\n",
      "\u001b[2m\u001b[36m(pid=15052)\u001b[0m reward: -10\n",
      "\u001b[2m\u001b[36m(pid=15052)\u001b[0m 24.35\n",
      "\u001b[2m\u001b[36m(pid=15052)\u001b[0m reward: -10\n",
      "\u001b[2m\u001b[36m(pid=15052)\u001b[0m 48.29\n"
     ]
    },
    {
     "name": "stderr",
     "output_type": "stream",
     "text": [
      "\u001b[2m\u001b[36m(pid=15052)\u001b[0m c:\\users\\cig\\anaconda3\\envs\\autofocus\\lib\\site-packages\\imquality\\brisque.py:45: FutureWarning: The behavior of rgb2gray will change in scikit-image 0.19. Currently, rgb2gray allows 2D grayscale image to be passed as inputs and leaves them unmodified as outputs. Starting from version 0.19, 2D arrays will be treated as 1D images with 3 channels.\r\n",
      "\u001b[2m\u001b[36m(pid=15052)\u001b[0m   self.image = skimage.color.rgb2gray(self.image)\r\n"
     ]
    },
    {
     "name": "stdout",
     "output_type": "stream",
     "text": [
      "\u001b[2m\u001b[36m(pid=15052)\u001b[0m reward: -0.03647\n",
      "\u001b[2m\u001b[36m(pid=15052)\u001b[0m 48.57\n"
     ]
    },
    {
     "name": "stderr",
     "output_type": "stream",
     "text": [
      "\u001b[2m\u001b[36m(pid=15052)\u001b[0m c:\\users\\cig\\anaconda3\\envs\\autofocus\\lib\\site-packages\\imquality\\brisque.py:45: FutureWarning: The behavior of rgb2gray will change in scikit-image 0.19. Currently, rgb2gray allows 2D grayscale image to be passed as inputs and leaves them unmodified as outputs. Starting from version 0.19, 2D arrays will be treated as 1D images with 3 channels.\r\n",
      "\u001b[2m\u001b[36m(pid=15052)\u001b[0m   self.image = skimage.color.rgb2gray(self.image)\r\n"
     ]
    },
    {
     "name": "stdout",
     "output_type": "stream",
     "text": [
      "\u001b[2m\u001b[36m(pid=15052)\u001b[0m reward: -0.05161\n",
      "\u001b[2m\u001b[36m(pid=15052)\u001b[0m 47.4\n"
     ]
    },
    {
     "name": "stderr",
     "output_type": "stream",
     "text": [
      "\u001b[2m\u001b[36m(pid=15052)\u001b[0m c:\\users\\cig\\anaconda3\\envs\\autofocus\\lib\\site-packages\\imquality\\brisque.py:45: FutureWarning: The behavior of rgb2gray will change in scikit-image 0.19. Currently, rgb2gray allows 2D grayscale image to be passed as inputs and leaves them unmodified as outputs. Starting from version 0.19, 2D arrays will be treated as 1D images with 3 channels.\r\n",
      "\u001b[2m\u001b[36m(pid=15052)\u001b[0m   self.image = skimage.color.rgb2gray(self.image)\r\n"
     ]
    },
    {
     "name": "stdout",
     "output_type": "stream",
     "text": [
      "\u001b[2m\u001b[36m(pid=15052)\u001b[0m reward: -0.04408\n",
      "\u001b[2m\u001b[36m(pid=15052)\u001b[0m 68.75\n",
      "\u001b[2m\u001b[36m(pid=15052)\u001b[0m reward: -10\n",
      "\u001b[2m\u001b[36m(pid=15052)\u001b[0m 48.5\n"
     ]
    },
    {
     "name": "stderr",
     "output_type": "stream",
     "text": [
      "\u001b[2m\u001b[36m(pid=15052)\u001b[0m c:\\users\\cig\\anaconda3\\envs\\autofocus\\lib\\site-packages\\imquality\\brisque.py:45: FutureWarning: The behavior of rgb2gray will change in scikit-image 0.19. Currently, rgb2gray allows 2D grayscale image to be passed as inputs and leaves them unmodified as outputs. Starting from version 0.19, 2D arrays will be treated as 1D images with 3 channels.\r\n",
      "\u001b[2m\u001b[36m(pid=15052)\u001b[0m   self.image = skimage.color.rgb2gray(self.image)\r\n"
     ]
    },
    {
     "name": "stdout",
     "output_type": "stream",
     "text": [
      "\u001b[2m\u001b[36m(pid=15052)\u001b[0m reward: -0.05147\n",
      "\u001b[2m\u001b[36m(pid=15052)\u001b[0m 27.56\n",
      "\u001b[2m\u001b[36m(pid=15052)\u001b[0m reward: -10\n",
      "\u001b[2m\u001b[36m(pid=15052)\u001b[0m 24.95\n",
      "\u001b[2m\u001b[36m(pid=15052)\u001b[0m reward: -10\n",
      "\u001b[2m\u001b[36m(pid=15052)\u001b[0m 24.22\n",
      "\u001b[2m\u001b[36m(pid=15052)\u001b[0m reward: -10\n",
      "\u001b[2m\u001b[36m(pid=15052)\u001b[0m 24.7\n",
      "\u001b[2m\u001b[36m(pid=15052)\u001b[0m reward: -10\n",
      "\u001b[2m\u001b[36m(pid=15052)\u001b[0m 46.73\n"
     ]
    },
    {
     "name": "stderr",
     "output_type": "stream",
     "text": [
      "\u001b[2m\u001b[36m(pid=15052)\u001b[0m c:\\users\\cig\\anaconda3\\envs\\autofocus\\lib\\site-packages\\imquality\\brisque.py:45: FutureWarning: The behavior of rgb2gray will change in scikit-image 0.19. Currently, rgb2gray allows 2D grayscale image to be passed as inputs and leaves them unmodified as outputs. Starting from version 0.19, 2D arrays will be treated as 1D images with 3 channels.\r\n",
      "\u001b[2m\u001b[36m(pid=15052)\u001b[0m   self.image = skimage.color.rgb2gray(self.image)\r\n"
     ]
    },
    {
     "name": "stdout",
     "output_type": "stream",
     "text": [
      "\u001b[2m\u001b[36m(pid=15052)\u001b[0m reward: -0.04385\n",
      "\u001b[2m\u001b[36m(pid=15052)\u001b[0m 63.18\n",
      "\u001b[2m\u001b[36m(pid=15052)\u001b[0m reward: -10\n",
      "\u001b[2m\u001b[36m(pid=15052)\u001b[0m 48.33\n"
     ]
    },
    {
     "name": "stderr",
     "output_type": "stream",
     "text": [
      "\u001b[2m\u001b[36m(pid=15052)\u001b[0m c:\\users\\cig\\anaconda3\\envs\\autofocus\\lib\\site-packages\\imquality\\brisque.py:45: FutureWarning: The behavior of rgb2gray will change in scikit-image 0.19. Currently, rgb2gray allows 2D grayscale image to be passed as inputs and leaves them unmodified as outputs. Starting from version 0.19, 2D arrays will be treated as 1D images with 3 channels.\r\n",
      "\u001b[2m\u001b[36m(pid=15052)\u001b[0m   self.image = skimage.color.rgb2gray(self.image)\r\n"
     ]
    },
    {
     "name": "stdout",
     "output_type": "stream",
     "text": [
      "\u001b[2m\u001b[36m(pid=15052)\u001b[0m reward: -0.04407\n",
      "\u001b[2m\u001b[36m(pid=15052)\u001b[0m 47.54\n"
     ]
    },
    {
     "name": "stderr",
     "output_type": "stream",
     "text": [
      "\u001b[2m\u001b[36m(pid=15052)\u001b[0m c:\\users\\cig\\anaconda3\\envs\\autofocus\\lib\\site-packages\\imquality\\brisque.py:45: FutureWarning: The behavior of rgb2gray will change in scikit-image 0.19. Currently, rgb2gray allows 2D grayscale image to be passed as inputs and leaves them unmodified as outputs. Starting from version 0.19, 2D arrays will be treated as 1D images with 3 channels.\r\n",
      "\u001b[2m\u001b[36m(pid=15052)\u001b[0m   self.image = skimage.color.rgb2gray(self.image)\r\n"
     ]
    },
    {
     "name": "stdout",
     "output_type": "stream",
     "text": [
      "\u001b[2m\u001b[36m(pid=15052)\u001b[0m reward: -0.03476\n",
      "\u001b[2m\u001b[36m(pid=15052)\u001b[0m 47.37\n"
     ]
    },
    {
     "name": "stderr",
     "output_type": "stream",
     "text": [
      "\u001b[2m\u001b[36m(pid=15052)\u001b[0m c:\\users\\cig\\anaconda3\\envs\\autofocus\\lib\\site-packages\\imquality\\brisque.py:45: FutureWarning: The behavior of rgb2gray will change in scikit-image 0.19. Currently, rgb2gray allows 2D grayscale image to be passed as inputs and leaves them unmodified as outputs. Starting from version 0.19, 2D arrays will be treated as 1D images with 3 channels.\r\n",
      "\u001b[2m\u001b[36m(pid=15052)\u001b[0m   self.image = skimage.color.rgb2gray(self.image)\r\n"
     ]
    },
    {
     "name": "stdout",
     "output_type": "stream",
     "text": [
      "\u001b[2m\u001b[36m(pid=15052)\u001b[0m reward: -0.04223\n",
      "\u001b[2m\u001b[36m(pid=15052)\u001b[0m 48.53\n"
     ]
    },
    {
     "name": "stderr",
     "output_type": "stream",
     "text": [
      "\u001b[2m\u001b[36m(pid=15052)\u001b[0m c:\\users\\cig\\anaconda3\\envs\\autofocus\\lib\\site-packages\\imquality\\brisque.py:45: FutureWarning: The behavior of rgb2gray will change in scikit-image 0.19. Currently, rgb2gray allows 2D grayscale image to be passed as inputs and leaves them unmodified as outputs. Starting from version 0.19, 2D arrays will be treated as 1D images with 3 channels.\r\n",
      "\u001b[2m\u001b[36m(pid=15052)\u001b[0m   self.image = skimage.color.rgb2gray(self.image)\r\n"
     ]
    },
    {
     "name": "stdout",
     "output_type": "stream",
     "text": [
      "\u001b[2m\u001b[36m(pid=15052)\u001b[0m reward: -0.05195\n",
      "\u001b[2m\u001b[36m(pid=15052)\u001b[0m 24.7\n",
      "\u001b[2m\u001b[36m(pid=15052)\u001b[0m reward: -10\n",
      "\u001b[2m\u001b[36m(pid=15052)\u001b[0m 24.6\n",
      "\u001b[2m\u001b[36m(pid=15052)\u001b[0m reward: -10\n",
      "\u001b[2m\u001b[36m(pid=15052)\u001b[0m 24.76\n",
      "\u001b[2m\u001b[36m(pid=15052)\u001b[0m reward: -10\n",
      "\u001b[2m\u001b[36m(pid=15052)\u001b[0m 47.5\n"
     ]
    },
    {
     "name": "stderr",
     "output_type": "stream",
     "text": [
      "\u001b[2m\u001b[36m(pid=15052)\u001b[0m c:\\users\\cig\\anaconda3\\envs\\autofocus\\lib\\site-packages\\imquality\\brisque.py:45: FutureWarning: The behavior of rgb2gray will change in scikit-image 0.19. Currently, rgb2gray allows 2D grayscale image to be passed as inputs and leaves them unmodified as outputs. Starting from version 0.19, 2D arrays will be treated as 1D images with 3 channels.\r\n",
      "\u001b[2m\u001b[36m(pid=15052)\u001b[0m   self.image = skimage.color.rgb2gray(self.image)\r\n"
     ]
    },
    {
     "name": "stdout",
     "output_type": "stream",
     "text": [
      "\u001b[2m\u001b[36m(pid=15052)\u001b[0m reward: -0.035590000000000004\n",
      "\u001b[2m\u001b[36m(pid=15052)\u001b[0m 47.27\n"
     ]
    },
    {
     "name": "stderr",
     "output_type": "stream",
     "text": [
      "\u001b[2m\u001b[36m(pid=15052)\u001b[0m c:\\users\\cig\\anaconda3\\envs\\autofocus\\lib\\site-packages\\imquality\\brisque.py:45: FutureWarning: The behavior of rgb2gray will change in scikit-image 0.19. Currently, rgb2gray allows 2D grayscale image to be passed as inputs and leaves them unmodified as outputs. Starting from version 0.19, 2D arrays will be treated as 1D images with 3 channels.\r\n",
      "\u001b[2m\u001b[36m(pid=15052)\u001b[0m   self.image = skimage.color.rgb2gray(self.image)\r\n"
     ]
    },
    {
     "name": "stdout",
     "output_type": "stream",
     "text": [
      "\u001b[2m\u001b[36m(pid=15052)\u001b[0m reward: -0.048479999999999995\n",
      "\u001b[2m\u001b[36m(pid=15052)\u001b[0m 24.12\n",
      "\u001b[2m\u001b[36m(pid=15052)\u001b[0m reward: -10\n",
      "\u001b[2m\u001b[36m(pid=15052)\u001b[0m 46.71\n"
     ]
    },
    {
     "name": "stderr",
     "output_type": "stream",
     "text": [
      "\u001b[2m\u001b[36m(pid=15052)\u001b[0m c:\\users\\cig\\anaconda3\\envs\\autofocus\\lib\\site-packages\\imquality\\brisque.py:45: FutureWarning: The behavior of rgb2gray will change in scikit-image 0.19. Currently, rgb2gray allows 2D grayscale image to be passed as inputs and leaves them unmodified as outputs. Starting from version 0.19, 2D arrays will be treated as 1D images with 3 channels.\r\n",
      "\u001b[2m\u001b[36m(pid=15052)\u001b[0m   self.image = skimage.color.rgb2gray(self.image)\r\n"
     ]
    },
    {
     "name": "stdout",
     "output_type": "stream",
     "text": [
      "\u001b[2m\u001b[36m(pid=15052)\u001b[0m reward: -0.04963\n",
      "\u001b[2m\u001b[36m(pid=15052)\u001b[0m 24.15\n",
      "\u001b[2m\u001b[36m(pid=15052)\u001b[0m reward: -10\n",
      "\u001b[2m\u001b[36m(pid=15052)\u001b[0m 62.75\n",
      "\u001b[2m\u001b[36m(pid=15052)\u001b[0m reward: -10\n",
      "\u001b[2m\u001b[36m(pid=15052)\u001b[0m 49.21\n"
     ]
    },
    {
     "name": "stderr",
     "output_type": "stream",
     "text": [
      "\u001b[2m\u001b[36m(pid=15052)\u001b[0m c:\\users\\cig\\anaconda3\\envs\\autofocus\\lib\\site-packages\\imquality\\brisque.py:45: FutureWarning: The behavior of rgb2gray will change in scikit-image 0.19. Currently, rgb2gray allows 2D grayscale image to be passed as inputs and leaves them unmodified as outputs. Starting from version 0.19, 2D arrays will be treated as 1D images with 3 channels.\r\n",
      "\u001b[2m\u001b[36m(pid=15052)\u001b[0m   self.image = skimage.color.rgb2gray(self.image)\r\n"
     ]
    },
    {
     "name": "stdout",
     "output_type": "stream",
     "text": [
      "\u001b[2m\u001b[36m(pid=15052)\u001b[0m reward: -0.04474\n",
      "\u001b[2m\u001b[36m(pid=15052)\u001b[0m 24.84\n",
      "\u001b[2m\u001b[36m(pid=15052)\u001b[0m reward: -10\n",
      "\u001b[2m\u001b[36m(pid=15052)\u001b[0m 36.6\n",
      "\u001b[2m\u001b[36m(pid=15052)\u001b[0m reward: -10\n",
      "\u001b[2m\u001b[36m(pid=15052)\u001b[0m 47.23\n"
     ]
    },
    {
     "name": "stderr",
     "output_type": "stream",
     "text": [
      "\u001b[2m\u001b[36m(pid=15052)\u001b[0m c:\\users\\cig\\anaconda3\\envs\\autofocus\\lib\\site-packages\\imquality\\brisque.py:45: FutureWarning: The behavior of rgb2gray will change in scikit-image 0.19. Currently, rgb2gray allows 2D grayscale image to be passed as inputs and leaves them unmodified as outputs. Starting from version 0.19, 2D arrays will be treated as 1D images with 3 channels.\r\n",
      "\u001b[2m\u001b[36m(pid=15052)\u001b[0m   self.image = skimage.color.rgb2gray(self.image)\r\n"
     ]
    },
    {
     "name": "stdout",
     "output_type": "stream",
     "text": [
      "\u001b[2m\u001b[36m(pid=15052)\u001b[0m reward: -0.0499\n",
      "\u001b[2m\u001b[36m(pid=15052)\u001b[0m 46.95\n"
     ]
    },
    {
     "name": "stderr",
     "output_type": "stream",
     "text": [
      "\u001b[2m\u001b[36m(pid=15052)\u001b[0m c:\\users\\cig\\anaconda3\\envs\\autofocus\\lib\\site-packages\\imquality\\brisque.py:45: FutureWarning: The behavior of rgb2gray will change in scikit-image 0.19. Currently, rgb2gray allows 2D grayscale image to be passed as inputs and leaves them unmodified as outputs. Starting from version 0.19, 2D arrays will be treated as 1D images with 3 channels.\r\n",
      "\u001b[2m\u001b[36m(pid=15052)\u001b[0m   self.image = skimage.color.rgb2gray(self.image)\r\n"
     ]
    },
    {
     "name": "stdout",
     "output_type": "stream",
     "text": [
      "\u001b[2m\u001b[36m(pid=15052)\u001b[0m reward: -0.05091\n",
      "\u001b[2m\u001b[36m(pid=15052)\u001b[0m 49.71\n",
      "\u001b[2m\u001b[36m(pid=15052)\u001b[0m reward: -10\n",
      "\u001b[2m\u001b[36m(pid=15052)\u001b[0m 47.21\n"
     ]
    },
    {
     "name": "stderr",
     "output_type": "stream",
     "text": [
      "\u001b[2m\u001b[36m(pid=15052)\u001b[0m c:\\users\\cig\\anaconda3\\envs\\autofocus\\lib\\site-packages\\imquality\\brisque.py:45: FutureWarning: The behavior of rgb2gray will change in scikit-image 0.19. Currently, rgb2gray allows 2D grayscale image to be passed as inputs and leaves them unmodified as outputs. Starting from version 0.19, 2D arrays will be treated as 1D images with 3 channels.\r\n",
      "\u001b[2m\u001b[36m(pid=15052)\u001b[0m   self.image = skimage.color.rgb2gray(self.image)\r\n"
     ]
    },
    {
     "name": "stdout",
     "output_type": "stream",
     "text": [
      "\u001b[2m\u001b[36m(pid=15052)\u001b[0m reward: -0.047270000000000006\n",
      "\u001b[2m\u001b[36m(pid=15052)\u001b[0m 46.48\n",
      "\u001b[2m\u001b[36m(pid=15052)\u001b[0m reward: -10\n",
      "\u001b[2m\u001b[36m(pid=15052)\u001b[0m 47.69\n"
     ]
    },
    {
     "name": "stderr",
     "output_type": "stream",
     "text": [
      "\u001b[2m\u001b[36m(pid=15052)\u001b[0m c:\\users\\cig\\anaconda3\\envs\\autofocus\\lib\\site-packages\\imquality\\brisque.py:45: FutureWarning: The behavior of rgb2gray will change in scikit-image 0.19. Currently, rgb2gray allows 2D grayscale image to be passed as inputs and leaves them unmodified as outputs. Starting from version 0.19, 2D arrays will be treated as 1D images with 3 channels.\r\n",
      "\u001b[2m\u001b[36m(pid=15052)\u001b[0m   self.image = skimage.color.rgb2gray(self.image)\r\n"
     ]
    },
    {
     "name": "stdout",
     "output_type": "stream",
     "text": [
      "\u001b[2m\u001b[36m(pid=15052)\u001b[0m reward: -0.03283\n",
      "\u001b[2m\u001b[36m(pid=15052)\u001b[0m 48.53\n"
     ]
    },
    {
     "name": "stderr",
     "output_type": "stream",
     "text": [
      "\u001b[2m\u001b[36m(pid=15052)\u001b[0m c:\\users\\cig\\anaconda3\\envs\\autofocus\\lib\\site-packages\\imquality\\brisque.py:45: FutureWarning: The behavior of rgb2gray will change in scikit-image 0.19. Currently, rgb2gray allows 2D grayscale image to be passed as inputs and leaves them unmodified as outputs. Starting from version 0.19, 2D arrays will be treated as 1D images with 3 channels.\r\n",
      "\u001b[2m\u001b[36m(pid=15052)\u001b[0m   self.image = skimage.color.rgb2gray(self.image)\r\n"
     ]
    },
    {
     "name": "stdout",
     "output_type": "stream",
     "text": [
      "\u001b[2m\u001b[36m(pid=15052)\u001b[0m reward: -0.05246\n",
      "\u001b[2m\u001b[36m(pid=15052)\u001b[0m 48.95\n"
     ]
    },
    {
     "name": "stderr",
     "output_type": "stream",
     "text": [
      "\u001b[2m\u001b[36m(pid=15052)\u001b[0m c:\\users\\cig\\anaconda3\\envs\\autofocus\\lib\\site-packages\\imquality\\brisque.py:45: FutureWarning: The behavior of rgb2gray will change in scikit-image 0.19. Currently, rgb2gray allows 2D grayscale image to be passed as inputs and leaves them unmodified as outputs. Starting from version 0.19, 2D arrays will be treated as 1D images with 3 channels.\r\n",
      "\u001b[2m\u001b[36m(pid=15052)\u001b[0m   self.image = skimage.color.rgb2gray(self.image)\r\n"
     ]
    },
    {
     "name": "stdout",
     "output_type": "stream",
     "text": [
      "\u001b[2m\u001b[36m(pid=15052)\u001b[0m reward: -0.04641\n",
      "\u001b[2m\u001b[36m(pid=15052)\u001b[0m 47.35\n"
     ]
    },
    {
     "name": "stderr",
     "output_type": "stream",
     "text": [
      "\u001b[2m\u001b[36m(pid=15052)\u001b[0m c:\\users\\cig\\anaconda3\\envs\\autofocus\\lib\\site-packages\\imquality\\brisque.py:45: FutureWarning: The behavior of rgb2gray will change in scikit-image 0.19. Currently, rgb2gray allows 2D grayscale image to be passed as inputs and leaves them unmodified as outputs. Starting from version 0.19, 2D arrays will be treated as 1D images with 3 channels.\r\n",
      "\u001b[2m\u001b[36m(pid=15052)\u001b[0m   self.image = skimage.color.rgb2gray(self.image)\r\n"
     ]
    },
    {
     "name": "stdout",
     "output_type": "stream",
     "text": [
      "\u001b[2m\u001b[36m(pid=15052)\u001b[0m reward: -0.044770000000000004\r\n"
     ]
    }
   ],
   "source": [
    "for i in range(100):\n",
    "    # Perform one iteration of training the policy with PPO\\n\",\n",
    "    result = trainer.train()\n",
    "    print(pretty_print(result))\n",
    "    print('-------', i, '-------')\n",
    "# #     print(evaluation_results)\n",
    "    if i % 80 == 0:\n",
    "        checkpoint = trainer.save()\n",
    "        print(\"checkpoint saved at\", checkpoint)"
   ]
  },
  {
   "cell_type": "code",
   "execution_count": null,
   "metadata": {},
   "outputs": [],
   "source": [
    "#tensorboard --logdir=~/ray_results"
   ]
  }
 ],
 "metadata": {
  "kernelspec": {
   "display_name": "Python 3",
   "language": "python",
   "name": "python3"
  },
  "language_info": {
   "codemirror_mode": {
    "name": "ipython",
    "version": 3
   },
   "file_extension": ".py",
   "mimetype": "text/x-python",
   "name": "python",
   "nbconvert_exporter": "python",
   "pygments_lexer": "ipython3",
   "version": "3.7.10"
  }
 },
 "nbformat": 4,
 "nbformat_minor": 4
}
