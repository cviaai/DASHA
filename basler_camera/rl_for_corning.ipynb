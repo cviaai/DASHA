{
 "cells": [
  {
   "cell_type": "code",
   "execution_count": 1,
   "metadata": {},
   "outputs": [
    {
     "name": "stderr",
     "output_type": "stream",
     "text": [
      "C:\\Users\\CIG\\Anaconda3\\lib\\site-packages\\dask\\dataframe\\utils.py:13: FutureWarning: pandas.util.testing is deprecated. Use the functions in the public API at pandas.testing instead.\n",
      "  import pandas.util.testing as tm\n"
     ]
    },
    {
     "name": "stdout",
     "output_type": "stream",
     "text": [
      "WARNING:tensorflow:\n",
      "The TensorFlow contrib module will not be included in TensorFlow 2.0.\n",
      "For more information, please see:\n",
      "  * https://github.com/tensorflow/community/blob/master/rfcs/20180907-contrib-sunset.md\n",
      "  * https://github.com/tensorflow/addons\n",
      "  * https://github.com/tensorflow/io (for I/O related ops)\n",
      "If you depend on functionality not listed there, please file an issue.\n",
      "\n"
     ]
    }
   ],
   "source": [
    "from ctypes import *\n",
    "import numpy as np\n",
    "import gym\n",
    "from gym import error\n",
    "from gym.utils import closer\n",
    "from stable_baselines.common.policies import MlpPolicy\n",
    "from stable_baselines.common import make_vec_env\n",
    "from stable_baselines import A2C, PPO2\n",
    "from gym import spaces\n",
    "from pypylon import pylon\n",
    "import stable_baselines\n",
    "import time\n",
    "from PIL import Image"
   ]
  },
  {
   "cell_type": "code",
   "execution_count": 2,
   "metadata": {},
   "outputs": [],
   "source": [
    "class BaslerEnv(gym.Env):\n",
    "    \"\"\"A goal-based environment. It functions just as any regular OpenAI Gym environment but it\n",
    "    imposes a required structure on the observation_space. More concretely, the observation\n",
    "    space is required to contain at least three elements, namely `observation`, `desired_goal`, and\n",
    "    `achieved_goal`. Here, `desired_goal` specifies the goal that the agent should attempt to achieve.\n",
    "    `achieved_goal` is the goal that it currently achieved instead. `observation` contains the\n",
    "    actual observations of the environment as per usual.\n",
    "    \"\"\"\n",
    "    # Set this in SOME subclasses\n",
    "    metadata = {'render.modes': ['human']}\n",
    "\n",
    "    \n",
    "    def __init__(self, camera, GainRaw = 36, ExposureTimeRaw = 718977, AcquisitionFrameRateAbs = 30, threshold = -24):\n",
    "        \n",
    "        # Create an instant camera object with the camera device found first.\n",
    "        #self.camera = pylon.InstantCamera(pylon.TlFactory.GetInstance().CreateFirstDevice())\n",
    "        #self.camera.Open()\n",
    "        \n",
    "        self.camera = camera\n",
    "        \n",
    "        # https://docs.baslerweb.com/features\n",
    "        self.camera.GainRaw.Value = GainRaw\n",
    "        self.camera.ExposureTimeRaw.Value = ExposureTimeRaw\n",
    "        self.camera.AcquisitionFrameRateAbs.Value = AcquisitionFrameRateAbs\n",
    "        \n",
    "        # corning lib\n",
    "        self.lib = cdll.LoadLibrary(r\"C:\\Users\\CIG\\Documents\\MATLAB\\ComCasp64.dll\")\n",
    "        #Check if Maxim driver dll is loaded\n",
    "        eCOMCaspErr = getattr(self.lib,'Casp_OpenCOM')\n",
    "        print('eCOMCaspErr:', eCOMCaspErr(), self.lib.Casp_OpenCOM())\n",
    "        \n",
    "        # Focus Voltage\n",
    "        self.action_space = spaces.Discrete(69)\n",
    "        \n",
    "         \n",
    "        # get width and height from camera for making obs space\n",
    "        width = self.camera.Width.GetValue()\n",
    "        height = self.camera.Height.GetValue()\n",
    "        print(width, height)\n",
    "        \n",
    "        # image\n",
    "        self.observation_space = spaces.Box(low=0, high=255, \n",
    "                                             shape=(height, width, 3), \n",
    "                                             dtype=np.float16)\n",
    "        \n",
    "        # code from https://github.com/basler/pypylon/blob/master/samples/opencv.py\n",
    "        img = pylon.PylonImage()\n",
    "        self.converter = pylon.ImageFormatConverter()\n",
    "        \n",
    "        # converting to opencv bgr format\n",
    "        self.converter.OutputPixelFormat = pylon.PixelType_BGR8packed\n",
    "        self.converter.OutputBitAlignment = pylon.OutputBitAlignment_MsbAligned\n",
    "        \n",
    "        self.threshold = threshold\n",
    "        self.i = 0\n",
    "        \n",
    "        time.sleep(1)\n",
    "\n",
    "    def reset(self):\n",
    "        x = c_double(24)\n",
    "        self.lib.Casp_SetFocusVoltage(x)\n",
    "        \n",
    "        \n",
    "    def compute_reward(self, image, size=60):\n",
    "        \"\"\"Compute the step reward. This externalizes the reward function and makes\n",
    "        it dependent on a desired goal and the one that was achieved. If you wish to include\n",
    "        additional rewards that are independent of the goal, you can include the necessary values\n",
    "        to derive it in 'info' and compute it accordingly.\n",
    "        Args:\n",
    "            achieved_goal (object): the goal that was achieved during execution\n",
    "            desired_goal (object): the desired goal that we asked the agent to attempt to achieve\n",
    "            info (dict): an info dictionary with additional information\n",
    "        Returns:\n",
    "            float: The reward that corresponds to the provided achieved goal w.r.t. to the desired\n",
    "            goal. Note that the following should always hold true:\n",
    "                ob, reward, done, info = env.step()\n",
    "                assert reward == env.compute_reward(ob['achieved_goal'], ob['goal'], info)\n",
    "        \"\"\"\n",
    "        \n",
    "        # code from https://www.pyimagesearch.com/2020/06/15/opencv-fast-fourier-transform-fft-for-blur-detection-in-images-and-video-streams/\n",
    "        \n",
    "        # grab the dimensions of the image and use the dimensions to\n",
    "        # derive the center (x, y)-coordinates\n",
    "        (h, w, m) = image.shape\n",
    "        (cX, cY) = (int(w / 2.0), int(h / 2.0))\n",
    "\n",
    "        fft = np.fft.fft2(image)\n",
    "        fftShift = np.fft.fftshift(fft)\n",
    "\n",
    "        # zero-out the center of the FFT shift (i.e., remove low\n",
    "        # frequencies), apply the inverse shift such that the DC\n",
    "        # component once again becomes the top-left, and then apply\n",
    "        # the inverse FFT\n",
    "        fftShift[cY - size:cY + size, cX - size:cX + size] = 0\n",
    "        fftShift = np.fft.ifftshift(fftShift)\n",
    "        recon = np.fft.ifft2(fftShift)\n",
    "\n",
    "        # compute the magnitude spectrum of the reconstructed image,\n",
    "        # then compute the mean of the magnitude values\n",
    "        magnitude = 20 * np.log(np.abs(recon))\n",
    "        mean = np.mean(magnitude)\n",
    "        # the image will be considered \"blurry\" if the mean value of the\n",
    "        # magnitudes is less than the threshold value\n",
    "        return mean\n",
    "    \n",
    "    def grab_image(self):\n",
    "        \n",
    "        #https://github.com/basler/pypylon/blob/master/samples/opencv.py\n",
    "        self.camera.StartGrabbing()\n",
    "        while 1:\n",
    "            grabResult = self.camera.RetrieveResult(5000, pylon.TimeoutHandling_ThrowException)\n",
    "\n",
    "            if grabResult.GrabSucceeded():\n",
    "                \n",
    "                # Access the image data\n",
    "                image = self.converter.Convert(grabResult)\n",
    "                image = image.GetArray()\n",
    "#                 print(img[0])\n",
    "#                 print('shape:', img.shape)\n",
    "#                 plt.imshow(img)\n",
    "                break\n",
    "    \n",
    "        self.camera.StopGrabbing()\n",
    "        return image\n",
    "    \n",
    "    \n",
    "    def step(self, action):\n",
    "        \"\"\"Run one timestep of the environment's dynamics. When end of\n",
    "        episode is reached, you are responsible for calling `reset()`\n",
    "        to reset this environment's state.\n",
    "        Accepts an action and returns a tuple (observation, reward, done, info).\n",
    "        Args:\n",
    "            action (object): an action provided by the agent\n",
    "        Returns:\n",
    "            observation (object): agent's observation of the current environment\n",
    "            reward (float) : amount of reward returned after previous action\n",
    "            done (bool): whether the episode has ended, in which case further step() calls will return undefined results\n",
    "            info (dict): contains auxiliary diagnostic information (helpful for debugging, and sometimes learning)\n",
    "        \"\"\"\n",
    "        \n",
    "        # Focus Voltage Low value = 24\n",
    "        if action < 25:\n",
    "            action = 25\n",
    "        \n",
    "        x = c_double(action)\n",
    "        self.lib.Casp_SetFocusVoltage(x)\n",
    "        time.sleep(1)\n",
    "        \n",
    "        obs = self.grab_image()\n",
    "        blurry = self.compute_reward(obs)\n",
    "\n",
    "        done = bool(blurry < self.threshold)\n",
    "        reward = -1\n",
    "        \n",
    "        im = Image.fromarray(obs)\n",
    "        filename = \"saved_pypylon_img_%d_%s.png\" % (self.i, str(done))\n",
    "        im.save(filename)\n",
    "        self.i+=1\n",
    "        \n",
    "        return obs, reward, done, {}\n",
    "        \n",
    "        \n",
    "    def close(self):\n",
    "        \"\"\"Override close in your subclass to perform any necessary cleanup.\n",
    "        Environments will automatically close() themselves when\n",
    "        garbage collected or when the program exits.\n",
    "        \"\"\"\n",
    "        self.lib.Casp_CloseCOM()\n",
    "        self.camera.Close()\n",
    "        \n"
   ]
  },
  {
   "cell_type": "code",
   "execution_count": 3,
   "metadata": {},
   "outputs": [
    {
     "name": "stdout",
     "output_type": "stream",
     "text": [
      "eCOMCaspErr: 0 0\n",
      "835 442\n"
     ]
    }
   ],
   "source": [
    "camera = pylon.InstantCamera(pylon.TlFactory.GetInstance().CreateFirstDevice())\n",
    "camera.Open()\n",
    "env = BaslerEnv(camera)"
   ]
  },
  {
   "cell_type": "code",
   "execution_count": 4,
   "metadata": {
    "scrolled": true
   },
   "outputs": [
    {
     "name": "stdout",
     "output_type": "stream",
     "text": [
      "WARNING:tensorflow:From C:\\Users\\CIG\\Anaconda3\\lib\\site-packages\\stable_baselines\\common\\tf_util.py:191: The name tf.ConfigProto is deprecated. Please use tf.compat.v1.ConfigProto instead.\n",
      "\n",
      "WARNING:tensorflow:From C:\\Users\\CIG\\Anaconda3\\lib\\site-packages\\stable_baselines\\common\\tf_util.py:200: The name tf.Session is deprecated. Please use tf.compat.v1.Session instead.\n",
      "\n",
      "WARNING:tensorflow:From C:\\Users\\CIG\\Anaconda3\\lib\\site-packages\\stable_baselines\\common\\policies.py:116: The name tf.variable_scope is deprecated. Please use tf.compat.v1.variable_scope instead.\n",
      "\n",
      "WARNING:tensorflow:From C:\\Users\\CIG\\Anaconda3\\lib\\site-packages\\stable_baselines\\common\\input.py:25: The name tf.placeholder is deprecated. Please use tf.compat.v1.placeholder instead.\n",
      "\n",
      "WARNING:tensorflow:From C:\\Users\\CIG\\Anaconda3\\lib\\site-packages\\stable_baselines\\common\\policies.py:561: flatten (from tensorflow.python.layers.core) is deprecated and will be removed in a future version.\n",
      "Instructions for updating:\n",
      "Use keras.layers.flatten instead.\n",
      "WARNING:tensorflow:From C:\\Users\\CIG\\AppData\\Roaming\\Python\\Python37\\site-packages\\tensorflow_core\\python\\layers\\core.py:332: Layer.apply (from tensorflow.python.keras.engine.base_layer) is deprecated and will be removed in a future version.\n",
      "Instructions for updating:\n",
      "Please use `layer.__call__` method instead.\n",
      "WARNING:tensorflow:From C:\\Users\\CIG\\Anaconda3\\lib\\site-packages\\stable_baselines\\common\\tf_layers.py:123: The name tf.get_variable is deprecated. Please use tf.compat.v1.get_variable instead.\n",
      "\n",
      "WARNING:tensorflow:From C:\\Users\\CIG\\Anaconda3\\lib\\site-packages\\stable_baselines\\common\\distributions.py:326: The name tf.random_uniform is deprecated. Please use tf.random.uniform instead.\n",
      "\n",
      "WARNING:tensorflow:From C:\\Users\\CIG\\Anaconda3\\lib\\site-packages\\stable_baselines\\common\\distributions.py:327: The name tf.log is deprecated. Please use tf.math.log instead.\n",
      "\n",
      "WARNING:tensorflow:From C:\\Users\\CIG\\Anaconda3\\lib\\site-packages\\stable_baselines\\ppo2\\ppo2.py:190: The name tf.summary.scalar is deprecated. Please use tf.compat.v1.summary.scalar instead.\n",
      "\n",
      "WARNING:tensorflow:From C:\\Users\\CIG\\Anaconda3\\lib\\site-packages\\stable_baselines\\ppo2\\ppo2.py:198: The name tf.trainable_variables is deprecated. Please use tf.compat.v1.trainable_variables instead.\n",
      "\n",
      "WARNING:tensorflow:From C:\\Users\\CIG\\AppData\\Roaming\\Python\\Python37\\site-packages\\tensorflow_core\\python\\ops\\math_grad.py:1424: where (from tensorflow.python.ops.array_ops) is deprecated and will be removed in a future version.\n",
      "Instructions for updating:\n",
      "Use tf.where in 2.0, which has the same broadcast rule as np.where\n",
      "WARNING:tensorflow:From C:\\Users\\CIG\\Anaconda3\\lib\\site-packages\\stable_baselines\\ppo2\\ppo2.py:206: The name tf.train.AdamOptimizer is deprecated. Please use tf.compat.v1.train.AdamOptimizer instead.\n",
      "\n",
      "WARNING:tensorflow:From C:\\Users\\CIG\\Anaconda3\\lib\\site-packages\\stable_baselines\\ppo2\\ppo2.py:240: The name tf.global_variables_initializer is deprecated. Please use tf.compat.v1.global_variables_initializer instead.\n",
      "\n",
      "WARNING:tensorflow:From C:\\Users\\CIG\\Anaconda3\\lib\\site-packages\\stable_baselines\\ppo2\\ppo2.py:242: The name tf.summary.merge_all is deprecated. Please use tf.compat.v1.summary.merge_all instead.\n",
      "\n"
     ]
    }
   ],
   "source": [
    "model = PPO2(MlpPolicy, env, tensorboard_log = '')"
   ]
  },
  {
   "cell_type": "code",
   "execution_count": null,
   "metadata": {},
   "outputs": [
    {
     "name": "stdout",
     "output_type": "stream",
     "text": [
      "WARNING:tensorflow:From C:\\Users\\CIG\\Anaconda3\\lib\\site-packages\\stable_baselines\\common\\base_class.py:1169: The name tf.summary.FileWriter is deprecated. Please use tf.compat.v1.summary.FileWriter instead.\n",
      "\n"
     ]
    }
   ],
   "source": [
    "model.learn(total_timesteps=300)"
   ]
  },
  {
   "cell_type": "code",
   "execution_count": 10,
   "metadata": {},
   "outputs": [],
   "source": [
    "camera.Close()"
   ]
  },
  {
   "cell_type": "code",
   "execution_count": null,
   "metadata": {},
   "outputs": [],
   "source": []
  },
  {
   "cell_type": "code",
   "execution_count": null,
   "metadata": {},
   "outputs": [],
   "source": []
  },
  {
   "cell_type": "code",
   "execution_count": null,
   "metadata": {},
   "outputs": [],
   "source": []
  },
  {
   "cell_type": "code",
   "execution_count": null,
   "metadata": {},
   "outputs": [],
   "source": []
  },
  {
   "cell_type": "code",
   "execution_count": null,
   "metadata": {},
   "outputs": [],
   "source": []
  },
  {
   "cell_type": "code",
   "execution_count": null,
   "metadata": {},
   "outputs": [],
   "source": []
  },
  {
   "cell_type": "code",
   "execution_count": null,
   "metadata": {},
   "outputs": [],
   "source": []
  },
  {
   "cell_type": "code",
   "execution_count": null,
   "metadata": {},
   "outputs": [],
   "source": []
  },
  {
   "cell_type": "code",
   "execution_count": 2,
   "metadata": {},
   "outputs": [],
   "source": [
    "#lib = cdll.LoadLibrary(r\"C:\\Users\\CIG\\Documents\\MATLAB\\ComCasp64.dll\")"
   ]
  },
  {
   "cell_type": "code",
   "execution_count": 3,
   "metadata": {},
   "outputs": [
    {
     "data": {
      "text/plain": [
       "<CDLL 'C:\\Users\\CIG\\Documents\\MATLAB\\ComCasp64.dll', handle 7ffd76590000 at 0x1bf9e31a700>"
      ]
     },
     "execution_count": 3,
     "metadata": {},
     "output_type": "execute_result"
    }
   ],
   "source": [
    "#lib"
   ]
  },
  {
   "cell_type": "code",
   "execution_count": 4,
   "metadata": {},
   "outputs": [],
   "source": [
    "#eCOMCaspErr = getattr(lib,'Casp_OpenCOM')"
   ]
  },
  {
   "cell_type": "code",
   "execution_count": 5,
   "metadata": {},
   "outputs": [
    {
     "data": {
      "text/plain": [
       "0"
      ]
     },
     "execution_count": 5,
     "metadata": {},
     "output_type": "execute_result"
    }
   ],
   "source": [
    "#eCOMCaspErr()"
   ]
  },
  {
   "cell_type": "code",
   "execution_count": 6,
   "metadata": {},
   "outputs": [
    {
     "data": {
      "text/plain": [
       "0"
      ]
     },
     "execution_count": 6,
     "metadata": {},
     "output_type": "execute_result"
    }
   ],
   "source": [
    "#lib.Casp_OpenCOM()"
   ]
  },
  {
   "cell_type": "code",
   "execution_count": 8,
   "metadata": {},
   "outputs": [
    {
     "data": {
      "text/plain": [
       "0"
      ]
     },
     "execution_count": 8,
     "metadata": {},
     "output_type": "execute_result"
    }
   ],
   "source": [
    "#Once connection is etablish, Board settings may be changed.\n",
    "#To change Focus base on Voltage value\n",
    "#x = c_double(50)\n",
    "#lib.Casp_SetFocusVoltage(x)"
   ]
  },
  {
   "cell_type": "code",
   "execution_count": 30,
   "metadata": {},
   "outputs": [
    {
     "data": {
      "text/plain": [
       "0"
      ]
     },
     "execution_count": 30,
     "metadata": {},
     "output_type": "execute_result"
    }
   ],
   "source": [
    "#eCOMCaspErr code can be converted to a string using Casp_GetErrorMsg() function\n",
    "\n",
    "#lib.Casp_GetErrorMsg"
   ]
  },
  {
   "cell_type": "code",
   "execution_count": 9,
   "metadata": {},
   "outputs": [
    {
     "data": {
      "text/plain": [
       "0"
      ]
     },
     "execution_count": 9,
     "metadata": {},
     "output_type": "execute_result"
    }
   ],
   "source": [
    "#cleanup\n",
    "\n",
    "#lib.Casp_CloseCOM()"
   ]
  },
  {
   "cell_type": "code",
   "execution_count": null,
   "metadata": {},
   "outputs": [],
   "source": []
  }
 ],
 "metadata": {
  "kernelspec": {
   "display_name": "Python 3",
   "language": "python",
   "name": "python3"
  },
  "language_info": {
   "codemirror_mode": {
    "name": "ipython",
    "version": 3
   },
   "file_extension": ".py",
   "mimetype": "text/x-python",
   "name": "python",
   "nbconvert_exporter": "python",
   "pygments_lexer": "ipython3",
   "version": "3.7.9"
  }
 },
 "nbformat": 4,
 "nbformat_minor": 4
}
