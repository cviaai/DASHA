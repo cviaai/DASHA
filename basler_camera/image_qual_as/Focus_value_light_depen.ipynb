{
 "cells": [
  {
   "cell_type": "code",
   "execution_count": 24,
   "metadata": {},
   "outputs": [],
   "source": [
    "from PIL import Image\n",
    "import torch\n",
    "from pypylon import pylon\n",
    "import numpy as np\n",
    "import cv2\n",
    "from ctypes import *\n",
    "import glob\n",
    "import matplotlib.pylab as pl\n",
    "import matplotlib.pyplot as plt\n",
    "import time\n",
    "%matplotlib inline"
   ]
  },
  {
   "cell_type": "code",
   "execution_count": 8,
   "metadata": {},
   "outputs": [
    {
     "name": "stderr",
     "output_type": "stream",
     "text": [
      "Downloading: \"https://github.com/ultralytics/yolov5/archive/master.zip\" to C:\\Users\\CIG/.cache\\torch\\hub\\master.zip\n",
      "\n",
      "                 from  n    params  module                                  arguments                     \n",
      "  0                -1  1      3520  models.common.Focus                     [3, 32, 3]                    \n",
      "  1                -1  1     18560  models.common.Conv                      [32, 64, 3, 2]                \n",
      "  2                -1  1     18816  models.common.C3                        [64, 64, 1]                   \n",
      "  3                -1  1     73984  models.common.Conv                      [64, 128, 3, 2]               \n",
      "  4                -1  1    156928  models.common.C3                        [128, 128, 3]                 \n",
      "  5                -1  1    295424  models.common.Conv                      [128, 256, 3, 2]              \n",
      "  6                -1  1    625152  models.common.C3                        [256, 256, 3]                 \n",
      "  7                -1  1   1180672  models.common.Conv                      [256, 512, 3, 2]              \n",
      "  8                -1  1    656896  models.common.SPP                       [512, 512, [5, 9, 13]]        \n",
      "  9                -1  1   1182720  models.common.C3                        [512, 512, 1, False]          \n",
      " 10                -1  1    131584  models.common.Conv                      [512, 256, 1, 1]              \n",
      " 11                -1  1         0  torch.nn.modules.upsampling.Upsample    [None, 2, 'nearest']          \n",
      " 12           [-1, 6]  1         0  models.common.Concat                    [1]                           \n",
      " 13                -1  1    361984  models.common.C3                        [512, 256, 1, False]          \n",
      " 14                -1  1     33024  models.common.Conv                      [256, 128, 1, 1]              \n",
      " 15                -1  1         0  torch.nn.modules.upsampling.Upsample    [None, 2, 'nearest']          \n",
      " 16           [-1, 4]  1         0  models.common.Concat                    [1]                           \n",
      " 17                -1  1     90880  models.common.C3                        [256, 128, 1, False]          \n",
      " 18                -1  1    147712  models.common.Conv                      [128, 128, 3, 2]              \n",
      " 19          [-1, 14]  1         0  models.common.Concat                    [1]                           \n",
      " 20                -1  1    296448  models.common.C3                        [256, 256, 1, False]          \n",
      " 21                -1  1    590336  models.common.Conv                      [256, 256, 3, 2]              \n",
      " 22          [-1, 10]  1         0  models.common.Concat                    [1]                           \n",
      " 23                -1  1   1182720  models.common.C3                        [512, 512, 1, False]          \n",
      " 24      [17, 20, 23]  1    229245  models.yolo.Detect                      [80, [[10, 13, 16, 30, 33, 23], [30, 61, 62, 45, 59, 119], [116, 90, 156, 198, 373, 326]], [128, 256, 512]]\n",
      "Model Summary: 283 layers, 7276605 parameters, 7276605 gradients, 17.1 GFLOPS\n",
      "\n"
     ]
    },
    {
     "name": "stdout",
     "output_type": "stream",
     "text": [
      "Adding autoShape... \n"
     ]
    }
   ],
   "source": [
    "def find_class(results, obj = 'car'):\n",
    "    len_of_class = len(results.pred)\n",
    "    pred_class = [int(results.pred[0][i].numpy()[5]) for i in range(len(results.pred[0]))]\n",
    "    #list_of_yolo_classes = list(zip(results.names, range(0, len(results.names))))\n",
    "    pred_names = [results.names[i] for i in pred_class]\n",
    "    if obj in pred_names:\n",
    "        index = pred_names.index(obj)\n",
    "        return results.pred[0][index].numpy()\n",
    "    else:\n",
    "        return np.array([])\n",
    "\n",
    "model_yolo = torch.hub.load('ultralytics/yolov5', 'yolov5s', force_reload=True, pretrained=True)"
   ]
  },
  {
   "cell_type": "code",
   "execution_count": 3,
   "metadata": {},
   "outputs": [],
   "source": [
    "img_path = r'C:\\Users\\CIG\\Documents\\car_img_light'"
   ]
  },
  {
   "cell_type": "code",
   "execution_count": 3,
   "metadata": {},
   "outputs": [],
   "source": [
    "camera = pylon.InstantCamera(pylon.TlFactory.GetInstance().CreateFirstDevice())\n",
    "camera.Open()       "
   ]
  },
  {
   "cell_type": "code",
   "execution_count": 10,
   "metadata": {},
   "outputs": [],
   "source": [
    "camera.GainRaw.Value = 36\n",
    "camera.ExposureTimeRaw.Value = 20000\n",
    "camera.AcquisitionFrameRateAbs.Value = 10\n",
    "camera.Width.Value = 417\n",
    "camera.Height.Value = 404"
   ]
  },
  {
   "cell_type": "code",
   "execution_count": 5,
   "metadata": {},
   "outputs": [
    {
     "name": "stdout",
     "output_type": "stream",
     "text": [
      "eCOMCaspErr: 0 0\n"
     ]
    }
   ],
   "source": [
    "# corning lib\n",
    "lib = cdll.LoadLibrary(r\"C:\\Users\\CIG\\Documents\\MATLAB\\ComCasp64.dll\")\n",
    "#Check if Maxim driver dll is loaded\n",
    "eCOMCaspErr = getattr(lib,'Casp_OpenCOM')\n",
    "print('eCOMCaspErr:', eCOMCaspErr(), lib.Casp_OpenCOM())      "
   ]
  },
  {
   "cell_type": "code",
   "execution_count": 6,
   "metadata": {},
   "outputs": [],
   "source": [
    "img = pylon.PylonImage()\n",
    "converter = pylon.ImageFormatConverter()\n",
    "\n",
    "# converting to opencv bgr format\n",
    "converter.OutputPixelFormat = pylon.PixelType_BGR8packed\n",
    "converter.OutputBitAlignment = pylon.OutputBitAlignment_MsbAligned   "
   ]
  },
  {
   "cell_type": "code",
   "execution_count": 7,
   "metadata": {},
   "outputs": [],
   "source": [
    "def grab_image(camera):\n",
    "    #https://github.com/basler/pypylon/blob/master/samples/opencv.py\n",
    "    camera.StartGrabbing()\n",
    "    while 1:\n",
    "        grabResult = camera.RetrieveResult(5000, pylon.TimeoutHandling_ThrowException)\n",
    "        if grabResult.GrabSucceeded():\n",
    "            # Access the image data\n",
    "            image = converter.Convert(grabResult)\n",
    "            image = image.GetArray()\n",
    "#                 print(img[0])\n",
    "#                 print('shape:', img.shape)\n",
    "#                 plt.imshow(img)\n",
    "            break\n",
    "    camera.StopGrabbing()\n",
    "    return image"
   ]
  },
  {
   "cell_type": "code",
   "execution_count": null,
   "metadata": {},
   "outputs": [],
   "source": [
    "def make_imgs(camera, Exposure, path):\n",
    "    camera.ExposureTimeRaw.Value = Exposure\n",
    "    for i in range(24, 69):\n",
    "        print(i)\n",
    "        x = c_double(i)\n",
    "        lib.Casp_SetFocusVoltage(x)\n",
    "        time.sleep(2)\n",
    "\n",
    "        img = grab_image(camera)\n",
    "        image = Image.fromarray(img)\n",
    "        filename = path + \"\\img_\" + \"_%s.png\" % (str(i))\n",
    "        image.save(filename)"
   ]
  },
  {
   "cell_type": "code",
   "execution_count": 7,
   "metadata": {},
   "outputs": [],
   "source": [
    "def focus_value(im):\n",
    "    # Calculate the gradient\n",
    "    sobelx = cv2.Sobel(np.float32(im), cv2.CV_64F ,1 , 0, ksize=5)\n",
    "    sobely = cv2.Sobel(np.float32(im),cv2.CV_64F,0,1,ksize=5)\n",
    "\n",
    "    abs_sobel_x = cv2.convertScaleAbs(sobelx) # converting back to uint8\n",
    "    abs_sobel_y = cv2.convertScaleAbs(sobely)\n",
    "    #print(abs_sobel_x )\n",
    "\n",
    "    # Combine the two gradients with equal weight\n",
    "    dst = cv2.addWeighted(abs_sobel_x,0.5,abs_sobel_y,0.5,0)\n",
    "    #print(dst)\n",
    "\n",
    "    # Calculate the average gradient for the image\n",
    "    # I convert it to a numpy array for ease of calculation\n",
    "    return pl.asarray(dst).mean()"
   ]
  },
  {
   "cell_type": "code",
   "execution_count": null,
   "metadata": {},
   "outputs": [],
   "source": [
    "#37.4"
   ]
  },
  {
   "cell_type": "code",
   "execution_count": null,
   "metadata": {},
   "outputs": [],
   "source": [
    "#34 camera.ExposureTimeRaw.Value = 20000"
   ]
  },
  {
   "cell_type": "code",
   "execution_count": null,
   "metadata": {},
   "outputs": [],
   "source": [
    "#34 camera.ExposureTimeRaw.Value = 112383"
   ]
  },
  {
   "cell_type": "code",
   "execution_count": 8,
   "metadata": {},
   "outputs": [],
   "source": [
    "#camera.ExposureTimeRaw.Value = 112383"
   ]
  },
  {
   "cell_type": "code",
   "execution_count": 2,
   "metadata": {},
   "outputs": [],
   "source": [
    "import glob"
   ]
  },
  {
   "cell_type": "code",
   "execution_count": 6,
   "metadata": {},
   "outputs": [],
   "source": [
    "#open folder with images\n",
    "#and save all images in the array\n",
    "\n",
    "# images=glob.glob(r\"C:\\Users\\CIG\\Documents\\car_img_light\\34\\*.png\")\n",
    "# stack_of_imgs_34 = []\n",
    "# for image in images:\n",
    "#     img = Image.open(image)\n",
    "#     stack_of_imgs_34.append(img)"
   ]
  },
  {
   "cell_type": "code",
   "execution_count": 17,
   "metadata": {},
   "outputs": [],
   "source": [
    "def stack_images_array(path):\n",
    "    images=glob.glob(path + \"\\*.png\")\n",
    "    stack_of_imgs = []\n",
    "    for image in images:\n",
    "        img = Image.open(image)\n",
    "        stack_of_imgs.append(img)\n",
    "    return stack_of_imgs\n",
    "\n",
    "def yolo_information(model_yolo, stack_of_imgs):\n",
    "    imgs_stack_yolo = []\n",
    "    for im in stack_of_imgs:\n",
    "        results = model_yolo(im, size=640)  \n",
    "        results.print()  # print results to screen\n",
    "        #results.show()  # display results\n",
    "        r = find_class(results, obj = 'car')\n",
    "        if r.size == 0:\n",
    "            imgs_stack_yolo.append(0)\n",
    "        else:\n",
    "            imgs_stack_yolo.append(im.crop((r[0], r[1], r[2], r[3])))\n",
    "            \n",
    "    return imgs_stack_yolo\n",
    "            \n",
    "\n",
    "def yolo_focus_value(imgs_stack_yolo):\n",
    "    # Define containers\n",
    "    average_gradient = []\n",
    "\n",
    "    for im in imgs_stack_yolo:\n",
    "        if im == 0:\n",
    "            average_gradient.append(0)\n",
    "        else:\n",
    "            # Calculate the gradient\n",
    "            sobelx = cv2.Sobel(np.float32(im), cv2.CV_64F ,1 , 0, ksize=5)\n",
    "            sobely = cv2.Sobel(np.float32(im),cv2.CV_64F,0,1,ksize=5)\n",
    "\n",
    "            abs_sobel_x = cv2.convertScaleAbs(sobelx) # converting back to uint8\n",
    "            abs_sobel_y = cv2.convertScaleAbs(sobely)\n",
    "            #print(abs_sobel_x )\n",
    "\n",
    "            # Combine the two gradients with equal weight\n",
    "            dst = cv2.addWeighted(abs_sobel_x,0.5,abs_sobel_y,0.5,0)\n",
    "            #print(dst)\n",
    "\n",
    "            # Calculate the average gradient for the image\n",
    "            # I convert it to a numpy array for ease of calculation\n",
    "            average_gradient.append(pl.asarray(dst).mean())\n",
    "    return average_gradient"
   ]
  },
  {
   "cell_type": "code",
   "execution_count": 18,
   "metadata": {
    "scrolled": true
   },
   "outputs": [
    {
     "name": "stdout",
     "output_type": "stream",
     "text": [
      "image 1/1: 404x417\n",
      "image 1/1: 404x417\n",
      "image 1/1: 404x417\n",
      "image 1/1: 404x417\n",
      "image 1/1: 404x417\n",
      "image 1/1: 404x417\n",
      "image 1/1: 404x417\n",
      "image 1/1: 404x417\n",
      "image 1/1: 404x417\n",
      "image 1/1: 404x417\n",
      "image 1/1: 404x417\n",
      "image 1/1: 404x417\n",
      "image 1/1: 404x417\n",
      "image 1/1: 404x417\n",
      "image 1/1: 404x417\n",
      "image 1/1: 404x417\n",
      "image 1/1: 404x417\n",
      "image 1/1: 404x417\n",
      "image 1/1: 404x417\n",
      "image 1/1: 404x417\n",
      "image 1/1: 404x417\n",
      "image 1/1: 404x417\n",
      "image 1/1: 404x417\n",
      "image 1/1: 404x417\n",
      "image 1/1: 404x417\n",
      "image 1/1: 404x417\n",
      "image 1/1: 404x417\n",
      "image 1/1: 404x417\n",
      "image 1/1: 404x417\n",
      "image 1/1: 404x417\n",
      "image 1/1: 404x417\n",
      "image 1/1: 404x417\n",
      "image 1/1: 404x417\n",
      "image 1/1: 404x417\n",
      "image 1/1: 404x417\n",
      "image 1/1: 404x417\n",
      "image 1/1: 404x417\n",
      "image 1/1: 404x417\n",
      "image 1/1: 404x417\n",
      "image 1/1: 404x417\n",
      "image 1/1: 404x417\n",
      "image 1/1: 404x417\n",
      "image 1/1: 404x417\n",
      "image 1/1: 404x417\n",
      "image 1/1: 404x417\n"
     ]
    }
   ],
   "source": [
    "stack_of_imgs_34 = stack_images_array(path = r\"C:\\Users\\CIG\\Documents\\car_img_light\\34\")\n",
    "yolo_34 = yolo_information(model_yolo, stack_of_imgs_34)\n",
    "yolo_34 = yolo_focus_value(yolo_34)"
   ]
  },
  {
   "cell_type": "code",
   "execution_count": 19,
   "metadata": {
    "scrolled": true
   },
   "outputs": [
    {
     "name": "stdout",
     "output_type": "stream",
     "text": [
      "image 1/1: 404x417\n",
      "image 1/1: 404x417\n",
      "image 1/1: 404x417\n",
      "image 1/1: 404x417\n",
      "image 1/1: 404x417\n",
      "image 1/1: 404x417\n",
      "image 1/1: 404x417\n",
      "image 1/1: 404x417\n",
      "image 1/1: 404x417\n",
      "image 1/1: 404x417\n",
      "image 1/1: 404x417\n",
      "image 1/1: 404x417\n",
      "image 1/1: 404x417\n",
      "image 1/1: 404x417\n",
      "image 1/1: 404x417\n",
      "image 1/1: 404x417\n",
      "image 1/1: 404x417\n",
      "image 1/1: 404x417\n",
      "image 1/1: 404x417\n",
      "image 1/1: 404x417\n",
      "image 1/1: 404x417\n",
      "image 1/1: 404x417\n",
      "image 1/1: 404x417\n",
      "image 1/1: 404x417\n",
      "image 1/1: 404x417 1 car\n",
      "image 1/1: 404x417 1 car\n",
      "image 1/1: 404x417\n",
      "image 1/1: 404x417\n",
      "image 1/1: 404x417\n",
      "image 1/1: 404x417\n",
      "image 1/1: 404x417\n",
      "image 1/1: 404x417\n",
      "image 1/1: 404x417\n",
      "image 1/1: 404x417\n",
      "image 1/1: 404x417\n",
      "image 1/1: 404x417\n",
      "image 1/1: 404x417\n",
      "image 1/1: 404x417\n",
      "image 1/1: 404x417\n",
      "image 1/1: 404x417\n",
      "image 1/1: 404x417\n",
      "image 1/1: 404x417\n",
      "image 1/1: 404x417\n",
      "image 1/1: 404x417\n",
      "image 1/1: 404x417\n"
     ]
    }
   ],
   "source": [
    "stack_of_imgs_34ex = stack_images_array(path = r\"C:\\Users\\CIG\\Documents\\car_img_light\\34_ex112383\")\n",
    "yolo_34ex = yolo_information(model_yolo, stack_of_imgs_34ex)\n",
    "yolo_34ex = yolo_focus_value(yolo_34ex)"
   ]
  },
  {
   "cell_type": "code",
   "execution_count": 20,
   "metadata": {
    "scrolled": true
   },
   "outputs": [
    {
     "name": "stdout",
     "output_type": "stream",
     "text": [
      "image 1/1: 404x417\n",
      "image 1/1: 404x417\n",
      "image 1/1: 404x417\n",
      "image 1/1: 404x417\n",
      "image 1/1: 404x417\n",
      "image 1/1: 404x417\n",
      "image 1/1: 404x417\n",
      "image 1/1: 404x417\n",
      "image 1/1: 404x417\n",
      "image 1/1: 404x417\n",
      "image 1/1: 404x417\n",
      "image 1/1: 404x417\n",
      "image 1/1: 404x417\n",
      "image 1/1: 404x417\n",
      "image 1/1: 404x417\n",
      "image 1/1: 404x417\n",
      "image 1/1: 404x417\n",
      "image 1/1: 404x417\n",
      "image 1/1: 404x417\n",
      "image 1/1: 404x417\n",
      "image 1/1: 404x417\n",
      "image 1/1: 404x417\n",
      "image 1/1: 404x417\n",
      "image 1/1: 404x417 1 car\n",
      "image 1/1: 404x417 1 car\n",
      "image 1/1: 404x417 1 car\n",
      "image 1/1: 404x417\n",
      "image 1/1: 404x417\n",
      "image 1/1: 404x417\n",
      "image 1/1: 404x417\n",
      "image 1/1: 404x417\n",
      "image 1/1: 404x417\n",
      "image 1/1: 404x417\n",
      "image 1/1: 404x417\n",
      "image 1/1: 404x417\n",
      "image 1/1: 404x417\n",
      "image 1/1: 404x417\n",
      "image 1/1: 404x417\n",
      "image 1/1: 404x417\n",
      "image 1/1: 404x417\n",
      "image 1/1: 404x417\n",
      "image 1/1: 404x417\n",
      "image 1/1: 404x417\n",
      "image 1/1: 404x417\n",
      "image 1/1: 404x417\n"
     ]
    }
   ],
   "source": [
    "stack_of_imgs_37 = stack_images_array(path = r\"C:\\Users\\CIG\\Documents\\car_img_light\\37\")\n",
    "yolo_37 = yolo_information(model_yolo, stack_of_imgs_37)\n",
    "yolo_37 = yolo_focus_value(yolo_37)"
   ]
  },
  {
   "cell_type": "code",
   "execution_count": 37,
   "metadata": {},
   "outputs": [
    {
     "data": {
      "image/png": "[encoded data removed]",
      "text/plain": [
       "<Figure size 1440x360 with 1 Axes>"
      ]
     },
     "metadata": {
      "needs_background": "light"
     },
     "output_type": "display_data"
    }
   ],
   "source": [
    "plt.figure(figsize=(20,5))\n",
    "plt.plot(np.arange(24, 69, step=1), yolo_34, label = 'light = 34, exTime = 20k')\n",
    "plt.plot(np.arange(24, 69, step=1), yolo_34ex, label = 'light = 34, exTime = 112k')\n",
    "plt.plot(np.arange(24, 69, step=1), yolo_37, label = 'light = 37, exTime = 20k')\n",
    "plt.xticks(np.arange(24, 69, step=1))\n",
    "plt.title(\"Focus value\")\n",
    "plt.xlabel('Lens position')\n",
    "plt.ylabel('Focus value')\n",
    "plt.legend()\n",
    "#plt.savefig('focus_value.png')\n",
    "plt.show()"
   ]
  },
  {
   "cell_type": "code",
   "execution_count": null,
   "metadata": {},
   "outputs": [],
   "source": []
  }
 ],
 "metadata": {
  "kernelspec": {
   "display_name": "Python 3",
   "language": "python",
   "name": "python3"
  },
  "language_info": {
   "codemirror_mode": {
    "name": "ipython",
    "version": 3
   },
   "file_extension": ".py",
   "mimetype": "text/x-python",
   "name": "python",
   "nbconvert_exporter": "python",
   "pygments_lexer": "ipython3",
   "version": "3.7.9"
  }
 },
 "nbformat": 4,
 "nbformat_minor": 4
}
